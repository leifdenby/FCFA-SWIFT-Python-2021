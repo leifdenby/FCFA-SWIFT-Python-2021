{
 "cells": [
  {
   "cell_type": "markdown",
   "metadata": {
    "id": "G8a7bMMGoE33"
   },
   "source": [
    "# pandas - working with tabular data\n",
    "\n",
    "*notebook by Jeffrey Aryee and Leif Denby*\n",
    "\n",
    "In this session, you will be introduced to the fundamentals of Pandas and its regular usage. \n",
    "\n",
    "The `pandas` library is the best python package for working with tabular data (i.e. data that is organised into rows and columns) and is one of the most preferred tools for data scientists to perform data manipulation and analysis. It is built on fundamental libraries, such as, `matplotlib` for data visualization and `numpy`, for scientific computing. The fast, flexible `pandas` data structures are designed to make real-world data analysis significantly easier, however it takes consistency in practice to master.\n",
    "\n",
    "\n",
    "## What's pandas for?\n",
    "\n",
    "Pandas has so many uses. It is essentially your data’s home. Through `pandas`, you get acquainted with your data by cleaning, transforming, and analyzing it. There are numerous tasks you can perform with Pandas on a dataset, which include but is not limited to:\n",
    "\n",
    "- Calculating statistics of the data, and making inferrence such as\n",
    "    - What's the average, median, max, or min of each column?\n",
    "    - Does column A correlate with column B?\n",
    "    - What does the distribution of data in column C look like?, etc.\n",
    "- Clean the data (eg. removing missing values and filtering rows or columns by certain criteria)\n",
    "- Visualize the data with help from Matplotlib or Seaborn. \n",
    "- Store the cleaned, transformed data into other file.\n",
    "\n",
    "**Objectives**\n",
    "\n",
    "The objective of this course is to introduce participants to the functionality of Pandas, with a primal focus on the underlisted:\n",
    "\n",
    "\n",
    "1. [Installing Pandas](#1.-How-to-Install-Pandas)\n",
    "2. [Importing Pandas](#2.-importing-pandas)\n",
    "3. [Creating Data Series and Dataframes with Pandas](#3.-Creating-Data-Series-and-Data-frames-with-Pandas)\n",
    "4. [Assessing Dataframe/Series information](#4.-Series/DataFrame-Information)\n",
    "5. [Data Selection](#5.-Selection-from-Data-Series-and-DataFrames)\n",
    "6. [Applying functions on a dataframe](#6.-Applying-functions-onto-a-dataframe)\n",
    "7. [Data sorting and ranking with Pandas](#7.-Sort-and-Rank-with-Pandas)\n",
    "8. [Dropping data values](#8.-Dropping-values-from-rows-(axis=0)-or-columns-(axis=1))\n",
    "9. [Replacing dataframe elements with new value](#9-.-Replacing-dataframe-elements-with-a-new-value)\n",
    "10. [Working with time series in Pandas](#10.-Working-with-Timeseries-in-Pandas): creating timeseries data, slicing and visualization with matplotlib"
   ]
  },
  {
   "cell_type": "markdown",
   "metadata": {
    "id": "g_siwA5VoE4G"
   },
   "source": [
    "### 1. How to Install Pandas\n",
    "\n",
    "Being a pure python package `pandas` can be installed either with `pip` or with `conda`. `pandas` is included with the `conda` environment for the course, but in general you would install by opening up your terminal / command line and install using either:\n",
    "        \n",
    "```bash\n",
    "$> conda install pandas\n",
    "```\n",
    "\n",
    "or\n",
    "\n",
    "```bash\n",
    "$> pip install pandas\n",
    "```\n",
    "\n",
    "Precede the commands with (!) if you are attempting to install via the Jupyter cell or Spyder console (`!pip install pandas`)."
   ]
  },
  {
   "cell_type": "markdown",
   "metadata": {},
   "source": [
    "### 2. importing `pandas`\n",
    "\n",
    "By convention the pandas package is usually imported as `pd` as a shorthand (so that we don't have to type out `pandas` every time). We will also be using `numpy` so we'll import that too (as `np`, as is the usual convention):"
   ]
  },
  {
   "cell_type": "code",
   "execution_count": 1,
   "metadata": {
    "id": "2A43iuHboE4L"
   },
   "outputs": [],
   "source": [
    "import pandas as pd\n",
    "import numpy as np\n",
    "import matplotlib.pyplot as plt"
   ]
  },
  {
   "cell_type": "markdown",
   "metadata": {
    "id": "AwZLot-voE4M"
   },
   "source": [
    "You can make use of the `help()` function with any pandas function/module and this produces a long-list documentation on use of the particular feature.\n",
    "\n",
    "eg. `help(pd.date_range)`"
   ]
  },
  {
   "cell_type": "code",
   "execution_count": 2,
   "metadata": {
    "id": "cyFHjxsroE4N"
   },
   "outputs": [
    {
     "name": "stdout",
     "output_type": "stream",
     "text": [
      "Help on function date_range in module pandas.core.indexes.datetimes:\n",
      "\n",
      "date_range(start=None, end=None, periods=None, freq=None, tz=None, normalize=False, name=None, closed=None, **kwargs) -> pandas.core.indexes.datetimes.DatetimeIndex\n",
      "    Return a fixed frequency DatetimeIndex.\n",
      "    \n",
      "    Parameters\n",
      "    ----------\n",
      "    start : str or datetime-like, optional\n",
      "        Left bound for generating dates.\n",
      "    end : str or datetime-like, optional\n",
      "        Right bound for generating dates.\n",
      "    periods : int, optional\n",
      "        Number of periods to generate.\n",
      "    freq : str or DateOffset, default 'D'\n",
      "        Frequency strings can have multiples, e.g. '5H'. See\n",
      "        :ref:`here <timeseries.offset_aliases>` for a list of\n",
      "        frequency aliases.\n",
      "    tz : str or tzinfo, optional\n",
      "        Time zone name for returning localized DatetimeIndex, for example\n",
      "        'Asia/Hong_Kong'. By default, the resulting DatetimeIndex is\n",
      "        timezone-naive.\n",
      "    normalize : bool, default False\n",
      "        Normalize start/end dates to midnight before generating date range.\n",
      "    name : str, default None\n",
      "        Name of the resulting DatetimeIndex.\n",
      "    closed : {None, 'left', 'right'}, optional\n",
      "        Make the interval closed with respect to the given frequency to\n",
      "        the 'left', 'right', or both sides (None, the default).\n",
      "    **kwargs\n",
      "        For compatibility. Has no effect on the result.\n",
      "    \n",
      "    Returns\n",
      "    -------\n",
      "    rng : DatetimeIndex\n",
      "    \n",
      "    See Also\n",
      "    --------\n",
      "    DatetimeIndex : An immutable container for datetimes.\n",
      "    timedelta_range : Return a fixed frequency TimedeltaIndex.\n",
      "    period_range : Return a fixed frequency PeriodIndex.\n",
      "    interval_range : Return a fixed frequency IntervalIndex.\n",
      "    \n",
      "    Notes\n",
      "    -----\n",
      "    Of the four parameters ``start``, ``end``, ``periods``, and ``freq``,\n",
      "    exactly three must be specified. If ``freq`` is omitted, the resulting\n",
      "    ``DatetimeIndex`` will have ``periods`` linearly spaced elements between\n",
      "    ``start`` and ``end`` (closed on both sides).\n",
      "    \n",
      "    To learn more about the frequency strings, please see `this link\n",
      "    <https://pandas.pydata.org/pandas-docs/stable/user_guide/timeseries.html#offset-aliases>`__.\n",
      "    \n",
      "    Examples\n",
      "    --------\n",
      "    **Specifying the values**\n",
      "    \n",
      "    The next four examples generate the same `DatetimeIndex`, but vary\n",
      "    the combination of `start`, `end` and `periods`.\n",
      "    \n",
      "    Specify `start` and `end`, with the default daily frequency.\n",
      "    \n",
      "    >>> pd.date_range(start='1/1/2018', end='1/08/2018')\n",
      "    DatetimeIndex(['2018-01-01', '2018-01-02', '2018-01-03', '2018-01-04',\n",
      "                   '2018-01-05', '2018-01-06', '2018-01-07', '2018-01-08'],\n",
      "                  dtype='datetime64[ns]', freq='D')\n",
      "    \n",
      "    Specify `start` and `periods`, the number of periods (days).\n",
      "    \n",
      "    >>> pd.date_range(start='1/1/2018', periods=8)\n",
      "    DatetimeIndex(['2018-01-01', '2018-01-02', '2018-01-03', '2018-01-04',\n",
      "                   '2018-01-05', '2018-01-06', '2018-01-07', '2018-01-08'],\n",
      "                  dtype='datetime64[ns]', freq='D')\n",
      "    \n",
      "    Specify `end` and `periods`, the number of periods (days).\n",
      "    \n",
      "    >>> pd.date_range(end='1/1/2018', periods=8)\n",
      "    DatetimeIndex(['2017-12-25', '2017-12-26', '2017-12-27', '2017-12-28',\n",
      "                   '2017-12-29', '2017-12-30', '2017-12-31', '2018-01-01'],\n",
      "                  dtype='datetime64[ns]', freq='D')\n",
      "    \n",
      "    Specify `start`, `end`, and `periods`; the frequency is generated\n",
      "    automatically (linearly spaced).\n",
      "    \n",
      "    >>> pd.date_range(start='2018-04-24', end='2018-04-27', periods=3)\n",
      "    DatetimeIndex(['2018-04-24 00:00:00', '2018-04-25 12:00:00',\n",
      "                   '2018-04-27 00:00:00'],\n",
      "                  dtype='datetime64[ns]', freq=None)\n",
      "    \n",
      "    **Other Parameters**\n",
      "    \n",
      "    Changed the `freq` (frequency) to ``'M'`` (month end frequency).\n",
      "    \n",
      "    >>> pd.date_range(start='1/1/2018', periods=5, freq='M')\n",
      "    DatetimeIndex(['2018-01-31', '2018-02-28', '2018-03-31', '2018-04-30',\n",
      "                   '2018-05-31'],\n",
      "                  dtype='datetime64[ns]', freq='M')\n",
      "    \n",
      "    Multiples are allowed\n",
      "    \n",
      "    >>> pd.date_range(start='1/1/2018', periods=5, freq='3M')\n",
      "    DatetimeIndex(['2018-01-31', '2018-04-30', '2018-07-31', '2018-10-31',\n",
      "                   '2019-01-31'],\n",
      "                  dtype='datetime64[ns]', freq='3M')\n",
      "    \n",
      "    `freq` can also be specified as an Offset object.\n",
      "    \n",
      "    >>> pd.date_range(start='1/1/2018', periods=5, freq=pd.offsets.MonthEnd(3))\n",
      "    DatetimeIndex(['2018-01-31', '2018-04-30', '2018-07-31', '2018-10-31',\n",
      "                   '2019-01-31'],\n",
      "                  dtype='datetime64[ns]', freq='3M')\n",
      "    \n",
      "    Specify `tz` to set the timezone.\n",
      "    \n",
      "    >>> pd.date_range(start='1/1/2018', periods=5, tz='Asia/Tokyo')\n",
      "    DatetimeIndex(['2018-01-01 00:00:00+09:00', '2018-01-02 00:00:00+09:00',\n",
      "                   '2018-01-03 00:00:00+09:00', '2018-01-04 00:00:00+09:00',\n",
      "                   '2018-01-05 00:00:00+09:00'],\n",
      "                  dtype='datetime64[ns, Asia/Tokyo]', freq='D')\n",
      "    \n",
      "    `closed` controls whether to include `start` and `end` that are on the\n",
      "    boundary. The default includes boundary points on either end.\n",
      "    \n",
      "    >>> pd.date_range(start='2017-01-01', end='2017-01-04', closed=None)\n",
      "    DatetimeIndex(['2017-01-01', '2017-01-02', '2017-01-03', '2017-01-04'],\n",
      "                  dtype='datetime64[ns]', freq='D')\n",
      "    \n",
      "    Use ``closed='left'`` to exclude `end` if it falls on the boundary.\n",
      "    \n",
      "    >>> pd.date_range(start='2017-01-01', end='2017-01-04', closed='left')\n",
      "    DatetimeIndex(['2017-01-01', '2017-01-02', '2017-01-03'],\n",
      "                  dtype='datetime64[ns]', freq='D')\n",
      "    \n",
      "    Use ``closed='right'`` to exclude `start` if it falls on the boundary.\n",
      "    \n",
      "    >>> pd.date_range(start='2017-01-01', end='2017-01-04', closed='right')\n",
      "    DatetimeIndex(['2017-01-02', '2017-01-03', '2017-01-04'],\n",
      "                  dtype='datetime64[ns]', freq='D')\n",
      "\n"
     ]
    }
   ],
   "source": [
    "help(pd.date_range)"
   ]
  },
  {
   "cell_type": "markdown",
   "metadata": {
    "id": "9p75BX8koE4P"
   },
   "source": [
    "### 3. Creating Data Series and Data frames with Pandas\n",
    "\n",
    "The primary two components of pandas are the Series (essentially a column) and DataFrame (multi-dimensional table made up of a collection of Series)."
   ]
  },
  {
   "cell_type": "code",
   "execution_count": 3,
   "metadata": {
    "id": "KivJ5hwooE4Q",
    "outputId": "815e2e5f-5c93-4653-ade0-bafabb2ce69c"
   },
   "outputs": [
    {
     "data": {
      "text/plain": [
       "pandas.core.series.Series"
      ]
     },
     "execution_count": 3,
     "metadata": {},
     "output_type": "execute_result"
    }
   ],
   "source": [
    "# Creating a series in pandas\n",
    "ds = pd.Series([3, -5, 7, 4], index=[\"Day 1\", \"Day 2\", \"Day 3\", \"Day 4\"])\n",
    "ds\n",
    "type(ds)"
   ]
  },
  {
   "cell_type": "markdown",
   "metadata": {},
   "source": [
    "Next we'll create a DataFrame which can contain multiple columns of data.\n",
    "\n",
    "An easy way to do this is to first create a dictionary of our data. A dictionary is a data type in Python and it is used to store data values in key:value pairs, contained in curly brackets. The dictionary should then have and item for each column, with the values for each item being list of the data values we want to put into the data frame.  We can then use the `.keys()` function of the dictionary to provide the column names:"
   ]
  },
  {
   "cell_type": "code",
   "execution_count": 4,
   "metadata": {
    "id": "SRXJQ5IqoE4T",
    "outputId": "841eceb0-6366-421b-fde5-980e114c9cc1"
   },
   "outputs": [
    {
     "data": {
      "text/html": [
       "<div>\n",
       "<style scoped>\n",
       "    .dataframe tbody tr th:only-of-type {\n",
       "        vertical-align: middle;\n",
       "    }\n",
       "\n",
       "    .dataframe tbody tr th {\n",
       "        vertical-align: top;\n",
       "    }\n",
       "\n",
       "    .dataframe thead th {\n",
       "        text-align: right;\n",
       "    }\n",
       "</style>\n",
       "<table border=\"1\" class=\"dataframe\">\n",
       "  <thead>\n",
       "    <tr style=\"text-align: right;\">\n",
       "      <th></th>\n",
       "      <th>Temperature</th>\n",
       "      <th>Rainfall</th>\n",
       "      <th>Wind Speed</th>\n",
       "      <th>Wind Direction</th>\n",
       "    </tr>\n",
       "  </thead>\n",
       "  <tbody>\n",
       "    <tr>\n",
       "      <th>0</th>\n",
       "      <td>30.2</td>\n",
       "      <td>21.2</td>\n",
       "      <td>2.1</td>\n",
       "      <td>SW</td>\n",
       "    </tr>\n",
       "    <tr>\n",
       "      <th>1</th>\n",
       "      <td>31.4</td>\n",
       "      <td>10.4</td>\n",
       "      <td>3.4</td>\n",
       "      <td>S</td>\n",
       "    </tr>\n",
       "    <tr>\n",
       "      <th>2</th>\n",
       "      <td>32.5</td>\n",
       "      <td>0.0</td>\n",
       "      <td>8.2</td>\n",
       "      <td>N</td>\n",
       "    </tr>\n",
       "    <tr>\n",
       "      <th>3</th>\n",
       "      <td>28.9</td>\n",
       "      <td>2.0</td>\n",
       "      <td>4.1</td>\n",
       "      <td>NE</td>\n",
       "    </tr>\n",
       "  </tbody>\n",
       "</table>\n",
       "</div>"
      ],
      "text/plain": [
       "   Temperature  Rainfall  Wind Speed Wind Direction\n",
       "0         30.2      21.2         2.1             SW\n",
       "1         31.4      10.4         3.4              S\n",
       "2         32.5       0.0         8.2              N\n",
       "3         28.9       2.0         4.1             NE"
      ]
     },
     "execution_count": 4,
     "metadata": {},
     "output_type": "execute_result"
    }
   ],
   "source": [
    "data = {\n",
    "    \"Temperature\": [30.2, 31.4, 32.5, 28.9],\n",
    "    \"Rainfall\": [21.2, 10.4, 0, 2],\n",
    "    \"Wind Speed\": [2.1, 3.4, 8.2, 4.1],\n",
    "    \"Wind Direction\": [\"SW\", \"S\", \"N\", \"NE\"],\n",
    "}\n",
    "\n",
    "# Create a dataframe from the data and set the keys as column headers\n",
    "df = pd.DataFrame(data, columns=data.keys())\n",
    "df"
   ]
  },
  {
   "cell_type": "code",
   "execution_count": 5,
   "metadata": {},
   "outputs": [
    {
     "data": {
      "text/plain": [
       "pandas.core.frame.DataFrame"
      ]
     },
     "execution_count": 5,
     "metadata": {},
     "output_type": "execute_result"
    }
   ],
   "source": [
    "type(df)"
   ]
  },
  {
   "cell_type": "markdown",
   "metadata": {
    "id": "2SVvit-BoE4Y"
   },
   "source": [
    "### 4. Series/DataFrame Information\n",
    "\n",
    "We will next have a quick look into the data properties and some intrinsic functions. NOTE: by default aggregation funtions (like calculation of the mean or min) skip any NaN (not-a-number) values"
   ]
  },
  {
   "cell_type": "code",
   "execution_count": 6,
   "metadata": {},
   "outputs": [
    {
     "data": {
      "text/html": [
       "<div>\n",
       "<style scoped>\n",
       "    .dataframe tbody tr th:only-of-type {\n",
       "        vertical-align: middle;\n",
       "    }\n",
       "\n",
       "    .dataframe tbody tr th {\n",
       "        vertical-align: top;\n",
       "    }\n",
       "\n",
       "    .dataframe thead th {\n",
       "        text-align: right;\n",
       "    }\n",
       "</style>\n",
       "<table border=\"1\" class=\"dataframe\">\n",
       "  <thead>\n",
       "    <tr style=\"text-align: right;\">\n",
       "      <th></th>\n",
       "      <th>Temperature</th>\n",
       "      <th>Rainfall</th>\n",
       "      <th>Wind Speed</th>\n",
       "      <th>Wind Direction</th>\n",
       "    </tr>\n",
       "  </thead>\n",
       "  <tbody>\n",
       "    <tr>\n",
       "      <th>0</th>\n",
       "      <td>30.2</td>\n",
       "      <td>21.2</td>\n",
       "      <td>2.1</td>\n",
       "      <td>SW</td>\n",
       "    </tr>\n",
       "    <tr>\n",
       "      <th>1</th>\n",
       "      <td>31.4</td>\n",
       "      <td>10.4</td>\n",
       "      <td>3.4</td>\n",
       "      <td>S</td>\n",
       "    </tr>\n",
       "    <tr>\n",
       "      <th>2</th>\n",
       "      <td>32.5</td>\n",
       "      <td>0.0</td>\n",
       "      <td>8.2</td>\n",
       "      <td>N</td>\n",
       "    </tr>\n",
       "    <tr>\n",
       "      <th>3</th>\n",
       "      <td>28.9</td>\n",
       "      <td>2.0</td>\n",
       "      <td>4.1</td>\n",
       "      <td>NE</td>\n",
       "    </tr>\n",
       "  </tbody>\n",
       "</table>\n",
       "</div>"
      ],
      "text/plain": [
       "   Temperature  Rainfall  Wind Speed Wind Direction\n",
       "0         30.2      21.2         2.1             SW\n",
       "1         31.4      10.4         3.4              S\n",
       "2         32.5       0.0         8.2              N\n",
       "3         28.9       2.0         4.1             NE"
      ]
     },
     "execution_count": 6,
     "metadata": {},
     "output_type": "execute_result"
    }
   ],
   "source": [
    "df.head(n=5)  # show the first n (5 by default) rows of the dataframe"
   ]
  },
  {
   "cell_type": "code",
   "execution_count": 7,
   "metadata": {
    "id": "B-7Gl4BRljET"
   },
   "outputs": [
    {
     "data": {
      "text/plain": [
       "(4, 4)"
      ]
     },
     "execution_count": 7,
     "metadata": {},
     "output_type": "execute_result"
    }
   ],
   "source": [
    "df.shape  # Provides the shape of the dataframe"
   ]
  },
  {
   "cell_type": "code",
   "execution_count": 8,
   "metadata": {
    "id": "W1AUnYiAluc4"
   },
   "outputs": [
    {
     "data": {
      "text/plain": [
       "16"
      ]
     },
     "execution_count": 8,
     "metadata": {},
     "output_type": "execute_result"
    }
   ],
   "source": [
    "df.size  # Provides the size of the dataframe"
   ]
  },
  {
   "cell_type": "code",
   "execution_count": 9,
   "metadata": {
    "id": "lYbObBmOlyYr"
   },
   "outputs": [
    {
     "name": "stdout",
     "output_type": "stream",
     "text": [
      "<class 'pandas.core.frame.DataFrame'>\n",
      "RangeIndex: 4 entries, 0 to 3\n",
      "Data columns (total 4 columns):\n",
      " #   Column          Non-Null Count  Dtype  \n",
      "---  ------          --------------  -----  \n",
      " 0   Temperature     4 non-null      float64\n",
      " 1   Rainfall        4 non-null      float64\n",
      " 2   Wind Speed      4 non-null      float64\n",
      " 3   Wind Direction  4 non-null      object \n",
      "dtypes: float64(3), object(1)\n",
      "memory usage: 256.0+ bytes\n"
     ]
    }
   ],
   "source": [
    "df.info()"
   ]
  },
  {
   "cell_type": "code",
   "execution_count": 10,
   "metadata": {
    "id": "evFY-7H-l2B5"
   },
   "outputs": [
    {
     "data": {
      "text/plain": [
       "Index(['Temperature', 'Rainfall', 'Wind Speed', 'Wind Direction'], dtype='object')"
      ]
     },
     "execution_count": 10,
     "metadata": {},
     "output_type": "execute_result"
    }
   ],
   "source": [
    "df.columns  # Provides the column headers"
   ]
  },
  {
   "cell_type": "code",
   "execution_count": 11,
   "metadata": {
    "id": "bZAxMRgTl8xR"
   },
   "outputs": [
    {
     "data": {
      "text/plain": [
       "RangeIndex(start=0, stop=4, step=1)"
      ]
     },
     "execution_count": 11,
     "metadata": {},
     "output_type": "execute_result"
    }
   ],
   "source": [
    "df.index  # Provides the row index of the dataframe"
   ]
  },
  {
   "cell_type": "code",
   "execution_count": 12,
   "metadata": {
    "id": "e9ZPyv5WmFck"
   },
   "outputs": [
    {
     "data": {
      "text/html": [
       "<div>\n",
       "<style scoped>\n",
       "    .dataframe tbody tr th:only-of-type {\n",
       "        vertical-align: middle;\n",
       "    }\n",
       "\n",
       "    .dataframe tbody tr th {\n",
       "        vertical-align: top;\n",
       "    }\n",
       "\n",
       "    .dataframe thead th {\n",
       "        text-align: right;\n",
       "    }\n",
       "</style>\n",
       "<table border=\"1\" class=\"dataframe\">\n",
       "  <thead>\n",
       "    <tr style=\"text-align: right;\">\n",
       "      <th></th>\n",
       "      <th>Temperature</th>\n",
       "      <th>Rainfall</th>\n",
       "      <th>Wind Speed</th>\n",
       "    </tr>\n",
       "  </thead>\n",
       "  <tbody>\n",
       "    <tr>\n",
       "      <th>count</th>\n",
       "      <td>4.000000</td>\n",
       "      <td>4.00000</td>\n",
       "      <td>4.000000</td>\n",
       "    </tr>\n",
       "    <tr>\n",
       "      <th>mean</th>\n",
       "      <td>30.750000</td>\n",
       "      <td>8.40000</td>\n",
       "      <td>4.450000</td>\n",
       "    </tr>\n",
       "    <tr>\n",
       "      <th>std</th>\n",
       "      <td>1.550269</td>\n",
       "      <td>9.64987</td>\n",
       "      <td>2.633755</td>\n",
       "    </tr>\n",
       "    <tr>\n",
       "      <th>min</th>\n",
       "      <td>28.900000</td>\n",
       "      <td>0.00000</td>\n",
       "      <td>2.100000</td>\n",
       "    </tr>\n",
       "    <tr>\n",
       "      <th>25%</th>\n",
       "      <td>29.875000</td>\n",
       "      <td>1.50000</td>\n",
       "      <td>3.075000</td>\n",
       "    </tr>\n",
       "    <tr>\n",
       "      <th>50%</th>\n",
       "      <td>30.800000</td>\n",
       "      <td>6.20000</td>\n",
       "      <td>3.750000</td>\n",
       "    </tr>\n",
       "    <tr>\n",
       "      <th>75%</th>\n",
       "      <td>31.675000</td>\n",
       "      <td>13.10000</td>\n",
       "      <td>5.125000</td>\n",
       "    </tr>\n",
       "    <tr>\n",
       "      <th>max</th>\n",
       "      <td>32.500000</td>\n",
       "      <td>21.20000</td>\n",
       "      <td>8.200000</td>\n",
       "    </tr>\n",
       "  </tbody>\n",
       "</table>\n",
       "</div>"
      ],
      "text/plain": [
       "       Temperature  Rainfall  Wind Speed\n",
       "count     4.000000   4.00000    4.000000\n",
       "mean     30.750000   8.40000    4.450000\n",
       "std       1.550269   9.64987    2.633755\n",
       "min      28.900000   0.00000    2.100000\n",
       "25%      29.875000   1.50000    3.075000\n",
       "50%      30.800000   6.20000    3.750000\n",
       "75%      31.675000  13.10000    5.125000\n",
       "max      32.500000  21.20000    8.200000"
      ]
     },
     "execution_count": 12,
     "metadata": {},
     "output_type": "execute_result"
    }
   ],
   "source": [
    "df.describe()  # Gives a summarized statistical information of the data"
   ]
  },
  {
   "cell_type": "code",
   "execution_count": 13,
   "metadata": {
    "id": "lRvmjJLfmN16"
   },
   "outputs": [
    {
     "data": {
      "text/plain": [
       "Temperature       4\n",
       "Rainfall          4\n",
       "Wind Speed        4\n",
       "Wind Direction    4\n",
       "dtype: int64"
      ]
     },
     "execution_count": 13,
     "metadata": {},
     "output_type": "execute_result"
    }
   ],
   "source": [
    "df.count()  # Provides the number of elements within the dataframe."
   ]
  },
  {
   "cell_type": "code",
   "execution_count": 14,
   "metadata": {
    "id": "I7Tcd8femZeM"
   },
   "outputs": [
    {
     "data": {
      "text/plain": [
       "Temperature          123\n",
       "Rainfall            33.6\n",
       "Wind Speed          17.8\n",
       "Wind Direction    SWSNNE\n",
       "dtype: object"
      ]
     },
     "execution_count": 14,
     "metadata": {},
     "output_type": "execute_result"
    }
   ],
   "source": [
    "df.sum()  # Provides the summation of the dataframe elements."
   ]
  },
  {
   "cell_type": "code",
   "execution_count": 15,
   "metadata": {
    "id": "L8O119MAxP-O"
   },
   "outputs": [
    {
     "data": {
      "text/html": [
       "<div>\n",
       "<style scoped>\n",
       "    .dataframe tbody tr th:only-of-type {\n",
       "        vertical-align: middle;\n",
       "    }\n",
       "\n",
       "    .dataframe tbody tr th {\n",
       "        vertical-align: top;\n",
       "    }\n",
       "\n",
       "    .dataframe thead th {\n",
       "        text-align: right;\n",
       "    }\n",
       "</style>\n",
       "<table border=\"1\" class=\"dataframe\">\n",
       "  <thead>\n",
       "    <tr style=\"text-align: right;\">\n",
       "      <th></th>\n",
       "      <th>Temperature</th>\n",
       "      <th>Rainfall</th>\n",
       "      <th>Wind Speed</th>\n",
       "      <th>Wind Direction</th>\n",
       "    </tr>\n",
       "  </thead>\n",
       "  <tbody>\n",
       "    <tr>\n",
       "      <th>0</th>\n",
       "      <td>30.2</td>\n",
       "      <td>21.2</td>\n",
       "      <td>2.1</td>\n",
       "      <td>SW</td>\n",
       "    </tr>\n",
       "    <tr>\n",
       "      <th>1</th>\n",
       "      <td>61.6</td>\n",
       "      <td>31.6</td>\n",
       "      <td>5.5</td>\n",
       "      <td>SWS</td>\n",
       "    </tr>\n",
       "    <tr>\n",
       "      <th>2</th>\n",
       "      <td>94.1</td>\n",
       "      <td>31.6</td>\n",
       "      <td>13.7</td>\n",
       "      <td>SWSN</td>\n",
       "    </tr>\n",
       "    <tr>\n",
       "      <th>3</th>\n",
       "      <td>123.0</td>\n",
       "      <td>33.6</td>\n",
       "      <td>17.8</td>\n",
       "      <td>SWSNNE</td>\n",
       "    </tr>\n",
       "  </tbody>\n",
       "</table>\n",
       "</div>"
      ],
      "text/plain": [
       "   Temperature  Rainfall  Wind Speed Wind Direction\n",
       "0         30.2      21.2         2.1             SW\n",
       "1         61.6      31.6         5.5            SWS\n",
       "2         94.1      31.6        13.7           SWSN\n",
       "3        123.0      33.6        17.8         SWSNNE"
      ]
     },
     "execution_count": 15,
     "metadata": {},
     "output_type": "execute_result"
    }
   ],
   "source": [
    "df.cumsum()  # Provides the cumulative sum of the dataframe elements."
   ]
  },
  {
   "cell_type": "code",
   "execution_count": 16,
   "metadata": {
    "id": "DMiOGLQsxRfH"
   },
   "outputs": [
    {
     "data": {
      "text/plain": [
       "Temperature       32.5\n",
       "Rainfall          21.2\n",
       "Wind Speed         8.2\n",
       "Wind Direction      SW\n",
       "dtype: object"
      ]
     },
     "execution_count": 16,
     "metadata": {},
     "output_type": "execute_result"
    }
   ],
   "source": [
    "df.min()  # Provides the minimumn/maximum of the dataframe elements.\n",
    "df.max()"
   ]
  },
  {
   "cell_type": "code",
   "execution_count": 17,
   "metadata": {
    "id": "yA5F1pCRxWgE"
   },
   "outputs": [
    {
     "data": {
      "text/plain": [
       "Temperature    30.75\n",
       "Rainfall        8.40\n",
       "Wind Speed      4.45\n",
       "dtype: float64"
      ]
     },
     "execution_count": 17,
     "metadata": {},
     "output_type": "execute_result"
    }
   ],
   "source": [
    "df.mean()  # Provides the average of the dataframe elements."
   ]
  },
  {
   "cell_type": "code",
   "execution_count": 18,
   "metadata": {
    "id": "wlHxAVxcoE4Z",
    "outputId": "b0872229-9fdd-4c7c-b5fd-78d57c42ec17"
   },
   "outputs": [
    {
     "data": {
      "text/plain": [
       "Temperature    30.80\n",
       "Rainfall        6.20\n",
       "Wind Speed      3.75\n",
       "dtype: float64"
      ]
     },
     "execution_count": 18,
     "metadata": {},
     "output_type": "execute_result"
    }
   ],
   "source": [
    "df.median()  # Provides the midpoint of the dataframe elements."
   ]
  },
  {
   "cell_type": "markdown",
   "metadata": {
    "id": "TSW1o3vtoE4e"
   },
   "source": [
    "### 5. Selection from Data Series and DataFrames\n",
    "\n",
    "The row numbers are the 'index' and the headers represent each column."
   ]
  },
  {
   "cell_type": "code",
   "execution_count": 19,
   "metadata": {
    "id": "BBDg9EbhoE4f",
    "outputId": "746c85ed-5a8f-4764-c7f2-4ae1f7642a25"
   },
   "outputs": [
    {
     "data": {
      "text/plain": [
       "pandas.core.series.Series"
      ]
     },
     "execution_count": 19,
     "metadata": {},
     "output_type": "execute_result"
    }
   ],
   "source": [
    "type(df[\"Temperature\"])"
   ]
  },
  {
   "cell_type": "code",
   "execution_count": 20,
   "metadata": {
    "id": "7h9fnAogVQjh"
   },
   "outputs": [
    {
     "data": {
      "text/html": [
       "<div>\n",
       "<style scoped>\n",
       "    .dataframe tbody tr th:only-of-type {\n",
       "        vertical-align: middle;\n",
       "    }\n",
       "\n",
       "    .dataframe tbody tr th {\n",
       "        vertical-align: top;\n",
       "    }\n",
       "\n",
       "    .dataframe thead th {\n",
       "        text-align: right;\n",
       "    }\n",
       "</style>\n",
       "<table border=\"1\" class=\"dataframe\">\n",
       "  <thead>\n",
       "    <tr style=\"text-align: right;\">\n",
       "      <th></th>\n",
       "      <th>Temperature</th>\n",
       "      <th>Rainfall</th>\n",
       "      <th>Wind Speed</th>\n",
       "      <th>Wind Direction</th>\n",
       "    </tr>\n",
       "  </thead>\n",
       "  <tbody>\n",
       "    <tr>\n",
       "      <th>1</th>\n",
       "      <td>31.4</td>\n",
       "      <td>10.4</td>\n",
       "      <td>3.4</td>\n",
       "      <td>S</td>\n",
       "    </tr>\n",
       "    <tr>\n",
       "      <th>3</th>\n",
       "      <td>28.9</td>\n",
       "      <td>2.0</td>\n",
       "      <td>4.1</td>\n",
       "      <td>NE</td>\n",
       "    </tr>\n",
       "  </tbody>\n",
       "</table>\n",
       "</div>"
      ],
      "text/plain": [
       "   Temperature  Rainfall  Wind Speed Wind Direction\n",
       "1         31.4      10.4         3.4              S\n",
       "3         28.9       2.0         4.1             NE"
      ]
     },
     "execution_count": 20,
     "metadata": {},
     "output_type": "execute_result"
    }
   ],
   "source": [
    "# DataFrame Selection\n",
    "df[0:1]  # First row only\n",
    "df[::2]  # Even rows/index\n",
    "df[1::2]  # Odd rows/index"
   ]
  },
  {
   "cell_type": "code",
   "execution_count": 21,
   "metadata": {
    "id": "dnRDcpPEoE4h",
    "outputId": "981fe1ba-22e5-4c7a-811d-a52c44e19ccc"
   },
   "outputs": [
    {
     "data": {
      "text/plain": [
       "Temperature       30.2\n",
       "Rainfall          21.2\n",
       "Wind Speed         2.1\n",
       "Wind Direction      SW\n",
       "Name: 0, dtype: object"
      ]
     },
     "execution_count": 21,
     "metadata": {},
     "output_type": "execute_result"
    }
   ],
   "source": [
    "# Selecting/Subsetting By Position\n",
    "df.iloc[0]  # Elements of firat row only"
   ]
  },
  {
   "cell_type": "code",
   "execution_count": 22,
   "metadata": {
    "id": "iQkn_drhWRDC"
   },
   "outputs": [
    {
     "data": {
      "text/html": [
       "<div>\n",
       "<style scoped>\n",
       "    .dataframe tbody tr th:only-of-type {\n",
       "        vertical-align: middle;\n",
       "    }\n",
       "\n",
       "    .dataframe tbody tr th {\n",
       "        vertical-align: top;\n",
       "    }\n",
       "\n",
       "    .dataframe thead th {\n",
       "        text-align: right;\n",
       "    }\n",
       "</style>\n",
       "<table border=\"1\" class=\"dataframe\">\n",
       "  <thead>\n",
       "    <tr style=\"text-align: right;\">\n",
       "      <th></th>\n",
       "      <th>Temperature</th>\n",
       "    </tr>\n",
       "  </thead>\n",
       "  <tbody>\n",
       "    <tr>\n",
       "      <th>0</th>\n",
       "      <td>30.2</td>\n",
       "    </tr>\n",
       "  </tbody>\n",
       "</table>\n",
       "</div>"
      ],
      "text/plain": [
       "   Temperature\n",
       "0         30.2"
      ]
     },
     "execution_count": 22,
     "metadata": {},
     "output_type": "execute_result"
    }
   ],
   "source": [
    "# Select single value by row and column\n",
    "df.iloc[[0], [0]]  # Element in first row and first column"
   ]
  },
  {
   "cell_type": "code",
   "execution_count": 23,
   "metadata": {
    "id": "d84K2jaXWRGy"
   },
   "outputs": [
    {
     "data": {
      "text/plain": [
       "30.2"
      ]
     },
     "execution_count": 23,
     "metadata": {},
     "output_type": "execute_result"
    }
   ],
   "source": [
    "# Selecting/Subsetting By Position\n",
    "# Using iat\n",
    "df.iat[0, 0]"
   ]
  },
  {
   "cell_type": "markdown",
   "metadata": {},
   "source": [
    "By Label\n",
    "Select single value by row and column labels\n",
    "Any of the understated helps to do the same thing."
   ]
  },
  {
   "cell_type": "code",
   "execution_count": 24,
   "metadata": {
    "id": "CPEu4Zo1oE4i",
    "outputId": "6d7e27c1-f46c-40c8-ae82-18ef5831de98"
   },
   "outputs": [
    {
     "data": {
      "text/html": [
       "<div>\n",
       "<style scoped>\n",
       "    .dataframe tbody tr th:only-of-type {\n",
       "        vertical-align: middle;\n",
       "    }\n",
       "\n",
       "    .dataframe tbody tr th {\n",
       "        vertical-align: top;\n",
       "    }\n",
       "\n",
       "    .dataframe thead th {\n",
       "        text-align: right;\n",
       "    }\n",
       "</style>\n",
       "<table border=\"1\" class=\"dataframe\">\n",
       "  <thead>\n",
       "    <tr style=\"text-align: right;\">\n",
       "      <th></th>\n",
       "      <th>Temperature</th>\n",
       "    </tr>\n",
       "  </thead>\n",
       "  <tbody>\n",
       "    <tr>\n",
       "      <th>0</th>\n",
       "      <td>30.2</td>\n",
       "    </tr>\n",
       "  </tbody>\n",
       "</table>\n",
       "</div>"
      ],
      "text/plain": [
       "   Temperature\n",
       "0         30.2"
      ]
     },
     "execution_count": 24,
     "metadata": {},
     "output_type": "execute_result"
    }
   ],
   "source": [
    "df.loc[[0], [\"Temperature\"]]"
   ]
  },
  {
   "cell_type": "code",
   "execution_count": 25,
   "metadata": {},
   "outputs": [
    {
     "data": {
      "text/plain": [
       "30.2"
      ]
     },
     "execution_count": 25,
     "metadata": {},
     "output_type": "execute_result"
    }
   ],
   "source": [
    "df.loc[0, \"Temperature\"]"
   ]
  },
  {
   "cell_type": "code",
   "execution_count": 26,
   "metadata": {},
   "outputs": [
    {
     "data": {
      "text/plain": [
       "30.2"
      ]
     },
     "execution_count": 26,
     "metadata": {},
     "output_type": "execute_result"
    }
   ],
   "source": [
    "df.loc[0][\"Temperature\"]"
   ]
  },
  {
   "cell_type": "markdown",
   "metadata": {},
   "source": [
    "We can index into a `DataSeries` too"
   ]
  },
  {
   "cell_type": "code",
   "execution_count": 27,
   "metadata": {
    "id": "1Z5mV083oE4m",
    "outputId": "e8941141-a061-4f73-9c2a-b2c5f2ae8ea5"
   },
   "outputs": [
    {
     "data": {
      "text/plain": [
       "Day 1    3\n",
       "Day 2   -5\n",
       "Day 3    7\n",
       "Day 4    4\n",
       "dtype: int64"
      ]
     },
     "execution_count": 27,
     "metadata": {},
     "output_type": "execute_result"
    }
   ],
   "source": [
    "ds"
   ]
  },
  {
   "cell_type": "code",
   "execution_count": 28,
   "metadata": {},
   "outputs": [
    {
     "data": {
      "text/plain": [
       "3"
      ]
     },
     "execution_count": 28,
     "metadata": {},
     "output_type": "execute_result"
    }
   ],
   "source": [
    "ds[\"Day 1\"]"
   ]
  },
  {
   "cell_type": "code",
   "execution_count": 29,
   "metadata": {},
   "outputs": [
    {
     "data": {
      "text/plain": [
       "Day 1    3\n",
       "Day 2   -5\n",
       "Day 3    7\n",
       "Day 4    4\n",
       "dtype: int64"
      ]
     },
     "execution_count": 29,
     "metadata": {},
     "output_type": "execute_result"
    }
   ],
   "source": [
    "ds[\"Day 1\":\"Day 4\"]"
   ]
  },
  {
   "cell_type": "code",
   "execution_count": 30,
   "metadata": {
    "scrolled": true
   },
   "outputs": [
    {
     "data": {
      "text/plain": [
       "Day 1    3\n",
       "Day 3    7\n",
       "dtype: int64"
      ]
     },
     "execution_count": 30,
     "metadata": {},
     "output_type": "execute_result"
    }
   ],
   "source": [
    "ds[\"Day 1\":\"Day 4\":2]"
   ]
  },
  {
   "cell_type": "markdown",
   "metadata": {
    "id": "f3cyuKcXX40D"
   },
   "source": [
    "**selection with boolean Indexing**\n",
    "\n",
    "An alternative for identifying elements of a dataframe that meet a specific criteria is to pass the criteria within a square brackets attached to the dataframe.\n",
    "\n",
    "For example:\n",
    "\n",
    "`a[a>1]` implies extracting all a elements where the value of a exceeds 1."
   ]
  },
  {
   "cell_type": "code",
   "execution_count": 31,
   "metadata": {
    "id": "4CqbvIRJoE4o"
   },
   "outputs": [
    {
     "data": {
      "text/plain": [
       "Day 2   -5\n",
       "dtype: int64"
      ]
     },
     "execution_count": 31,
     "metadata": {},
     "output_type": "execute_result"
    }
   ],
   "source": [
    "# Boolean Indexing\n",
    "ds[~ds > 2]  # Dataseries values not exceeding 2"
   ]
  },
  {
   "cell_type": "code",
   "execution_count": 32,
   "metadata": {
    "id": "0BcazcxvYogm"
   },
   "outputs": [
    {
     "data": {
      "text/plain": [
       "Day 1    3\n",
       "Day 4    4\n",
       "dtype: int64"
      ]
     },
     "execution_count": 32,
     "metadata": {},
     "output_type": "execute_result"
    }
   ],
   "source": [
    "ds[(ds > -2) & (ds < 5)]  # Dataseries values ranging from -1 to 4"
   ]
  },
  {
   "cell_type": "code",
   "execution_count": 33,
   "metadata": {
    "id": "ocGkhOq8YosL"
   },
   "outputs": [
    {
     "data": {
      "text/plain": [
       "Day 1    3\n",
       "Day 2   -5\n",
       "Day 3    7\n",
       "Day 4    4\n",
       "dtype: int64"
      ]
     },
     "execution_count": 33,
     "metadata": {},
     "output_type": "execute_result"
    }
   ],
   "source": [
    "ds[(ds > -2) | (ds < 5)]  # Dataseries values either exceeding -2 or below 5"
   ]
  },
  {
   "cell_type": "code",
   "execution_count": 34,
   "metadata": {
    "id": "l3T8-GOxAXLu"
   },
   "outputs": [
    {
     "data": {
      "text/html": [
       "<div>\n",
       "<style scoped>\n",
       "    .dataframe tbody tr th:only-of-type {\n",
       "        vertical-align: middle;\n",
       "    }\n",
       "\n",
       "    .dataframe tbody tr th {\n",
       "        vertical-align: top;\n",
       "    }\n",
       "\n",
       "    .dataframe thead th {\n",
       "        text-align: right;\n",
       "    }\n",
       "</style>\n",
       "<table border=\"1\" class=\"dataframe\">\n",
       "  <thead>\n",
       "    <tr style=\"text-align: right;\">\n",
       "      <th></th>\n",
       "      <th>Temperature</th>\n",
       "      <th>Rainfall</th>\n",
       "      <th>Wind Speed</th>\n",
       "      <th>Wind Direction</th>\n",
       "    </tr>\n",
       "  </thead>\n",
       "  <tbody>\n",
       "    <tr>\n",
       "      <th>2</th>\n",
       "      <td>32.5</td>\n",
       "      <td>0.0</td>\n",
       "      <td>8.2</td>\n",
       "      <td>N</td>\n",
       "    </tr>\n",
       "  </tbody>\n",
       "</table>\n",
       "</div>"
      ],
      "text/plain": [
       "   Temperature  Rainfall  Wind Speed Wind Direction\n",
       "2         32.5       0.0         8.2              N"
      ]
     },
     "execution_count": 34,
     "metadata": {},
     "output_type": "execute_result"
    }
   ],
   "source": [
    "# Use filter to adjust DataFrame\n",
    "# Dataframe item where only the Temperature exceeds 32 degree Celsius\n",
    "df[df[\"Temperature\"] > 32]"
   ]
  },
  {
   "cell_type": "code",
   "execution_count": 35,
   "metadata": {
    "id": "Uo8kE3xeoE4q"
   },
   "outputs": [],
   "source": [
    "# Assigning a value to index of a Series or DataFrame\n",
    "ds[\"Day 1\"] = 6  # Assigning by data series' index"
   ]
  },
  {
   "cell_type": "code",
   "execution_count": 36,
   "metadata": {
    "id": "Z0mIgyq9ZiSo"
   },
   "outputs": [],
   "source": [
    "df.iloc[0, 0] = 34  # Assigning value to first element of the dataframe"
   ]
  },
  {
   "cell_type": "markdown",
   "metadata": {
    "id": "g4NstWj5j7U4"
   },
   "source": [
    "## 6. Applying functions onto a dataframe\n",
    "\n",
    "A function is a block of code which only runs when it is called. It allows for easy code block use and re-use. You can pass data, known as parameters, into a function, and the function can return data as a result.\n",
    "\n",
    "Default function format in Python is:\n",
    "\n",
    "```python\n",
    "def function_name(arg1, arg2, ...):\n",
    "    return {expression}\n",
    "```\n",
    "\n",
    "\n",
    "Alternatively, we can use \"lambda functions\" in Python as effective \"one-liners\". A lambda function is a small anonymous function which can take any number of arguments, but can only have one expression.\n",
    "\n",
    "**Syntax:**\n",
    "\n",
    "```python\n",
    "function_name = lambda arg1, arg2, ... : {expression}\n",
    "```\n",
    "\n",
    "In Pandas, a simplistic way to pass a function onto a dataframe is by using the **apply** method. \n",
    "\n",
    "Let's try to apply a simple function that doubles the individual items of the dataframe.\n",
    "\n"
   ]
  },
  {
   "cell_type": "code",
   "execution_count": 37,
   "metadata": {
    "id": "XKjegPJxop21"
   },
   "outputs": [
    {
     "data": {
      "text/html": [
       "<div>\n",
       "<style scoped>\n",
       "    .dataframe tbody tr th:only-of-type {\n",
       "        vertical-align: middle;\n",
       "    }\n",
       "\n",
       "    .dataframe tbody tr th {\n",
       "        vertical-align: top;\n",
       "    }\n",
       "\n",
       "    .dataframe thead th {\n",
       "        text-align: right;\n",
       "    }\n",
       "</style>\n",
       "<table border=\"1\" class=\"dataframe\">\n",
       "  <thead>\n",
       "    <tr style=\"text-align: right;\">\n",
       "      <th></th>\n",
       "      <th>Temperature</th>\n",
       "      <th>Wind Speed</th>\n",
       "    </tr>\n",
       "  </thead>\n",
       "  <tbody>\n",
       "    <tr>\n",
       "      <th>0</th>\n",
       "      <td>68.0</td>\n",
       "      <td>4.2</td>\n",
       "    </tr>\n",
       "    <tr>\n",
       "      <th>1</th>\n",
       "      <td>62.8</td>\n",
       "      <td>6.8</td>\n",
       "    </tr>\n",
       "    <tr>\n",
       "      <th>2</th>\n",
       "      <td>65.0</td>\n",
       "      <td>16.4</td>\n",
       "    </tr>\n",
       "    <tr>\n",
       "      <th>3</th>\n",
       "      <td>57.8</td>\n",
       "      <td>8.2</td>\n",
       "    </tr>\n",
       "  </tbody>\n",
       "</table>\n",
       "</div>"
      ],
      "text/plain": [
       "   Temperature  Wind Speed\n",
       "0         68.0         4.2\n",
       "1         62.8         6.8\n",
       "2         65.0        16.4\n",
       "3         57.8         8.2"
      ]
     },
     "execution_count": 37,
     "metadata": {},
     "output_type": "execute_result"
    }
   ],
   "source": [
    "# First Approach\n",
    "def double(x):\n",
    "    y = x * 2\n",
    "    return x * 2\n",
    "\n",
    "\n",
    "# Now, let's apply the function to only the Temperature and Wind Speed column\n",
    "df.loc[:, [\"Temperature\", \"Wind Speed\"]].apply(double)"
   ]
  },
  {
   "cell_type": "code",
   "execution_count": 38,
   "metadata": {
    "id": "vwXH86oToE4r"
   },
   "outputs": [
    {
     "data": {
      "text/html": [
       "<div>\n",
       "<style scoped>\n",
       "    .dataframe tbody tr th:only-of-type {\n",
       "        vertical-align: middle;\n",
       "    }\n",
       "\n",
       "    .dataframe tbody tr th {\n",
       "        vertical-align: top;\n",
       "    }\n",
       "\n",
       "    .dataframe thead th {\n",
       "        text-align: right;\n",
       "    }\n",
       "</style>\n",
       "<table border=\"1\" class=\"dataframe\">\n",
       "  <thead>\n",
       "    <tr style=\"text-align: right;\">\n",
       "      <th></th>\n",
       "      <th>Temperature</th>\n",
       "      <th>Wind Speed</th>\n",
       "    </tr>\n",
       "  </thead>\n",
       "  <tbody>\n",
       "    <tr>\n",
       "      <th>0</th>\n",
       "      <td>68.0</td>\n",
       "      <td>4.2</td>\n",
       "    </tr>\n",
       "    <tr>\n",
       "      <th>1</th>\n",
       "      <td>62.8</td>\n",
       "      <td>6.8</td>\n",
       "    </tr>\n",
       "    <tr>\n",
       "      <th>2</th>\n",
       "      <td>65.0</td>\n",
       "      <td>16.4</td>\n",
       "    </tr>\n",
       "    <tr>\n",
       "      <th>3</th>\n",
       "      <td>57.8</td>\n",
       "      <td>8.2</td>\n",
       "    </tr>\n",
       "  </tbody>\n",
       "</table>\n",
       "</div>"
      ],
      "text/plain": [
       "   Temperature  Wind Speed\n",
       "0         68.0         4.2\n",
       "1         62.8         6.8\n",
       "2         65.0        16.4\n",
       "3         57.8         8.2"
      ]
     },
     "execution_count": 38,
     "metadata": {},
     "output_type": "execute_result"
    }
   ],
   "source": [
    "# Second Approach\n",
    "f = lambda x: x * 2\n",
    "\n",
    "# Now, let's apply the function to only the Temperature and Wind Speed column\n",
    "df.loc[:, [\"Temperature\", \"Wind Speed\"]].apply(f)"
   ]
  },
  {
   "cell_type": "markdown",
   "metadata": {
    "id": "ogX1WB65oE4s"
   },
   "source": [
    "## 7. Sort and Rank with Pandas\n",
    "\n",
    "This allows for arranging dataframe in a specified order (increasing/decreasing), based on priority."
   ]
  },
  {
   "cell_type": "code",
   "execution_count": 39,
   "metadata": {},
   "outputs": [
    {
     "data": {
      "text/html": [
       "<div>\n",
       "<style scoped>\n",
       "    .dataframe tbody tr th:only-of-type {\n",
       "        vertical-align: middle;\n",
       "    }\n",
       "\n",
       "    .dataframe tbody tr th {\n",
       "        vertical-align: top;\n",
       "    }\n",
       "\n",
       "    .dataframe thead th {\n",
       "        text-align: right;\n",
       "    }\n",
       "</style>\n",
       "<table border=\"1\" class=\"dataframe\">\n",
       "  <thead>\n",
       "    <tr style=\"text-align: right;\">\n",
       "      <th></th>\n",
       "      <th>Temperature</th>\n",
       "      <th>Rainfall</th>\n",
       "      <th>Wind Speed</th>\n",
       "      <th>Wind Direction</th>\n",
       "    </tr>\n",
       "  </thead>\n",
       "  <tbody>\n",
       "    <tr>\n",
       "      <th>0</th>\n",
       "      <td>34.0</td>\n",
       "      <td>21.2</td>\n",
       "      <td>2.1</td>\n",
       "      <td>SW</td>\n",
       "    </tr>\n",
       "    <tr>\n",
       "      <th>1</th>\n",
       "      <td>31.4</td>\n",
       "      <td>10.4</td>\n",
       "      <td>3.4</td>\n",
       "      <td>S</td>\n",
       "    </tr>\n",
       "    <tr>\n",
       "      <th>2</th>\n",
       "      <td>32.5</td>\n",
       "      <td>0.0</td>\n",
       "      <td>8.2</td>\n",
       "      <td>N</td>\n",
       "    </tr>\n",
       "    <tr>\n",
       "      <th>3</th>\n",
       "      <td>28.9</td>\n",
       "      <td>2.0</td>\n",
       "      <td>4.1</td>\n",
       "      <td>NE</td>\n",
       "    </tr>\n",
       "  </tbody>\n",
       "</table>\n",
       "</div>"
      ],
      "text/plain": [
       "   Temperature  Rainfall  Wind Speed Wind Direction\n",
       "0         34.0      21.2         2.1             SW\n",
       "1         31.4      10.4         3.4              S\n",
       "2         32.5       0.0         8.2              N\n",
       "3         28.9       2.0         4.1             NE"
      ]
     },
     "execution_count": 39,
     "metadata": {},
     "output_type": "execute_result"
    }
   ],
   "source": [
    "df.sort_index()  # Sort by the index"
   ]
  },
  {
   "cell_type": "code",
   "execution_count": 40,
   "metadata": {},
   "outputs": [
    {
     "data": {
      "text/html": [
       "<div>\n",
       "<style scoped>\n",
       "    .dataframe tbody tr th:only-of-type {\n",
       "        vertical-align: middle;\n",
       "    }\n",
       "\n",
       "    .dataframe tbody tr th {\n",
       "        vertical-align: top;\n",
       "    }\n",
       "\n",
       "    .dataframe thead th {\n",
       "        text-align: right;\n",
       "    }\n",
       "</style>\n",
       "<table border=\"1\" class=\"dataframe\">\n",
       "  <thead>\n",
       "    <tr style=\"text-align: right;\">\n",
       "      <th></th>\n",
       "      <th>Temperature</th>\n",
       "      <th>Rainfall</th>\n",
       "      <th>Wind Speed</th>\n",
       "      <th>Wind Direction</th>\n",
       "    </tr>\n",
       "  </thead>\n",
       "  <tbody>\n",
       "    <tr>\n",
       "      <th>0</th>\n",
       "      <td>34.0</td>\n",
       "      <td>21.2</td>\n",
       "      <td>2.1</td>\n",
       "      <td>SW</td>\n",
       "    </tr>\n",
       "    <tr>\n",
       "      <th>1</th>\n",
       "      <td>31.4</td>\n",
       "      <td>10.4</td>\n",
       "      <td>3.4</td>\n",
       "      <td>S</td>\n",
       "    </tr>\n",
       "    <tr>\n",
       "      <th>3</th>\n",
       "      <td>28.9</td>\n",
       "      <td>2.0</td>\n",
       "      <td>4.1</td>\n",
       "      <td>NE</td>\n",
       "    </tr>\n",
       "    <tr>\n",
       "      <th>2</th>\n",
       "      <td>32.5</td>\n",
       "      <td>0.0</td>\n",
       "      <td>8.2</td>\n",
       "      <td>N</td>\n",
       "    </tr>\n",
       "  </tbody>\n",
       "</table>\n",
       "</div>"
      ],
      "text/plain": [
       "   Temperature  Rainfall  Wind Speed Wind Direction\n",
       "0         34.0      21.2         2.1             SW\n",
       "1         31.4      10.4         3.4              S\n",
       "3         28.9       2.0         4.1             NE\n",
       "2         32.5       0.0         8.2              N"
      ]
     },
     "execution_count": 40,
     "metadata": {},
     "output_type": "execute_result"
    }
   ],
   "source": [
    "df.sort_values(by=\"Wind Speed\")  # sort by Wind Speed"
   ]
  },
  {
   "cell_type": "code",
   "execution_count": 41,
   "metadata": {
    "id": "67G4dFGooE4t"
   },
   "outputs": [
    {
     "data": {
      "text/html": [
       "<div>\n",
       "<style scoped>\n",
       "    .dataframe tbody tr th:only-of-type {\n",
       "        vertical-align: middle;\n",
       "    }\n",
       "\n",
       "    .dataframe tbody tr th {\n",
       "        vertical-align: top;\n",
       "    }\n",
       "\n",
       "    .dataframe thead th {\n",
       "        text-align: right;\n",
       "    }\n",
       "</style>\n",
       "<table border=\"1\" class=\"dataframe\">\n",
       "  <thead>\n",
       "    <tr style=\"text-align: right;\">\n",
       "      <th></th>\n",
       "      <th>Temperature</th>\n",
       "      <th>Rainfall</th>\n",
       "      <th>Wind Speed</th>\n",
       "      <th>Wind Direction</th>\n",
       "    </tr>\n",
       "  </thead>\n",
       "  <tbody>\n",
       "    <tr>\n",
       "      <th>3</th>\n",
       "      <td>28.9</td>\n",
       "      <td>2.0</td>\n",
       "      <td>4.1</td>\n",
       "      <td>NE</td>\n",
       "    </tr>\n",
       "    <tr>\n",
       "      <th>1</th>\n",
       "      <td>31.4</td>\n",
       "      <td>10.4</td>\n",
       "      <td>3.4</td>\n",
       "      <td>S</td>\n",
       "    </tr>\n",
       "    <tr>\n",
       "      <th>2</th>\n",
       "      <td>32.5</td>\n",
       "      <td>0.0</td>\n",
       "      <td>8.2</td>\n",
       "      <td>N</td>\n",
       "    </tr>\n",
       "    <tr>\n",
       "      <th>0</th>\n",
       "      <td>34.0</td>\n",
       "      <td>21.2</td>\n",
       "      <td>2.1</td>\n",
       "      <td>SW</td>\n",
       "    </tr>\n",
       "  </tbody>\n",
       "</table>\n",
       "</div>"
      ],
      "text/plain": [
       "   Temperature  Rainfall  Wind Speed Wind Direction\n",
       "3         28.9       2.0         4.1             NE\n",
       "1         31.4      10.4         3.4              S\n",
       "2         32.5       0.0         8.2              N\n",
       "0         34.0      21.2         2.1             SW"
      ]
     },
     "execution_count": 41,
     "metadata": {},
     "output_type": "execute_result"
    }
   ],
   "source": [
    "df.sort_values(\n",
    "    by=[\"Temperature\", \"Wind Direction\"]\n",
    ")  # Sort by Temperature and then Wind Direction"
   ]
  },
  {
   "cell_type": "code",
   "execution_count": 42,
   "metadata": {
    "id": "wiMzIxJ2aSYs"
   },
   "outputs": [
    {
     "data": {
      "text/html": [
       "<div>\n",
       "<style scoped>\n",
       "    .dataframe tbody tr th:only-of-type {\n",
       "        vertical-align: middle;\n",
       "    }\n",
       "\n",
       "    .dataframe tbody tr th {\n",
       "        vertical-align: top;\n",
       "    }\n",
       "\n",
       "    .dataframe thead th {\n",
       "        text-align: right;\n",
       "    }\n",
       "</style>\n",
       "<table border=\"1\" class=\"dataframe\">\n",
       "  <thead>\n",
       "    <tr style=\"text-align: right;\">\n",
       "      <th></th>\n",
       "      <th>Temperature</th>\n",
       "      <th>Rainfall</th>\n",
       "      <th>Wind Speed</th>\n",
       "      <th>Wind Direction</th>\n",
       "    </tr>\n",
       "  </thead>\n",
       "  <tbody>\n",
       "    <tr>\n",
       "      <th>0</th>\n",
       "      <td>4.0</td>\n",
       "      <td>4.0</td>\n",
       "      <td>1.0</td>\n",
       "      <td>4.0</td>\n",
       "    </tr>\n",
       "    <tr>\n",
       "      <th>1</th>\n",
       "      <td>2.0</td>\n",
       "      <td>3.0</td>\n",
       "      <td>2.0</td>\n",
       "      <td>3.0</td>\n",
       "    </tr>\n",
       "    <tr>\n",
       "      <th>2</th>\n",
       "      <td>3.0</td>\n",
       "      <td>1.0</td>\n",
       "      <td>4.0</td>\n",
       "      <td>1.0</td>\n",
       "    </tr>\n",
       "    <tr>\n",
       "      <th>3</th>\n",
       "      <td>1.0</td>\n",
       "      <td>2.0</td>\n",
       "      <td>3.0</td>\n",
       "      <td>2.0</td>\n",
       "    </tr>\n",
       "  </tbody>\n",
       "</table>\n",
       "</div>"
      ],
      "text/plain": [
       "   Temperature  Rainfall  Wind Speed  Wind Direction\n",
       "0          4.0       4.0         1.0             4.0\n",
       "1          2.0       3.0         2.0             3.0\n",
       "2          3.0       1.0         4.0             1.0\n",
       "3          1.0       2.0         3.0             2.0"
      ]
     },
     "execution_count": 42,
     "metadata": {},
     "output_type": "execute_result"
    }
   ],
   "source": [
    "# Assign ranks to entries\n",
    "df.rank()"
   ]
  },
  {
   "cell_type": "markdown",
   "metadata": {
    "id": "OvAFNkaioE4u"
   },
   "source": [
    "## 8. Dropping values from rows (axis=0) or columns (axis=1)\n",
    "\n",
    "Here, we will take a look at dropping specific columns or rows.\n",
    "\n",
    "**Kindly take note:**\n",
    "For the dataframe with dropped rows or columns to maintain their dropped rows/columns, we need to reassign the dropped dataframe to itself or simply assign to a new variable.\n"
   ]
  },
  {
   "cell_type": "code",
   "execution_count": 43,
   "metadata": {
    "id": "0QLqjOdaoE4v"
   },
   "outputs": [
    {
     "data": {
      "text/plain": [
       "Day 1    6\n",
       "Day 3    7\n",
       "Day 4    4\n",
       "dtype: int64"
      ]
     },
     "execution_count": 43,
     "metadata": {},
     "output_type": "execute_result"
    }
   ],
   "source": [
    "# Row drop\n",
    "ds.drop([\"Day 2\"])"
   ]
  },
  {
   "cell_type": "code",
   "execution_count": 44,
   "metadata": {
    "id": "yqd4IuoMabhp"
   },
   "outputs": [
    {
     "data": {
      "text/html": [
       "<div>\n",
       "<style scoped>\n",
       "    .dataframe tbody tr th:only-of-type {\n",
       "        vertical-align: middle;\n",
       "    }\n",
       "\n",
       "    .dataframe tbody tr th {\n",
       "        vertical-align: top;\n",
       "    }\n",
       "\n",
       "    .dataframe thead th {\n",
       "        text-align: right;\n",
       "    }\n",
       "</style>\n",
       "<table border=\"1\" class=\"dataframe\">\n",
       "  <thead>\n",
       "    <tr style=\"text-align: right;\">\n",
       "      <th></th>\n",
       "      <th>Temperature</th>\n",
       "      <th>Rainfall</th>\n",
       "      <th>Wind Speed</th>\n",
       "    </tr>\n",
       "  </thead>\n",
       "  <tbody>\n",
       "    <tr>\n",
       "      <th>0</th>\n",
       "      <td>34.0</td>\n",
       "      <td>21.2</td>\n",
       "      <td>2.1</td>\n",
       "    </tr>\n",
       "    <tr>\n",
       "      <th>1</th>\n",
       "      <td>31.4</td>\n",
       "      <td>10.4</td>\n",
       "      <td>3.4</td>\n",
       "    </tr>\n",
       "    <tr>\n",
       "      <th>2</th>\n",
       "      <td>32.5</td>\n",
       "      <td>0.0</td>\n",
       "      <td>8.2</td>\n",
       "    </tr>\n",
       "    <tr>\n",
       "      <th>3</th>\n",
       "      <td>28.9</td>\n",
       "      <td>2.0</td>\n",
       "      <td>4.1</td>\n",
       "    </tr>\n",
       "  </tbody>\n",
       "</table>\n",
       "</div>"
      ],
      "text/plain": [
       "   Temperature  Rainfall  Wind Speed\n",
       "0         34.0      21.2         2.1\n",
       "1         31.4      10.4         3.4\n",
       "2         32.5       0.0         8.2\n",
       "3         28.9       2.0         4.1"
      ]
     },
     "execution_count": 44,
     "metadata": {},
     "output_type": "execute_result"
    }
   ],
   "source": [
    "# Column drop\n",
    "df.drop(\"Wind Direction\", axis=1)"
   ]
  },
  {
   "cell_type": "code",
   "execution_count": 45,
   "metadata": {
    "id": "o7u1Z98Wahax"
   },
   "outputs": [
    {
     "name": "stdout",
     "output_type": "stream",
     "text": [
      "   Temperature  Rainfall  Wind Speed\n",
      "0         34.0      21.2         2.1\n",
      "1         31.4      10.4         3.4\n",
      "2         32.5       0.0         8.2\n",
      "3         28.9       2.0         4.1\n"
     ]
    }
   ],
   "source": [
    "# Column drop\n",
    "# For the dataframe with dropped rows or columns to maintain their dropped rows/columns, we need to reassign\n",
    "# the dropped dataframe to itself or simply assign to a new variable.\n",
    "df_dropped = df.drop(\"Wind Direction\", axis=1)\n",
    "print(df_dropped)"
   ]
  },
  {
   "cell_type": "code",
   "execution_count": 46,
   "metadata": {
    "id": "PqPYOHQGoE4w",
    "outputId": "19872aa8-7d18-41fc-9c89-5dc120d50347"
   },
   "outputs": [
    {
     "data": {
      "text/plain": [
       "0    34.0\n",
       "1    31.4\n",
       "2    32.5\n",
       "3    28.9\n",
       "Name: Temperature, dtype: float64"
      ]
     },
     "execution_count": 46,
     "metadata": {},
     "output_type": "execute_result"
    }
   ],
   "source": [
    "df[\"Temperature\"]"
   ]
  },
  {
   "cell_type": "markdown",
   "metadata": {
    "id": "oAuI7VIunuW4"
   },
   "source": [
    "## 9 . Replacing dataframe elements with a new value\n",
    "\n",
    "We can replace dataframe entries simply in Pandas. Let's give this a try."
   ]
  },
  {
   "cell_type": "code",
   "execution_count": 47,
   "metadata": {
    "id": "XarSJFd1oE4y",
    "outputId": "6b5b87be-0d52-4f4e-c7ac-9d1c5e1c849d"
   },
   "outputs": [
    {
     "data": {
      "text/html": [
       "<div>\n",
       "<style scoped>\n",
       "    .dataframe tbody tr th:only-of-type {\n",
       "        vertical-align: middle;\n",
       "    }\n",
       "\n",
       "    .dataframe tbody tr th {\n",
       "        vertical-align: top;\n",
       "    }\n",
       "\n",
       "    .dataframe thead th {\n",
       "        text-align: right;\n",
       "    }\n",
       "</style>\n",
       "<table border=\"1\" class=\"dataframe\">\n",
       "  <thead>\n",
       "    <tr style=\"text-align: right;\">\n",
       "      <th></th>\n",
       "      <th>Temperature</th>\n",
       "      <th>Rainfall</th>\n",
       "      <th>Wind Speed</th>\n",
       "      <th>Wind Direction</th>\n",
       "    </tr>\n",
       "  </thead>\n",
       "  <tbody>\n",
       "    <tr>\n",
       "      <th>0</th>\n",
       "      <td>34.0</td>\n",
       "      <td>21.2</td>\n",
       "      <td>NaN</td>\n",
       "      <td>SW</td>\n",
       "    </tr>\n",
       "    <tr>\n",
       "      <th>1</th>\n",
       "      <td>31.4</td>\n",
       "      <td>10.4</td>\n",
       "      <td>3.4</td>\n",
       "      <td>S</td>\n",
       "    </tr>\n",
       "    <tr>\n",
       "      <th>2</th>\n",
       "      <td>NaN</td>\n",
       "      <td>NaN</td>\n",
       "      <td>8.2</td>\n",
       "      <td>N</td>\n",
       "    </tr>\n",
       "    <tr>\n",
       "      <th>3</th>\n",
       "      <td>28.9</td>\n",
       "      <td>2.0</td>\n",
       "      <td>4.1</td>\n",
       "      <td>NE</td>\n",
       "    </tr>\n",
       "  </tbody>\n",
       "</table>\n",
       "</div>"
      ],
      "text/plain": [
       "   Temperature  Rainfall  Wind Speed Wind Direction\n",
       "0         34.0      21.2         NaN             SW\n",
       "1         31.4      10.4         3.4              S\n",
       "2          NaN       NaN         8.2              N\n",
       "3         28.9       2.0         4.1             NE"
      ]
     },
     "execution_count": 47,
     "metadata": {},
     "output_type": "execute_result"
    }
   ],
   "source": [
    "df = df.replace({\"Wind Speed\": 2.1, \"Rainfall\": 0, \"Temperature\": 32.5}, np.nan)\n",
    "df"
   ]
  },
  {
   "cell_type": "markdown",
   "metadata": {
    "id": "IJKgH-xjoE4z"
   },
   "source": [
    "## 10. Working with Timeseries in Pandas\n",
    "\n",
    "Items to cover:\n",
    "\n",
    "    * Time series data structures\n",
    "    * Time-based indexing\n",
    "    * Visualizing time series data using Matplotlib\n",
    "\n",
    "\n",
    "In pandas, a single point in time is represented as a Timestamp. We can use the **Pandas to_datetime()** function to create Timestamps from strings in a wide variety of date/time formats."
   ]
  },
  {
   "cell_type": "code",
   "execution_count": 48,
   "metadata": {
    "id": "wos66BovoE40",
    "outputId": "ce46fd35-953d-4848-b19d-3746374d86cc"
   },
   "outputs": [
    {
     "data": {
      "text/plain": [
       "DatetimeIndex(['2010-02-25', '2017-08-06', '2012-12-15'], dtype='datetime64[ns]', freq=None)"
      ]
     },
     "execution_count": 48,
     "metadata": {},
     "output_type": "execute_result"
    }
   ],
   "source": [
    "pd.to_datetime('12/31/2021')\n",
    "pd.to_datetime('2015-03-27 5:45pm')\n",
    "pd.to_datetime(['Jun 1, 1989','2015-03-25', '7/8/1952', '2020 03 25'])  #Passing a list of date strings\n",
    "pd.to_datetime(['2/25/10', '8/6/17', '12/15/12'], format='%m/%d/%y') #Optimization with specified date format if all have similar format.\n"
   ]
  },
  {
   "cell_type": "markdown",
   "metadata": {
    "id": "5OfCr3Lasia_"
   },
   "source": [
    "With the dateutil module, you can parse dates from a variety of string formats."
   ]
  },
  {
   "cell_type": "code",
   "execution_count": 49,
   "metadata": {
    "id": "kSK-kBGzoE40",
    "outputId": "29bb8575-be86-4e19-c649-07c6be234e88"
   },
   "outputs": [
    {
     "data": {
      "text/plain": [
       "Timestamp('2015-07-04 00:00:00')"
      ]
     },
     "execution_count": 49,
     "metadata": {},
     "output_type": "execute_result"
    }
   ],
   "source": [
    "from dateutil import parser\n",
    "\n",
    "date = parser.parse(\"4th of July, 2015\")\n",
    "pd.to_datetime(date)\n",
    "pd.to_datetime(\"4th of July, 2015\")"
   ]
  },
  {
   "cell_type": "markdown",
   "metadata": {
    "id": "IKUOh3ZAs_dM"
   },
   "source": [
    "In the next step, we will create a range of dates using Pandas date_range feature. This will come in handy for our timeseries dataframe creation.\n",
    "\n",
    "**Example:    pd.date_range('1980-01-01','2021-12-31', freq='M')**\n",
    "\n",
    "The above-specified produces a monthly timeseries spanning 1st January 1980 to 31st December 2021.\n",
    "\n",
    "\n",
    "***N/B: Without specifying the frequency, a default of daily time steps are created for the specified date range.***"
   ]
  },
  {
   "cell_type": "code",
   "execution_count": 50,
   "metadata": {
    "id": "wKBsBd8toE41"
   },
   "outputs": [
    {
     "data": {
      "text/html": [
       "<div>\n",
       "<style scoped>\n",
       "    .dataframe tbody tr th:only-of-type {\n",
       "        vertical-align: middle;\n",
       "    }\n",
       "\n",
       "    .dataframe tbody tr th {\n",
       "        vertical-align: top;\n",
       "    }\n",
       "\n",
       "    .dataframe thead th {\n",
       "        text-align: right;\n",
       "    }\n",
       "</style>\n",
       "<table border=\"1\" class=\"dataframe\">\n",
       "  <thead>\n",
       "    <tr style=\"text-align: right;\">\n",
       "      <th></th>\n",
       "      <th>Date</th>\n",
       "    </tr>\n",
       "  </thead>\n",
       "  <tbody>\n",
       "    <tr>\n",
       "      <th>0</th>\n",
       "      <td>1980-01-01</td>\n",
       "    </tr>\n",
       "    <tr>\n",
       "      <th>1</th>\n",
       "      <td>1980-01-02</td>\n",
       "    </tr>\n",
       "    <tr>\n",
       "      <th>2</th>\n",
       "      <td>1980-01-03</td>\n",
       "    </tr>\n",
       "    <tr>\n",
       "      <th>3</th>\n",
       "      <td>1980-01-04</td>\n",
       "    </tr>\n",
       "    <tr>\n",
       "      <th>4</th>\n",
       "      <td>1980-01-05</td>\n",
       "    </tr>\n",
       "    <tr>\n",
       "      <th>...</th>\n",
       "      <td>...</td>\n",
       "    </tr>\n",
       "    <tr>\n",
       "      <th>15336</th>\n",
       "      <td>2021-12-27</td>\n",
       "    </tr>\n",
       "    <tr>\n",
       "      <th>15337</th>\n",
       "      <td>2021-12-28</td>\n",
       "    </tr>\n",
       "    <tr>\n",
       "      <th>15338</th>\n",
       "      <td>2021-12-29</td>\n",
       "    </tr>\n",
       "    <tr>\n",
       "      <th>15339</th>\n",
       "      <td>2021-12-30</td>\n",
       "    </tr>\n",
       "    <tr>\n",
       "      <th>15340</th>\n",
       "      <td>2021-12-31</td>\n",
       "    </tr>\n",
       "  </tbody>\n",
       "</table>\n",
       "<p>15341 rows × 1 columns</p>\n",
       "</div>"
      ],
      "text/plain": [
       "            Date\n",
       "0     1980-01-01\n",
       "1     1980-01-02\n",
       "2     1980-01-03\n",
       "3     1980-01-04\n",
       "4     1980-01-05\n",
       "...          ...\n",
       "15336 2021-12-27\n",
       "15337 2021-12-28\n",
       "15338 2021-12-29\n",
       "15339 2021-12-30\n",
       "15340 2021-12-31\n",
       "\n",
       "[15341 rows x 1 columns]"
      ]
     },
     "execution_count": 50,
     "metadata": {},
     "output_type": "execute_result"
    }
   ],
   "source": [
    "# Default frequency is a daily frequency\n",
    "df_new = pd.DataFrame(pd.date_range(\"1980-01-01\", \"2021-12-31\"), columns=[\"Date\"])\n",
    "df_new"
   ]
  },
  {
   "cell_type": "markdown",
   "metadata": {
    "id": "QL2Dcrw3fr6k"
   },
   "source": [
    "Now, let's add some data and perform some Pandas timeseries functions"
   ]
  },
  {
   "cell_type": "code",
   "execution_count": 51,
   "metadata": {
    "id": "1u41wRs7oE42"
   },
   "outputs": [
    {
     "data": {
      "text/html": [
       "<div>\n",
       "<style scoped>\n",
       "    .dataframe tbody tr th:only-of-type {\n",
       "        vertical-align: middle;\n",
       "    }\n",
       "\n",
       "    .dataframe tbody tr th {\n",
       "        vertical-align: top;\n",
       "    }\n",
       "\n",
       "    .dataframe thead th {\n",
       "        text-align: right;\n",
       "    }\n",
       "</style>\n",
       "<table border=\"1\" class=\"dataframe\">\n",
       "  <thead>\n",
       "    <tr style=\"text-align: right;\">\n",
       "      <th></th>\n",
       "      <th>Date</th>\n",
       "      <th>Random Values</th>\n",
       "    </tr>\n",
       "  </thead>\n",
       "  <tbody>\n",
       "    <tr>\n",
       "      <th>0</th>\n",
       "      <td>1980-01-01</td>\n",
       "      <td>20.813025</td>\n",
       "    </tr>\n",
       "    <tr>\n",
       "      <th>1</th>\n",
       "      <td>1980-01-02</td>\n",
       "      <td>19.537089</td>\n",
       "    </tr>\n",
       "    <tr>\n",
       "      <th>2</th>\n",
       "      <td>1980-01-03</td>\n",
       "      <td>19.729990</td>\n",
       "    </tr>\n",
       "    <tr>\n",
       "      <th>3</th>\n",
       "      <td>1980-01-04</td>\n",
       "      <td>22.072880</td>\n",
       "    </tr>\n",
       "    <tr>\n",
       "      <th>4</th>\n",
       "      <td>1980-01-05</td>\n",
       "      <td>19.327236</td>\n",
       "    </tr>\n",
       "    <tr>\n",
       "      <th>...</th>\n",
       "      <td>...</td>\n",
       "      <td>...</td>\n",
       "    </tr>\n",
       "    <tr>\n",
       "      <th>15336</th>\n",
       "      <td>2021-12-27</td>\n",
       "      <td>22.133687</td>\n",
       "    </tr>\n",
       "    <tr>\n",
       "      <th>15337</th>\n",
       "      <td>2021-12-28</td>\n",
       "      <td>19.800626</td>\n",
       "    </tr>\n",
       "    <tr>\n",
       "      <th>15338</th>\n",
       "      <td>2021-12-29</td>\n",
       "      <td>18.898324</td>\n",
       "    </tr>\n",
       "    <tr>\n",
       "      <th>15339</th>\n",
       "      <td>2021-12-30</td>\n",
       "      <td>21.886249</td>\n",
       "    </tr>\n",
       "    <tr>\n",
       "      <th>15340</th>\n",
       "      <td>2021-12-31</td>\n",
       "      <td>20.201330</td>\n",
       "    </tr>\n",
       "  </tbody>\n",
       "</table>\n",
       "<p>15341 rows × 2 columns</p>\n",
       "</div>"
      ],
      "text/plain": [
       "            Date  Random Values\n",
       "0     1980-01-01      20.813025\n",
       "1     1980-01-02      19.537089\n",
       "2     1980-01-03      19.729990\n",
       "3     1980-01-04      22.072880\n",
       "4     1980-01-05      19.327236\n",
       "...          ...            ...\n",
       "15336 2021-12-27      22.133687\n",
       "15337 2021-12-28      19.800626\n",
       "15338 2021-12-29      18.898324\n",
       "15339 2021-12-30      21.886249\n",
       "15340 2021-12-31      20.201330\n",
       "\n",
       "[15341 rows x 2 columns]"
      ]
     },
     "execution_count": 51,
     "metadata": {},
     "output_type": "execute_result"
    }
   ],
   "source": [
    "# We add random data to a new column (Random Values) in the new dataframe (df_new)\n",
    "\n",
    "import numpy as np\n",
    "\n",
    "df_new[\"Random Values\"] = np.random.randn(len(df_new.Date)) + 20\n",
    "df_new"
   ]
  },
  {
   "cell_type": "markdown",
   "metadata": {
    "id": "HUhSe8gXvsKy"
   },
   "source": [
    "We set the date as index for easy visualization and selection"
   ]
  },
  {
   "cell_type": "code",
   "execution_count": 52,
   "metadata": {
    "id": "csAPCDy7oE42"
   },
   "outputs": [
    {
     "data": {
      "text/html": [
       "<div>\n",
       "<style scoped>\n",
       "    .dataframe tbody tr th:only-of-type {\n",
       "        vertical-align: middle;\n",
       "    }\n",
       "\n",
       "    .dataframe tbody tr th {\n",
       "        vertical-align: top;\n",
       "    }\n",
       "\n",
       "    .dataframe thead th {\n",
       "        text-align: right;\n",
       "    }\n",
       "</style>\n",
       "<table border=\"1\" class=\"dataframe\">\n",
       "  <thead>\n",
       "    <tr style=\"text-align: right;\">\n",
       "      <th></th>\n",
       "      <th>Random Values</th>\n",
       "    </tr>\n",
       "    <tr>\n",
       "      <th>Date</th>\n",
       "      <th></th>\n",
       "    </tr>\n",
       "  </thead>\n",
       "  <tbody>\n",
       "    <tr>\n",
       "      <th>1980-01-01</th>\n",
       "      <td>20.813025</td>\n",
       "    </tr>\n",
       "    <tr>\n",
       "      <th>1980-01-02</th>\n",
       "      <td>19.537089</td>\n",
       "    </tr>\n",
       "    <tr>\n",
       "      <th>1980-01-03</th>\n",
       "      <td>19.729990</td>\n",
       "    </tr>\n",
       "    <tr>\n",
       "      <th>1980-01-04</th>\n",
       "      <td>22.072880</td>\n",
       "    </tr>\n",
       "    <tr>\n",
       "      <th>1980-01-05</th>\n",
       "      <td>19.327236</td>\n",
       "    </tr>\n",
       "    <tr>\n",
       "      <th>...</th>\n",
       "      <td>...</td>\n",
       "    </tr>\n",
       "    <tr>\n",
       "      <th>2021-12-27</th>\n",
       "      <td>22.133687</td>\n",
       "    </tr>\n",
       "    <tr>\n",
       "      <th>2021-12-28</th>\n",
       "      <td>19.800626</td>\n",
       "    </tr>\n",
       "    <tr>\n",
       "      <th>2021-12-29</th>\n",
       "      <td>18.898324</td>\n",
       "    </tr>\n",
       "    <tr>\n",
       "      <th>2021-12-30</th>\n",
       "      <td>21.886249</td>\n",
       "    </tr>\n",
       "    <tr>\n",
       "      <th>2021-12-31</th>\n",
       "      <td>20.201330</td>\n",
       "    </tr>\n",
       "  </tbody>\n",
       "</table>\n",
       "<p>15341 rows × 1 columns</p>\n",
       "</div>"
      ],
      "text/plain": [
       "            Random Values\n",
       "Date                     \n",
       "1980-01-01      20.813025\n",
       "1980-01-02      19.537089\n",
       "1980-01-03      19.729990\n",
       "1980-01-04      22.072880\n",
       "1980-01-05      19.327236\n",
       "...                   ...\n",
       "2021-12-27      22.133687\n",
       "2021-12-28      19.800626\n",
       "2021-12-29      18.898324\n",
       "2021-12-30      21.886249\n",
       "2021-12-31      20.201330\n",
       "\n",
       "[15341 rows x 1 columns]"
      ]
     },
     "execution_count": 52,
     "metadata": {},
     "output_type": "execute_result"
    }
   ],
   "source": [
    "# Set Date as index for easy visualization\n",
    "# Drop pre-existing Date Column after setting as index\n",
    "df_new = df_new.set_index(df_new.Date).drop(\"Date\", axis=1)\n",
    "df_new"
   ]
  },
  {
   "cell_type": "code",
   "execution_count": 53,
   "metadata": {
    "id": "lqNLSYtroE44"
   },
   "outputs": [
    {
     "data": {
      "text/plain": [
       "Int64Index([1980, 1980, 1980, 1980, 1980, 1980, 1980, 1980, 1980, 1980,\n",
       "            ...\n",
       "            2021, 2021, 2021, 2021, 2021, 2021, 2021, 2021, 2021, 2021],\n",
       "           dtype='int64', name='Date', length=15341)"
      ]
     },
     "execution_count": 53,
     "metadata": {},
     "output_type": "execute_result"
    }
   ],
   "source": [
    "df_new.index.year  # This produces the years only of the various dates"
   ]
  },
  {
   "cell_type": "code",
   "execution_count": 54,
   "metadata": {},
   "outputs": [
    {
     "data": {
      "text/plain": [
       "Int64Index([ 1,  1,  1,  1,  1,  1,  1,  1,  1,  1,\n",
       "            ...\n",
       "            12, 12, 12, 12, 12, 12, 12, 12, 12, 12],\n",
       "           dtype='int64', name='Date', length=15341)"
      ]
     },
     "execution_count": 54,
     "metadata": {},
     "output_type": "execute_result"
    }
   ],
   "source": [
    "df_new.index.month  # This produces the months only of the various dates"
   ]
  },
  {
   "cell_type": "code",
   "execution_count": 55,
   "metadata": {
    "id": "sKeLurZNoE46"
   },
   "outputs": [
    {
     "data": {
      "text/html": [
       "<div>\n",
       "<style scoped>\n",
       "    .dataframe tbody tr th:only-of-type {\n",
       "        vertical-align: middle;\n",
       "    }\n",
       "\n",
       "    .dataframe tbody tr th {\n",
       "        vertical-align: top;\n",
       "    }\n",
       "\n",
       "    .dataframe thead th {\n",
       "        text-align: right;\n",
       "    }\n",
       "</style>\n",
       "<table border=\"1\" class=\"dataframe\">\n",
       "  <thead>\n",
       "    <tr style=\"text-align: right;\">\n",
       "      <th></th>\n",
       "      <th>Random Values</th>\n",
       "    </tr>\n",
       "    <tr>\n",
       "      <th>Date</th>\n",
       "      <th></th>\n",
       "    </tr>\n",
       "  </thead>\n",
       "  <tbody>\n",
       "    <tr>\n",
       "      <th>1994-12-02</th>\n",
       "      <td>20.648341</td>\n",
       "    </tr>\n",
       "    <tr>\n",
       "      <th>2000-05-03</th>\n",
       "      <td>20.261527</td>\n",
       "    </tr>\n",
       "    <tr>\n",
       "      <th>1980-05-24</th>\n",
       "      <td>20.801875</td>\n",
       "    </tr>\n",
       "    <tr>\n",
       "      <th>1982-09-14</th>\n",
       "      <td>20.827676</td>\n",
       "    </tr>\n",
       "    <tr>\n",
       "      <th>2020-06-15</th>\n",
       "      <td>18.966648</td>\n",
       "    </tr>\n",
       "  </tbody>\n",
       "</table>\n",
       "</div>"
      ],
      "text/plain": [
       "            Random Values\n",
       "Date                     \n",
       "1994-12-02      20.648341\n",
       "2000-05-03      20.261527\n",
       "1980-05-24      20.801875\n",
       "1982-09-14      20.827676\n",
       "2020-06-15      18.966648"
      ]
     },
     "execution_count": 55,
     "metadata": {},
     "output_type": "execute_result"
    }
   ],
   "source": [
    "# Randomly show any 5 elements fron the df_new dataframe.\n",
    "df_new.sample(5)"
   ]
  },
  {
   "cell_type": "code",
   "execution_count": 56,
   "metadata": {},
   "outputs": [
    {
     "data": {
      "text/html": [
       "<div>\n",
       "<style scoped>\n",
       "    .dataframe tbody tr th:only-of-type {\n",
       "        vertical-align: middle;\n",
       "    }\n",
       "\n",
       "    .dataframe tbody tr th {\n",
       "        vertical-align: top;\n",
       "    }\n",
       "\n",
       "    .dataframe thead th {\n",
       "        text-align: right;\n",
       "    }\n",
       "</style>\n",
       "<table border=\"1\" class=\"dataframe\">\n",
       "  <thead>\n",
       "    <tr style=\"text-align: right;\">\n",
       "      <th></th>\n",
       "      <th>Random Values</th>\n",
       "    </tr>\n",
       "    <tr>\n",
       "      <th>Date</th>\n",
       "      <th></th>\n",
       "    </tr>\n",
       "  </thead>\n",
       "  <tbody>\n",
       "    <tr>\n",
       "      <th>2005-08-01</th>\n",
       "      <td>18.570709</td>\n",
       "    </tr>\n",
       "    <tr>\n",
       "      <th>1982-09-28</th>\n",
       "      <td>18.743653</td>\n",
       "    </tr>\n",
       "    <tr>\n",
       "      <th>2000-06-19</th>\n",
       "      <td>19.181696</td>\n",
       "    </tr>\n",
       "    <tr>\n",
       "      <th>1991-05-08</th>\n",
       "      <td>19.819603</td>\n",
       "    </tr>\n",
       "    <tr>\n",
       "      <th>2000-04-06</th>\n",
       "      <td>18.902765</td>\n",
       "    </tr>\n",
       "  </tbody>\n",
       "</table>\n",
       "</div>"
      ],
      "text/plain": [
       "            Random Values\n",
       "Date                     \n",
       "2005-08-01      18.570709\n",
       "1982-09-28      18.743653\n",
       "2000-06-19      19.181696\n",
       "1991-05-08      19.819603\n",
       "2000-04-06      18.902765"
      ]
     },
     "execution_count": 56,
     "metadata": {},
     "output_type": "execute_result"
    }
   ],
   "source": [
    "df_new.sample(5, random_state=0)"
   ]
  },
  {
   "cell_type": "markdown",
   "metadata": {
    "id": "c-JwzRftlZbs"
   },
   "source": [
    "### Slicing A Timeseries\n",
    "\n",
    "Let's attempt to slice the dataframe via the time. We could slice by single or multiple date(s). "
   ]
  },
  {
   "cell_type": "code",
   "execution_count": 57,
   "metadata": {
    "id": "9pKKmi4GoE47"
   },
   "outputs": [
    {
     "data": {
      "text/html": [
       "<div>\n",
       "<style scoped>\n",
       "    .dataframe tbody tr th:only-of-type {\n",
       "        vertical-align: middle;\n",
       "    }\n",
       "\n",
       "    .dataframe tbody tr th {\n",
       "        vertical-align: top;\n",
       "    }\n",
       "\n",
       "    .dataframe thead th {\n",
       "        text-align: right;\n",
       "    }\n",
       "</style>\n",
       "<table border=\"1\" class=\"dataframe\">\n",
       "  <thead>\n",
       "    <tr style=\"text-align: right;\">\n",
       "      <th></th>\n",
       "      <th>Random Values</th>\n",
       "    </tr>\n",
       "    <tr>\n",
       "      <th>Date</th>\n",
       "      <th></th>\n",
       "    </tr>\n",
       "  </thead>\n",
       "  <tbody>\n",
       "    <tr>\n",
       "      <th>1984-01-01</th>\n",
       "      <td>20.325552</td>\n",
       "    </tr>\n",
       "    <tr>\n",
       "      <th>1984-01-02</th>\n",
       "      <td>19.757470</td>\n",
       "    </tr>\n",
       "    <tr>\n",
       "      <th>1984-01-03</th>\n",
       "      <td>20.813043</td>\n",
       "    </tr>\n",
       "    <tr>\n",
       "      <th>1984-01-04</th>\n",
       "      <td>21.033849</td>\n",
       "    </tr>\n",
       "    <tr>\n",
       "      <th>1984-01-05</th>\n",
       "      <td>22.768864</td>\n",
       "    </tr>\n",
       "    <tr>\n",
       "      <th>...</th>\n",
       "      <td>...</td>\n",
       "    </tr>\n",
       "    <tr>\n",
       "      <th>1984-12-27</th>\n",
       "      <td>20.230986</td>\n",
       "    </tr>\n",
       "    <tr>\n",
       "      <th>1984-12-28</th>\n",
       "      <td>19.232384</td>\n",
       "    </tr>\n",
       "    <tr>\n",
       "      <th>1984-12-29</th>\n",
       "      <td>19.421137</td>\n",
       "    </tr>\n",
       "    <tr>\n",
       "      <th>1984-12-30</th>\n",
       "      <td>20.167762</td>\n",
       "    </tr>\n",
       "    <tr>\n",
       "      <th>1984-12-31</th>\n",
       "      <td>21.750466</td>\n",
       "    </tr>\n",
       "  </tbody>\n",
       "</table>\n",
       "<p>366 rows × 1 columns</p>\n",
       "</div>"
      ],
      "text/plain": [
       "            Random Values\n",
       "Date                     \n",
       "1984-01-01      20.325552\n",
       "1984-01-02      19.757470\n",
       "1984-01-03      20.813043\n",
       "1984-01-04      21.033849\n",
       "1984-01-05      22.768864\n",
       "...                   ...\n",
       "1984-12-27      20.230986\n",
       "1984-12-28      19.232384\n",
       "1984-12-29      19.421137\n",
       "1984-12-30      20.167762\n",
       "1984-12-31      21.750466\n",
       "\n",
       "[366 rows x 1 columns]"
      ]
     },
     "execution_count": 57,
     "metadata": {},
     "output_type": "execute_result"
    }
   ],
   "source": [
    "# Timeseries slicing\n",
    "df_new[\"1984\"]  # Slice only 1984 data"
   ]
  },
  {
   "cell_type": "code",
   "execution_count": 58,
   "metadata": {
    "id": "HlBY4kwcbqCe"
   },
   "outputs": [
    {
     "data": {
      "text/html": [
       "<div>\n",
       "<style scoped>\n",
       "    .dataframe tbody tr th:only-of-type {\n",
       "        vertical-align: middle;\n",
       "    }\n",
       "\n",
       "    .dataframe tbody tr th {\n",
       "        vertical-align: top;\n",
       "    }\n",
       "\n",
       "    .dataframe thead th {\n",
       "        text-align: right;\n",
       "    }\n",
       "</style>\n",
       "<table border=\"1\" class=\"dataframe\">\n",
       "  <thead>\n",
       "    <tr style=\"text-align: right;\">\n",
       "      <th></th>\n",
       "      <th>Random Values</th>\n",
       "    </tr>\n",
       "    <tr>\n",
       "      <th>Date</th>\n",
       "      <th></th>\n",
       "    </tr>\n",
       "  </thead>\n",
       "  <tbody>\n",
       "    <tr>\n",
       "      <th>1984-01-01</th>\n",
       "      <td>20.325552</td>\n",
       "    </tr>\n",
       "    <tr>\n",
       "      <th>1984-01-02</th>\n",
       "      <td>19.757470</td>\n",
       "    </tr>\n",
       "    <tr>\n",
       "      <th>1984-01-03</th>\n",
       "      <td>20.813043</td>\n",
       "    </tr>\n",
       "    <tr>\n",
       "      <th>1984-01-04</th>\n",
       "      <td>21.033849</td>\n",
       "    </tr>\n",
       "    <tr>\n",
       "      <th>1984-01-05</th>\n",
       "      <td>22.768864</td>\n",
       "    </tr>\n",
       "    <tr>\n",
       "      <th>...</th>\n",
       "      <td>...</td>\n",
       "    </tr>\n",
       "    <tr>\n",
       "      <th>1989-12-27</th>\n",
       "      <td>18.070216</td>\n",
       "    </tr>\n",
       "    <tr>\n",
       "      <th>1989-12-28</th>\n",
       "      <td>19.842051</td>\n",
       "    </tr>\n",
       "    <tr>\n",
       "      <th>1989-12-29</th>\n",
       "      <td>21.339128</td>\n",
       "    </tr>\n",
       "    <tr>\n",
       "      <th>1989-12-30</th>\n",
       "      <td>20.690209</td>\n",
       "    </tr>\n",
       "    <tr>\n",
       "      <th>1989-12-31</th>\n",
       "      <td>22.594497</td>\n",
       "    </tr>\n",
       "  </tbody>\n",
       "</table>\n",
       "<p>2192 rows × 1 columns</p>\n",
       "</div>"
      ],
      "text/plain": [
       "            Random Values\n",
       "Date                     \n",
       "1984-01-01      20.325552\n",
       "1984-01-02      19.757470\n",
       "1984-01-03      20.813043\n",
       "1984-01-04      21.033849\n",
       "1984-01-05      22.768864\n",
       "...                   ...\n",
       "1989-12-27      18.070216\n",
       "1989-12-28      19.842051\n",
       "1989-12-29      21.339128\n",
       "1989-12-30      20.690209\n",
       "1989-12-31      22.594497\n",
       "\n",
       "[2192 rows x 1 columns]"
      ]
     },
     "execution_count": 58,
     "metadata": {},
     "output_type": "execute_result"
    }
   ],
   "source": [
    "df_new[\"1984\":\"1989\"]  # Slice data from 1984 to 1989"
   ]
  },
  {
   "cell_type": "markdown",
   "metadata": {
    "id": "yjE6FBQob-k3"
   },
   "source": [
    "### Visualization the Time Series\n",
    "\n",
    "We make use of Pandas default plotting tool which is built on matplotlib. A few simple examples are provided below"
   ]
  },
  {
   "cell_type": "code",
   "execution_count": 59,
   "metadata": {
    "id": "JfQqmRiVoE48"
   },
   "outputs": [
    {
     "data": {
      "text/plain": [
       "<matplotlib.axes._subplots.AxesSubplot at 0x7f9ecf96d3c8>"
      ]
     },
     "execution_count": 59,
     "metadata": {},
     "output_type": "execute_result"
    },
    {
     "data": {
      "image/png": "[encoded data removed]",
      "text/plain": [
       "<Figure size 432x288 with 1 Axes>"
      ]
     },
     "metadata": {
      "needs_background": "light"
     },
     "output_type": "display_data"
    }
   ],
   "source": [
    "df_new.plot()  # Plotting the entire data series"
   ]
  },
  {
   "cell_type": "code",
   "execution_count": 60,
   "metadata": {
    "id": "GGNcDVJ6bx-K"
   },
   "outputs": [
    {
     "data": {
      "text/plain": [
       "<matplotlib.axes._subplots.AxesSubplot at 0x7f9ecd72ab00>"
      ]
     },
     "execution_count": 60,
     "metadata": {},
     "output_type": "execute_result"
    },
    {
     "data": {
      "image/png": "[encoded data removed]",
      "text/plain": [
       "<Figure size 432x288 with 1 Axes>"
      ]
     },
     "metadata": {
      "needs_background": "light"
     },
     "output_type": "display_data"
    }
   ],
   "source": [
    "df_new[\"1984\"].plot()  # Plotting a sliced year data"
   ]
  },
  {
   "cell_type": "code",
   "execution_count": 61,
   "metadata": {
    "id": "4sSLGBYTbyFm"
   },
   "outputs": [
    {
     "data": {
      "text/plain": [
       "<matplotlib.axes._subplots.AxesSubplot at 0x7f9ecd1515f8>"
      ]
     },
     "execution_count": 61,
     "metadata": {},
     "output_type": "execute_result"
    },
    {
     "data": {
      "image/png": "[encoded data removed]",
      "text/plain": [
       "<Figure size 432x288 with 1 Axes>"
      ]
     },
     "metadata": {
      "needs_background": "light"
     },
     "output_type": "display_data"
    }
   ],
   "source": [
    "df_new[\"1984-03\"].plot()  # Plotting a sliced month data"
   ]
  },
  {
   "cell_type": "code",
   "execution_count": 62,
   "metadata": {
    "id": "7CXRSejdbyL2"
   },
   "outputs": [
    {
     "data": {
      "text/plain": [
       "<matplotlib.axes._subplots.AxesSubplot at 0x7f9ecd0e67f0>"
      ]
     },
     "execution_count": 62,
     "metadata": {},
     "output_type": "execute_result"
    },
    {
     "data": {
      "image/png": "[encoded data removed]",
      "text/plain": [
       "<Figure size 432x288 with 1 Axes>"
      ]
     },
     "metadata": {
      "needs_background": "light"
     },
     "output_type": "display_data"
    }
   ],
   "source": [
    "df_new[\"1984\":\"1989\"].plot()  # Plotting a sliced multi-year data"
   ]
  },
  {
   "cell_type": "code",
   "execution_count": 63,
   "metadata": {},
   "outputs": [
    {
     "data": {
      "text/plain": [
       "<matplotlib.axes._subplots.AxesSubplot at 0x7f9eccf38080>"
      ]
     },
     "execution_count": 63,
     "metadata": {},
     "output_type": "execute_result"
    },
    {
     "data": {
      "image/png": "[encoded data removed]",
      "text/plain": [
       "<Figure size 864x288 with 2 Axes>"
      ]
     },
     "metadata": {
      "needs_background": "light"
     },
     "output_type": "display_data"
    }
   ],
   "source": [
    "# to plot into specific axes the axes to use can be provided with the `ax` argument\n",
    "fig, axes = plt.subplots(ncols=2, figsize=(12, 4))\n",
    "df_new[:\"1989\"].plot(ax=axes[0])\n",
    "df_new[\"1989\":\"1990\"].plot(ax=axes[1])"
   ]
  },
  {
   "cell_type": "markdown",
   "metadata": {
    "id": "yx6usVDoQ0Dm"
   },
   "source": [
    "# Exercises\n",
    "\n",
    "1. Create a dataframe and populate with a multi-column data of temperature and pressure.\n",
    "\n",
    "2. Build a lambda function or a regular python function that computes the Potential Temperature based on the equation $\\theta = T(1000/p)^{0.286}$, where $T$ is temperature in Kelvin, $p$ is pressure in hPa and $\\theta$ is the potential temperature to be computed.\n",
    "\n",
    "3. Write the Potential temperature output as a new series within the created dataframe.\n",
    "\n",
    "4. Print out the first 20 rows of the new dataframe."
   ]
  },
  {
   "cell_type": "code",
   "execution_count": 64,
   "metadata": {
    "colab": {
     "background_save": true
    },
    "id": "Vo_9vSVLQxvn"
   },
   "outputs": [
    {
     "data": {
      "text/html": [
       "<div>\n",
       "<style scoped>\n",
       "    .dataframe tbody tr th:only-of-type {\n",
       "        vertical-align: middle;\n",
       "    }\n",
       "\n",
       "    .dataframe tbody tr th {\n",
       "        vertical-align: top;\n",
       "    }\n",
       "\n",
       "    .dataframe thead th {\n",
       "        text-align: right;\n",
       "    }\n",
       "</style>\n",
       "<table border=\"1\" class=\"dataframe\">\n",
       "  <thead>\n",
       "    <tr style=\"text-align: right;\">\n",
       "      <th></th>\n",
       "      <th>Temperature</th>\n",
       "      <th>Pressure</th>\n",
       "    </tr>\n",
       "  </thead>\n",
       "  <tbody>\n",
       "    <tr>\n",
       "      <th>0</th>\n",
       "      <td>30.615325</td>\n",
       "      <td>345.535334</td>\n",
       "    </tr>\n",
       "    <tr>\n",
       "      <th>1</th>\n",
       "      <td>30.525915</td>\n",
       "      <td>637.100734</td>\n",
       "    </tr>\n",
       "    <tr>\n",
       "      <th>2</th>\n",
       "      <td>30.405496</td>\n",
       "      <td>194.205643</td>\n",
       "    </tr>\n",
       "    <tr>\n",
       "      <th>3</th>\n",
       "      <td>30.466398</td>\n",
       "      <td>390.711105</td>\n",
       "    </tr>\n",
       "    <tr>\n",
       "      <th>4</th>\n",
       "      <td>30.946419</td>\n",
       "      <td>140.866389</td>\n",
       "    </tr>\n",
       "    <tr>\n",
       "      <th>...</th>\n",
       "      <td>...</td>\n",
       "      <td>...</td>\n",
       "    </tr>\n",
       "    <tr>\n",
       "      <th>95</th>\n",
       "      <td>30.672531</td>\n",
       "      <td>269.917895</td>\n",
       "    </tr>\n",
       "    <tr>\n",
       "      <th>96</th>\n",
       "      <td>30.438756</td>\n",
       "      <td>89.008632</td>\n",
       "    </tr>\n",
       "    <tr>\n",
       "      <th>97</th>\n",
       "      <td>30.952044</td>\n",
       "      <td>361.451093</td>\n",
       "    </tr>\n",
       "    <tr>\n",
       "      <th>98</th>\n",
       "      <td>30.760012</td>\n",
       "      <td>565.252639</td>\n",
       "    </tr>\n",
       "    <tr>\n",
       "      <th>99</th>\n",
       "      <td>30.623664</td>\n",
       "      <td>731.027569</td>\n",
       "    </tr>\n",
       "  </tbody>\n",
       "</table>\n",
       "<p>100 rows × 2 columns</p>\n",
       "</div>"
      ],
      "text/plain": [
       "    Temperature    Pressure\n",
       "0     30.615325  345.535334\n",
       "1     30.525915  637.100734\n",
       "2     30.405496  194.205643\n",
       "3     30.466398  390.711105\n",
       "4     30.946419  140.866389\n",
       "..          ...         ...\n",
       "95    30.672531  269.917895\n",
       "96    30.438756   89.008632\n",
       "97    30.952044  361.451093\n",
       "98    30.760012  565.252639\n",
       "99    30.623664  731.027569\n",
       "\n",
       "[100 rows x 2 columns]"
      ]
     },
     "execution_count": 64,
     "metadata": {},
     "output_type": "execute_result"
    }
   ],
   "source": [
    "import pandas as pd\n",
    "import numpy as np\n",
    "import random\n",
    "\n",
    "# Random temperature and pressure data\n",
    "data = {\n",
    "    \"Temperature\": np.random.rand(100) + 30,\n",
    "    \"Pressure\": np.random.rand(100) * 800,\n",
    "}\n",
    "\n",
    "new_df = pd.DataFrame(data, columns=list(data))\n",
    "new_df"
   ]
  },
  {
   "cell_type": "code",
   "execution_count": 65,
   "metadata": {},
   "outputs": [
    {
     "data": {
      "text/plain": [
       "303.15"
      ]
     },
     "execution_count": 65,
     "metadata": {},
     "output_type": "execute_result"
    }
   ],
   "source": [
    "potential_temp = lambda t, p: (t + 273.15) * (1000 / p) ** 0.286\n",
    "potential_temp(t=30.0, p=1000.0)"
   ]
  },
  {
   "cell_type": "code",
   "execution_count": 66,
   "metadata": {},
   "outputs": [
    {
     "data": {
      "text/html": [
       "<div>\n",
       "<style scoped>\n",
       "    .dataframe tbody tr th:only-of-type {\n",
       "        vertical-align: middle;\n",
       "    }\n",
       "\n",
       "    .dataframe tbody tr th {\n",
       "        vertical-align: top;\n",
       "    }\n",
       "\n",
       "    .dataframe thead th {\n",
       "        text-align: right;\n",
       "    }\n",
       "</style>\n",
       "<table border=\"1\" class=\"dataframe\">\n",
       "  <thead>\n",
       "    <tr style=\"text-align: right;\">\n",
       "      <th></th>\n",
       "      <th>Temperature</th>\n",
       "      <th>Pressure</th>\n",
       "      <th>Potential Temperature</th>\n",
       "    </tr>\n",
       "  </thead>\n",
       "  <tbody>\n",
       "    <tr>\n",
       "      <th>0</th>\n",
       "      <td>30.615325</td>\n",
       "      <td>345.535334</td>\n",
       "      <td>411.651168</td>\n",
       "    </tr>\n",
       "    <tr>\n",
       "      <th>1</th>\n",
       "      <td>30.525915</td>\n",
       "      <td>637.100734</td>\n",
       "      <td>345.467209</td>\n",
       "    </tr>\n",
       "    <tr>\n",
       "      <th>2</th>\n",
       "      <td>30.405496</td>\n",
       "      <td>194.205643</td>\n",
       "      <td>485.059722</td>\n",
       "    </tr>\n",
       "    <tr>\n",
       "      <th>3</th>\n",
       "      <td>30.466398</td>\n",
       "      <td>390.711105</td>\n",
       "      <td>397.241377</td>\n",
       "    </tr>\n",
       "    <tr>\n",
       "      <th>4</th>\n",
       "      <td>30.946419</td>\n",
       "      <td>140.866389</td>\n",
       "      <td>532.662832</td>\n",
       "    </tr>\n",
       "    <tr>\n",
       "      <th>...</th>\n",
       "      <td>...</td>\n",
       "      <td>...</td>\n",
       "      <td>...</td>\n",
       "    </tr>\n",
       "    <tr>\n",
       "      <th>95</th>\n",
       "      <td>30.672531</td>\n",
       "      <td>269.917895</td>\n",
       "      <td>441.863082</td>\n",
       "    </tr>\n",
       "    <tr>\n",
       "      <th>96</th>\n",
       "      <td>30.438756</td>\n",
       "      <td>89.008632</td>\n",
       "      <td>606.384503</td>\n",
       "    </tr>\n",
       "    <tr>\n",
       "      <th>97</th>\n",
       "      <td>30.952044</td>\n",
       "      <td>361.451093</td>\n",
       "      <td>406.833933</td>\n",
       "    </tr>\n",
       "    <tr>\n",
       "      <th>98</th>\n",
       "      <td>30.760012</td>\n",
       "      <td>565.252639</td>\n",
       "      <td>357.769756</td>\n",
       "    </tr>\n",
       "    <tr>\n",
       "      <th>99</th>\n",
       "      <td>30.623664</td>\n",
       "      <td>731.027569</td>\n",
       "      <td>332.250058</td>\n",
       "    </tr>\n",
       "  </tbody>\n",
       "</table>\n",
       "<p>100 rows × 3 columns</p>\n",
       "</div>"
      ],
      "text/plain": [
       "    Temperature    Pressure  Potential Temperature\n",
       "0     30.615325  345.535334             411.651168\n",
       "1     30.525915  637.100734             345.467209\n",
       "2     30.405496  194.205643             485.059722\n",
       "3     30.466398  390.711105             397.241377\n",
       "4     30.946419  140.866389             532.662832\n",
       "..          ...         ...                    ...\n",
       "95    30.672531  269.917895             441.863082\n",
       "96    30.438756   89.008632             606.384503\n",
       "97    30.952044  361.451093             406.833933\n",
       "98    30.760012  565.252639             357.769756\n",
       "99    30.623664  731.027569             332.250058\n",
       "\n",
       "[100 rows x 3 columns]"
      ]
     },
     "execution_count": 66,
     "metadata": {},
     "output_type": "execute_result"
    }
   ],
   "source": [
    "new_df[\"Potential Temperature\"] = potential_temp(\n",
    "    new_df[\"Temperature\"], new_df[\"Pressure\"]\n",
    ")\n",
    "new_df"
   ]
  },
  {
   "cell_type": "code",
   "execution_count": 67,
   "metadata": {},
   "outputs": [
    {
     "data": {
      "text/html": [
       "<div>\n",
       "<style scoped>\n",
       "    .dataframe tbody tr th:only-of-type {\n",
       "        vertical-align: middle;\n",
       "    }\n",
       "\n",
       "    .dataframe tbody tr th {\n",
       "        vertical-align: top;\n",
       "    }\n",
       "\n",
       "    .dataframe thead th {\n",
       "        text-align: right;\n",
       "    }\n",
       "</style>\n",
       "<table border=\"1\" class=\"dataframe\">\n",
       "  <thead>\n",
       "    <tr style=\"text-align: right;\">\n",
       "      <th></th>\n",
       "      <th>Temperature</th>\n",
       "      <th>Pressure</th>\n",
       "      <th>Potential Temperature</th>\n",
       "    </tr>\n",
       "  </thead>\n",
       "  <tbody>\n",
       "    <tr>\n",
       "      <th>0</th>\n",
       "      <td>30.615325</td>\n",
       "      <td>345.535334</td>\n",
       "      <td>411.651168</td>\n",
       "    </tr>\n",
       "    <tr>\n",
       "      <th>1</th>\n",
       "      <td>30.525915</td>\n",
       "      <td>637.100734</td>\n",
       "      <td>345.467209</td>\n",
       "    </tr>\n",
       "    <tr>\n",
       "      <th>2</th>\n",
       "      <td>30.405496</td>\n",
       "      <td>194.205643</td>\n",
       "      <td>485.059722</td>\n",
       "    </tr>\n",
       "    <tr>\n",
       "      <th>3</th>\n",
       "      <td>30.466398</td>\n",
       "      <td>390.711105</td>\n",
       "      <td>397.241377</td>\n",
       "    </tr>\n",
       "    <tr>\n",
       "      <th>4</th>\n",
       "      <td>30.946419</td>\n",
       "      <td>140.866389</td>\n",
       "      <td>532.662832</td>\n",
       "    </tr>\n",
       "    <tr>\n",
       "      <th>5</th>\n",
       "      <td>30.936804</td>\n",
       "      <td>5.298934</td>\n",
       "      <td>1361.067482</td>\n",
       "    </tr>\n",
       "    <tr>\n",
       "      <th>6</th>\n",
       "      <td>30.178352</td>\n",
       "      <td>263.577165</td>\n",
       "      <td>444.153798</td>\n",
       "    </tr>\n",
       "    <tr>\n",
       "      <th>7</th>\n",
       "      <td>30.785413</td>\n",
       "      <td>27.177096</td>\n",
       "      <td>852.313234</td>\n",
       "    </tr>\n",
       "    <tr>\n",
       "      <th>8</th>\n",
       "      <td>30.388144</td>\n",
       "      <td>85.595062</td>\n",
       "      <td>613.102297</td>\n",
       "    </tr>\n",
       "    <tr>\n",
       "      <th>9</th>\n",
       "      <td>30.423854</td>\n",
       "      <td>315.233667</td>\n",
       "      <td>422.333413</td>\n",
       "    </tr>\n",
       "    <tr>\n",
       "      <th>10</th>\n",
       "      <td>30.925479</td>\n",
       "      <td>152.526541</td>\n",
       "      <td>520.648485</td>\n",
       "    </tr>\n",
       "    <tr>\n",
       "      <th>11</th>\n",
       "      <td>30.723023</td>\n",
       "      <td>400.923311</td>\n",
       "      <td>394.654093</td>\n",
       "    </tr>\n",
       "    <tr>\n",
       "      <th>12</th>\n",
       "      <td>30.837171</td>\n",
       "      <td>737.546040</td>\n",
       "      <td>331.640501</td>\n",
       "    </tr>\n",
       "    <tr>\n",
       "      <th>13</th>\n",
       "      <td>30.672509</td>\n",
       "      <td>153.232729</td>\n",
       "      <td>519.528536</td>\n",
       "    </tr>\n",
       "    <tr>\n",
       "      <th>14</th>\n",
       "      <td>30.698809</td>\n",
       "      <td>174.262283</td>\n",
       "      <td>500.810431</td>\n",
       "    </tr>\n",
       "    <tr>\n",
       "      <th>15</th>\n",
       "      <td>30.793645</td>\n",
       "      <td>787.347570</td>\n",
       "      <td>325.453878</td>\n",
       "    </tr>\n",
       "    <tr>\n",
       "      <th>16</th>\n",
       "      <td>30.210021</td>\n",
       "      <td>15.280279</td>\n",
       "      <td>1002.990453</td>\n",
       "    </tr>\n",
       "    <tr>\n",
       "      <th>17</th>\n",
       "      <td>30.970043</td>\n",
       "      <td>699.555659</td>\n",
       "      <td>336.841717</td>\n",
       "    </tr>\n",
       "    <tr>\n",
       "      <th>18</th>\n",
       "      <td>30.980785</td>\n",
       "      <td>325.575197</td>\n",
       "      <td>419.220110</td>\n",
       "    </tr>\n",
       "    <tr>\n",
       "      <th>19</th>\n",
       "      <td>30.150572</td>\n",
       "      <td>285.928027</td>\n",
       "      <td>433.894160</td>\n",
       "    </tr>\n",
       "  </tbody>\n",
       "</table>\n",
       "</div>"
      ],
      "text/plain": [
       "    Temperature    Pressure  Potential Temperature\n",
       "0     30.615325  345.535334             411.651168\n",
       "1     30.525915  637.100734             345.467209\n",
       "2     30.405496  194.205643             485.059722\n",
       "3     30.466398  390.711105             397.241377\n",
       "4     30.946419  140.866389             532.662832\n",
       "5     30.936804    5.298934            1361.067482\n",
       "6     30.178352  263.577165             444.153798\n",
       "7     30.785413   27.177096             852.313234\n",
       "8     30.388144   85.595062             613.102297\n",
       "9     30.423854  315.233667             422.333413\n",
       "10    30.925479  152.526541             520.648485\n",
       "11    30.723023  400.923311             394.654093\n",
       "12    30.837171  737.546040             331.640501\n",
       "13    30.672509  153.232729             519.528536\n",
       "14    30.698809  174.262283             500.810431\n",
       "15    30.793645  787.347570             325.453878\n",
       "16    30.210021   15.280279            1002.990453\n",
       "17    30.970043  699.555659             336.841717\n",
       "18    30.980785  325.575197             419.220110\n",
       "19    30.150572  285.928027             433.894160"
      ]
     },
     "execution_count": 67,
     "metadata": {},
     "output_type": "execute_result"
    }
   ],
   "source": [
    "new_df.head(20)"
   ]
  },
  {
   "cell_type": "markdown",
   "metadata": {
    "id": "ncg7vgAwoE4-"
   },
   "source": [
    "Part 2 will focus on working with a spreadsheet (Excel Document). Let's keep fingers crossed :)"
   ]
  }
 ],
 "metadata": {
  "colab": {
   "collapsed_sections": [],
   "name": "Pandas_Lecture1.ipynb",
   "provenance": []
  },
  "kernelspec": {
   "display_name": "Python 3",
   "language": "python",
   "name": "python3"
  },
  "language_info": {
   "codemirror_mode": {
    "name": "ipython",
    "version": 3
   },
   "file_extension": ".py",
   "mimetype": "text/x-python",
   "name": "python",
   "nbconvert_exporter": "python",
   "pygments_lexer": "ipython3",
   "version": "3.6.10"
  }
 },
 "nbformat": 4,
 "nbformat_minor": 1
}
