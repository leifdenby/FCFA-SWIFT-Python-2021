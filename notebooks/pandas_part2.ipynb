{
 "cells": [
  {
   "cell_type": "markdown",
   "metadata": {
    "id": "9gyYqXxn3Fgj"
   },
   "source": [
    "# pandas with Excel files and seaborn\n",
    "\n",
    "In this session, you will be working with data contained in a spreadsheet. The file, named `Test_RR_TnTx_data.xlsx` contains three (3) separate sheets of Rainfall, Minimum Temperature and Maximum Temperature from the Ghana Meteorological Agency (GMet). The data is an *in situ* observation with a short term temporal span intended for the Python education. Kindly note that the acquired data must serve only the educational purpose intended.\n",
    "\n",
    "We'll also be seeing how to use `seaborn` to produce useful plots for studying correlations and relationships in the observations. And we'll be using the `pymannkendall` package which implements the Mann-Kendall method for finding trends in the observations.\n",
    "\n",
    "**Objectives** \n",
    "\n",
    "The following objectives are outlined for this lesson. Participants, at the end of the lesson should have adequate knowledge in the following:\n",
    "\n",
    "1.\tLoading data from an excel spreadsheet using Pandas, and some basic pandas features/ functionalities.\n",
    "2.\tWorking with timeseries data\n",
    "3.\tStacking Data using a defined function\n",
    "4.\tData slicing, Groupby, etc\n",
    "5.\tSimple Computations and Data Description (sum, mean, percentiles)\n",
    "6.\tMoving Averages / Rolling Windows\n",
    "7.\tQuantifying trends\n",
    "8.\tExtreme Indices (Rnnmm, percentile differences)\n",
    "9.\tVisualization with seaborn\n",
    "\n",
    "\n",
    "\n",
    "***Let's start by importing relevant packages.***"
   ]
  },
  {
   "cell_type": "code",
   "execution_count": 1,
   "metadata": {},
   "outputs": [
    {
     "data": {
      "application/javascript": [
       "\n",
       "            setTimeout(function() {\n",
       "                var nbb_cell_id = 1;\n",
       "                var nbb_unformatted_code = \"%load_ext nb_black\";\n",
       "                var nbb_formatted_code = \"%load_ext nb_black\";\n",
       "                var nbb_cells = Jupyter.notebook.get_cells();\n",
       "                for (var i = 0; i < nbb_cells.length; ++i) {\n",
       "                    if (nbb_cells[i].input_prompt_number == nbb_cell_id) {\n",
       "                        if (nbb_cells[i].get_text() == nbb_unformatted_code) {\n",
       "                             nbb_cells[i].set_text(nbb_formatted_code);\n",
       "                        }\n",
       "                        break;\n",
       "                    }\n",
       "                }\n",
       "            }, 500);\n",
       "            "
      ],
      "text/plain": [
       "<IPython.core.display.Javascript object>"
      ]
     },
     "metadata": {},
     "output_type": "display_data"
    }
   ],
   "source": [
    "%load_ext nb_black"
   ]
  },
  {
   "cell_type": "code",
   "execution_count": 2,
   "metadata": {
    "id": "j4l1G20As4P4"
   },
   "outputs": [
    {
     "data": {
      "application/javascript": [
       "\n",
       "            setTimeout(function() {\n",
       "                var nbb_cell_id = 2;\n",
       "                var nbb_unformatted_code = \"import pandas as pd\\nimport numpy as np\\nimport matplotlib.pyplot as plt\\nimport seaborn as sb  # Useful for artistic and more scientific data visualization\\nimport pymannkendall as mk  # Useful Python package for identifying Mann-Kendall trends in a dataset.\\nimport calendar  # We need the calendar package to generate certain calendar properties\\nfrom datetime import datetime\\nfrom dateutil import parser\\nfrom pathlib import Path\";\n",
       "                var nbb_formatted_code = \"import pandas as pd\\nimport numpy as np\\nimport matplotlib.pyplot as plt\\nimport seaborn as sb  # Useful for artistic and more scientific data visualization\\nimport pymannkendall as mk  # Useful Python package for identifying Mann-Kendall trends in a dataset.\\nimport calendar  # We need the calendar package to generate certain calendar properties\\nfrom datetime import datetime\\nfrom dateutil import parser\\nfrom pathlib import Path\";\n",
       "                var nbb_cells = Jupyter.notebook.get_cells();\n",
       "                for (var i = 0; i < nbb_cells.length; ++i) {\n",
       "                    if (nbb_cells[i].input_prompt_number == nbb_cell_id) {\n",
       "                        if (nbb_cells[i].get_text() == nbb_unformatted_code) {\n",
       "                             nbb_cells[i].set_text(nbb_formatted_code);\n",
       "                        }\n",
       "                        break;\n",
       "                    }\n",
       "                }\n",
       "            }, 500);\n",
       "            "
      ],
      "text/plain": [
       "<IPython.core.display.Javascript object>"
      ]
     },
     "metadata": {},
     "output_type": "display_data"
    }
   ],
   "source": [
    "import pandas as pd\n",
    "import numpy as np\n",
    "import matplotlib.pyplot as plt\n",
    "import seaborn as sb  # Useful for artistic and more scientific data visualization\n",
    "import pymannkendall as mk  # Useful Python package for identifying Mann-Kendall trends in a dataset.\n",
    "import calendar  # We need the calendar package to generate certain calendar properties\n",
    "from datetime import datetime\n",
    "from dateutil import parser\n",
    "from pathlib import Path"
   ]
  },
  {
   "cell_type": "code",
   "execution_count": 3,
   "metadata": {},
   "outputs": [
    {
     "data": {
      "application/javascript": [
       "\n",
       "            setTimeout(function() {\n",
       "                var nbb_cell_id = 3;\n",
       "                var nbb_unformatted_code = \"data_path = Path(\\\"../data\\\")\";\n",
       "                var nbb_formatted_code = \"data_path = Path(\\\"../data\\\")\";\n",
       "                var nbb_cells = Jupyter.notebook.get_cells();\n",
       "                for (var i = 0; i < nbb_cells.length; ++i) {\n",
       "                    if (nbb_cells[i].input_prompt_number == nbb_cell_id) {\n",
       "                        if (nbb_cells[i].get_text() == nbb_unformatted_code) {\n",
       "                             nbb_cells[i].set_text(nbb_formatted_code);\n",
       "                        }\n",
       "                        break;\n",
       "                    }\n",
       "                }\n",
       "            }, 500);\n",
       "            "
      ],
      "text/plain": [
       "<IPython.core.display.Javascript object>"
      ]
     },
     "metadata": {},
     "output_type": "display_data"
    }
   ],
   "source": [
    "data_path = Path(\"../data\")"
   ]
  },
  {
   "cell_type": "markdown",
   "metadata": {
    "id": "f1OT4VGi83h2"
   },
   "source": [
    "## 1. Loading data from `.xlsx` Excel spreadsheet file\n",
    "\n",
    "We'll now read in the rainfall and temperature data from different sheets in a single `.xslx` Excel spreadsheet file. This is done with the `pd.read_excel` function."
   ]
  },
  {
   "cell_type": "markdown",
   "metadata": {},
   "source": [
    "Note: the `xlrd` package (which `pandas` used to use for reading `.xslx`-files) [recently removed support for `.xslx`-files](https://stackoverflow.com/a/65266270/271776)). Fortunately `pandas` can use `openpyxl` instead, but unless you pandas version `>=1.2.0` you will have to tell `pandas` to use `openpyxl` using the `engine='openpyxl'` argument when opening a file (as we do below)."
   ]
  },
  {
   "cell_type": "markdown",
   "metadata": {},
   "source": [
    "Sheet **RR** contains Daily Rainfall Totals, sheet **Tn** contains Daily Minimum Temperature and **Tx** contains the Daily Maximum Temperature data."
   ]
  },
  {
   "cell_type": "code",
   "execution_count": 4,
   "metadata": {
    "id": "iG_yA2u6s4P6"
   },
   "outputs": [
    {
     "data": {
      "application/javascript": [
       "\n",
       "            setTimeout(function() {\n",
       "                var nbb_cell_id = 4;\n",
       "                var nbb_unformatted_code = \"filepath_spreadsheet = data_path / \\\"Test_RR_TnTx_data.xlsx\\\"\\n# Rainfall\\ndf_RR = pd.read_excel(filepath_spreadsheet, sheet_name=\\\"RR\\\", engine=\\\"openpyxl\\\")\\n# Minimum Temperature\\ndf_TN = pd.read_excel(filepath_spreadsheet, sheet_name=\\\"Tn\\\", engine=\\\"openpyxl\\\")\\n# Maximum Temperature\\ndf_TX = pd.read_excel(filepath_spreadsheet, sheet_name=\\\"Tx\\\", engine=\\\"openpyxl\\\")\";\n",
       "                var nbb_formatted_code = \"filepath_spreadsheet = data_path / \\\"Test_RR_TnTx_data.xlsx\\\"\\n# Rainfall\\ndf_RR = pd.read_excel(filepath_spreadsheet, sheet_name=\\\"RR\\\", engine=\\\"openpyxl\\\")\\n# Minimum Temperature\\ndf_TN = pd.read_excel(filepath_spreadsheet, sheet_name=\\\"Tn\\\", engine=\\\"openpyxl\\\")\\n# Maximum Temperature\\ndf_TX = pd.read_excel(filepath_spreadsheet, sheet_name=\\\"Tx\\\", engine=\\\"openpyxl\\\")\";\n",
       "                var nbb_cells = Jupyter.notebook.get_cells();\n",
       "                for (var i = 0; i < nbb_cells.length; ++i) {\n",
       "                    if (nbb_cells[i].input_prompt_number == nbb_cell_id) {\n",
       "                        if (nbb_cells[i].get_text() == nbb_unformatted_code) {\n",
       "                             nbb_cells[i].set_text(nbb_formatted_code);\n",
       "                        }\n",
       "                        break;\n",
       "                    }\n",
       "                }\n",
       "            }, 500);\n",
       "            "
      ],
      "text/plain": [
       "<IPython.core.display.Javascript object>"
      ]
     },
     "metadata": {},
     "output_type": "display_data"
    }
   ],
   "source": [
    "filepath_spreadsheet = data_path / \"Test_RR_TnTx_data.xlsx\"\n",
    "# Rainfall\n",
    "df_RR = pd.read_excel(filepath_spreadsheet, sheet_name=\"RR\", engine=\"openpyxl\")\n",
    "# Minimum Temperature\n",
    "df_TN = pd.read_excel(filepath_spreadsheet, sheet_name=\"Tn\", engine=\"openpyxl\")\n",
    "# Maximum Temperature\n",
    "df_TX = pd.read_excel(filepath_spreadsheet, sheet_name=\"Tx\", engine=\"openpyxl\")"
   ]
  },
  {
   "cell_type": "markdown",
   "metadata": {},
   "source": [
    "In each sheet, the data is stored as:\n",
    "\n",
    "- **Column A :** the Station Name (for 3 stations, namely: Tamale, Kumasi and Tema).\n",
    "- **Column B :** abbreviation of parameter of interest (eg. RR for rainfall)\n",
    "- **Column C :** Year of observation\n",
    "- **Column D :** Month of observation\n",
    "- **Columns E to AI :** Daily Data (Day 1 to maximum days in the month. Eg. Columns E to AI on the second rows contains data for 1st to 31st January 2010)\n",
    "\n",
    "The first row contains the headers of each column and `pandas` uses this to set the column names"
   ]
  },
  {
   "cell_type": "markdown",
   "metadata": {},
   "source": [
    "Let's have a look at the first few rows of the loaded rainfall data"
   ]
  },
  {
   "cell_type": "code",
   "execution_count": 5,
   "metadata": {
    "id": "BCUjKYORs4P7"
   },
   "outputs": [
    {
     "data": {
      "text/html": [
       "<div>\n",
       "<style scoped>\n",
       "    .dataframe tbody tr th:only-of-type {\n",
       "        vertical-align: middle;\n",
       "    }\n",
       "\n",
       "    .dataframe tbody tr th {\n",
       "        vertical-align: top;\n",
       "    }\n",
       "\n",
       "    .dataframe thead th {\n",
       "        text-align: right;\n",
       "    }\n",
       "</style>\n",
       "<table border=\"1\" class=\"dataframe\">\n",
       "  <thead>\n",
       "    <tr style=\"text-align: right;\">\n",
       "      <th></th>\n",
       "      <th>Name</th>\n",
       "      <th>Eg El Abbreviation</th>\n",
       "      <th>Year</th>\n",
       "      <th>Month</th>\n",
       "      <th>Val01</th>\n",
       "      <th>Val02</th>\n",
       "      <th>Val03</th>\n",
       "      <th>Val04</th>\n",
       "      <th>Val05</th>\n",
       "      <th>Val06</th>\n",
       "      <th>...</th>\n",
       "      <th>Val22</th>\n",
       "      <th>Val23</th>\n",
       "      <th>Val24</th>\n",
       "      <th>Val25</th>\n",
       "      <th>Val26</th>\n",
       "      <th>Val27</th>\n",
       "      <th>Val28</th>\n",
       "      <th>Val29</th>\n",
       "      <th>Val30</th>\n",
       "      <th>Val31</th>\n",
       "    </tr>\n",
       "  </thead>\n",
       "  <tbody>\n",
       "    <tr>\n",
       "      <th>0</th>\n",
       "      <td>Tamale</td>\n",
       "      <td>RR</td>\n",
       "      <td>2010</td>\n",
       "      <td>1</td>\n",
       "      <td>0.0</td>\n",
       "      <td>0.0</td>\n",
       "      <td>0.0</td>\n",
       "      <td>0.0</td>\n",
       "      <td>0.0</td>\n",
       "      <td>0.0</td>\n",
       "      <td>...</td>\n",
       "      <td>0.0</td>\n",
       "      <td>0.0</td>\n",
       "      <td>0.0</td>\n",
       "      <td>0.0</td>\n",
       "      <td>0.0</td>\n",
       "      <td>0.0</td>\n",
       "      <td>0.0</td>\n",
       "      <td>0.0</td>\n",
       "      <td>0.0</td>\n",
       "      <td>0.0</td>\n",
       "    </tr>\n",
       "    <tr>\n",
       "      <th>1</th>\n",
       "      <td>Tamale</td>\n",
       "      <td>RR</td>\n",
       "      <td>2010</td>\n",
       "      <td>2</td>\n",
       "      <td>0.0</td>\n",
       "      <td>0.0</td>\n",
       "      <td>0.0</td>\n",
       "      <td>0.0</td>\n",
       "      <td>0.0</td>\n",
       "      <td>0.0</td>\n",
       "      <td>...</td>\n",
       "      <td>0.0</td>\n",
       "      <td>0.0</td>\n",
       "      <td>0.0</td>\n",
       "      <td>0.0</td>\n",
       "      <td>0.0</td>\n",
       "      <td>0.0</td>\n",
       "      <td>0.0</td>\n",
       "      <td>NaN</td>\n",
       "      <td>NaN</td>\n",
       "      <td>NaN</td>\n",
       "    </tr>\n",
       "    <tr>\n",
       "      <th>2</th>\n",
       "      <td>Tamale</td>\n",
       "      <td>RR</td>\n",
       "      <td>2010</td>\n",
       "      <td>3</td>\n",
       "      <td>0.0</td>\n",
       "      <td>0.0</td>\n",
       "      <td>0.0</td>\n",
       "      <td>0.0</td>\n",
       "      <td>0.0</td>\n",
       "      <td>0.0</td>\n",
       "      <td>...</td>\n",
       "      <td>0.0</td>\n",
       "      <td>0.0</td>\n",
       "      <td>0.0</td>\n",
       "      <td>0.0</td>\n",
       "      <td>0.0</td>\n",
       "      <td>0.0</td>\n",
       "      <td>0.0</td>\n",
       "      <td>0.0</td>\n",
       "      <td>0.0</td>\n",
       "      <td>0.0</td>\n",
       "    </tr>\n",
       "    <tr>\n",
       "      <th>3</th>\n",
       "      <td>Tamale</td>\n",
       "      <td>RR</td>\n",
       "      <td>2010</td>\n",
       "      <td>4</td>\n",
       "      <td>0.0</td>\n",
       "      <td>0.0</td>\n",
       "      <td>0.0</td>\n",
       "      <td>0.0</td>\n",
       "      <td>0.9</td>\n",
       "      <td>0.0</td>\n",
       "      <td>...</td>\n",
       "      <td>89.1</td>\n",
       "      <td>0.0</td>\n",
       "      <td>0.0</td>\n",
       "      <td>0.0</td>\n",
       "      <td>73.3</td>\n",
       "      <td>1.5</td>\n",
       "      <td>0.0</td>\n",
       "      <td>0.0</td>\n",
       "      <td>0.0</td>\n",
       "      <td>NaN</td>\n",
       "    </tr>\n",
       "    <tr>\n",
       "      <th>4</th>\n",
       "      <td>Tamale</td>\n",
       "      <td>RR</td>\n",
       "      <td>2010</td>\n",
       "      <td>5</td>\n",
       "      <td>0.0</td>\n",
       "      <td>0.0</td>\n",
       "      <td>0.0</td>\n",
       "      <td>0.0</td>\n",
       "      <td>1.0</td>\n",
       "      <td>0.0</td>\n",
       "      <td>...</td>\n",
       "      <td>0.0</td>\n",
       "      <td>0.5</td>\n",
       "      <td>0.0</td>\n",
       "      <td>0.0</td>\n",
       "      <td>0.0</td>\n",
       "      <td>0.0</td>\n",
       "      <td>0.0</td>\n",
       "      <td>4.5</td>\n",
       "      <td>0.0</td>\n",
       "      <td>0.6</td>\n",
       "    </tr>\n",
       "  </tbody>\n",
       "</table>\n",
       "<p>5 rows × 35 columns</p>\n",
       "</div>"
      ],
      "text/plain": [
       "     Name Eg El Abbreviation  Year  Month  Val01  Val02  Val03  Val04  Val05  \\\n",
       "0  Tamale                 RR  2010      1    0.0    0.0    0.0    0.0    0.0   \n",
       "1  Tamale                 RR  2010      2    0.0    0.0    0.0    0.0    0.0   \n",
       "2  Tamale                 RR  2010      3    0.0    0.0    0.0    0.0    0.0   \n",
       "3  Tamale                 RR  2010      4    0.0    0.0    0.0    0.0    0.9   \n",
       "4  Tamale                 RR  2010      5    0.0    0.0    0.0    0.0    1.0   \n",
       "\n",
       "   Val06  ...  Val22  Val23  Val24  Val25  Val26  Val27  Val28  Val29  Val30  \\\n",
       "0    0.0  ...    0.0    0.0    0.0    0.0    0.0    0.0    0.0    0.0    0.0   \n",
       "1    0.0  ...    0.0    0.0    0.0    0.0    0.0    0.0    0.0    NaN    NaN   \n",
       "2    0.0  ...    0.0    0.0    0.0    0.0    0.0    0.0    0.0    0.0    0.0   \n",
       "3    0.0  ...   89.1    0.0    0.0    0.0   73.3    1.5    0.0    0.0    0.0   \n",
       "4    0.0  ...    0.0    0.5    0.0    0.0    0.0    0.0    0.0    4.5    0.0   \n",
       "\n",
       "   Val31  \n",
       "0    0.0  \n",
       "1    NaN  \n",
       "2    0.0  \n",
       "3    NaN  \n",
       "4    0.6  \n",
       "\n",
       "[5 rows x 35 columns]"
      ]
     },
     "execution_count": 5,
     "metadata": {},
     "output_type": "execute_result"
    },
    {
     "data": {
      "application/javascript": [
       "\n",
       "            setTimeout(function() {\n",
       "                var nbb_cell_id = 5;\n",
       "                var nbb_unformatted_code = \"df_RR.head()\";\n",
       "                var nbb_formatted_code = \"df_RR.head()\";\n",
       "                var nbb_cells = Jupyter.notebook.get_cells();\n",
       "                for (var i = 0; i < nbb_cells.length; ++i) {\n",
       "                    if (nbb_cells[i].input_prompt_number == nbb_cell_id) {\n",
       "                        if (nbb_cells[i].get_text() == nbb_unformatted_code) {\n",
       "                             nbb_cells[i].set_text(nbb_formatted_code);\n",
       "                        }\n",
       "                        break;\n",
       "                    }\n",
       "                }\n",
       "            }, 500);\n",
       "            "
      ],
      "text/plain": [
       "<IPython.core.display.Javascript object>"
      ]
     },
     "metadata": {},
     "output_type": "display_data"
    }
   ],
   "source": [
    "df_RR.head()"
   ]
  },
  {
   "cell_type": "markdown",
   "metadata": {},
   "source": [
    "We want to turn this tabular data from this \"wide\"-format, where each row contains more than one value to one where there is only one value per row. I.e. we want to reshape this table from one where each row contains each data for a each individual day in a given month and year, to one where one row only contains the rain for a single year, month and day.\n",
    "\n",
    "For this operation (which is the opposite to creating a \"pivot\" on the data) we can use pandas's [DataFrame.melt](https://pandas.pydata.org/pandas-docs/stable/reference/api/pandas.DataFrame.melt.html) method. In it we provide which columns contain the \"id\" of a data-value (i.e. which columns are label for the data) and the rest are then assumed to be columns containing data (which columns to use for data can explicitly be given with the `value_vars` variable):"
   ]
  },
  {
   "cell_type": "code",
   "execution_count": 6,
   "metadata": {},
   "outputs": [
    {
     "data": {
      "text/html": [
       "<div>\n",
       "<style scoped>\n",
       "    .dataframe tbody tr th:only-of-type {\n",
       "        vertical-align: middle;\n",
       "    }\n",
       "\n",
       "    .dataframe tbody tr th {\n",
       "        vertical-align: top;\n",
       "    }\n",
       "\n",
       "    .dataframe thead th {\n",
       "        text-align: right;\n",
       "    }\n",
       "</style>\n",
       "<table border=\"1\" class=\"dataframe\">\n",
       "  <thead>\n",
       "    <tr style=\"text-align: right;\">\n",
       "      <th></th>\n",
       "      <th>Name</th>\n",
       "      <th>Eg El Abbreviation</th>\n",
       "      <th>Year</th>\n",
       "      <th>Month</th>\n",
       "      <th>variable</th>\n",
       "      <th>value</th>\n",
       "    </tr>\n",
       "  </thead>\n",
       "  <tbody>\n",
       "    <tr>\n",
       "      <th>0</th>\n",
       "      <td>Tamale</td>\n",
       "      <td>RR</td>\n",
       "      <td>2010</td>\n",
       "      <td>1</td>\n",
       "      <td>Val01</td>\n",
       "      <td>0.0</td>\n",
       "    </tr>\n",
       "    <tr>\n",
       "      <th>1</th>\n",
       "      <td>Tamale</td>\n",
       "      <td>RR</td>\n",
       "      <td>2010</td>\n",
       "      <td>2</td>\n",
       "      <td>Val01</td>\n",
       "      <td>0.0</td>\n",
       "    </tr>\n",
       "    <tr>\n",
       "      <th>2</th>\n",
       "      <td>Tamale</td>\n",
       "      <td>RR</td>\n",
       "      <td>2010</td>\n",
       "      <td>3</td>\n",
       "      <td>Val01</td>\n",
       "      <td>0.0</td>\n",
       "    </tr>\n",
       "    <tr>\n",
       "      <th>3</th>\n",
       "      <td>Tamale</td>\n",
       "      <td>RR</td>\n",
       "      <td>2010</td>\n",
       "      <td>4</td>\n",
       "      <td>Val01</td>\n",
       "      <td>0.0</td>\n",
       "    </tr>\n",
       "    <tr>\n",
       "      <th>4</th>\n",
       "      <td>Tamale</td>\n",
       "      <td>RR</td>\n",
       "      <td>2010</td>\n",
       "      <td>5</td>\n",
       "      <td>Val01</td>\n",
       "      <td>0.0</td>\n",
       "    </tr>\n",
       "    <tr>\n",
       "      <th>...</th>\n",
       "      <td>...</td>\n",
       "      <td>...</td>\n",
       "      <td>...</td>\n",
       "      <td>...</td>\n",
       "      <td>...</td>\n",
       "      <td>...</td>\n",
       "    </tr>\n",
       "    <tr>\n",
       "      <th>4459</th>\n",
       "      <td>Tema</td>\n",
       "      <td>RR</td>\n",
       "      <td>2013</td>\n",
       "      <td>8</td>\n",
       "      <td>Val31</td>\n",
       "      <td>0.0</td>\n",
       "    </tr>\n",
       "    <tr>\n",
       "      <th>4460</th>\n",
       "      <td>Tema</td>\n",
       "      <td>RR</td>\n",
       "      <td>2013</td>\n",
       "      <td>9</td>\n",
       "      <td>Val31</td>\n",
       "      <td>NaN</td>\n",
       "    </tr>\n",
       "    <tr>\n",
       "      <th>4461</th>\n",
       "      <td>Tema</td>\n",
       "      <td>RR</td>\n",
       "      <td>2013</td>\n",
       "      <td>10</td>\n",
       "      <td>Val31</td>\n",
       "      <td>0.0</td>\n",
       "    </tr>\n",
       "    <tr>\n",
       "      <th>4462</th>\n",
       "      <td>Tema</td>\n",
       "      <td>RR</td>\n",
       "      <td>2013</td>\n",
       "      <td>11</td>\n",
       "      <td>Val31</td>\n",
       "      <td>NaN</td>\n",
       "    </tr>\n",
       "    <tr>\n",
       "      <th>4463</th>\n",
       "      <td>Tema</td>\n",
       "      <td>RR</td>\n",
       "      <td>2013</td>\n",
       "      <td>12</td>\n",
       "      <td>Val31</td>\n",
       "      <td>0.0</td>\n",
       "    </tr>\n",
       "  </tbody>\n",
       "</table>\n",
       "<p>4464 rows × 6 columns</p>\n",
       "</div>"
      ],
      "text/plain": [
       "        Name Eg El Abbreviation  Year  Month variable  value\n",
       "0     Tamale                 RR  2010      1    Val01    0.0\n",
       "1     Tamale                 RR  2010      2    Val01    0.0\n",
       "2     Tamale                 RR  2010      3    Val01    0.0\n",
       "3     Tamale                 RR  2010      4    Val01    0.0\n",
       "4     Tamale                 RR  2010      5    Val01    0.0\n",
       "...      ...                ...   ...    ...      ...    ...\n",
       "4459    Tema                 RR  2013      8    Val31    0.0\n",
       "4460    Tema                 RR  2013      9    Val31    NaN\n",
       "4461    Tema                 RR  2013     10    Val31    0.0\n",
       "4462    Tema                 RR  2013     11    Val31    NaN\n",
       "4463    Tema                 RR  2013     12    Val31    0.0\n",
       "\n",
       "[4464 rows x 6 columns]"
      ]
     },
     "execution_count": 6,
     "metadata": {},
     "output_type": "execute_result"
    },
    {
     "data": {
      "application/javascript": [
       "\n",
       "            setTimeout(function() {\n",
       "                var nbb_cell_id = 6;\n",
       "                var nbb_unformatted_code = \"df_RR.melt(\\n    id_vars=[\\n        \\\"Name\\\",\\n        \\\"Eg El Abbreviation\\\",\\n        \\\"Year\\\",\\n        \\\"Month\\\",\\n    ],\\n)\";\n",
       "                var nbb_formatted_code = \"df_RR.melt(\\n    id_vars=[\\n        \\\"Name\\\",\\n        \\\"Eg El Abbreviation\\\",\\n        \\\"Year\\\",\\n        \\\"Month\\\",\\n    ],\\n)\";\n",
       "                var nbb_cells = Jupyter.notebook.get_cells();\n",
       "                for (var i = 0; i < nbb_cells.length; ++i) {\n",
       "                    if (nbb_cells[i].input_prompt_number == nbb_cell_id) {\n",
       "                        if (nbb_cells[i].get_text() == nbb_unformatted_code) {\n",
       "                             nbb_cells[i].set_text(nbb_formatted_code);\n",
       "                        }\n",
       "                        break;\n",
       "                    }\n",
       "                }\n",
       "            }, 500);\n",
       "            "
      ],
      "text/plain": [
       "<IPython.core.display.Javascript object>"
      ]
     },
     "metadata": {},
     "output_type": "display_data"
    }
   ],
   "source": [
    "df_RR.melt(\n",
    "    id_vars=[\n",
    "        \"Name\",\n",
    "        \"Eg El Abbreviation\",\n",
    "        \"Year\",\n",
    "        \"Month\",\n",
    "    ],\n",
    ")"
   ]
  },
  {
   "cell_type": "markdown",
   "metadata": {},
   "source": [
    "This is almost here, though we would prefer to have the actual day of the month rather than `Val01`, `Val02` etc. To achieve this we just need to rename the columns before we apply the `.melt` operation. We can also tell pandas what we want the column that contains these labels to be called, we'll make that `Day`"
   ]
  },
  {
   "cell_type": "code",
   "execution_count": 8,
   "metadata": {},
   "outputs": [
    {
     "data": {
      "text/html": [
       "<div>\n",
       "<style scoped>\n",
       "    .dataframe tbody tr th:only-of-type {\n",
       "        vertical-align: middle;\n",
       "    }\n",
       "\n",
       "    .dataframe tbody tr th {\n",
       "        vertical-align: top;\n",
       "    }\n",
       "\n",
       "    .dataframe thead th {\n",
       "        text-align: right;\n",
       "    }\n",
       "</style>\n",
       "<table border=\"1\" class=\"dataframe\">\n",
       "  <thead>\n",
       "    <tr style=\"text-align: right;\">\n",
       "      <th></th>\n",
       "      <th>Name</th>\n",
       "      <th>Eg El Abbreviation</th>\n",
       "      <th>Year</th>\n",
       "      <th>Month</th>\n",
       "      <th>1</th>\n",
       "      <th>2</th>\n",
       "      <th>3</th>\n",
       "      <th>4</th>\n",
       "      <th>5</th>\n",
       "      <th>6</th>\n",
       "      <th>...</th>\n",
       "      <th>22</th>\n",
       "      <th>23</th>\n",
       "      <th>24</th>\n",
       "      <th>25</th>\n",
       "      <th>26</th>\n",
       "      <th>27</th>\n",
       "      <th>28</th>\n",
       "      <th>29</th>\n",
       "      <th>30</th>\n",
       "      <th>31</th>\n",
       "    </tr>\n",
       "  </thead>\n",
       "  <tbody>\n",
       "    <tr>\n",
       "      <th>0</th>\n",
       "      <td>Tamale</td>\n",
       "      <td>RR</td>\n",
       "      <td>2010</td>\n",
       "      <td>1</td>\n",
       "      <td>0.0</td>\n",
       "      <td>0.0</td>\n",
       "      <td>0.0</td>\n",
       "      <td>0.0</td>\n",
       "      <td>0.0</td>\n",
       "      <td>0.0</td>\n",
       "      <td>...</td>\n",
       "      <td>0.0</td>\n",
       "      <td>0.0</td>\n",
       "      <td>0.0</td>\n",
       "      <td>0.0</td>\n",
       "      <td>0.0</td>\n",
       "      <td>0.0</td>\n",
       "      <td>0.0</td>\n",
       "      <td>0.0</td>\n",
       "      <td>0.0</td>\n",
       "      <td>0.0</td>\n",
       "    </tr>\n",
       "    <tr>\n",
       "      <th>1</th>\n",
       "      <td>Tamale</td>\n",
       "      <td>RR</td>\n",
       "      <td>2010</td>\n",
       "      <td>2</td>\n",
       "      <td>0.0</td>\n",
       "      <td>0.0</td>\n",
       "      <td>0.0</td>\n",
       "      <td>0.0</td>\n",
       "      <td>0.0</td>\n",
       "      <td>0.0</td>\n",
       "      <td>...</td>\n",
       "      <td>0.0</td>\n",
       "      <td>0.0</td>\n",
       "      <td>0.0</td>\n",
       "      <td>0.0</td>\n",
       "      <td>0.0</td>\n",
       "      <td>0.0</td>\n",
       "      <td>0.0</td>\n",
       "      <td>NaN</td>\n",
       "      <td>NaN</td>\n",
       "      <td>NaN</td>\n",
       "    </tr>\n",
       "    <tr>\n",
       "      <th>2</th>\n",
       "      <td>Tamale</td>\n",
       "      <td>RR</td>\n",
       "      <td>2010</td>\n",
       "      <td>3</td>\n",
       "      <td>0.0</td>\n",
       "      <td>0.0</td>\n",
       "      <td>0.0</td>\n",
       "      <td>0.0</td>\n",
       "      <td>0.0</td>\n",
       "      <td>0.0</td>\n",
       "      <td>...</td>\n",
       "      <td>0.0</td>\n",
       "      <td>0.0</td>\n",
       "      <td>0.0</td>\n",
       "      <td>0.0</td>\n",
       "      <td>0.0</td>\n",
       "      <td>0.0</td>\n",
       "      <td>0.0</td>\n",
       "      <td>0.0</td>\n",
       "      <td>0.0</td>\n",
       "      <td>0.0</td>\n",
       "    </tr>\n",
       "    <tr>\n",
       "      <th>3</th>\n",
       "      <td>Tamale</td>\n",
       "      <td>RR</td>\n",
       "      <td>2010</td>\n",
       "      <td>4</td>\n",
       "      <td>0.0</td>\n",
       "      <td>0.0</td>\n",
       "      <td>0.0</td>\n",
       "      <td>0.0</td>\n",
       "      <td>0.9</td>\n",
       "      <td>0.0</td>\n",
       "      <td>...</td>\n",
       "      <td>89.1</td>\n",
       "      <td>0.0</td>\n",
       "      <td>0.0</td>\n",
       "      <td>0.0</td>\n",
       "      <td>73.3</td>\n",
       "      <td>1.5</td>\n",
       "      <td>0.0</td>\n",
       "      <td>0.0</td>\n",
       "      <td>0.0</td>\n",
       "      <td>NaN</td>\n",
       "    </tr>\n",
       "    <tr>\n",
       "      <th>4</th>\n",
       "      <td>Tamale</td>\n",
       "      <td>RR</td>\n",
       "      <td>2010</td>\n",
       "      <td>5</td>\n",
       "      <td>0.0</td>\n",
       "      <td>0.0</td>\n",
       "      <td>0.0</td>\n",
       "      <td>0.0</td>\n",
       "      <td>1.0</td>\n",
       "      <td>0.0</td>\n",
       "      <td>...</td>\n",
       "      <td>0.0</td>\n",
       "      <td>0.5</td>\n",
       "      <td>0.0</td>\n",
       "      <td>0.0</td>\n",
       "      <td>0.0</td>\n",
       "      <td>0.0</td>\n",
       "      <td>0.0</td>\n",
       "      <td>4.5</td>\n",
       "      <td>0.0</td>\n",
       "      <td>0.6</td>\n",
       "    </tr>\n",
       "    <tr>\n",
       "      <th>...</th>\n",
       "      <td>...</td>\n",
       "      <td>...</td>\n",
       "      <td>...</td>\n",
       "      <td>...</td>\n",
       "      <td>...</td>\n",
       "      <td>...</td>\n",
       "      <td>...</td>\n",
       "      <td>...</td>\n",
       "      <td>...</td>\n",
       "      <td>...</td>\n",
       "      <td>...</td>\n",
       "      <td>...</td>\n",
       "      <td>...</td>\n",
       "      <td>...</td>\n",
       "      <td>...</td>\n",
       "      <td>...</td>\n",
       "      <td>...</td>\n",
       "      <td>...</td>\n",
       "      <td>...</td>\n",
       "      <td>...</td>\n",
       "      <td>...</td>\n",
       "    </tr>\n",
       "    <tr>\n",
       "      <th>139</th>\n",
       "      <td>Tema</td>\n",
       "      <td>RR</td>\n",
       "      <td>2013</td>\n",
       "      <td>8</td>\n",
       "      <td>0.0</td>\n",
       "      <td>0.0</td>\n",
       "      <td>0.0</td>\n",
       "      <td>0.0</td>\n",
       "      <td>0.0</td>\n",
       "      <td>0.3</td>\n",
       "      <td>...</td>\n",
       "      <td>0.0</td>\n",
       "      <td>0.0</td>\n",
       "      <td>0.0</td>\n",
       "      <td>0.0</td>\n",
       "      <td>0.0</td>\n",
       "      <td>0.0</td>\n",
       "      <td>0.0</td>\n",
       "      <td>0.0</td>\n",
       "      <td>0.0</td>\n",
       "      <td>0.0</td>\n",
       "    </tr>\n",
       "    <tr>\n",
       "      <th>140</th>\n",
       "      <td>Tema</td>\n",
       "      <td>RR</td>\n",
       "      <td>2013</td>\n",
       "      <td>9</td>\n",
       "      <td>0.1</td>\n",
       "      <td>0.0</td>\n",
       "      <td>0.0</td>\n",
       "      <td>0.0</td>\n",
       "      <td>6.5</td>\n",
       "      <td>0.0</td>\n",
       "      <td>...</td>\n",
       "      <td>0.0</td>\n",
       "      <td>7.3</td>\n",
       "      <td>3.0</td>\n",
       "      <td>0.0</td>\n",
       "      <td>0.0</td>\n",
       "      <td>0.0</td>\n",
       "      <td>0.0</td>\n",
       "      <td>0.0</td>\n",
       "      <td>0.0</td>\n",
       "      <td>NaN</td>\n",
       "    </tr>\n",
       "    <tr>\n",
       "      <th>141</th>\n",
       "      <td>Tema</td>\n",
       "      <td>RR</td>\n",
       "      <td>2013</td>\n",
       "      <td>10</td>\n",
       "      <td>0.0</td>\n",
       "      <td>0.0</td>\n",
       "      <td>0.5</td>\n",
       "      <td>0.0</td>\n",
       "      <td>0.0</td>\n",
       "      <td>0.0</td>\n",
       "      <td>...</td>\n",
       "      <td>0.0</td>\n",
       "      <td>0.0</td>\n",
       "      <td>0.0</td>\n",
       "      <td>0.0</td>\n",
       "      <td>0.0</td>\n",
       "      <td>0.0</td>\n",
       "      <td>0.0</td>\n",
       "      <td>0.0</td>\n",
       "      <td>0.0</td>\n",
       "      <td>0.0</td>\n",
       "    </tr>\n",
       "    <tr>\n",
       "      <th>142</th>\n",
       "      <td>Tema</td>\n",
       "      <td>RR</td>\n",
       "      <td>2013</td>\n",
       "      <td>11</td>\n",
       "      <td>0.0</td>\n",
       "      <td>0.0</td>\n",
       "      <td>0.0</td>\n",
       "      <td>0.0</td>\n",
       "      <td>0.0</td>\n",
       "      <td>0.0</td>\n",
       "      <td>...</td>\n",
       "      <td>0.0</td>\n",
       "      <td>5.8</td>\n",
       "      <td>0.0</td>\n",
       "      <td>4.9</td>\n",
       "      <td>0.0</td>\n",
       "      <td>0.0</td>\n",
       "      <td>0.0</td>\n",
       "      <td>0.0</td>\n",
       "      <td>9.9</td>\n",
       "      <td>NaN</td>\n",
       "    </tr>\n",
       "    <tr>\n",
       "      <th>143</th>\n",
       "      <td>Tema</td>\n",
       "      <td>RR</td>\n",
       "      <td>2013</td>\n",
       "      <td>12</td>\n",
       "      <td>0.0</td>\n",
       "      <td>0.0</td>\n",
       "      <td>0.4</td>\n",
       "      <td>10.2</td>\n",
       "      <td>0.0</td>\n",
       "      <td>0.0</td>\n",
       "      <td>...</td>\n",
       "      <td>0.0</td>\n",
       "      <td>0.0</td>\n",
       "      <td>0.0</td>\n",
       "      <td>0.0</td>\n",
       "      <td>0.0</td>\n",
       "      <td>0.0</td>\n",
       "      <td>0.0</td>\n",
       "      <td>0.0</td>\n",
       "      <td>24.8</td>\n",
       "      <td>0.0</td>\n",
       "    </tr>\n",
       "  </tbody>\n",
       "</table>\n",
       "<p>144 rows × 35 columns</p>\n",
       "</div>"
      ],
      "text/plain": [
       "       Name Eg El Abbreviation  Year  Month    1    2    3     4    5    6  \\\n",
       "0    Tamale                 RR  2010      1  0.0  0.0  0.0   0.0  0.0  0.0   \n",
       "1    Tamale                 RR  2010      2  0.0  0.0  0.0   0.0  0.0  0.0   \n",
       "2    Tamale                 RR  2010      3  0.0  0.0  0.0   0.0  0.0  0.0   \n",
       "3    Tamale                 RR  2010      4  0.0  0.0  0.0   0.0  0.9  0.0   \n",
       "4    Tamale                 RR  2010      5  0.0  0.0  0.0   0.0  1.0  0.0   \n",
       "..      ...                ...   ...    ...  ...  ...  ...   ...  ...  ...   \n",
       "139    Tema                 RR  2013      8  0.0  0.0  0.0   0.0  0.0  0.3   \n",
       "140    Tema                 RR  2013      9  0.1  0.0  0.0   0.0  6.5  0.0   \n",
       "141    Tema                 RR  2013     10  0.0  0.0  0.5   0.0  0.0  0.0   \n",
       "142    Tema                 RR  2013     11  0.0  0.0  0.0   0.0  0.0  0.0   \n",
       "143    Tema                 RR  2013     12  0.0  0.0  0.4  10.2  0.0  0.0   \n",
       "\n",
       "     ...    22   23   24   25    26   27   28   29    30   31  \n",
       "0    ...   0.0  0.0  0.0  0.0   0.0  0.0  0.0  0.0   0.0  0.0  \n",
       "1    ...   0.0  0.0  0.0  0.0   0.0  0.0  0.0  NaN   NaN  NaN  \n",
       "2    ...   0.0  0.0  0.0  0.0   0.0  0.0  0.0  0.0   0.0  0.0  \n",
       "3    ...  89.1  0.0  0.0  0.0  73.3  1.5  0.0  0.0   0.0  NaN  \n",
       "4    ...   0.0  0.5  0.0  0.0   0.0  0.0  0.0  4.5   0.0  0.6  \n",
       "..   ...   ...  ...  ...  ...   ...  ...  ...  ...   ...  ...  \n",
       "139  ...   0.0  0.0  0.0  0.0   0.0  0.0  0.0  0.0   0.0  0.0  \n",
       "140  ...   0.0  7.3  3.0  0.0   0.0  0.0  0.0  0.0   0.0  NaN  \n",
       "141  ...   0.0  0.0  0.0  0.0   0.0  0.0  0.0  0.0   0.0  0.0  \n",
       "142  ...   0.0  5.8  0.0  4.9   0.0  0.0  0.0  0.0   9.9  NaN  \n",
       "143  ...   0.0  0.0  0.0  0.0   0.0  0.0  0.0  0.0  24.8  0.0  \n",
       "\n",
       "[144 rows x 35 columns]"
      ]
     },
     "execution_count": 8,
     "metadata": {},
     "output_type": "execute_result"
    },
    {
     "data": {
      "application/javascript": [
       "\n",
       "            setTimeout(function() {\n",
       "                var nbb_cell_id = 8;\n",
       "                var nbb_unformatted_code = \"df_RR.columns.values[4:] = [f\\\"{n}\\\" for n in range(1, 32)]\\ndf_RR\";\n",
       "                var nbb_formatted_code = \"df_RR.columns.values[4:] = [f\\\"{n}\\\" for n in range(1, 32)]\\ndf_RR\";\n",
       "                var nbb_cells = Jupyter.notebook.get_cells();\n",
       "                for (var i = 0; i < nbb_cells.length; ++i) {\n",
       "                    if (nbb_cells[i].input_prompt_number == nbb_cell_id) {\n",
       "                        if (nbb_cells[i].get_text() == nbb_unformatted_code) {\n",
       "                             nbb_cells[i].set_text(nbb_formatted_code);\n",
       "                        }\n",
       "                        break;\n",
       "                    }\n",
       "                }\n",
       "            }, 500);\n",
       "            "
      ],
      "text/plain": [
       "<IPython.core.display.Javascript object>"
      ]
     },
     "metadata": {},
     "output_type": "display_data"
    }
   ],
   "source": [
    "df_RR.columns.values[4:] = [f\"{n}\" for n in range(1, 32)]\n",
    "df_RR"
   ]
  },
  {
   "cell_type": "markdown",
   "metadata": {},
   "source": [
    "We now call `.melt` again, and specify what we want the column to be caled"
   ]
  },
  {
   "cell_type": "code",
   "execution_count": 12,
   "metadata": {},
   "outputs": [
    {
     "data": {
      "text/html": [
       "<div>\n",
       "<style scoped>\n",
       "    .dataframe tbody tr th:only-of-type {\n",
       "        vertical-align: middle;\n",
       "    }\n",
       "\n",
       "    .dataframe tbody tr th {\n",
       "        vertical-align: top;\n",
       "    }\n",
       "\n",
       "    .dataframe thead th {\n",
       "        text-align: right;\n",
       "    }\n",
       "</style>\n",
       "<table border=\"1\" class=\"dataframe\">\n",
       "  <thead>\n",
       "    <tr style=\"text-align: right;\">\n",
       "      <th></th>\n",
       "      <th>Name</th>\n",
       "      <th>Eg El Abbreviation</th>\n",
       "      <th>Year</th>\n",
       "      <th>Month</th>\n",
       "      <th>Day</th>\n",
       "      <th>value</th>\n",
       "    </tr>\n",
       "  </thead>\n",
       "  <tbody>\n",
       "    <tr>\n",
       "      <th>0</th>\n",
       "      <td>Tamale</td>\n",
       "      <td>RR</td>\n",
       "      <td>2010</td>\n",
       "      <td>1</td>\n",
       "      <td>1</td>\n",
       "      <td>0.0</td>\n",
       "    </tr>\n",
       "    <tr>\n",
       "      <th>1</th>\n",
       "      <td>Tamale</td>\n",
       "      <td>RR</td>\n",
       "      <td>2010</td>\n",
       "      <td>2</td>\n",
       "      <td>1</td>\n",
       "      <td>0.0</td>\n",
       "    </tr>\n",
       "    <tr>\n",
       "      <th>2</th>\n",
       "      <td>Tamale</td>\n",
       "      <td>RR</td>\n",
       "      <td>2010</td>\n",
       "      <td>3</td>\n",
       "      <td>1</td>\n",
       "      <td>0.0</td>\n",
       "    </tr>\n",
       "    <tr>\n",
       "      <th>3</th>\n",
       "      <td>Tamale</td>\n",
       "      <td>RR</td>\n",
       "      <td>2010</td>\n",
       "      <td>4</td>\n",
       "      <td>1</td>\n",
       "      <td>0.0</td>\n",
       "    </tr>\n",
       "    <tr>\n",
       "      <th>4</th>\n",
       "      <td>Tamale</td>\n",
       "      <td>RR</td>\n",
       "      <td>2010</td>\n",
       "      <td>5</td>\n",
       "      <td>1</td>\n",
       "      <td>0.0</td>\n",
       "    </tr>\n",
       "    <tr>\n",
       "      <th>...</th>\n",
       "      <td>...</td>\n",
       "      <td>...</td>\n",
       "      <td>...</td>\n",
       "      <td>...</td>\n",
       "      <td>...</td>\n",
       "      <td>...</td>\n",
       "    </tr>\n",
       "    <tr>\n",
       "      <th>4459</th>\n",
       "      <td>Tema</td>\n",
       "      <td>RR</td>\n",
       "      <td>2013</td>\n",
       "      <td>8</td>\n",
       "      <td>31</td>\n",
       "      <td>0.0</td>\n",
       "    </tr>\n",
       "    <tr>\n",
       "      <th>4460</th>\n",
       "      <td>Tema</td>\n",
       "      <td>RR</td>\n",
       "      <td>2013</td>\n",
       "      <td>9</td>\n",
       "      <td>31</td>\n",
       "      <td>NaN</td>\n",
       "    </tr>\n",
       "    <tr>\n",
       "      <th>4461</th>\n",
       "      <td>Tema</td>\n",
       "      <td>RR</td>\n",
       "      <td>2013</td>\n",
       "      <td>10</td>\n",
       "      <td>31</td>\n",
       "      <td>0.0</td>\n",
       "    </tr>\n",
       "    <tr>\n",
       "      <th>4462</th>\n",
       "      <td>Tema</td>\n",
       "      <td>RR</td>\n",
       "      <td>2013</td>\n",
       "      <td>11</td>\n",
       "      <td>31</td>\n",
       "      <td>NaN</td>\n",
       "    </tr>\n",
       "    <tr>\n",
       "      <th>4463</th>\n",
       "      <td>Tema</td>\n",
       "      <td>RR</td>\n",
       "      <td>2013</td>\n",
       "      <td>12</td>\n",
       "      <td>31</td>\n",
       "      <td>0.0</td>\n",
       "    </tr>\n",
       "  </tbody>\n",
       "</table>\n",
       "<p>4464 rows × 6 columns</p>\n",
       "</div>"
      ],
      "text/plain": [
       "        Name Eg El Abbreviation  Year  Month Day  value\n",
       "0     Tamale                 RR  2010      1   1    0.0\n",
       "1     Tamale                 RR  2010      2   1    0.0\n",
       "2     Tamale                 RR  2010      3   1    0.0\n",
       "3     Tamale                 RR  2010      4   1    0.0\n",
       "4     Tamale                 RR  2010      5   1    0.0\n",
       "...      ...                ...   ...    ...  ..    ...\n",
       "4459    Tema                 RR  2013      8  31    0.0\n",
       "4460    Tema                 RR  2013      9  31    NaN\n",
       "4461    Tema                 RR  2013     10  31    0.0\n",
       "4462    Tema                 RR  2013     11  31    NaN\n",
       "4463    Tema                 RR  2013     12  31    0.0\n",
       "\n",
       "[4464 rows x 6 columns]"
      ]
     },
     "execution_count": 12,
     "metadata": {},
     "output_type": "execute_result"
    },
    {
     "data": {
      "application/javascript": [
       "\n",
       "            setTimeout(function() {\n",
       "                var nbb_cell_id = 12;\n",
       "                var nbb_unformatted_code = \"df_RR.melt(\\n    id_vars=[\\n        \\\"Name\\\",\\n        \\\"Eg El Abbreviation\\\",\\n        \\\"Year\\\",\\n        \\\"Month\\\",\\n    ],\\n    var_name=\\\"Day\\\",\\n)\";\n",
       "                var nbb_formatted_code = \"df_RR.melt(\\n    id_vars=[\\n        \\\"Name\\\",\\n        \\\"Eg El Abbreviation\\\",\\n        \\\"Year\\\",\\n        \\\"Month\\\",\\n    ],\\n    var_name=\\\"Day\\\",\\n)\";\n",
       "                var nbb_cells = Jupyter.notebook.get_cells();\n",
       "                for (var i = 0; i < nbb_cells.length; ++i) {\n",
       "                    if (nbb_cells[i].input_prompt_number == nbb_cell_id) {\n",
       "                        if (nbb_cells[i].get_text() == nbb_unformatted_code) {\n",
       "                             nbb_cells[i].set_text(nbb_formatted_code);\n",
       "                        }\n",
       "                        break;\n",
       "                    }\n",
       "                }\n",
       "            }, 500);\n",
       "            "
      ],
      "text/plain": [
       "<IPython.core.display.Javascript object>"
      ]
     },
     "metadata": {},
     "output_type": "display_data"
    }
   ],
   "source": [
    "df_RR.melt(\n",
    "    id_vars=[\n",
    "        \"Name\",\n",
    "        \"Eg El Abbreviation\",\n",
    "        \"Year\",\n",
    "        \"Month\",\n",
    "    ],\n",
    "    var_name=\"Day\",\n",
    ")"
   ]
  },
  {
   "cell_type": "markdown",
   "metadata": {},
   "source": [
    "Finally we'd like to have the full date defined in a single column instead of having the components of the date split into three different columns. To achieve this we'll make a function which takes a row of the existing dataframe and returns the value for the combined date. We can then apply this function row-by-row to produce a new `pd.DataSeries` which we can add as a new column to the dataframe"
   ]
  },
  {
   "cell_type": "code",
   "execution_count": 13,
   "metadata": {},
   "outputs": [
    {
     "data": {
      "application/javascript": [
       "\n",
       "            setTimeout(function() {\n",
       "                var nbb_cell_id = 13;\n",
       "                var nbb_unformatted_code = \"# TODO create _compute_date function\";\n",
       "                var nbb_formatted_code = \"# TODO create _compute_date function\";\n",
       "                var nbb_cells = Jupyter.notebook.get_cells();\n",
       "                for (var i = 0; i < nbb_cells.length; ++i) {\n",
       "                    if (nbb_cells[i].input_prompt_number == nbb_cell_id) {\n",
       "                        if (nbb_cells[i].get_text() == nbb_unformatted_code) {\n",
       "                             nbb_cells[i].set_text(nbb_formatted_code);\n",
       "                        }\n",
       "                        break;\n",
       "                    }\n",
       "                }\n",
       "            }, 500);\n",
       "            "
      ],
      "text/plain": [
       "<IPython.core.display.Javascript object>"
      ]
     },
     "metadata": {},
     "output_type": "display_data"
    }
   ],
   "source": [
    "# TODO create _compute_date function\n",
    "\n"
   ]
  },
  {
   "cell_type": "code",
   "execution_count": null,
   "metadata": {},
   "outputs": [],
   "source": []
  },
  {
   "cell_type": "code",
   "execution_count": null,
   "metadata": {},
   "outputs": [],
   "source": []
  },
  {
   "cell_type": "code",
   "execution_count": 18,
   "metadata": {},
   "outputs": [
    {
     "data": {
      "text/html": [
       "<div>\n",
       "<style scoped>\n",
       "    .dataframe tbody tr th:only-of-type {\n",
       "        vertical-align: middle;\n",
       "    }\n",
       "\n",
       "    .dataframe tbody tr th {\n",
       "        vertical-align: top;\n",
       "    }\n",
       "\n",
       "    .dataframe thead th {\n",
       "        text-align: right;\n",
       "    }\n",
       "</style>\n",
       "<table border=\"1\" class=\"dataframe\">\n",
       "  <thead>\n",
       "    <tr style=\"text-align: right;\">\n",
       "      <th></th>\n",
       "      <th>Name</th>\n",
       "      <th>Eg El Abbreviation</th>\n",
       "      <th>Year</th>\n",
       "      <th>Month</th>\n",
       "      <th>1</th>\n",
       "      <th>2</th>\n",
       "      <th>3</th>\n",
       "      <th>4</th>\n",
       "      <th>5</th>\n",
       "      <th>6</th>\n",
       "      <th>...</th>\n",
       "      <th>22</th>\n",
       "      <th>23</th>\n",
       "      <th>24</th>\n",
       "      <th>25</th>\n",
       "      <th>26</th>\n",
       "      <th>27</th>\n",
       "      <th>28</th>\n",
       "      <th>29</th>\n",
       "      <th>30</th>\n",
       "      <th>31</th>\n",
       "    </tr>\n",
       "  </thead>\n",
       "  <tbody>\n",
       "    <tr>\n",
       "      <th>0</th>\n",
       "      <td>Tamale</td>\n",
       "      <td>RR</td>\n",
       "      <td>2010</td>\n",
       "      <td>1</td>\n",
       "      <td>0.0</td>\n",
       "      <td>0.0</td>\n",
       "      <td>0.0</td>\n",
       "      <td>0.0</td>\n",
       "      <td>0.0</td>\n",
       "      <td>0.0</td>\n",
       "      <td>...</td>\n",
       "      <td>0.0</td>\n",
       "      <td>0.0</td>\n",
       "      <td>0.0</td>\n",
       "      <td>0.0</td>\n",
       "      <td>0.0</td>\n",
       "      <td>0.0</td>\n",
       "      <td>0.0</td>\n",
       "      <td>0.0</td>\n",
       "      <td>0.0</td>\n",
       "      <td>0.0</td>\n",
       "    </tr>\n",
       "    <tr>\n",
       "      <th>1</th>\n",
       "      <td>Tamale</td>\n",
       "      <td>RR</td>\n",
       "      <td>2010</td>\n",
       "      <td>2</td>\n",
       "      <td>0.0</td>\n",
       "      <td>0.0</td>\n",
       "      <td>0.0</td>\n",
       "      <td>0.0</td>\n",
       "      <td>0.0</td>\n",
       "      <td>0.0</td>\n",
       "      <td>...</td>\n",
       "      <td>0.0</td>\n",
       "      <td>0.0</td>\n",
       "      <td>0.0</td>\n",
       "      <td>0.0</td>\n",
       "      <td>0.0</td>\n",
       "      <td>0.0</td>\n",
       "      <td>0.0</td>\n",
       "      <td>NaN</td>\n",
       "      <td>NaN</td>\n",
       "      <td>NaN</td>\n",
       "    </tr>\n",
       "    <tr>\n",
       "      <th>2</th>\n",
       "      <td>Tamale</td>\n",
       "      <td>RR</td>\n",
       "      <td>2010</td>\n",
       "      <td>3</td>\n",
       "      <td>0.0</td>\n",
       "      <td>0.0</td>\n",
       "      <td>0.0</td>\n",
       "      <td>0.0</td>\n",
       "      <td>0.0</td>\n",
       "      <td>0.0</td>\n",
       "      <td>...</td>\n",
       "      <td>0.0</td>\n",
       "      <td>0.0</td>\n",
       "      <td>0.0</td>\n",
       "      <td>0.0</td>\n",
       "      <td>0.0</td>\n",
       "      <td>0.0</td>\n",
       "      <td>0.0</td>\n",
       "      <td>0.0</td>\n",
       "      <td>0.0</td>\n",
       "      <td>0.0</td>\n",
       "    </tr>\n",
       "    <tr>\n",
       "      <th>3</th>\n",
       "      <td>Tamale</td>\n",
       "      <td>RR</td>\n",
       "      <td>2010</td>\n",
       "      <td>4</td>\n",
       "      <td>0.0</td>\n",
       "      <td>0.0</td>\n",
       "      <td>0.0</td>\n",
       "      <td>0.0</td>\n",
       "      <td>0.9</td>\n",
       "      <td>0.0</td>\n",
       "      <td>...</td>\n",
       "      <td>89.1</td>\n",
       "      <td>0.0</td>\n",
       "      <td>0.0</td>\n",
       "      <td>0.0</td>\n",
       "      <td>73.3</td>\n",
       "      <td>1.5</td>\n",
       "      <td>0.0</td>\n",
       "      <td>0.0</td>\n",
       "      <td>0.0</td>\n",
       "      <td>NaN</td>\n",
       "    </tr>\n",
       "    <tr>\n",
       "      <th>4</th>\n",
       "      <td>Tamale</td>\n",
       "      <td>RR</td>\n",
       "      <td>2010</td>\n",
       "      <td>5</td>\n",
       "      <td>0.0</td>\n",
       "      <td>0.0</td>\n",
       "      <td>0.0</td>\n",
       "      <td>0.0</td>\n",
       "      <td>1.0</td>\n",
       "      <td>0.0</td>\n",
       "      <td>...</td>\n",
       "      <td>0.0</td>\n",
       "      <td>0.5</td>\n",
       "      <td>0.0</td>\n",
       "      <td>0.0</td>\n",
       "      <td>0.0</td>\n",
       "      <td>0.0</td>\n",
       "      <td>0.0</td>\n",
       "      <td>4.5</td>\n",
       "      <td>0.0</td>\n",
       "      <td>0.6</td>\n",
       "    </tr>\n",
       "    <tr>\n",
       "      <th>...</th>\n",
       "      <td>...</td>\n",
       "      <td>...</td>\n",
       "      <td>...</td>\n",
       "      <td>...</td>\n",
       "      <td>...</td>\n",
       "      <td>...</td>\n",
       "      <td>...</td>\n",
       "      <td>...</td>\n",
       "      <td>...</td>\n",
       "      <td>...</td>\n",
       "      <td>...</td>\n",
       "      <td>...</td>\n",
       "      <td>...</td>\n",
       "      <td>...</td>\n",
       "      <td>...</td>\n",
       "      <td>...</td>\n",
       "      <td>...</td>\n",
       "      <td>...</td>\n",
       "      <td>...</td>\n",
       "      <td>...</td>\n",
       "      <td>...</td>\n",
       "    </tr>\n",
       "    <tr>\n",
       "      <th>139</th>\n",
       "      <td>Tema</td>\n",
       "      <td>RR</td>\n",
       "      <td>2013</td>\n",
       "      <td>8</td>\n",
       "      <td>0.0</td>\n",
       "      <td>0.0</td>\n",
       "      <td>0.0</td>\n",
       "      <td>0.0</td>\n",
       "      <td>0.0</td>\n",
       "      <td>0.3</td>\n",
       "      <td>...</td>\n",
       "      <td>0.0</td>\n",
       "      <td>0.0</td>\n",
       "      <td>0.0</td>\n",
       "      <td>0.0</td>\n",
       "      <td>0.0</td>\n",
       "      <td>0.0</td>\n",
       "      <td>0.0</td>\n",
       "      <td>0.0</td>\n",
       "      <td>0.0</td>\n",
       "      <td>0.0</td>\n",
       "    </tr>\n",
       "    <tr>\n",
       "      <th>140</th>\n",
       "      <td>Tema</td>\n",
       "      <td>RR</td>\n",
       "      <td>2013</td>\n",
       "      <td>9</td>\n",
       "      <td>0.1</td>\n",
       "      <td>0.0</td>\n",
       "      <td>0.0</td>\n",
       "      <td>0.0</td>\n",
       "      <td>6.5</td>\n",
       "      <td>0.0</td>\n",
       "      <td>...</td>\n",
       "      <td>0.0</td>\n",
       "      <td>7.3</td>\n",
       "      <td>3.0</td>\n",
       "      <td>0.0</td>\n",
       "      <td>0.0</td>\n",
       "      <td>0.0</td>\n",
       "      <td>0.0</td>\n",
       "      <td>0.0</td>\n",
       "      <td>0.0</td>\n",
       "      <td>NaN</td>\n",
       "    </tr>\n",
       "    <tr>\n",
       "      <th>141</th>\n",
       "      <td>Tema</td>\n",
       "      <td>RR</td>\n",
       "      <td>2013</td>\n",
       "      <td>10</td>\n",
       "      <td>0.0</td>\n",
       "      <td>0.0</td>\n",
       "      <td>0.5</td>\n",
       "      <td>0.0</td>\n",
       "      <td>0.0</td>\n",
       "      <td>0.0</td>\n",
       "      <td>...</td>\n",
       "      <td>0.0</td>\n",
       "      <td>0.0</td>\n",
       "      <td>0.0</td>\n",
       "      <td>0.0</td>\n",
       "      <td>0.0</td>\n",
       "      <td>0.0</td>\n",
       "      <td>0.0</td>\n",
       "      <td>0.0</td>\n",
       "      <td>0.0</td>\n",
       "      <td>0.0</td>\n",
       "    </tr>\n",
       "    <tr>\n",
       "      <th>142</th>\n",
       "      <td>Tema</td>\n",
       "      <td>RR</td>\n",
       "      <td>2013</td>\n",
       "      <td>11</td>\n",
       "      <td>0.0</td>\n",
       "      <td>0.0</td>\n",
       "      <td>0.0</td>\n",
       "      <td>0.0</td>\n",
       "      <td>0.0</td>\n",
       "      <td>0.0</td>\n",
       "      <td>...</td>\n",
       "      <td>0.0</td>\n",
       "      <td>5.8</td>\n",
       "      <td>0.0</td>\n",
       "      <td>4.9</td>\n",
       "      <td>0.0</td>\n",
       "      <td>0.0</td>\n",
       "      <td>0.0</td>\n",
       "      <td>0.0</td>\n",
       "      <td>9.9</td>\n",
       "      <td>NaN</td>\n",
       "    </tr>\n",
       "    <tr>\n",
       "      <th>143</th>\n",
       "      <td>Tema</td>\n",
       "      <td>RR</td>\n",
       "      <td>2013</td>\n",
       "      <td>12</td>\n",
       "      <td>0.0</td>\n",
       "      <td>0.0</td>\n",
       "      <td>0.4</td>\n",
       "      <td>10.2</td>\n",
       "      <td>0.0</td>\n",
       "      <td>0.0</td>\n",
       "      <td>...</td>\n",
       "      <td>0.0</td>\n",
       "      <td>0.0</td>\n",
       "      <td>0.0</td>\n",
       "      <td>0.0</td>\n",
       "      <td>0.0</td>\n",
       "      <td>0.0</td>\n",
       "      <td>0.0</td>\n",
       "      <td>0.0</td>\n",
       "      <td>24.8</td>\n",
       "      <td>0.0</td>\n",
       "    </tr>\n",
       "  </tbody>\n",
       "</table>\n",
       "<p>144 rows × 35 columns</p>\n",
       "</div>"
      ],
      "text/plain": [
       "       Name Eg El Abbreviation  Year  Month    1    2    3     4    5    6  \\\n",
       "0    Tamale                 RR  2010      1  0.0  0.0  0.0   0.0  0.0  0.0   \n",
       "1    Tamale                 RR  2010      2  0.0  0.0  0.0   0.0  0.0  0.0   \n",
       "2    Tamale                 RR  2010      3  0.0  0.0  0.0   0.0  0.0  0.0   \n",
       "3    Tamale                 RR  2010      4  0.0  0.0  0.0   0.0  0.9  0.0   \n",
       "4    Tamale                 RR  2010      5  0.0  0.0  0.0   0.0  1.0  0.0   \n",
       "..      ...                ...   ...    ...  ...  ...  ...   ...  ...  ...   \n",
       "139    Tema                 RR  2013      8  0.0  0.0  0.0   0.0  0.0  0.3   \n",
       "140    Tema                 RR  2013      9  0.1  0.0  0.0   0.0  6.5  0.0   \n",
       "141    Tema                 RR  2013     10  0.0  0.0  0.5   0.0  0.0  0.0   \n",
       "142    Tema                 RR  2013     11  0.0  0.0  0.0   0.0  0.0  0.0   \n",
       "143    Tema                 RR  2013     12  0.0  0.0  0.4  10.2  0.0  0.0   \n",
       "\n",
       "     ...    22   23   24   25    26   27   28   29    30   31  \n",
       "0    ...   0.0  0.0  0.0  0.0   0.0  0.0  0.0  0.0   0.0  0.0  \n",
       "1    ...   0.0  0.0  0.0  0.0   0.0  0.0  0.0  NaN   NaN  NaN  \n",
       "2    ...   0.0  0.0  0.0  0.0   0.0  0.0  0.0  0.0   0.0  0.0  \n",
       "3    ...  89.1  0.0  0.0  0.0  73.3  1.5  0.0  0.0   0.0  NaN  \n",
       "4    ...   0.0  0.5  0.0  0.0   0.0  0.0  0.0  4.5   0.0  0.6  \n",
       "..   ...   ...  ...  ...  ...   ...  ...  ...  ...   ...  ...  \n",
       "139  ...   0.0  0.0  0.0  0.0   0.0  0.0  0.0  0.0   0.0  0.0  \n",
       "140  ...   0.0  7.3  3.0  0.0   0.0  0.0  0.0  0.0   0.0  NaN  \n",
       "141  ...   0.0  0.0  0.0  0.0   0.0  0.0  0.0  0.0   0.0  0.0  \n",
       "142  ...   0.0  5.8  0.0  4.9   0.0  0.0  0.0  0.0   9.9  NaN  \n",
       "143  ...   0.0  0.0  0.0  0.0   0.0  0.0  0.0  0.0  24.8  0.0  \n",
       "\n",
       "[144 rows x 35 columns]"
      ]
     },
     "execution_count": 18,
     "metadata": {},
     "output_type": "execute_result"
    },
    {
     "data": {
      "application/javascript": [
       "\n",
       "            setTimeout(function() {\n",
       "                var nbb_cell_id = 18;\n",
       "                var nbb_unformatted_code = \"df_RR\";\n",
       "                var nbb_formatted_code = \"df_RR\";\n",
       "                var nbb_cells = Jupyter.notebook.get_cells();\n",
       "                for (var i = 0; i < nbb_cells.length; ++i) {\n",
       "                    if (nbb_cells[i].input_prompt_number == nbb_cell_id) {\n",
       "                        if (nbb_cells[i].get_text() == nbb_unformatted_code) {\n",
       "                             nbb_cells[i].set_text(nbb_formatted_code);\n",
       "                        }\n",
       "                        break;\n",
       "                    }\n",
       "                }\n",
       "            }, 500);\n",
       "            "
      ],
      "text/plain": [
       "<IPython.core.display.Javascript object>"
      ]
     },
     "metadata": {},
     "output_type": "display_data"
    }
   ],
   "source": [
    "df_RR"
   ]
  },
  {
   "cell_type": "markdown",
   "metadata": {
    "id": "GaS-HYLo9TjN"
   },
   "source": [
    "We set the day number as column headers."
   ]
  },
  {
   "cell_type": "code",
   "execution_count": 14,
   "metadata": {},
   "outputs": [
    {
     "data": {
      "application/javascript": [
       "\n",
       "            setTimeout(function() {\n",
       "                var nbb_cell_id = 14;\n",
       "                var nbb_unformatted_code = \"df_ = df_RR.melt(\\n    id_vars=[\\n        \\\"Name\\\",\\n        \\\"Eg El Abbreviation\\\",\\n        \\\"Year\\\",\\n        \\\"Month\\\",\\n    ], \\n)\";\n",
       "                var nbb_formatted_code = \"df_ = df_RR.melt(\\n    id_vars=[\\n        \\\"Name\\\",\\n        \\\"Eg El Abbreviation\\\",\\n        \\\"Year\\\",\\n        \\\"Month\\\",\\n    ],\\n)\";\n",
       "                var nbb_cells = Jupyter.notebook.get_cells();\n",
       "                for (var i = 0; i < nbb_cells.length; ++i) {\n",
       "                    if (nbb_cells[i].input_prompt_number == nbb_cell_id) {\n",
       "                        if (nbb_cells[i].get_text() == nbb_unformatted_code) {\n",
       "                             nbb_cells[i].set_text(nbb_formatted_code);\n",
       "                        }\n",
       "                        break;\n",
       "                    }\n",
       "                }\n",
       "            }, 500);\n",
       "            "
      ],
      "text/plain": [
       "<IPython.core.display.Javascript object>"
      ]
     },
     "metadata": {},
     "output_type": "display_data"
    }
   ],
   "source": [
    "df_ = "
   ]
  },
  {
   "cell_type": "code",
   "execution_count": 10,
   "metadata": {},
   "outputs": [
    {
     "data": {
      "text/plain": [
       "0    Name                  Tamale\n",
       "     Eg El Abbreviation        RR\n",
       "     Year                    2010\n",
       "     Month                      1\n",
       "     Val01                    0.0\n",
       "                            ...  \n",
       "143  Val27                    0.0\n",
       "     Val28                    0.0\n",
       "     Val29                    0.0\n",
       "     Val30                   24.8\n",
       "     Val31                    0.0\n",
       "Length: 4959, dtype: object"
      ]
     },
     "execution_count": 10,
     "metadata": {},
     "output_type": "execute_result"
    },
    {
     "data": {
      "application/javascript": [
       "\n",
       "            setTimeout(function() {\n",
       "                var nbb_cell_id = 10;\n",
       "                var nbb_unformatted_code = \"df_RR.stack(level=0)\";\n",
       "                var nbb_formatted_code = \"df_RR.stack(level=0)\";\n",
       "                var nbb_cells = Jupyter.notebook.get_cells();\n",
       "                for (var i = 0; i < nbb_cells.length; ++i) {\n",
       "                    if (nbb_cells[i].input_prompt_number == nbb_cell_id) {\n",
       "                        if (nbb_cells[i].get_text() == nbb_unformatted_code) {\n",
       "                             nbb_cells[i].set_text(nbb_formatted_code);\n",
       "                        }\n",
       "                        break;\n",
       "                    }\n",
       "                }\n",
       "            }, 500);\n",
       "            "
      ],
      "text/plain": [
       "<IPython.core.display.Javascript object>"
      ]
     },
     "metadata": {},
     "output_type": "display_data"
    }
   ],
   "source": [
    "df_RR.stack(level=0)"
   ]
  },
  {
   "cell_type": "code",
   "execution_count": 6,
   "metadata": {
    "id": "Rnvali7Ls4P-"
   },
   "outputs": [
    {
     "data": {
      "application/javascript": [
       "\n",
       "            setTimeout(function() {\n",
       "                var nbb_cell_id = 6;\n",
       "                var nbb_unformatted_code = \"df_RR.columns.values[4:] = np.arange(1, 32).astype(\\\"str\\\")\\ndf_TN.columns.values[4:] = np.arange(1, 32).astype(\\\"str\\\")\\ndf_TX.columns.values[4:] = np.arange(1, 32).astype(\\\"str\\\")\";\n",
       "                var nbb_formatted_code = \"df_RR.columns.values[4:] = np.arange(1, 32).astype(\\\"str\\\")\\ndf_TN.columns.values[4:] = np.arange(1, 32).astype(\\\"str\\\")\\ndf_TX.columns.values[4:] = np.arange(1, 32).astype(\\\"str\\\")\";\n",
       "                var nbb_cells = Jupyter.notebook.get_cells();\n",
       "                for (var i = 0; i < nbb_cells.length; ++i) {\n",
       "                    if (nbb_cells[i].input_prompt_number == nbb_cell_id) {\n",
       "                        if (nbb_cells[i].get_text() == nbb_unformatted_code) {\n",
       "                             nbb_cells[i].set_text(nbb_formatted_code);\n",
       "                        }\n",
       "                        break;\n",
       "                    }\n",
       "                }\n",
       "            }, 500);\n",
       "            "
      ],
      "text/plain": [
       "<IPython.core.display.Javascript object>"
      ]
     },
     "metadata": {},
     "output_type": "display_data"
    }
   ],
   "source": [
    "df_RR.columns.values[4:] = np.arange(1, 32).astype(\"str\")\n",
    "df_TN.columns.values[4:] = np.arange(1, 32).astype(\"str\")\n",
    "df_TX.columns.values[4:] = np.arange(1, 32).astype(\"str\")"
   ]
  },
  {
   "cell_type": "code",
   "execution_count": 7,
   "metadata": {},
   "outputs": [
    {
     "data": {
      "text/plain": [
       "Index(['Name', 'Eg El Abbreviation', 'Year', 'Month', '1', '2', '3', '4', '5',\n",
       "       '6', '7', '8', '9', '10', '11', '12', '13', '14', '15', '16', '17',\n",
       "       '18', '19', '20', '21', '22', '23', '24', '25', '26', '27', '28', '29',\n",
       "       '30', '31'],\n",
       "      dtype='object')"
      ]
     },
     "execution_count": 7,
     "metadata": {},
     "output_type": "execute_result"
    },
    {
     "data": {
      "application/javascript": [
       "\n",
       "            setTimeout(function() {\n",
       "                var nbb_cell_id = 7;\n",
       "                var nbb_unformatted_code = \"df_RR.columns\";\n",
       "                var nbb_formatted_code = \"df_RR.columns\";\n",
       "                var nbb_cells = Jupyter.notebook.get_cells();\n",
       "                for (var i = 0; i < nbb_cells.length; ++i) {\n",
       "                    if (nbb_cells[i].input_prompt_number == nbb_cell_id) {\n",
       "                        if (nbb_cells[i].get_text() == nbb_unformatted_code) {\n",
       "                             nbb_cells[i].set_text(nbb_formatted_code);\n",
       "                        }\n",
       "                        break;\n",
       "                    }\n",
       "                }\n",
       "            }, 500);\n",
       "            "
      ],
      "text/plain": [
       "<IPython.core.display.Javascript object>"
      ]
     },
     "metadata": {},
     "output_type": "display_data"
    }
   ],
   "source": [
    "df_RR.columns"
   ]
  },
  {
   "cell_type": "markdown",
   "metadata": {
    "id": "lUN9XT_q9jOc"
   },
   "source": [
    "In the next part, we select only the columns containing the year, month and daily data. We will be vertically stacking these using a defined function. In the end, the datasets should look somewhat like this:\n",
    "\n",
    "19800101  RR1 <br>\n",
    "19800102  RR2 <br>\n",
    "... <br>\n",
    "... <br>\n",
    "... <br>\n",
    "20201231 RRN"
   ]
  },
  {
   "cell_type": "code",
   "execution_count": 7,
   "metadata": {
    "id": "KmqTKW10s4P_",
    "outputId": "be6b646d-4077-46b3-8111-1b73a6ff776d"
   },
   "outputs": [
    {
     "data": {
      "text/html": [
       "<div>\n",
       "<style scoped>\n",
       "    .dataframe tbody tr th:only-of-type {\n",
       "        vertical-align: middle;\n",
       "    }\n",
       "\n",
       "    .dataframe tbody tr th {\n",
       "        vertical-align: top;\n",
       "    }\n",
       "\n",
       "    .dataframe thead th {\n",
       "        text-align: right;\n",
       "    }\n",
       "</style>\n",
       "<table border=\"1\" class=\"dataframe\">\n",
       "  <thead>\n",
       "    <tr style=\"text-align: right;\">\n",
       "      <th></th>\n",
       "      <th>Year</th>\n",
       "      <th>Month</th>\n",
       "      <th>1</th>\n",
       "      <th>2</th>\n",
       "      <th>3</th>\n",
       "      <th>4</th>\n",
       "      <th>5</th>\n",
       "      <th>6</th>\n",
       "      <th>7</th>\n",
       "      <th>8</th>\n",
       "      <th>...</th>\n",
       "      <th>22</th>\n",
       "      <th>23</th>\n",
       "      <th>24</th>\n",
       "      <th>25</th>\n",
       "      <th>26</th>\n",
       "      <th>27</th>\n",
       "      <th>28</th>\n",
       "      <th>29</th>\n",
       "      <th>30</th>\n",
       "      <th>31</th>\n",
       "    </tr>\n",
       "  </thead>\n",
       "  <tbody>\n",
       "    <tr>\n",
       "      <th>0</th>\n",
       "      <td>2010</td>\n",
       "      <td>1</td>\n",
       "      <td>0.0</td>\n",
       "      <td>0.0</td>\n",
       "      <td>0.0</td>\n",
       "      <td>0.0</td>\n",
       "      <td>0.0</td>\n",
       "      <td>0.0</td>\n",
       "      <td>0.0</td>\n",
       "      <td>0.0</td>\n",
       "      <td>...</td>\n",
       "      <td>0.0</td>\n",
       "      <td>0.0</td>\n",
       "      <td>0.0</td>\n",
       "      <td>0.0</td>\n",
       "      <td>0.0</td>\n",
       "      <td>0.0</td>\n",
       "      <td>0.0</td>\n",
       "      <td>0.0</td>\n",
       "      <td>0.0</td>\n",
       "      <td>0.0</td>\n",
       "    </tr>\n",
       "    <tr>\n",
       "      <th>1</th>\n",
       "      <td>2010</td>\n",
       "      <td>2</td>\n",
       "      <td>0.0</td>\n",
       "      <td>0.0</td>\n",
       "      <td>0.0</td>\n",
       "      <td>0.0</td>\n",
       "      <td>0.0</td>\n",
       "      <td>0.0</td>\n",
       "      <td>0.0</td>\n",
       "      <td>0.0</td>\n",
       "      <td>...</td>\n",
       "      <td>0.0</td>\n",
       "      <td>0.0</td>\n",
       "      <td>0.0</td>\n",
       "      <td>0.0</td>\n",
       "      <td>0.0</td>\n",
       "      <td>0.0</td>\n",
       "      <td>0.0</td>\n",
       "      <td>NaN</td>\n",
       "      <td>NaN</td>\n",
       "      <td>NaN</td>\n",
       "    </tr>\n",
       "  </tbody>\n",
       "</table>\n",
       "<p>2 rows × 33 columns</p>\n",
       "</div>"
      ],
      "text/plain": [
       "   Year  Month    1    2    3    4    5    6    7    8  ...   22   23   24  \\\n",
       "0  2010      1  0.0  0.0  0.0  0.0  0.0  0.0  0.0  0.0  ...  0.0  0.0  0.0   \n",
       "1  2010      2  0.0  0.0  0.0  0.0  0.0  0.0  0.0  0.0  ...  0.0  0.0  0.0   \n",
       "\n",
       "    25   26   27   28   29   30   31  \n",
       "0  0.0  0.0  0.0  0.0  0.0  0.0  0.0  \n",
       "1  0.0  0.0  0.0  0.0  NaN  NaN  NaN  \n",
       "\n",
       "[2 rows x 33 columns]"
      ]
     },
     "execution_count": 7,
     "metadata": {},
     "output_type": "execute_result"
    },
    {
     "data": {
      "application/javascript": [
       "\n",
       "            setTimeout(function() {\n",
       "                var nbb_cell_id = 7;\n",
       "                var nbb_unformatted_code = \"df_RR2s = df_RR.iloc[:, 2:]\\ndf_TN2s = df_TN.iloc[:, 2:]\\ndf_TX2s = df_TX.iloc[:, 2:]\\ndf_RR2s.head(2)\";\n",
       "                var nbb_formatted_code = \"df_RR2s = df_RR.iloc[:, 2:]\\ndf_TN2s = df_TN.iloc[:, 2:]\\ndf_TX2s = df_TX.iloc[:, 2:]\\ndf_RR2s.head(2)\";\n",
       "                var nbb_cells = Jupyter.notebook.get_cells();\n",
       "                for (var i = 0; i < nbb_cells.length; ++i) {\n",
       "                    if (nbb_cells[i].input_prompt_number == nbb_cell_id) {\n",
       "                        if (nbb_cells[i].get_text() == nbb_unformatted_code) {\n",
       "                             nbb_cells[i].set_text(nbb_formatted_code);\n",
       "                        }\n",
       "                        break;\n",
       "                    }\n",
       "                }\n",
       "            }, 500);\n",
       "            "
      ],
      "text/plain": [
       "<IPython.core.display.Javascript object>"
      ]
     },
     "metadata": {},
     "output_type": "display_data"
    }
   ],
   "source": [
    "df_RR2s = df_RR.iloc[:, 2:]\n",
    "df_TN2s = df_TN.iloc[:, 2:]\n",
    "df_TX2s = df_TX.iloc[:, 2:]\n",
    "df_RR2s.head(2)"
   ]
  },
  {
   "cell_type": "markdown",
   "metadata": {
    "id": "LlfB0Hm1s4QA"
   },
   "source": [
    "---------------------------------------------------------------------------------------------------------------------------------\n",
    "Wrangling the data\n",
    "---------------------------------------------------------------------------------------------------------------------------------\n",
    "\n",
    "**What is Data Wrangling?**\n",
    "\n",
    "Data wrangling is the process of cleaning, structuring and enriching raw data into a desired format for better decision making in less time. Data wrangling is increasingly ubiquitous. In simpler terms, data wrangling (sometimes referred to as data munging) entails transforming and mapping data from one \"raw\" data form into another format with the intent of making it more appropriate and valuable for a variety of downstream purposes such as analytics. \n",
    "Data has become more diverse and unstructured, demanding increased time spent culling, cleaning, and organizing data ahead of broader analysis. <br>\n",
    "\n",
    "**Reference:** <br>\n",
    "> https://www.trifacta.com/data-wrangling/ <br>\n",
    "> https://en.wikipedia.org/wiki/Data_wrangling <br><br><br>\n",
    "\n",
    "\n",
    "\n",
    "With this premise established, we will wrangle the rainfall/temperature data, and this will be addressed as such.\n",
    "\n",
    "> Vertically stacking the data using a DateTime index <br>\n",
    "> Basic manipulation and dealing with missing values <br>\n",
    "> Resampling to a different frequency\n",
    "---------------------------------------------------------------------------------------------------------------------------------"
   ]
  },
  {
   "cell_type": "code",
   "execution_count": 8,
   "metadata": {
    "id": "gmTbL_pQs4QB"
   },
   "outputs": [
    {
     "data": {
      "application/javascript": [
       "\n",
       "            setTimeout(function() {\n",
       "                var nbb_cell_id = 8;\n",
       "                var nbb_unformatted_code = \"# Let generate a new dataframe with index for each day within the observation period.\\n# We begin with the date creation using pandas date_range function\\n\\n# Default frequency is daily\\ndate = pd.date_range(start=\\\"1/1/2010\\\", end=\\\"31/12/2013\\\", freq=\\\"D\\\")\\ntype(date)  ### returns pandas.core.indexes.datetimes.DatetimeIndex\\n\\n# Next, we populate a new dataframe with the actual data\\ndf_NewRRData = pd.DataFrame(date, columns=[\\\"date\\\"])\\ndf_NewTNData = pd.DataFrame(date, columns=[\\\"date\\\"])\\ndf_NewTXData = pd.DataFrame(date, columns=[\\\"date\\\"])\\n\\n# Set the date as index of the new DataFrame.\\ndf_NewRRData.set_index(\\\"date\\\", inplace=True)\\ndf_NewTNData.set_index(\\\"date\\\", inplace=True)\\ndf_NewTXData.set_index(\\\"date\\\", inplace=True)\";\n",
       "                var nbb_formatted_code = \"# Let generate a new dataframe with index for each day within the observation period.\\n# We begin with the date creation using pandas date_range function\\n\\n# Default frequency is daily\\ndate = pd.date_range(start=\\\"1/1/2010\\\", end=\\\"31/12/2013\\\", freq=\\\"D\\\")\\ntype(date)  ### returns pandas.core.indexes.datetimes.DatetimeIndex\\n\\n# Next, we populate a new dataframe with the actual data\\ndf_NewRRData = pd.DataFrame(date, columns=[\\\"date\\\"])\\ndf_NewTNData = pd.DataFrame(date, columns=[\\\"date\\\"])\\ndf_NewTXData = pd.DataFrame(date, columns=[\\\"date\\\"])\\n\\n# Set the date as index of the new DataFrame.\\ndf_NewRRData.set_index(\\\"date\\\", inplace=True)\\ndf_NewTNData.set_index(\\\"date\\\", inplace=True)\\ndf_NewTXData.set_index(\\\"date\\\", inplace=True)\";\n",
       "                var nbb_cells = Jupyter.notebook.get_cells();\n",
       "                for (var i = 0; i < nbb_cells.length; ++i) {\n",
       "                    if (nbb_cells[i].input_prompt_number == nbb_cell_id) {\n",
       "                        if (nbb_cells[i].get_text() == nbb_unformatted_code) {\n",
       "                             nbb_cells[i].set_text(nbb_formatted_code);\n",
       "                        }\n",
       "                        break;\n",
       "                    }\n",
       "                }\n",
       "            }, 500);\n",
       "            "
      ],
      "text/plain": [
       "<IPython.core.display.Javascript object>"
      ]
     },
     "metadata": {},
     "output_type": "display_data"
    }
   ],
   "source": [
    "# Let generate a new dataframe with index for each day within the observation period.\n",
    "# We begin with the date creation using pandas date_range function\n",
    "\n",
    "# Default frequency is daily\n",
    "date = pd.date_range(start=\"1/1/2010\", end=\"31/12/2013\", freq=\"D\")\n",
    "type(date)  ### returns pandas.core.indexes.datetimes.DatetimeIndex\n",
    "\n",
    "# Next, we populate a new dataframe with the actual data\n",
    "df_NewRRData = pd.DataFrame(date, columns=[\"date\"])\n",
    "df_NewTNData = pd.DataFrame(date, columns=[\"date\"])\n",
    "df_NewTXData = pd.DataFrame(date, columns=[\"date\"])\n",
    "\n",
    "# Set the date as index of the new DataFrame.\n",
    "df_NewRRData.set_index(\"date\", inplace=True)\n",
    "df_NewTNData.set_index(\"date\", inplace=True)\n",
    "df_NewTXData.set_index(\"date\", inplace=True)"
   ]
  },
  {
   "cell_type": "code",
   "execution_count": 9,
   "metadata": {
    "id": "cECTd2pvs4QC"
   },
   "outputs": [
    {
     "data": {
      "text/html": [
       "<div>\n",
       "<style scoped>\n",
       "    .dataframe tbody tr th:only-of-type {\n",
       "        vertical-align: middle;\n",
       "    }\n",
       "\n",
       "    .dataframe tbody tr th {\n",
       "        vertical-align: top;\n",
       "    }\n",
       "\n",
       "    .dataframe thead th {\n",
       "        text-align: right;\n",
       "    }\n",
       "</style>\n",
       "<table border=\"1\" class=\"dataframe\">\n",
       "  <thead>\n",
       "    <tr style=\"text-align: right;\">\n",
       "      <th></th>\n",
       "    </tr>\n",
       "    <tr>\n",
       "      <th>date</th>\n",
       "    </tr>\n",
       "  </thead>\n",
       "  <tbody>\n",
       "    <tr>\n",
       "      <th>2010-01-01</th>\n",
       "    </tr>\n",
       "    <tr>\n",
       "      <th>2010-01-02</th>\n",
       "    </tr>\n",
       "    <tr>\n",
       "      <th>2010-01-03</th>\n",
       "    </tr>\n",
       "    <tr>\n",
       "      <th>2010-01-04</th>\n",
       "    </tr>\n",
       "    <tr>\n",
       "      <th>2010-01-05</th>\n",
       "    </tr>\n",
       "  </tbody>\n",
       "</table>\n",
       "</div>"
      ],
      "text/plain": [
       "Empty DataFrame\n",
       "Columns: []\n",
       "Index: [2010-01-01 00:00:00, 2010-01-02 00:00:00, 2010-01-03 00:00:00, 2010-01-04 00:00:00, 2010-01-05 00:00:00]"
      ]
     },
     "execution_count": 9,
     "metadata": {},
     "output_type": "execute_result"
    },
    {
     "data": {
      "application/javascript": [
       "\n",
       "            setTimeout(function() {\n",
       "                var nbb_cell_id = 9;\n",
       "                var nbb_unformatted_code = \"df_NewRRData.head()\";\n",
       "                var nbb_formatted_code = \"df_NewRRData.head()\";\n",
       "                var nbb_cells = Jupyter.notebook.get_cells();\n",
       "                for (var i = 0; i < nbb_cells.length; ++i) {\n",
       "                    if (nbb_cells[i].input_prompt_number == nbb_cell_id) {\n",
       "                        if (nbb_cells[i].get_text() == nbb_unformatted_code) {\n",
       "                             nbb_cells[i].set_text(nbb_formatted_code);\n",
       "                        }\n",
       "                        break;\n",
       "                    }\n",
       "                }\n",
       "            }, 500);\n",
       "            "
      ],
      "text/plain": [
       "<IPython.core.display.Javascript object>"
      ]
     },
     "metadata": {},
     "output_type": "display_data"
    }
   ],
   "source": [
    "df_NewRRData.head()"
   ]
  },
  {
   "cell_type": "markdown",
   "metadata": {
    "id": "tDIWIF9R_SMk"
   },
   "source": [
    "Here, we will code a function that will help to transform the data in a column data timeseries. "
   ]
  },
  {
   "cell_type": "code",
   "execution_count": 10,
   "metadata": {
    "id": "UZDm3Ymus4QD"
   },
   "outputs": [
    {
     "data": {
      "application/javascript": [
       "\n",
       "            setTimeout(function() {\n",
       "                var nbb_cell_id = 10;\n",
       "                var nbb_unformatted_code = \"# Self-defined function to stack row-oriented data as columnar\\ndef data_stacking(d, df, s):\\n    year = np.int_(d[\\\"Year\\\"])  # Format years as integers\\n    month = np.int_(d[\\\"Month\\\"])  # Format months as integers\\n\\n    # Let's create a blank column for the given station (s) which allows for appending data.\\n    df[s] = None\\n\\n    for i in d.index:\\n        # Looping through the years and month and producing the total number of days in each month of the year.\\n        # We employ calendar.monthrange() to acquire the total number of days in a given month.\\n        # Within the datasets, there are 31 column for each month data. By specifying the total number of actual days in a month, we omit the excess NaNs\\n        # in the end when matching data from the existing data set to the new vertically stacked data, using the dates as reference index.\\n        total_days = calendar.monthrange(\\n            datetime.strptime(str(year[i]), \\\"%Y\\\").year,\\n            datetime.strptime(str(month[i]), \\\"%m\\\").month,\\n        )[1]\\n\\n        for day in range(\\n            1, total_days + 1\\n        ):  # for months with n days, we create a range of 1 to n+1 days to produce the exact n days. (eg. range(1,32) produces days 1 to 31)\\n            date_index = datetime.date(\\n                datetime.strptime(f\\\"{year[i]} {month[i]} {day}\\\", \\\"%Y %m %d\\\")\\n            )\\n\\n            # Populating the new data with exact data from the old set for the same day.\\n            df[s].loc[pd.to_datetime(date_index)] = d.iloc[i, day + 1]\\n\\n    return df  # return the stacked Data\";\n",
       "                var nbb_formatted_code = \"# Self-defined function to stack row-oriented data as columnar\\ndef data_stacking(d, df, s):\\n    year = np.int_(d[\\\"Year\\\"])  # Format years as integers\\n    month = np.int_(d[\\\"Month\\\"])  # Format months as integers\\n\\n    # Let's create a blank column for the given station (s) which allows for appending data.\\n    df[s] = None\\n\\n    for i in d.index:\\n        # Looping through the years and month and producing the total number of days in each month of the year.\\n        # We employ calendar.monthrange() to acquire the total number of days in a given month.\\n        # Within the datasets, there are 31 column for each month data. By specifying the total number of actual days in a month, we omit the excess NaNs\\n        # in the end when matching data from the existing data set to the new vertically stacked data, using the dates as reference index.\\n        total_days = calendar.monthrange(\\n            datetime.strptime(str(year[i]), \\\"%Y\\\").year,\\n            datetime.strptime(str(month[i]), \\\"%m\\\").month,\\n        )[1]\\n\\n        for day in range(\\n            1, total_days + 1\\n        ):  # for months with n days, we create a range of 1 to n+1 days to produce the exact n days. (eg. range(1,32) produces days 1 to 31)\\n            date_index = datetime.date(\\n                datetime.strptime(f\\\"{year[i]} {month[i]} {day}\\\", \\\"%Y %m %d\\\")\\n            )\\n\\n            # Populating the new data with exact data from the old set for the same day.\\n            df[s].loc[pd.to_datetime(date_index)] = d.iloc[i, day + 1]\\n\\n    return df  # return the stacked Data\";\n",
       "                var nbb_cells = Jupyter.notebook.get_cells();\n",
       "                for (var i = 0; i < nbb_cells.length; ++i) {\n",
       "                    if (nbb_cells[i].input_prompt_number == nbb_cell_id) {\n",
       "                        if (nbb_cells[i].get_text() == nbb_unformatted_code) {\n",
       "                             nbb_cells[i].set_text(nbb_formatted_code);\n",
       "                        }\n",
       "                        break;\n",
       "                    }\n",
       "                }\n",
       "            }, 500);\n",
       "            "
      ],
      "text/plain": [
       "<IPython.core.display.Javascript object>"
      ]
     },
     "metadata": {},
     "output_type": "display_data"
    }
   ],
   "source": [
    "# Self-defined function to stack row-oriented data as columnar\n",
    "def data_stacking(d, df, s):\n",
    "    year = np.int_(d[\"Year\"])  # Format years as integers\n",
    "    month = np.int_(d[\"Month\"])  # Format months as integers\n",
    "\n",
    "    # Let's create a blank column for the given station (s) which allows for appending data.\n",
    "    df[s] = None\n",
    "\n",
    "    for i in d.index:\n",
    "        # Looping through the years and month and producing the total number of days in each month of the year.\n",
    "        # We employ calendar.monthrange() to acquire the total number of days in a given month.\n",
    "        # Within the datasets, there are 31 column for each month data. By specifying the total number of actual days in a month, we omit the excess NaNs\n",
    "        # in the end when matching data from the existing data set to the new vertically stacked data, using the dates as reference index.\n",
    "        total_days = calendar.monthrange(\n",
    "            datetime.strptime(str(year[i]), \"%Y\").year,\n",
    "            datetime.strptime(str(month[i]), \"%m\").month,\n",
    "        )[1]\n",
    "\n",
    "        for day in range(\n",
    "            1, total_days + 1\n",
    "        ):  # for months with n days, we create a range of 1 to n+1 days to produce the exact n days. (eg. range(1,32) produces days 1 to 31)\n",
    "            date_index = datetime.date(\n",
    "                datetime.strptime(f\"{year[i]} {month[i]} {day}\", \"%Y %m %d\")\n",
    "            )\n",
    "\n",
    "            # Populating the new data with exact data from the old set for the same day.\n",
    "            df[s].loc[pd.to_datetime(date_index)] = d.iloc[i, day + 1]\n",
    "\n",
    "    return df  # return the stacked Data"
   ]
  },
  {
   "cell_type": "markdown",
   "metadata": {
    "id": "6Oun_GNds4QE"
   },
   "source": [
    "Start with one station and then move to multiples"
   ]
  },
  {
   "cell_type": "code",
   "execution_count": 11,
   "metadata": {
    "id": "-JboWanls4QG"
   },
   "outputs": [
    {
     "data": {
      "application/javascript": [
       "\n",
       "            setTimeout(function() {\n",
       "                var nbb_cell_id = 11;\n",
       "                var nbb_unformatted_code = \"# Selecting Data for only one station\\nd = df_RR2s.where(df_RR.Name == \\\"Tema\\\")\\n\\n# Remove all the other rows where the year column contains NaNs. This will omit all other stations except Tema.\\nd = d[d[\\\"Year\\\"].notna()]\\n\\nd.index = range(len(d.index))  # Re-indexing the sliced data to start from 0.\";\n",
       "                var nbb_formatted_code = \"# Selecting Data for only one station\\nd = df_RR2s.where(df_RR.Name == \\\"Tema\\\")\\n\\n# Remove all the other rows where the year column contains NaNs. This will omit all other stations except Tema.\\nd = d[d[\\\"Year\\\"].notna()]\\n\\nd.index = range(len(d.index))  # Re-indexing the sliced data to start from 0.\";\n",
       "                var nbb_cells = Jupyter.notebook.get_cells();\n",
       "                for (var i = 0; i < nbb_cells.length; ++i) {\n",
       "                    if (nbb_cells[i].input_prompt_number == nbb_cell_id) {\n",
       "                        if (nbb_cells[i].get_text() == nbb_unformatted_code) {\n",
       "                             nbb_cells[i].set_text(nbb_formatted_code);\n",
       "                        }\n",
       "                        break;\n",
       "                    }\n",
       "                }\n",
       "            }, 500);\n",
       "            "
      ],
      "text/plain": [
       "<IPython.core.display.Javascript object>"
      ]
     },
     "metadata": {},
     "output_type": "display_data"
    }
   ],
   "source": [
    "# Selecting Data for only one station\n",
    "d = df_RR2s.where(df_RR.Name == \"Tema\")\n",
    "\n",
    "# Remove all the other rows where the year column contains NaNs. This will omit all other stations except Tema.\n",
    "d = d[d[\"Year\"].notna()]\n",
    "\n",
    "d.index = range(len(d.index))  # Re-indexing the sliced data to start from 0."
   ]
  },
  {
   "cell_type": "code",
   "execution_count": 12,
   "metadata": {},
   "outputs": [
    {
     "data": {
      "text/plain": [
       "((48, 33), (1461, 0))"
      ]
     },
     "execution_count": 12,
     "metadata": {},
     "output_type": "execute_result"
    },
    {
     "data": {
      "application/javascript": [
       "\n",
       "            setTimeout(function() {\n",
       "                var nbb_cell_id = 12;\n",
       "                var nbb_unformatted_code = \"d.shape, df_NewRRData.shape\";\n",
       "                var nbb_formatted_code = \"d.shape, df_NewRRData.shape\";\n",
       "                var nbb_cells = Jupyter.notebook.get_cells();\n",
       "                for (var i = 0; i < nbb_cells.length; ++i) {\n",
       "                    if (nbb_cells[i].input_prompt_number == nbb_cell_id) {\n",
       "                        if (nbb_cells[i].get_text() == nbb_unformatted_code) {\n",
       "                             nbb_cells[i].set_text(nbb_formatted_code);\n",
       "                        }\n",
       "                        break;\n",
       "                    }\n",
       "                }\n",
       "            }, 500);\n",
       "            "
      ],
      "text/plain": [
       "<IPython.core.display.Javascript object>"
      ]
     },
     "metadata": {},
     "output_type": "display_data"
    }
   ],
   "source": [
    "d.shape, df_NewRRData.shape"
   ]
  },
  {
   "cell_type": "code",
   "execution_count": 13,
   "metadata": {
    "id": "Q6p0ECM3s4QG",
    "outputId": "b2fefb3e-4ca2-4853-8816-bb7031671fdd"
   },
   "outputs": [
    {
     "data": {
      "text/html": [
       "<div>\n",
       "<style scoped>\n",
       "    .dataframe tbody tr th:only-of-type {\n",
       "        vertical-align: middle;\n",
       "    }\n",
       "\n",
       "    .dataframe tbody tr th {\n",
       "        vertical-align: top;\n",
       "    }\n",
       "\n",
       "    .dataframe thead th {\n",
       "        text-align: right;\n",
       "    }\n",
       "</style>\n",
       "<table border=\"1\" class=\"dataframe\">\n",
       "  <thead>\n",
       "    <tr style=\"text-align: right;\">\n",
       "      <th></th>\n",
       "      <th>Tema</th>\n",
       "    </tr>\n",
       "    <tr>\n",
       "      <th>date</th>\n",
       "      <th></th>\n",
       "    </tr>\n",
       "  </thead>\n",
       "  <tbody>\n",
       "    <tr>\n",
       "      <th>2010-01-01</th>\n",
       "      <td>0.0</td>\n",
       "    </tr>\n",
       "    <tr>\n",
       "      <th>2010-01-02</th>\n",
       "      <td>0.0</td>\n",
       "    </tr>\n",
       "  </tbody>\n",
       "</table>\n",
       "</div>"
      ],
      "text/plain": [
       "           Tema\n",
       "date           \n",
       "2010-01-01  0.0\n",
       "2010-01-02  0.0"
      ]
     },
     "execution_count": 13,
     "metadata": {},
     "output_type": "execute_result"
    },
    {
     "data": {
      "application/javascript": [
       "\n",
       "            setTimeout(function() {\n",
       "                var nbb_cell_id = 13;\n",
       "                var nbb_unformatted_code = \"# Single Station (Data Stacking via self-defined function)\\ndf_NewRRData = data_stacking(d, df_NewRRData, \\\"Tema\\\")\\ndf_NewRRData.head(2)\";\n",
       "                var nbb_formatted_code = \"# Single Station (Data Stacking via self-defined function)\\ndf_NewRRData = data_stacking(d, df_NewRRData, \\\"Tema\\\")\\ndf_NewRRData.head(2)\";\n",
       "                var nbb_cells = Jupyter.notebook.get_cells();\n",
       "                for (var i = 0; i < nbb_cells.length; ++i) {\n",
       "                    if (nbb_cells[i].input_prompt_number == nbb_cell_id) {\n",
       "                        if (nbb_cells[i].get_text() == nbb_unformatted_code) {\n",
       "                             nbb_cells[i].set_text(nbb_formatted_code);\n",
       "                        }\n",
       "                        break;\n",
       "                    }\n",
       "                }\n",
       "            }, 500);\n",
       "            "
      ],
      "text/plain": [
       "<IPython.core.display.Javascript object>"
      ]
     },
     "metadata": {},
     "output_type": "display_data"
    }
   ],
   "source": [
    "# Single Station (Data Stacking via self-defined function)\n",
    "df_NewRRData = data_stacking(d, df_NewRRData, \"Tema\")\n",
    "df_NewRRData.head(2)"
   ]
  },
  {
   "cell_type": "markdown",
   "metadata": {
    "id": "myoZuEbEBgDC"
   },
   "source": [
    "We attempt to loop through all the given stations and stack them to the new dataframe. To generate the list of stations without duplicates, we simply use the set() function which produce a set of any identified list without duplicates. We then pass it as a list to allow us loop through them easily, while stacking to the defined dataframe."
   ]
  },
  {
   "cell_type": "code",
   "execution_count": 14,
   "metadata": {
    "id": "ZB1svlxBs4QH",
    "outputId": "ed50a0be-7d68-466d-db03-df7706d2c534"
   },
   "outputs": [
    {
     "data": {
      "text/html": [
       "<div>\n",
       "<style scoped>\n",
       "    .dataframe tbody tr th:only-of-type {\n",
       "        vertical-align: middle;\n",
       "    }\n",
       "\n",
       "    .dataframe tbody tr th {\n",
       "        vertical-align: top;\n",
       "    }\n",
       "\n",
       "    .dataframe thead th {\n",
       "        text-align: right;\n",
       "    }\n",
       "</style>\n",
       "<table border=\"1\" class=\"dataframe\">\n",
       "  <thead>\n",
       "    <tr style=\"text-align: right;\">\n",
       "      <th></th>\n",
       "      <th>Tema</th>\n",
       "      <th>Kumasi</th>\n",
       "      <th>Tamale</th>\n",
       "    </tr>\n",
       "    <tr>\n",
       "      <th>date</th>\n",
       "      <th></th>\n",
       "      <th></th>\n",
       "      <th></th>\n",
       "    </tr>\n",
       "  </thead>\n",
       "  <tbody>\n",
       "    <tr>\n",
       "      <th>2010-01-01</th>\n",
       "      <td>0.0</td>\n",
       "      <td>0.0</td>\n",
       "      <td>0.0</td>\n",
       "    </tr>\n",
       "    <tr>\n",
       "      <th>2010-01-02</th>\n",
       "      <td>0.0</td>\n",
       "      <td>0.0</td>\n",
       "      <td>0.0</td>\n",
       "    </tr>\n",
       "    <tr>\n",
       "      <th>2010-01-03</th>\n",
       "      <td>0.0</td>\n",
       "      <td>0.0</td>\n",
       "      <td>0.0</td>\n",
       "    </tr>\n",
       "  </tbody>\n",
       "</table>\n",
       "</div>"
      ],
      "text/plain": [
       "           Tema Kumasi Tamale\n",
       "date                         \n",
       "2010-01-01  0.0    0.0    0.0\n",
       "2010-01-02  0.0    0.0    0.0\n",
       "2010-01-03  0.0    0.0    0.0"
      ]
     },
     "execution_count": 14,
     "metadata": {},
     "output_type": "execute_result"
    },
    {
     "data": {
      "application/javascript": [
       "\n",
       "            setTimeout(function() {\n",
       "                var nbb_cell_id = 14;\n",
       "                var nbb_unformatted_code = \"# Creating Multiple columns for different stations\\nstations = sorted(list(set(df_RR.Name)))\\nfor s in stations:\\n    d = df_RR2s.where(df_RR.Name == s)\\n    d = d[d[\\\"Year\\\"].notna()]\\n    # for multi station data, we reset the index to start from 0 to the total rows per station data.\\n    d.index = range(len(d.index))\\n    df_NewRRData = data_stacking(d, df_NewRRData, s)\\n\\ndf_NewRRData.head(3)\";\n",
       "                var nbb_formatted_code = \"# Creating Multiple columns for different stations\\nstations = sorted(list(set(df_RR.Name)))\\nfor s in stations:\\n    d = df_RR2s.where(df_RR.Name == s)\\n    d = d[d[\\\"Year\\\"].notna()]\\n    # for multi station data, we reset the index to start from 0 to the total rows per station data.\\n    d.index = range(len(d.index))\\n    df_NewRRData = data_stacking(d, df_NewRRData, s)\\n\\ndf_NewRRData.head(3)\";\n",
       "                var nbb_cells = Jupyter.notebook.get_cells();\n",
       "                for (var i = 0; i < nbb_cells.length; ++i) {\n",
       "                    if (nbb_cells[i].input_prompt_number == nbb_cell_id) {\n",
       "                        if (nbb_cells[i].get_text() == nbb_unformatted_code) {\n",
       "                             nbb_cells[i].set_text(nbb_formatted_code);\n",
       "                        }\n",
       "                        break;\n",
       "                    }\n",
       "                }\n",
       "            }, 500);\n",
       "            "
      ],
      "text/plain": [
       "<IPython.core.display.Javascript object>"
      ]
     },
     "metadata": {},
     "output_type": "display_data"
    }
   ],
   "source": [
    "# Creating Multiple columns for different stations\n",
    "stations = sorted(list(set(df_RR.Name)))\n",
    "for s in stations:\n",
    "    d = df_RR2s.where(df_RR.Name == s)\n",
    "    d = d[d[\"Year\"].notna()]\n",
    "    # for multi station data, we reset the index to start from 0 to the total rows per station data.\n",
    "    d.index = range(len(d.index))\n",
    "    df_NewRRData = data_stacking(d, df_NewRRData, s)\n",
    "\n",
    "df_NewRRData.head(3)"
   ]
  },
  {
   "cell_type": "markdown",
   "metadata": {
    "id": "YGDqo8rns4QI"
   },
   "source": [
    "Can we recreate the stacked data for the minimum and maximum temperature data too?\n",
    "----------------------------------------------------------------------------------------------------------------------------"
   ]
  },
  {
   "cell_type": "code",
   "execution_count": 15,
   "metadata": {
    "id": "tj1iL_IUs4QI"
   },
   "outputs": [
    {
     "data": {
      "application/javascript": [
       "\n",
       "            setTimeout(function() {\n",
       "                var nbb_cell_id = 15;\n",
       "                var nbb_unformatted_code = \"stations=sorted(list(set(df_RR.Name)))\\nfor s in stations:\\n    d = df_TN2s.where(df_TN.Name==s)\\n    d = d[d['Year'].notna()]\\n    # for multi station data, we reset the index to start from 0 to the total rows per station data.\\n    d.index=range(len(d.index)) \\n    df_NewTNData=data_stacking(d, df_NewTNData, s)\\n    \\n    d = df_TX2s.where(df_TX.Name==s)\\n    d = d[d['Year'].notna()]\\n    # for multi station data, we reset the index to start from 0 to the total rows per station data.\\n    d.index=range(len(d.index)) \\n    df_NewTXData=data_stacking(d, df_NewTXData, s)\";\n",
       "                var nbb_formatted_code = \"stations = sorted(list(set(df_RR.Name)))\\nfor s in stations:\\n    d = df_TN2s.where(df_TN.Name == s)\\n    d = d[d[\\\"Year\\\"].notna()]\\n    # for multi station data, we reset the index to start from 0 to the total rows per station data.\\n    d.index = range(len(d.index))\\n    df_NewTNData = data_stacking(d, df_NewTNData, s)\\n\\n    d = df_TX2s.where(df_TX.Name == s)\\n    d = d[d[\\\"Year\\\"].notna()]\\n    # for multi station data, we reset the index to start from 0 to the total rows per station data.\\n    d.index = range(len(d.index))\\n    df_NewTXData = data_stacking(d, df_NewTXData, s)\";\n",
       "                var nbb_cells = Jupyter.notebook.get_cells();\n",
       "                for (var i = 0; i < nbb_cells.length; ++i) {\n",
       "                    if (nbb_cells[i].input_prompt_number == nbb_cell_id) {\n",
       "                        if (nbb_cells[i].get_text() == nbb_unformatted_code) {\n",
       "                             nbb_cells[i].set_text(nbb_formatted_code);\n",
       "                        }\n",
       "                        break;\n",
       "                    }\n",
       "                }\n",
       "            }, 500);\n",
       "            "
      ],
      "text/plain": [
       "<IPython.core.display.Javascript object>"
      ]
     },
     "metadata": {},
     "output_type": "display_data"
    }
   ],
   "source": [
    "stations=sorted(list(set(df_RR.Name)))\n",
    "for s in stations:\n",
    "    d = df_TN2s.where(df_TN.Name==s)\n",
    "    d = d[d['Year'].notna()]\n",
    "    # for multi station data, we reset the index to start from 0 to the total rows per station data.\n",
    "    d.index=range(len(d.index)) \n",
    "    df_NewTNData=data_stacking(d, df_NewTNData, s)\n",
    "    \n",
    "    d = df_TX2s.where(df_TX.Name==s)\n",
    "    d = d[d['Year'].notna()]\n",
    "    # for multi station data, we reset the index to start from 0 to the total rows per station data.\n",
    "    d.index=range(len(d.index)) \n",
    "    df_NewTXData=data_stacking(d, df_NewTXData, s)\n"
   ]
  },
  {
   "cell_type": "markdown",
   "metadata": {
    "id": "jk1dB70NDENm"
   },
   "source": [
    "In the next phase, we will perform data visualization with seaborn. <br >\n",
    "\n",
    "Seaborn is a Python data visualization library based on matplotlib **(https://seaborn.pydata.org/)**. It provides a high-level interface for drawing attractive and informative statistical graphics.<br>\n",
    "\n",
    "**Installation**<br>\n",
    "Official releases of seaborn can be installed from PyPI using:\n",
    "\n",
    "> **pip install seaborn**\n",
    "\n",
    "Alternatively, you can install via the Anaconda distribution using:\n",
    "\n",
    "> **conda install seaborn**\n",
    "\n"
   ]
  },
  {
   "cell_type": "markdown",
   "metadata": {
    "id": "kjCAFrZCEFyr"
   },
   "source": [
    "KDE Plot\n",
    "----------------------------\n",
    "\n",
    "Let's start off with data distribution plots using Seaborn's Kernel Density Estimates (KDE), which is a method for estimating the underlying distribution that data is sampled from by smoothing the sampled using a Gaussian kernel. KDE represents the data using a continuous probability density curve in one or more dimensions. There are other ways of estimating the distribution. <br>\n",
    "\n",
    "Seaborn allows us to visualize the distribution of these observations, analagous to a histogram. "
   ]
  },
  {
   "cell_type": "code",
   "execution_count": 16,
   "metadata": {
    "id": "J_N2Zuqhs4QK",
    "outputId": "97043760-4c6b-490b-d9ac-c2756716e2ab"
   },
   "outputs": [
    {
     "data": {
      "text/plain": [
       "Text(0.5, 0, 'Rainfall (mm)')"
      ]
     },
     "execution_count": 16,
     "metadata": {},
     "output_type": "execute_result"
    },
    {
     "data": {
      "image/png": "[encoded data removed]",
      "text/plain": [
       "<Figure size 432x288 with 1 Axes>"
      ]
     },
     "metadata": {
      "needs_background": "light"
     },
     "output_type": "display_data"
    },
    {
     "data": {
      "application/javascript": [
       "\n",
       "            setTimeout(function() {\n",
       "                var nbb_cell_id = 16;\n",
       "                var nbb_unformatted_code = \"#### Sample Seaborn Visualizations\\nsb.kdeplot(\\n    df_NewRRData[\\\"Kumasi\\\"].astype(float), legend=True, shade=True\\n)  # Distribution plot\\nsb.kdeplot(\\n    df_NewRRData[\\\"Tema\\\"].astype(float), legend=True, shade=True\\n)  # Distribution plot\\n\\nplt.legend(title=\\\"Stations\\\", loc=\\\"upper right\\\", labels=[\\\"Kumasi\\\", \\\"Tema\\\"])\\nplt.xlabel(\\\"Rainfall (mm)\\\")\";\n",
       "                var nbb_formatted_code = \"#### Sample Seaborn Visualizations\\nsb.kdeplot(\\n    df_NewRRData[\\\"Kumasi\\\"].astype(float), legend=True, shade=True\\n)  # Distribution plot\\nsb.kdeplot(\\n    df_NewRRData[\\\"Tema\\\"].astype(float), legend=True, shade=True\\n)  # Distribution plot\\n\\nplt.legend(title=\\\"Stations\\\", loc=\\\"upper right\\\", labels=[\\\"Kumasi\\\", \\\"Tema\\\"])\\nplt.xlabel(\\\"Rainfall (mm)\\\")\";\n",
       "                var nbb_cells = Jupyter.notebook.get_cells();\n",
       "                for (var i = 0; i < nbb_cells.length; ++i) {\n",
       "                    if (nbb_cells[i].input_prompt_number == nbb_cell_id) {\n",
       "                        if (nbb_cells[i].get_text() == nbb_unformatted_code) {\n",
       "                             nbb_cells[i].set_text(nbb_formatted_code);\n",
       "                        }\n",
       "                        break;\n",
       "                    }\n",
       "                }\n",
       "            }, 500);\n",
       "            "
      ],
      "text/plain": [
       "<IPython.core.display.Javascript object>"
      ]
     },
     "metadata": {},
     "output_type": "display_data"
    }
   ],
   "source": [
    "#### Sample Seaborn Visualizations\n",
    "sb.kdeplot(\n",
    "    df_NewRRData[\"Kumasi\"].astype(float), legend=True, shade=True\n",
    ")  # Distribution plot\n",
    "sb.kdeplot(\n",
    "    df_NewRRData[\"Tema\"].astype(float), legend=True, shade=True\n",
    ")  # Distribution plot\n",
    "\n",
    "plt.legend(title=\"Stations\", loc=\"upper right\", labels=[\"Kumasi\", \"Tema\"])\n",
    "plt.xlabel(\"Rainfall (mm)\")"
   ]
  },
  {
   "cell_type": "markdown",
   "metadata": {
    "id": "fZSGTktIEmSv"
   },
   "source": [
    "Scatter Plot\n",
    "----------------------------\n",
    "Scatter plots represent values for two different numeric variables. Scatter plots are used to observe relationships between the two variables.\n",
    "\n",
    "> Let's attempt to see if there's a synergy in the rainfall events in any two locations (eg. Kumasi and Tema)"
   ]
  },
  {
   "cell_type": "code",
   "execution_count": 17,
   "metadata": {
    "id": "zGjmOAu1s4QK",
    "outputId": "4b7676cf-a272-4fdd-80d3-b4ed86bf7cb6"
   },
   "outputs": [
    {
     "data": {
      "text/plain": [
       "Text(0.5, 1.0, 'Rainfall in Kumasi against Tema')"
      ]
     },
     "execution_count": 17,
     "metadata": {},
     "output_type": "execute_result"
    },
    {
     "data": {
      "image/png": "[encoded data removed]",
      "text/plain": [
       "<Figure size 432x288 with 1 Axes>"
      ]
     },
     "metadata": {
      "needs_background": "light"
     },
     "output_type": "display_data"
    },
    {
     "data": {
      "application/javascript": [
       "\n",
       "            setTimeout(function() {\n",
       "                var nbb_cell_id = 17;\n",
       "                var nbb_unformatted_code = \"sb.scatterplot(y=\\\"Kumasi\\\", x=\\\"Tema\\\", data=df_NewRRData)\\nplt.title(\\\"Rainfall in Kumasi against Tema\\\")\";\n",
       "                var nbb_formatted_code = \"sb.scatterplot(y=\\\"Kumasi\\\", x=\\\"Tema\\\", data=df_NewRRData)\\nplt.title(\\\"Rainfall in Kumasi against Tema\\\")\";\n",
       "                var nbb_cells = Jupyter.notebook.get_cells();\n",
       "                for (var i = 0; i < nbb_cells.length; ++i) {\n",
       "                    if (nbb_cells[i].input_prompt_number == nbb_cell_id) {\n",
       "                        if (nbb_cells[i].get_text() == nbb_unformatted_code) {\n",
       "                             nbb_cells[i].set_text(nbb_formatted_code);\n",
       "                        }\n",
       "                        break;\n",
       "                    }\n",
       "                }\n",
       "            }, 500);\n",
       "            "
      ],
      "text/plain": [
       "<IPython.core.display.Javascript object>"
      ]
     },
     "metadata": {},
     "output_type": "display_data"
    }
   ],
   "source": [
    "sb.scatterplot(y=\"Kumasi\", x=\"Tema\", data=df_NewRRData)\n",
    "plt.title(\"Rainfall in Kumasi against Tema\")"
   ]
  },
  {
   "cell_type": "markdown",
   "metadata": {
    "id": "_mBgyWk4Evh4"
   },
   "source": [
    "Joint Plot\n",
    "----------------------------\n",
    "Seaborn's jointplot draws a plot of two variables with bivariate and univariate graphs. The bivariate plot (bottom left) produces a clustered diagram, which is useful in cluster analysis.\n",
    "\n",
    "> Histograms rather produced an error when this command was originally issued. This may not be same in your case. However, as control, the dataset was formatted to floats by using the astype() method and passing the function float as an argument. "
   ]
  },
  {
   "cell_type": "code",
   "execution_count": 18,
   "metadata": {
    "id": "XVvB4Di645BU"
   },
   "outputs": [
    {
     "data": {
      "text/plain": [
       "(0.0, 40.0)"
      ]
     },
     "execution_count": 18,
     "metadata": {},
     "output_type": "execute_result"
    },
    {
     "data": {
      "image/png": "[encoded data removed]",
      "text/plain": [
       "<Figure size 432x432 with 3 Axes>"
      ]
     },
     "metadata": {
      "needs_background": "light"
     },
     "output_type": "display_data"
    },
    {
     "data": {
      "application/javascript": [
       "\n",
       "            setTimeout(function() {\n",
       "                var nbb_cell_id = 18;\n",
       "                var nbb_unformatted_code = \"sb.jointplot(x=\\\"Tema\\\", y=\\\"Kumasi\\\", data=df_NewRRData.astype(float), kind=\\\"hex\\\")\\nplt.suptitle(\\\"Rainfall in Kumasi vs Tema \\\\n\\\\n\\\\n\\\")\\nplt.xlim(0, 40)\\nplt.ylim(0, 40)\";\n",
       "                var nbb_formatted_code = \"sb.jointplot(x=\\\"Tema\\\", y=\\\"Kumasi\\\", data=df_NewRRData.astype(float), kind=\\\"hex\\\")\\nplt.suptitle(\\\"Rainfall in Kumasi vs Tema \\\\n\\\\n\\\\n\\\")\\nplt.xlim(0, 40)\\nplt.ylim(0, 40)\";\n",
       "                var nbb_cells = Jupyter.notebook.get_cells();\n",
       "                for (var i = 0; i < nbb_cells.length; ++i) {\n",
       "                    if (nbb_cells[i].input_prompt_number == nbb_cell_id) {\n",
       "                        if (nbb_cells[i].get_text() == nbb_unformatted_code) {\n",
       "                             nbb_cells[i].set_text(nbb_formatted_code);\n",
       "                        }\n",
       "                        break;\n",
       "                    }\n",
       "                }\n",
       "            }, 500);\n",
       "            "
      ],
      "text/plain": [
       "<IPython.core.display.Javascript object>"
      ]
     },
     "metadata": {},
     "output_type": "display_data"
    }
   ],
   "source": [
    "sb.jointplot(x=\"Tema\", y=\"Kumasi\", data=df_NewRRData.astype(float), kind=\"hex\")\n",
    "plt.suptitle(\"Rainfall in Kumasi vs Tema \\n\\n\\n\")\n",
    "plt.xlim(0, 40)\n",
    "plt.ylim(0, 40)"
   ]
  },
  {
   "cell_type": "markdown",
   "metadata": {
    "id": "RYRB_0fH4-Jh"
   },
   "source": [
    "Let's replicate the jointplot using monthly rainfall totals. Here, we will utilise the pandas groupby() function, in tandem with the Pandas Grouper class. <br>\n",
    "\n",
    "Grouping Data with Groupby() function\n",
    "----------------------------------------\n",
    "\n",
    "The Pandas groupby() method allows for creating categories or groupings, for groupwise approximations, function applications, etc. <br>\n",
    "\n",
    "eg. <br>\n",
    "> Data.groupby(pd.Grouper(freq='Y')).aggregate(np.sum).plot()  #Annual Total <br>\n",
    "> Data.groupby(pd.Grouper(freq='M')).aggregate(np.sum).plot()  #Monthly Total <br>\n",
    "\n",
    "Alternatively, we can use the resample method (shown below): <br>\n",
    "\n",
    "> Data=Data.astype(float).resample('M').sum()   #Monthly Total <br>\n",
    "> Data=Data.astype(float).resample('Y').sum()   #Annual Total <br>\n",
    "\n",
    "You notice that we utilise the pd.Grouper class. A Grouper allows the user to specify a groupby instruction for an object. This specification will select a column via the key parameter, or if the level and/or axis parameters are given, a level of the index of the target object. If axis and/or level are passed as keywords to both Grouper and groupby, the values passed to Grouper take precedence. In the example above, we pass the frequency as a datetime format (eg. \"Y\" for year, \"M\" for month, \"MS\" for start of month, etc.). This allows for grouping the dataframe into either yearly (first example) or monthly (second example) categories. <br>\n",
    "\n",
    "Thereafter, we employ the aggregate function, while passing as argument, the numpy summation function (np.sum). This produces the summation of each monthly or yearly grouping.<br><br>\n",
    "\n",
    "Okay......... Now, let's replicate the jointplot using monthly rainfall totals.\n"
   ]
  },
  {
   "cell_type": "code",
   "execution_count": 19,
   "metadata": {
    "id": "sHUs_Usgs4QL",
    "outputId": "f0ef389c-a1de-49f2-ac40-df1b4c0d3e1b"
   },
   "outputs": [
    {
     "data": {
      "text/plain": [
       "Text(0.5, 0.98, 'Rainfall in Kumasi against Tema \\n\\n\\n')"
      ]
     },
     "execution_count": 19,
     "metadata": {},
     "output_type": "execute_result"
    },
    {
     "data": {
      "image/png": "[encoded data removed]",
      "text/plain": [
       "<Figure size 432x432 with 3 Axes>"
      ]
     },
     "metadata": {
      "needs_background": "light"
     },
     "output_type": "display_data"
    },
    {
     "data": {
      "application/javascript": [
       "\n",
       "            setTimeout(function() {\n",
       "                var nbb_cell_id = 19;\n",
       "                var nbb_unformatted_code = \"sb.jointplot(\\n    x=\\\"Tema\\\",\\n    y=\\\"Kumasi\\\",\\n    data=df_NewRRData.groupby(pd.Grouper(freq=\\\"M\\\")).sum().astype(float),\\n    kind=\\\"hex\\\",\\n)\\nplt.suptitle(\\\"Rainfall in Kumasi against Tema \\\\n\\\\n\\\\n\\\")\";\n",
       "                var nbb_formatted_code = \"sb.jointplot(\\n    x=\\\"Tema\\\",\\n    y=\\\"Kumasi\\\",\\n    data=df_NewRRData.groupby(pd.Grouper(freq=\\\"M\\\")).sum().astype(float),\\n    kind=\\\"hex\\\",\\n)\\nplt.suptitle(\\\"Rainfall in Kumasi against Tema \\\\n\\\\n\\\\n\\\")\";\n",
       "                var nbb_cells = Jupyter.notebook.get_cells();\n",
       "                for (var i = 0; i < nbb_cells.length; ++i) {\n",
       "                    if (nbb_cells[i].input_prompt_number == nbb_cell_id) {\n",
       "                        if (nbb_cells[i].get_text() == nbb_unformatted_code) {\n",
       "                             nbb_cells[i].set_text(nbb_formatted_code);\n",
       "                        }\n",
       "                        break;\n",
       "                    }\n",
       "                }\n",
       "            }, 500);\n",
       "            "
      ],
      "text/plain": [
       "<IPython.core.display.Javascript object>"
      ]
     },
     "metadata": {},
     "output_type": "display_data"
    }
   ],
   "source": [
    "sb.jointplot(\n",
    "    x=\"Tema\",\n",
    "    y=\"Kumasi\",\n",
    "    data=df_NewRRData.groupby(pd.Grouper(freq=\"M\")).sum().astype(float),\n",
    "    kind=\"hex\",\n",
    ")\n",
    "plt.suptitle(\"Rainfall in Kumasi against Tema \\n\\n\\n\")"
   ]
  },
  {
   "cell_type": "markdown",
   "metadata": {
    "id": "8u0r2VriE5FL"
   },
   "source": [
    "Pair Plot\n",
    "----------------------------\n",
    "A simple way of identifying relations between each numerical series of a dataframe."
   ]
  },
  {
   "cell_type": "code",
   "execution_count": 20,
   "metadata": {
    "id": "N2_2KZ_-s4QL",
    "outputId": "e9a566f4-c79f-479e-b7b1-95d85282fbb0"
   },
   "outputs": [
    {
     "data": {
      "text/plain": [
       "<seaborn.axisgrid.PairGrid at 0x1602c34c0>"
      ]
     },
     "execution_count": 20,
     "metadata": {},
     "output_type": "execute_result"
    },
    {
     "data": {
      "image/png": "[encoded data removed]",
      "text/plain": [
       "<Figure size 540x540 with 12 Axes>"
      ]
     },
     "metadata": {
      "needs_background": "light"
     },
     "output_type": "display_data"
    },
    {
     "data": {
      "application/javascript": [
       "\n",
       "            setTimeout(function() {\n",
       "                var nbb_cell_id = 20;\n",
       "                var nbb_unformatted_code = \"sb.pairplot(\\n    df_NewRRData.groupby(pd.Grouper(freq=\\\"M\\\")).sum().astype(float), diag_kind=\\\"hist\\\"\\n)\";\n",
       "                var nbb_formatted_code = \"sb.pairplot(\\n    df_NewRRData.groupby(pd.Grouper(freq=\\\"M\\\")).sum().astype(float), diag_kind=\\\"hist\\\"\\n)\";\n",
       "                var nbb_cells = Jupyter.notebook.get_cells();\n",
       "                for (var i = 0; i < nbb_cells.length; ++i) {\n",
       "                    if (nbb_cells[i].input_prompt_number == nbb_cell_id) {\n",
       "                        if (nbb_cells[i].get_text() == nbb_unformatted_code) {\n",
       "                             nbb_cells[i].set_text(nbb_formatted_code);\n",
       "                        }\n",
       "                        break;\n",
       "                    }\n",
       "                }\n",
       "            }, 500);\n",
       "            "
      ],
      "text/plain": [
       "<IPython.core.display.Javascript object>"
      ]
     },
     "metadata": {},
     "output_type": "display_data"
    }
   ],
   "source": [
    "sb.pairplot(\n",
    "    df_NewRRData.groupby(pd.Grouper(freq=\"M\")).sum().astype(float), diag_kind=\"hist\"\n",
    ")"
   ]
  },
  {
   "cell_type": "markdown",
   "metadata": {
    "id": "OuYgsh4wFGON"
   },
   "source": [
    "Quick look into the Timeseries\n",
    "----------------------------"
   ]
  },
  {
   "cell_type": "code",
   "execution_count": 21,
   "metadata": {
    "id": "YFJCayX1s4QM",
    "outputId": "88ed3a29-84b1-4de0-9779-fd2100f6b123"
   },
   "outputs": [
    {
     "data": {
      "image/png": "[encoded data removed]",
      "text/plain": [
       "<Figure size 864x576 with 3 Axes>"
      ]
     },
     "metadata": {
      "needs_background": "light"
     },
     "output_type": "display_data"
    },
    {
     "data": {
      "application/javascript": [
       "\n",
       "            setTimeout(function() {\n",
       "                var nbb_cell_id = 21;\n",
       "                var nbb_unformatted_code = \"### Quicklook into the Data\\ncols_plot = stations\\naxes = df_NewRRData[cols_plot].plot(linestyle=\\\"-\\\", figsize=(12, 8), subplots=True)\\n### NewRRData[cols_plot] aids in extracting the Rainfall data to visualize for each station.\\nfor ax in axes:\\n    ax.set_ylabel(\\\"Rainfall (mm)\\\")\\n    ax.set_ylim(0, 150)\";\n",
       "                var nbb_formatted_code = \"### Quicklook into the Data\\ncols_plot = stations\\naxes = df_NewRRData[cols_plot].plot(linestyle=\\\"-\\\", figsize=(12, 8), subplots=True)\\n### NewRRData[cols_plot] aids in extracting the Rainfall data to visualize for each station.\\nfor ax in axes:\\n    ax.set_ylabel(\\\"Rainfall (mm)\\\")\\n    ax.set_ylim(0, 150)\";\n",
       "                var nbb_cells = Jupyter.notebook.get_cells();\n",
       "                for (var i = 0; i < nbb_cells.length; ++i) {\n",
       "                    if (nbb_cells[i].input_prompt_number == nbb_cell_id) {\n",
       "                        if (nbb_cells[i].get_text() == nbb_unformatted_code) {\n",
       "                             nbb_cells[i].set_text(nbb_formatted_code);\n",
       "                        }\n",
       "                        break;\n",
       "                    }\n",
       "                }\n",
       "            }, 500);\n",
       "            "
      ],
      "text/plain": [
       "<IPython.core.display.Javascript object>"
      ]
     },
     "metadata": {},
     "output_type": "display_data"
    }
   ],
   "source": [
    "### Quicklook into the Data\n",
    "cols_plot = stations\n",
    "axes = df_NewRRData[cols_plot].plot(linestyle=\"-\", figsize=(12, 8), subplots=True)\n",
    "### NewRRData[cols_plot] aids in extracting the Rainfall data to visualize for each station.\n",
    "for ax in axes:\n",
    "    ax.set_ylabel(\"Rainfall (mm)\")\n",
    "    ax.set_ylim(0, 150)"
   ]
  },
  {
   "cell_type": "code",
   "execution_count": 22,
   "metadata": {
    "id": "gC5aU2nes4QO",
    "outputId": "fa14d017-5ddf-41b4-efe8-17f9d8f35610"
   },
   "outputs": [
    {
     "data": {
      "image/png": "[encoded data removed]",
      "text/plain": [
       "<Figure size 864x576 with 3 Axes>"
      ]
     },
     "metadata": {
      "needs_background": "light"
     },
     "output_type": "display_data"
    },
    {
     "data": {
      "application/javascript": [
       "\n",
       "            setTimeout(function() {\n",
       "                var nbb_cell_id = 22;\n",
       "                var nbb_unformatted_code = \"### Now let's replicate for the daily minimum temperature data.\\ncols_plot = stations\\naxes = df_NewTNData[cols_plot].plot(linestyle=\\\"-\\\", figsize=(12, 8), subplots=True)\\nfor ax in axes:\\n    # ax.set_ylabel('Rainfall (mm)')\\n    ax.set_ylabel(r\\\"Temp. ($^o$ C)\\\")\\n    # ax.set_ylim(0,150)\";\n",
       "                var nbb_formatted_code = \"### Now let's replicate for the daily minimum temperature data.\\ncols_plot = stations\\naxes = df_NewTNData[cols_plot].plot(linestyle=\\\"-\\\", figsize=(12, 8), subplots=True)\\nfor ax in axes:\\n    # ax.set_ylabel('Rainfall (mm)')\\n    ax.set_ylabel(r\\\"Temp. ($^o$ C)\\\")\\n    # ax.set_ylim(0,150)\";\n",
       "                var nbb_cells = Jupyter.notebook.get_cells();\n",
       "                for (var i = 0; i < nbb_cells.length; ++i) {\n",
       "                    if (nbb_cells[i].input_prompt_number == nbb_cell_id) {\n",
       "                        if (nbb_cells[i].get_text() == nbb_unformatted_code) {\n",
       "                             nbb_cells[i].set_text(nbb_formatted_code);\n",
       "                        }\n",
       "                        break;\n",
       "                    }\n",
       "                }\n",
       "            }, 500);\n",
       "            "
      ],
      "text/plain": [
       "<IPython.core.display.Javascript object>"
      ]
     },
     "metadata": {},
     "output_type": "display_data"
    }
   ],
   "source": [
    "### Now let's replicate for the daily minimum temperature data.\n",
    "cols_plot = stations\n",
    "axes = df_NewTNData[cols_plot].plot(linestyle=\"-\", figsize=(12, 8), subplots=True)\n",
    "for ax in axes:\n",
    "    # ax.set_ylabel('Rainfall (mm)')\n",
    "    ax.set_ylabel(r\"Temp. ($^o$ C)\")\n",
    "    # ax.set_ylim(0,150)"
   ]
  },
  {
   "cell_type": "markdown",
   "metadata": {
    "id": "WKNDmwEkFShq"
   },
   "source": [
    "Recap:  Grouping Data with Groupby() function\n",
    "----------------------------------------\n",
    "\n",
    "It allows for creating categories or groupings, for groupwise approximations, function applications, etc. <br>\n",
    "\n",
    "eg. <br>\n",
    "Data.groupby(pd.Grouper(freq='Y')).aggregate(np.sum).plot()  #Annual Total <br>\n",
    "Data.groupby(pd.Grouper(freq='M')).aggregate(np.sum).plot()  #Monthly Total\n"
   ]
  },
  {
   "cell_type": "code",
   "execution_count": 23,
   "metadata": {
    "id": "o7qIorZns4QM",
    "outputId": "5bdff13b-ad87-4929-91f1-11cd4ff3cd70"
   },
   "outputs": [
    {
     "data": {
      "text/plain": [
       "<AxesSubplot:xlabel='date'>"
      ]
     },
     "execution_count": 23,
     "metadata": {},
     "output_type": "execute_result"
    },
    {
     "data": {
      "image/png": "[encoded data removed]",
      "text/plain": [
       "<Figure size 432x288 with 1 Axes>"
      ]
     },
     "metadata": {
      "needs_background": "light"
     },
     "output_type": "display_data"
    },
    {
     "data": {
      "image/png": "[encoded data removed]",
      "text/plain": [
       "<Figure size 432x288 with 1 Axes>"
      ]
     },
     "metadata": {
      "needs_background": "light"
     },
     "output_type": "display_data"
    },
    {
     "data": {
      "application/javascript": [
       "\n",
       "            setTimeout(function() {\n",
       "                var nbb_cell_id = 23;\n",
       "                var nbb_unformatted_code = \"#### Moving Averages\\ndf_Month_Data = df_NewRRData.groupby(pd.Grouper(freq=\\\"M\\\")).aggregate(np.sum)\\ndf_Month_Data.plot()\\ndf_Month_Data.rolling(2).mean().plot()\";\n",
       "                var nbb_formatted_code = \"#### Moving Averages\\ndf_Month_Data = df_NewRRData.groupby(pd.Grouper(freq=\\\"M\\\")).aggregate(np.sum)\\ndf_Month_Data.plot()\\ndf_Month_Data.rolling(2).mean().plot()\";\n",
       "                var nbb_cells = Jupyter.notebook.get_cells();\n",
       "                for (var i = 0; i < nbb_cells.length; ++i) {\n",
       "                    if (nbb_cells[i].input_prompt_number == nbb_cell_id) {\n",
       "                        if (nbb_cells[i].get_text() == nbb_unformatted_code) {\n",
       "                             nbb_cells[i].set_text(nbb_formatted_code);\n",
       "                        }\n",
       "                        break;\n",
       "                    }\n",
       "                }\n",
       "            }, 500);\n",
       "            "
      ],
      "text/plain": [
       "<IPython.core.display.Javascript object>"
      ]
     },
     "metadata": {},
     "output_type": "display_data"
    }
   ],
   "source": [
    "#### Moving Averages\n",
    "df_Month_Data = df_NewRRData.groupby(pd.Grouper(freq=\"M\")).aggregate(np.sum)\n",
    "df_Month_Data.plot()\n",
    "df_Month_Data.rolling(2).mean().plot()"
   ]
  },
  {
   "cell_type": "markdown",
   "metadata": {
    "id": "qRN9UVkEs4QN"
   },
   "source": [
    "\n",
    "Extreme Rainfall Events\n",
    "-------------------------------------------------------------------------------------------------------------------------------\n",
    "- **Rainy Days :** rainfall amount above 1 mm<br />\n",
    "- **Rnnmm (eg. R10mm, R20mm, R50mm) :** events with rainfall amount above 10 mm, 20mm, and 50 mm respectively. <br>\n",
    "- **Percentile** "
   ]
  },
  {
   "cell_type": "markdown",
   "metadata": {
    "id": "1Y9VleYL86q_"
   },
   "source": [
    "An alternative for identifying elements of a dataframe that meet a specific criteria is to pass the criteria within a square brackets attached to the dataframe. <br>\n",
    "\n",
    "**For example:** <br>\n",
    "> **a[a>1]** implies extracting all **a** elements where the value of **a** exceeds 1.<br><br>\n",
    "\n",
    "We will employ this simplistic indexing method to map out rainy days and rainfall extremes."
   ]
  },
  {
   "cell_type": "code",
   "execution_count": 24,
   "metadata": {
    "id": "sTFIVJxks4QN"
   },
   "outputs": [
    {
     "data": {
      "application/javascript": [
       "\n",
       "            setTimeout(function() {\n",
       "                var nbb_cell_id = 24;\n",
       "                var nbb_unformatted_code = \"df_Rainy_days = (\\n    df_NewRRData[df_NewRRData >= 1].groupby(pd.Grouper(freq=\\\"M\\\")).count()\\n)  # Count of Rainy Days per month\\ndf_R10mm = (\\n    df_NewRRData[df_NewRRData >= 10].groupby(pd.Grouper(freq=\\\"M\\\")).count()\\n)  # Count of R10mm events per month\\ndf_R20mm = (\\n    df_NewRRData[df_NewRRData >= 20].groupby(pd.Grouper(freq=\\\"M\\\")).count()\\n)  # Count of R20mm events per month\\ndf_R50mm = (\\n    df_NewRRData[df_NewRRData >= 50].groupby(pd.Grouper(freq=\\\"M\\\")).count()\\n)  # Count of R50mm events per month\";\n",
       "                var nbb_formatted_code = \"df_Rainy_days = (\\n    df_NewRRData[df_NewRRData >= 1].groupby(pd.Grouper(freq=\\\"M\\\")).count()\\n)  # Count of Rainy Days per month\\ndf_R10mm = (\\n    df_NewRRData[df_NewRRData >= 10].groupby(pd.Grouper(freq=\\\"M\\\")).count()\\n)  # Count of R10mm events per month\\ndf_R20mm = (\\n    df_NewRRData[df_NewRRData >= 20].groupby(pd.Grouper(freq=\\\"M\\\")).count()\\n)  # Count of R20mm events per month\\ndf_R50mm = (\\n    df_NewRRData[df_NewRRData >= 50].groupby(pd.Grouper(freq=\\\"M\\\")).count()\\n)  # Count of R50mm events per month\";\n",
       "                var nbb_cells = Jupyter.notebook.get_cells();\n",
       "                for (var i = 0; i < nbb_cells.length; ++i) {\n",
       "                    if (nbb_cells[i].input_prompt_number == nbb_cell_id) {\n",
       "                        if (nbb_cells[i].get_text() == nbb_unformatted_code) {\n",
       "                             nbb_cells[i].set_text(nbb_formatted_code);\n",
       "                        }\n",
       "                        break;\n",
       "                    }\n",
       "                }\n",
       "            }, 500);\n",
       "            "
      ],
      "text/plain": [
       "<IPython.core.display.Javascript object>"
      ]
     },
     "metadata": {},
     "output_type": "display_data"
    }
   ],
   "source": [
    "df_Rainy_days = (\n",
    "    df_NewRRData[df_NewRRData >= 1].groupby(pd.Grouper(freq=\"M\")).count()\n",
    ")  # Count of Rainy Days per month\n",
    "df_R10mm = (\n",
    "    df_NewRRData[df_NewRRData >= 10].groupby(pd.Grouper(freq=\"M\")).count()\n",
    ")  # Count of R10mm events per month\n",
    "df_R20mm = (\n",
    "    df_NewRRData[df_NewRRData >= 20].groupby(pd.Grouper(freq=\"M\")).count()\n",
    ")  # Count of R20mm events per month\n",
    "df_R50mm = (\n",
    "    df_NewRRData[df_NewRRData >= 50].groupby(pd.Grouper(freq=\"M\")).count()\n",
    ")  # Count of R50mm events per month"
   ]
  },
  {
   "cell_type": "code",
   "execution_count": 25,
   "metadata": {},
   "outputs": [
    {
     "data": {
      "text/plain": [
       "<AxesSubplot:xlabel='date'>"
      ]
     },
     "execution_count": 25,
     "metadata": {},
     "output_type": "execute_result"
    },
    {
     "data": {
      "image/png": "[encoded data removed]",
      "text/plain": [
       "<Figure size 432x288 with 1 Axes>"
      ]
     },
     "metadata": {
      "needs_background": "light"
     },
     "output_type": "display_data"
    },
    {
     "data": {
      "image/png": "[encoded data removed]",
      "text/plain": [
       "<Figure size 432x288 with 1 Axes>"
      ]
     },
     "metadata": {
      "needs_background": "light"
     },
     "output_type": "display_data"
    },
    {
     "data": {
      "application/javascript": [
       "\n",
       "            setTimeout(function() {\n",
       "                var nbb_cell_id = 25;\n",
       "                var nbb_unformatted_code = \"df_Rainy_days.plot()\\ndf_R20mm.plot()\";\n",
       "                var nbb_formatted_code = \"df_Rainy_days.plot()\\ndf_R20mm.plot()\";\n",
       "                var nbb_cells = Jupyter.notebook.get_cells();\n",
       "                for (var i = 0; i < nbb_cells.length; ++i) {\n",
       "                    if (nbb_cells[i].input_prompt_number == nbb_cell_id) {\n",
       "                        if (nbb_cells[i].get_text() == nbb_unformatted_code) {\n",
       "                             nbb_cells[i].set_text(nbb_formatted_code);\n",
       "                        }\n",
       "                        break;\n",
       "                    }\n",
       "                }\n",
       "            }, 500);\n",
       "            "
      ],
      "text/plain": [
       "<IPython.core.display.Javascript object>"
      ]
     },
     "metadata": {},
     "output_type": "display_data"
    }
   ],
   "source": [
    "df_Rainy_days.plot()\n",
    "df_R20mm.plot()"
   ]
  },
  {
   "cell_type": "markdown",
   "metadata": {
    "id": "y96Pw5aJAFkH"
   },
   "source": [
    "**Let's quantify the rainfall extremes using the percentile approach**<br>\n",
    "\n",
    "> 1. First, we compute the 95th percentile of the rainfall data using **.quantile(.95)** method. This serves as the threshold for extreme events. \n",
    "> 2. Next, we subtract the 95th percentile rainfall amount from the entire data series.\n",
    "\n",
    "> 3. Afterwards, we employ the .where() method to map out where there is a positive difference (indicating an extreme event), and then ... \n",
    "> 4. we use .count() to quantify the number of these extreme events."
   ]
  },
  {
   "cell_type": "code",
   "execution_count": 26,
   "metadata": {
    "id": "wgm_NkZfs4QN"
   },
   "outputs": [
    {
     "data": {
      "text/plain": [
       "Text(0.5, 1.0, 'Events above the Percentile')"
      ]
     },
     "execution_count": 26,
     "metadata": {},
     "output_type": "execute_result"
    },
    {
     "data": {
      "image/png": "[encoded data removed]",
      "text/plain": [
       "<Figure size 432x288 with 1 Axes>"
      ]
     },
     "metadata": {
      "needs_background": "light"
     },
     "output_type": "display_data"
    },
    {
     "data": {
      "application/javascript": [
       "\n",
       "            setTimeout(function() {\n",
       "                var nbb_cell_id = 26;\n",
       "                var nbb_unformatted_code = \"perc=df_NewRRData['Kumasi'].quantile(.95)   #This produces the 95th percentile value.\\ndiff=(df_NewRRData['Kumasi']-perc)\\nEvents_95 = diff.where(diff>0).count()\\npercentage=round((Events_95/diff.count())*100, 3) #Compute the percentage of extreme events in a defined station\\ndiff.plot(label='n = '+str(Events_95)+'\\\\nPercent = '+str(percentage)+'%')\\nplt.axhline(y=0, color='r')\\nplt.legend()\\nplt.title('Events above the Percentile')\";\n",
       "                var nbb_formatted_code = \"perc = df_NewRRData[\\\"Kumasi\\\"].quantile(0.95)  # This produces the 95th percentile value.\\ndiff = df_NewRRData[\\\"Kumasi\\\"] - perc\\nEvents_95 = diff.where(diff > 0).count()\\npercentage = round(\\n    (Events_95 / diff.count()) * 100, 3\\n)  # Compute the percentage of extreme events in a defined station\\ndiff.plot(label=\\\"n = \\\" + str(Events_95) + \\\"\\\\nPercent = \\\" + str(percentage) + \\\"%\\\")\\nplt.axhline(y=0, color=\\\"r\\\")\\nplt.legend()\\nplt.title(\\\"Events above the Percentile\\\")\";\n",
       "                var nbb_cells = Jupyter.notebook.get_cells();\n",
       "                for (var i = 0; i < nbb_cells.length; ++i) {\n",
       "                    if (nbb_cells[i].input_prompt_number == nbb_cell_id) {\n",
       "                        if (nbb_cells[i].get_text() == nbb_unformatted_code) {\n",
       "                             nbb_cells[i].set_text(nbb_formatted_code);\n",
       "                        }\n",
       "                        break;\n",
       "                    }\n",
       "                }\n",
       "            }, 500);\n",
       "            "
      ],
      "text/plain": [
       "<IPython.core.display.Javascript object>"
      ]
     },
     "metadata": {},
     "output_type": "display_data"
    }
   ],
   "source": [
    "perc=df_NewRRData['Kumasi'].quantile(.95)   #This produces the 95th percentile value.\n",
    "diff=(df_NewRRData['Kumasi']-perc)\n",
    "Events_95 = diff.where(diff>0).count()\n",
    "percentage=round((Events_95/diff.count())*100, 3) #Compute the percentage of extreme events in a defined station\n",
    "diff.plot(label='n = '+str(Events_95)+'\\nPercent = '+str(percentage)+'%')\n",
    "plt.axhline(y=0, color='r')\n",
    "plt.legend()\n",
    "plt.title('Events above the Percentile')\n",
    "\n"
   ]
  },
  {
   "cell_type": "markdown",
   "metadata": {
    "id": "dqZ6Yq7kG0Oj"
   },
   "source": [
    "**Trend Assessmet using PyMannKendall**\n",
    "--------------------------------------\n",
    "Pymannkendall (**https://pypi.org/project/pymannkendall/**) allows for trend assessment in a dataset/observation. The package details out numerous sub-packages that are useful for various forms of trend assessment. For simplicity, we will focus on the Mann-Kendall original test. Nonetheless, feel free to try out its numerous trend assessment types after the class. <br> <br><br>\n",
    "\n",
    "**Extra Article:** <br>\n",
    "https://www.researchgate.net/publication/334688255_pyMannKendall_a_python_package_for_non_parametric_Mann_Kendall_family_of_trend_tests <br><br><br>\n",
    "\n",
    "Let's start by importing the PyMannKendall package using <br>\n",
    "> **import *pymannkendall* as *mk***\n"
   ]
  },
  {
   "cell_type": "code",
   "execution_count": 27,
   "metadata": {
    "id": "V1EyFvOps4QO",
    "outputId": "9ba8734e-eba4-4c31-e141-0028fdc639fd"
   },
   "outputs": [
    {
     "data": {
      "application/javascript": [
       "\n",
       "            setTimeout(function() {\n",
       "                var nbb_cell_id = 27;\n",
       "                var nbb_unformatted_code = \"import pymannkendall as mk\\n\\n?mk.original_test\";\n",
       "                var nbb_formatted_code = \"import pymannkendall as mk\\n\\n?mk.original_test\";\n",
       "                var nbb_cells = Jupyter.notebook.get_cells();\n",
       "                for (var i = 0; i < nbb_cells.length; ++i) {\n",
       "                    if (nbb_cells[i].input_prompt_number == nbb_cell_id) {\n",
       "                        if (nbb_cells[i].get_text() == nbb_unformatted_code) {\n",
       "                             nbb_cells[i].set_text(nbb_formatted_code);\n",
       "                        }\n",
       "                        break;\n",
       "                    }\n",
       "                }\n",
       "            }, 500);\n",
       "            "
      ],
      "text/plain": [
       "<IPython.core.display.Javascript object>"
      ]
     },
     "metadata": {},
     "output_type": "display_data"
    }
   ],
   "source": [
    "import pymannkendall as mk\n",
    "\n",
    "?mk.original_test"
   ]
  },
  {
   "cell_type": "code",
   "execution_count": 28,
   "metadata": {
    "id": "Wskpnh-cs4QP"
   },
   "outputs": [
    {
     "data": {
      "text/plain": [
       "Mann_Kendall_Test(trend='no trend', h=False, p=0.8654923860158847, z=-0.16938682484329096, Tau=-0.0024978200331917527, s=-2664.0, var_s=247162784.0, slope=0.0, intercept=0.0)"
      ]
     },
     "execution_count": 28,
     "metadata": {},
     "output_type": "execute_result"
    },
    {
     "data": {
      "application/javascript": [
       "\n",
       "            setTimeout(function() {\n",
       "                var nbb_cell_id = 28;\n",
       "                var nbb_unformatted_code = \"# Trends In Data With PyMannKendall\\nmk.original_test(df_NewRRData[\\\"Kumasi\\\"].astype(float))\";\n",
       "                var nbb_formatted_code = \"# Trends In Data With PyMannKendall\\nmk.original_test(df_NewRRData[\\\"Kumasi\\\"].astype(float))\";\n",
       "                var nbb_cells = Jupyter.notebook.get_cells();\n",
       "                for (var i = 0; i < nbb_cells.length; ++i) {\n",
       "                    if (nbb_cells[i].input_prompt_number == nbb_cell_id) {\n",
       "                        if (nbb_cells[i].get_text() == nbb_unformatted_code) {\n",
       "                             nbb_cells[i].set_text(nbb_formatted_code);\n",
       "                        }\n",
       "                        break;\n",
       "                    }\n",
       "                }\n",
       "            }, 500);\n",
       "            "
      ],
      "text/plain": [
       "<IPython.core.display.Javascript object>"
      ]
     },
     "metadata": {},
     "output_type": "display_data"
    }
   ],
   "source": [
    "# Trends In Data With PyMannKendall\n",
    "mk.original_test(df_NewRRData[\"Kumasi\"].astype(float))"
   ]
  },
  {
   "cell_type": "markdown",
   "metadata": {
    "id": "Nu1Xdh-7E7Ei"
   },
   "source": [
    "The output from the above cell provides <br>\n",
    "\n",
    "**Output:**\n",
    ">    trend: tells the trend (increasing, decreasing or no trend)<br>\n",
    ">    h: True (if trend is present) or False (if trend is absence)<br>\n",
    ">    p: p-value of the significance test (eg. P<0.05 implies data is significant at 95% confidence level)  <br>\n",
    ">    z: normalized test statistics <br>\n",
    ">    Tau: Kendall Tau <br>\n",
    ">    s: Mann-Kendal's score <br>\n",
    ">    var_s: Variance S <br>\n",
    ">    slope: sen's slope <br>"
   ]
  },
  {
   "cell_type": "markdown",
   "metadata": {
    "id": "it52QbB6D0D4"
   },
   "source": [
    "Next, we attempt to produce the slopes for each given station's monthly rainfall totals"
   ]
  },
  {
   "cell_type": "code",
   "execution_count": 29,
   "metadata": {
    "id": "4xc_89JJs4QP"
   },
   "outputs": [
    {
     "name": "stdout",
     "output_type": "stream",
     "text": [
      "Kumasi 0.3897727272727275\n",
      "Tamale 0.0\n",
      "Tema -0.7999999999999992\n"
     ]
    },
    {
     "data": {
      "application/javascript": [
       "\n",
       "            setTimeout(function() {\n",
       "                var nbb_cell_id = 29;\n",
       "                var nbb_unformatted_code = \"for station in stations:\\n    print(\\n        station,\\n        mk.original_test(\\n            df_NewRRData[station]\\n            .groupby(pd.Grouper(freq=\\\"M\\\"))\\n            .sum()\\n            .dropna()\\n            .astype(float)\\n        ).slope,\\n    )\";\n",
       "                var nbb_formatted_code = \"for station in stations:\\n    print(\\n        station,\\n        mk.original_test(\\n            df_NewRRData[station]\\n            .groupby(pd.Grouper(freq=\\\"M\\\"))\\n            .sum()\\n            .dropna()\\n            .astype(float)\\n        ).slope,\\n    )\";\n",
       "                var nbb_cells = Jupyter.notebook.get_cells();\n",
       "                for (var i = 0; i < nbb_cells.length; ++i) {\n",
       "                    if (nbb_cells[i].input_prompt_number == nbb_cell_id) {\n",
       "                        if (nbb_cells[i].get_text() == nbb_unformatted_code) {\n",
       "                             nbb_cells[i].set_text(nbb_formatted_code);\n",
       "                        }\n",
       "                        break;\n",
       "                    }\n",
       "                }\n",
       "            }, 500);\n",
       "            "
      ],
      "text/plain": [
       "<IPython.core.display.Javascript object>"
      ]
     },
     "metadata": {},
     "output_type": "display_data"
    }
   ],
   "source": [
    "for station in stations:\n",
    "    print(\n",
    "        station,\n",
    "        mk.original_test(\n",
    "            df_NewRRData[station]\n",
    "            .groupby(pd.Grouper(freq=\"M\"))\n",
    "            .sum()\n",
    "            .dropna()\n",
    "            .astype(float)\n",
    "        ).slope,\n",
    "    )"
   ]
  },
  {
   "cell_type": "markdown",
   "metadata": {
    "id": "I1Cxo3Vqs4QQ"
   },
   "source": [
    "______________________________________________________________________________________________________________________________"
   ]
  },
  {
   "cell_type": "markdown",
   "metadata": {
    "id": "YaysB5rGs4QQ"
   },
   "source": [
    "Tasks / Activity\n",
    "-------------------------------------------------------------------------------------------------------------------------------\n",
    "For the stacked data: <br><br>\n",
    "    1. Compute Monthly and Annual Mean Temperature <br>\n",
    "    2. Identify the trends and magnitude of slope in the computed means in (1).<br>\n",
    "    3. Using seaborn jointplot, let's produce a cluster plot of temperature and rainfall in any of the other locations. <br>"
   ]
  },
  {
   "cell_type": "code",
   "execution_count": 30,
   "metadata": {
    "id": "xKXT4aAJs4QQ"
   },
   "outputs": [
    {
     "data": {
      "text/html": [
       "<div>\n",
       "<style scoped>\n",
       "    .dataframe tbody tr th:only-of-type {\n",
       "        vertical-align: middle;\n",
       "    }\n",
       "\n",
       "    .dataframe tbody tr th {\n",
       "        vertical-align: top;\n",
       "    }\n",
       "\n",
       "    .dataframe thead th {\n",
       "        text-align: right;\n",
       "    }\n",
       "</style>\n",
       "<table border=\"1\" class=\"dataframe\">\n",
       "  <thead>\n",
       "    <tr style=\"text-align: right;\">\n",
       "      <th></th>\n",
       "      <th>Kumasi</th>\n",
       "      <th>Tamale</th>\n",
       "      <th>Tema</th>\n",
       "    </tr>\n",
       "    <tr>\n",
       "      <th>date</th>\n",
       "      <th></th>\n",
       "      <th></th>\n",
       "      <th></th>\n",
       "    </tr>\n",
       "  </thead>\n",
       "  <tbody>\n",
       "    <tr>\n",
       "      <th>2010-01-01</th>\n",
       "      <td>27.25</td>\n",
       "      <td>28.25</td>\n",
       "      <td>28.4</td>\n",
       "    </tr>\n",
       "    <tr>\n",
       "      <th>2010-01-02</th>\n",
       "      <td>28.0</td>\n",
       "      <td>27.05</td>\n",
       "      <td>28.4</td>\n",
       "    </tr>\n",
       "    <tr>\n",
       "      <th>2010-01-03</th>\n",
       "      <td>28.15</td>\n",
       "      <td>26.8</td>\n",
       "      <td>28.45</td>\n",
       "    </tr>\n",
       "    <tr>\n",
       "      <th>2010-01-04</th>\n",
       "      <td>28.2</td>\n",
       "      <td>26.3</td>\n",
       "      <td>29.0</td>\n",
       "    </tr>\n",
       "    <tr>\n",
       "      <th>2010-01-05</th>\n",
       "      <td>26.75</td>\n",
       "      <td>25.65</td>\n",
       "      <td>29.25</td>\n",
       "    </tr>\n",
       "    <tr>\n",
       "      <th>...</th>\n",
       "      <td>...</td>\n",
       "      <td>...</td>\n",
       "      <td>...</td>\n",
       "    </tr>\n",
       "    <tr>\n",
       "      <th>2013-12-27</th>\n",
       "      <td>26.7</td>\n",
       "      <td>27.109722</td>\n",
       "      <td>28.6</td>\n",
       "    </tr>\n",
       "    <tr>\n",
       "      <th>2013-12-28</th>\n",
       "      <td>27.8</td>\n",
       "      <td>26.716667</td>\n",
       "      <td>28.95</td>\n",
       "    </tr>\n",
       "    <tr>\n",
       "      <th>2013-12-29</th>\n",
       "      <td>27.0</td>\n",
       "      <td>26.773611</td>\n",
       "      <td>29.15</td>\n",
       "    </tr>\n",
       "    <tr>\n",
       "      <th>2013-12-30</th>\n",
       "      <td>27.85</td>\n",
       "      <td>26.319444</td>\n",
       "      <td>28.95</td>\n",
       "    </tr>\n",
       "    <tr>\n",
       "      <th>2013-12-31</th>\n",
       "      <td>27.2</td>\n",
       "      <td>26.05</td>\n",
       "      <td>27.0</td>\n",
       "    </tr>\n",
       "  </tbody>\n",
       "</table>\n",
       "<p>1461 rows × 3 columns</p>\n",
       "</div>"
      ],
      "text/plain": [
       "           Kumasi     Tamale   Tema\n",
       "date                               \n",
       "2010-01-01  27.25      28.25   28.4\n",
       "2010-01-02   28.0      27.05   28.4\n",
       "2010-01-03  28.15       26.8  28.45\n",
       "2010-01-04   28.2       26.3   29.0\n",
       "2010-01-05  26.75      25.65  29.25\n",
       "...           ...        ...    ...\n",
       "2013-12-27   26.7  27.109722   28.6\n",
       "2013-12-28   27.8  26.716667  28.95\n",
       "2013-12-29   27.0  26.773611  29.15\n",
       "2013-12-30  27.85  26.319444  28.95\n",
       "2013-12-31   27.2      26.05   27.0\n",
       "\n",
       "[1461 rows x 3 columns]"
      ]
     },
     "execution_count": 30,
     "metadata": {},
     "output_type": "execute_result"
    },
    {
     "data": {
      "application/javascript": [
       "\n",
       "            setTimeout(function() {\n",
       "                var nbb_cell_id = 30;\n",
       "                var nbb_unformatted_code = \"df_Tavg = (df_NewTNData + df_NewTXData) / 2\\ndf_Tavg\";\n",
       "                var nbb_formatted_code = \"df_Tavg = (df_NewTNData + df_NewTXData) / 2\\ndf_Tavg\";\n",
       "                var nbb_cells = Jupyter.notebook.get_cells();\n",
       "                for (var i = 0; i < nbb_cells.length; ++i) {\n",
       "                    if (nbb_cells[i].input_prompt_number == nbb_cell_id) {\n",
       "                        if (nbb_cells[i].get_text() == nbb_unformatted_code) {\n",
       "                             nbb_cells[i].set_text(nbb_formatted_code);\n",
       "                        }\n",
       "                        break;\n",
       "                    }\n",
       "                }\n",
       "            }, 500);\n",
       "            "
      ],
      "text/plain": [
       "<IPython.core.display.Javascript object>"
      ]
     },
     "metadata": {},
     "output_type": "display_data"
    }
   ],
   "source": [
    "df_Tavg = (df_NewTNData + df_NewTXData) / 2\n",
    "df_Tavg"
   ]
  },
  {
   "cell_type": "code",
   "execution_count": 31,
   "metadata": {
    "id": "tAlrdZQ9s4QQ"
   },
   "outputs": [
    {
     "data": {
      "text/html": [
       "<div>\n",
       "<style scoped>\n",
       "    .dataframe tbody tr th:only-of-type {\n",
       "        vertical-align: middle;\n",
       "    }\n",
       "\n",
       "    .dataframe tbody tr th {\n",
       "        vertical-align: top;\n",
       "    }\n",
       "\n",
       "    .dataframe thead th {\n",
       "        text-align: right;\n",
       "    }\n",
       "</style>\n",
       "<table border=\"1\" class=\"dataframe\">\n",
       "  <thead>\n",
       "    <tr style=\"text-align: right;\">\n",
       "      <th></th>\n",
       "      <th>Kumasi</th>\n",
       "      <th>Tamale</th>\n",
       "      <th>Tema</th>\n",
       "    </tr>\n",
       "    <tr>\n",
       "      <th>date</th>\n",
       "      <th></th>\n",
       "      <th></th>\n",
       "      <th></th>\n",
       "    </tr>\n",
       "  </thead>\n",
       "  <tbody>\n",
       "    <tr>\n",
       "      <th>2010-01-31</th>\n",
       "      <td>28.262903</td>\n",
       "      <td>28.166129</td>\n",
       "      <td>28.617742</td>\n",
       "    </tr>\n",
       "    <tr>\n",
       "      <th>2010-02-28</th>\n",
       "      <td>29.296429</td>\n",
       "      <td>31.253571</td>\n",
       "      <td>29.457143</td>\n",
       "    </tr>\n",
       "    <tr>\n",
       "      <th>2010-03-31</th>\n",
       "      <td>28.787097</td>\n",
       "      <td>32.438710</td>\n",
       "      <td>29.483871</td>\n",
       "    </tr>\n",
       "    <tr>\n",
       "      <th>2010-04-30</th>\n",
       "      <td>28.586667</td>\n",
       "      <td>31.790000</td>\n",
       "      <td>29.693333</td>\n",
       "    </tr>\n",
       "    <tr>\n",
       "      <th>2010-05-31</th>\n",
       "      <td>27.843548</td>\n",
       "      <td>30.591935</td>\n",
       "      <td>28.838710</td>\n",
       "    </tr>\n",
       "    <tr>\n",
       "      <th>2010-06-30</th>\n",
       "      <td>26.596667</td>\n",
       "      <td>28.048333</td>\n",
       "      <td>27.113333</td>\n",
       "    </tr>\n",
       "    <tr>\n",
       "      <th>2010-07-31</th>\n",
       "      <td>25.680645</td>\n",
       "      <td>26.575806</td>\n",
       "      <td>25.959677</td>\n",
       "    </tr>\n",
       "    <tr>\n",
       "      <th>2010-08-31</th>\n",
       "      <td>25.737097</td>\n",
       "      <td>26.687097</td>\n",
       "      <td>25.738710</td>\n",
       "    </tr>\n",
       "    <tr>\n",
       "      <th>2010-09-30</th>\n",
       "      <td>26.105000</td>\n",
       "      <td>27.624167</td>\n",
       "      <td>26.418333</td>\n",
       "    </tr>\n",
       "    <tr>\n",
       "      <th>2010-10-31</th>\n",
       "      <td>27.051613</td>\n",
       "      <td>29.093333</td>\n",
       "      <td>27.427419</td>\n",
       "    </tr>\n",
       "    <tr>\n",
       "      <th>2010-11-30</th>\n",
       "      <td>27.236667</td>\n",
       "      <td>29.271667</td>\n",
       "      <td>27.980000</td>\n",
       "    </tr>\n",
       "    <tr>\n",
       "      <th>2010-12-31</th>\n",
       "      <td>27.761290</td>\n",
       "      <td>26.895161</td>\n",
       "      <td>28.664516</td>\n",
       "    </tr>\n",
       "    <tr>\n",
       "      <th>2011-01-31</th>\n",
       "      <td>26.867742</td>\n",
       "      <td>27.591935</td>\n",
       "      <td>28.435484</td>\n",
       "    </tr>\n",
       "    <tr>\n",
       "      <th>2011-02-28</th>\n",
       "      <td>27.758929</td>\n",
       "      <td>30.676786</td>\n",
       "      <td>28.216071</td>\n",
       "    </tr>\n",
       "    <tr>\n",
       "      <th>2011-03-31</th>\n",
       "      <td>27.704839</td>\n",
       "      <td>32.577419</td>\n",
       "      <td>29.037097</td>\n",
       "    </tr>\n",
       "    <tr>\n",
       "      <th>2011-04-30</th>\n",
       "      <td>28.126667</td>\n",
       "      <td>31.785000</td>\n",
       "      <td>28.691667</td>\n",
       "    </tr>\n",
       "    <tr>\n",
       "      <th>2011-05-31</th>\n",
       "      <td>27.822581</td>\n",
       "      <td>30.511290</td>\n",
       "      <td>28.033871</td>\n",
       "    </tr>\n",
       "    <tr>\n",
       "      <th>2011-06-30</th>\n",
       "      <td>26.375000</td>\n",
       "      <td>28.315000</td>\n",
       "      <td>27.148333</td>\n",
       "    </tr>\n",
       "    <tr>\n",
       "      <th>2011-07-31</th>\n",
       "      <td>25.316129</td>\n",
       "      <td>26.972581</td>\n",
       "      <td>25.829032</td>\n",
       "    </tr>\n",
       "    <tr>\n",
       "      <th>2011-08-31</th>\n",
       "      <td>25.145161</td>\n",
       "      <td>26.314516</td>\n",
       "      <td>25.332258</td>\n",
       "    </tr>\n",
       "    <tr>\n",
       "      <th>2011-09-30</th>\n",
       "      <td>25.860000</td>\n",
       "      <td>28.156667</td>\n",
       "      <td>26.653333</td>\n",
       "    </tr>\n",
       "    <tr>\n",
       "      <th>2011-10-31</th>\n",
       "      <td>26.606452</td>\n",
       "      <td>28.418011</td>\n",
       "      <td>27.295161</td>\n",
       "    </tr>\n",
       "    <tr>\n",
       "      <th>2011-11-30</th>\n",
       "      <td>27.838333</td>\n",
       "      <td>28.616389</td>\n",
       "      <td>28.433333</td>\n",
       "    </tr>\n",
       "    <tr>\n",
       "      <th>2011-12-31</th>\n",
       "      <td>27.554839</td>\n",
       "      <td>25.649462</td>\n",
       "      <td>28.422581</td>\n",
       "    </tr>\n",
       "    <tr>\n",
       "      <th>2012-01-31</th>\n",
       "      <td>27.219355</td>\n",
       "      <td>26.383871</td>\n",
       "      <td>28.056452</td>\n",
       "    </tr>\n",
       "    <tr>\n",
       "      <th>2012-02-29</th>\n",
       "      <td>27.862069</td>\n",
       "      <td>30.606897</td>\n",
       "      <td>27.913793</td>\n",
       "    </tr>\n",
       "    <tr>\n",
       "      <th>2012-03-31</th>\n",
       "      <td>28.258065</td>\n",
       "      <td>31.853226</td>\n",
       "      <td>29.211290</td>\n",
       "    </tr>\n",
       "    <tr>\n",
       "      <th>2012-04-30</th>\n",
       "      <td>27.663333</td>\n",
       "      <td>30.175000</td>\n",
       "      <td>28.620000</td>\n",
       "    </tr>\n",
       "    <tr>\n",
       "      <th>2012-05-31</th>\n",
       "      <td>27.208871</td>\n",
       "      <td>28.890323</td>\n",
       "      <td>27.990323</td>\n",
       "    </tr>\n",
       "    <tr>\n",
       "      <th>2012-06-30</th>\n",
       "      <td>26.025000</td>\n",
       "      <td>27.630000</td>\n",
       "      <td>26.683333</td>\n",
       "    </tr>\n",
       "    <tr>\n",
       "      <th>2012-07-31</th>\n",
       "      <td>25.024194</td>\n",
       "      <td>26.377419</td>\n",
       "      <td>25.843548</td>\n",
       "    </tr>\n",
       "    <tr>\n",
       "      <th>2012-08-31</th>\n",
       "      <td>24.787097</td>\n",
       "      <td>26.376344</td>\n",
       "      <td>25.016129</td>\n",
       "    </tr>\n",
       "    <tr>\n",
       "      <th>2012-09-30</th>\n",
       "      <td>26.138333</td>\n",
       "      <td>26.774167</td>\n",
       "      <td>26.381667</td>\n",
       "    </tr>\n",
       "    <tr>\n",
       "      <th>2012-10-31</th>\n",
       "      <td>26.603226</td>\n",
       "      <td>27.939247</td>\n",
       "      <td>27.559677</td>\n",
       "    </tr>\n",
       "    <tr>\n",
       "      <th>2012-11-30</th>\n",
       "      <td>27.406667</td>\n",
       "      <td>28.736111</td>\n",
       "      <td>28.781667</td>\n",
       "    </tr>\n",
       "    <tr>\n",
       "      <th>2012-12-31</th>\n",
       "      <td>27.246774</td>\n",
       "      <td>26.776882</td>\n",
       "      <td>28.895161</td>\n",
       "    </tr>\n",
       "    <tr>\n",
       "      <th>2013-01-31</th>\n",
       "      <td>27.783871</td>\n",
       "      <td>27.195161</td>\n",
       "      <td>28.712903</td>\n",
       "    </tr>\n",
       "    <tr>\n",
       "      <th>2013-02-28</th>\n",
       "      <td>29.480357</td>\n",
       "      <td>29.755357</td>\n",
       "      <td>29.275000</td>\n",
       "    </tr>\n",
       "    <tr>\n",
       "      <th>2013-03-31</th>\n",
       "      <td>28.272581</td>\n",
       "      <td>31.506452</td>\n",
       "      <td>29.541935</td>\n",
       "    </tr>\n",
       "    <tr>\n",
       "      <th>2013-04-30</th>\n",
       "      <td>28.345000</td>\n",
       "      <td>30.360000</td>\n",
       "      <td>29.068333</td>\n",
       "    </tr>\n",
       "    <tr>\n",
       "      <th>2013-05-31</th>\n",
       "      <td>27.159677</td>\n",
       "      <td>28.972581</td>\n",
       "      <td>28.203226</td>\n",
       "    </tr>\n",
       "    <tr>\n",
       "      <th>2013-06-30</th>\n",
       "      <td>26.293333</td>\n",
       "      <td>27.705000</td>\n",
       "      <td>27.180000</td>\n",
       "    </tr>\n",
       "    <tr>\n",
       "      <th>2013-07-31</th>\n",
       "      <td>25.083871</td>\n",
       "      <td>26.700000</td>\n",
       "      <td>26.027419</td>\n",
       "    </tr>\n",
       "    <tr>\n",
       "      <th>2013-08-31</th>\n",
       "      <td>24.595161</td>\n",
       "      <td>26.354211</td>\n",
       "      <td>25.233871</td>\n",
       "    </tr>\n",
       "    <tr>\n",
       "      <th>2013-09-30</th>\n",
       "      <td>25.845000</td>\n",
       "      <td>27.021389</td>\n",
       "      <td>26.385000</td>\n",
       "    </tr>\n",
       "    <tr>\n",
       "      <th>2013-10-31</th>\n",
       "      <td>26.491935</td>\n",
       "      <td>27.831810</td>\n",
       "      <td>27.769355</td>\n",
       "    </tr>\n",
       "    <tr>\n",
       "      <th>2013-11-30</th>\n",
       "      <td>27.220000</td>\n",
       "      <td>26.903843</td>\n",
       "      <td>28.598333</td>\n",
       "    </tr>\n",
       "    <tr>\n",
       "      <th>2013-12-31</th>\n",
       "      <td>26.451613</td>\n",
       "      <td>26.803136</td>\n",
       "      <td>28.129032</td>\n",
       "    </tr>\n",
       "  </tbody>\n",
       "</table>\n",
       "</div>"
      ],
      "text/plain": [
       "               Kumasi     Tamale       Tema\n",
       "date                                       \n",
       "2010-01-31  28.262903  28.166129  28.617742\n",
       "2010-02-28  29.296429  31.253571  29.457143\n",
       "2010-03-31  28.787097  32.438710  29.483871\n",
       "2010-04-30  28.586667  31.790000  29.693333\n",
       "2010-05-31  27.843548  30.591935  28.838710\n",
       "2010-06-30  26.596667  28.048333  27.113333\n",
       "2010-07-31  25.680645  26.575806  25.959677\n",
       "2010-08-31  25.737097  26.687097  25.738710\n",
       "2010-09-30  26.105000  27.624167  26.418333\n",
       "2010-10-31  27.051613  29.093333  27.427419\n",
       "2010-11-30  27.236667  29.271667  27.980000\n",
       "2010-12-31  27.761290  26.895161  28.664516\n",
       "2011-01-31  26.867742  27.591935  28.435484\n",
       "2011-02-28  27.758929  30.676786  28.216071\n",
       "2011-03-31  27.704839  32.577419  29.037097\n",
       "2011-04-30  28.126667  31.785000  28.691667\n",
       "2011-05-31  27.822581  30.511290  28.033871\n",
       "2011-06-30  26.375000  28.315000  27.148333\n",
       "2011-07-31  25.316129  26.972581  25.829032\n",
       "2011-08-31  25.145161  26.314516  25.332258\n",
       "2011-09-30  25.860000  28.156667  26.653333\n",
       "2011-10-31  26.606452  28.418011  27.295161\n",
       "2011-11-30  27.838333  28.616389  28.433333\n",
       "2011-12-31  27.554839  25.649462  28.422581\n",
       "2012-01-31  27.219355  26.383871  28.056452\n",
       "2012-02-29  27.862069  30.606897  27.913793\n",
       "2012-03-31  28.258065  31.853226  29.211290\n",
       "2012-04-30  27.663333  30.175000  28.620000\n",
       "2012-05-31  27.208871  28.890323  27.990323\n",
       "2012-06-30  26.025000  27.630000  26.683333\n",
       "2012-07-31  25.024194  26.377419  25.843548\n",
       "2012-08-31  24.787097  26.376344  25.016129\n",
       "2012-09-30  26.138333  26.774167  26.381667\n",
       "2012-10-31  26.603226  27.939247  27.559677\n",
       "2012-11-30  27.406667  28.736111  28.781667\n",
       "2012-12-31  27.246774  26.776882  28.895161\n",
       "2013-01-31  27.783871  27.195161  28.712903\n",
       "2013-02-28  29.480357  29.755357  29.275000\n",
       "2013-03-31  28.272581  31.506452  29.541935\n",
       "2013-04-30  28.345000  30.360000  29.068333\n",
       "2013-05-31  27.159677  28.972581  28.203226\n",
       "2013-06-30  26.293333  27.705000  27.180000\n",
       "2013-07-31  25.083871  26.700000  26.027419\n",
       "2013-08-31  24.595161  26.354211  25.233871\n",
       "2013-09-30  25.845000  27.021389  26.385000\n",
       "2013-10-31  26.491935  27.831810  27.769355\n",
       "2013-11-30  27.220000  26.903843  28.598333\n",
       "2013-12-31  26.451613  26.803136  28.129032"
      ]
     },
     "execution_count": 31,
     "metadata": {},
     "output_type": "execute_result"
    },
    {
     "data": {
      "application/javascript": [
       "\n",
       "            setTimeout(function() {\n",
       "                var nbb_cell_id = 31;\n",
       "                var nbb_unformatted_code = \"### (1)\\n# Groupby Approach\\ndf_MT_avg = df_Tavg.astype(float).groupby(pd.Grouper(freq=\\\"M\\\")).mean()\\ndf_AT_avg = df_Tavg.astype(float).groupby(pd.Grouper(freq=\\\"Y\\\")).mean()\\n\\ndf_MT_avg\";\n",
       "                var nbb_formatted_code = \"### (1)\\n# Groupby Approach\\ndf_MT_avg = df_Tavg.astype(float).groupby(pd.Grouper(freq=\\\"M\\\")).mean()\\ndf_AT_avg = df_Tavg.astype(float).groupby(pd.Grouper(freq=\\\"Y\\\")).mean()\\n\\ndf_MT_avg\";\n",
       "                var nbb_cells = Jupyter.notebook.get_cells();\n",
       "                for (var i = 0; i < nbb_cells.length; ++i) {\n",
       "                    if (nbb_cells[i].input_prompt_number == nbb_cell_id) {\n",
       "                        if (nbb_cells[i].get_text() == nbb_unformatted_code) {\n",
       "                             nbb_cells[i].set_text(nbb_formatted_code);\n",
       "                        }\n",
       "                        break;\n",
       "                    }\n",
       "                }\n",
       "            }, 500);\n",
       "            "
      ],
      "text/plain": [
       "<IPython.core.display.Javascript object>"
      ]
     },
     "metadata": {},
     "output_type": "display_data"
    }
   ],
   "source": [
    "### (1)\n",
    "# Groupby Approach\n",
    "df_MT_avg = df_Tavg.astype(float).groupby(pd.Grouper(freq=\"M\")).mean()\n",
    "df_AT_avg = df_Tavg.astype(float).groupby(pd.Grouper(freq=\"Y\")).mean()\n",
    "\n",
    "df_MT_avg"
   ]
  },
  {
   "cell_type": "code",
   "execution_count": 32,
   "metadata": {
    "id": "1lRs9t5Js4QS"
   },
   "outputs": [
    {
     "name": "stderr",
     "output_type": "stream",
     "text": [
      "/Volumes/agile/tooling/miniconda3/envs/fcfa-swift/lib/python3.9/site-packages/seaborn/_decorators.py:36: FutureWarning: Pass the following variables as keyword args: x, y. From version 0.12, the only valid positional argument will be `data`, and passing other arguments without an explicit keyword will result in an error or misinterpretation.\n",
      "  warnings.warn(\n"
     ]
    },
    {
     "data": {
      "text/plain": [
       "<seaborn.axisgrid.JointGrid at 0x160f51760>"
      ]
     },
     "execution_count": 32,
     "metadata": {},
     "output_type": "execute_result"
    },
    {
     "data": {
      "image/png": "[encoded data removed]",
      "text/plain": [
       "<Figure size 432x432 with 3 Axes>"
      ]
     },
     "metadata": {
      "needs_background": "light"
     },
     "output_type": "display_data"
    },
    {
     "data": {
      "application/javascript": [
       "\n",
       "            setTimeout(function() {\n",
       "                var nbb_cell_id = 32;\n",
       "                var nbb_unformatted_code = \"### (2)\\nx = df_MT_avg\\ny = df_NewRRData.astype(float).resample(\\\"M\\\").sum()\\n\\nh = sb.jointplot(y[\\\"Kumasi\\\"], x[\\\"Kumasi\\\"], kind=\\\"hex\\\")\\nh.set_axis_labels(\\\"Temperature\\\", \\\"Rainfall\\\", fontsize=16)\";\n",
       "                var nbb_formatted_code = \"### (2)\\nx = df_MT_avg\\ny = df_NewRRData.astype(float).resample(\\\"M\\\").sum()\\n\\nh = sb.jointplot(y[\\\"Kumasi\\\"], x[\\\"Kumasi\\\"], kind=\\\"hex\\\")\\nh.set_axis_labels(\\\"Temperature\\\", \\\"Rainfall\\\", fontsize=16)\";\n",
       "                var nbb_cells = Jupyter.notebook.get_cells();\n",
       "                for (var i = 0; i < nbb_cells.length; ++i) {\n",
       "                    if (nbb_cells[i].input_prompt_number == nbb_cell_id) {\n",
       "                        if (nbb_cells[i].get_text() == nbb_unformatted_code) {\n",
       "                             nbb_cells[i].set_text(nbb_formatted_code);\n",
       "                        }\n",
       "                        break;\n",
       "                    }\n",
       "                }\n",
       "            }, 500);\n",
       "            "
      ],
      "text/plain": [
       "<IPython.core.display.Javascript object>"
      ]
     },
     "metadata": {},
     "output_type": "display_data"
    }
   ],
   "source": [
    "### (2)\n",
    "x = df_MT_avg\n",
    "y = df_NewRRData.astype(float).resample(\"M\").sum()\n",
    "\n",
    "h = sb.jointplot(y[\"Kumasi\"], x[\"Kumasi\"], kind=\"hex\")\n",
    "h.set_axis_labels(\"Temperature\", \"Rainfall\", fontsize=16)"
   ]
  },
  {
   "cell_type": "markdown",
   "metadata": {
    "id": "r5PAnlRTs4QS"
   },
   "source": [
    "# Exercises\n",
    "\n",
    "\n",
    "Produce standardized anomaly plots (formula below) of Daily Mean Temperature for the different stations and visualize it. The Standardized Anomaly $z$ is defined as $z_i = \\frac{T_i - <T>}{\\sigma_T}$, where $<T>$ is the mean of temperature and $\\sigma_T$ is the standard deviation of temperature.\n",
    "- Hint: First, build a function of standardized anomaly (You can use the default function build in python or better still, make use of lambda functions.) Second, pass Tavg through the function, and plot out."
   ]
  },
  {
   "cell_type": "code",
   "execution_count": 33,
   "metadata": {
    "id": "Mxr_KhIws4QS"
   },
   "outputs": [
    {
     "data": {
      "text/plain": [
       "<AxesSubplot:xlabel='date'>"
      ]
     },
     "execution_count": 33,
     "metadata": {},
     "output_type": "execute_result"
    },
    {
     "data": {
      "image/png": "[encoded data removed]",
      "text/plain": [
       "<Figure size 432x288 with 1 Axes>"
      ]
     },
     "metadata": {
      "needs_background": "light"
     },
     "output_type": "display_data"
    },
    {
     "data": {
      "application/javascript": [
       "\n",
       "            setTimeout(function() {\n",
       "                var nbb_cell_id = 33;\n",
       "                var nbb_unformatted_code = \"### Approach 1\\ndef standardized_anomaly(x):\\n    return (x - np.nanmean(x)) / np.nanstd(x)\\n\\n\\nstandardized_anomaly(df_Tavg).plot()\";\n",
       "                var nbb_formatted_code = \"### Approach 1\\ndef standardized_anomaly(x):\\n    return (x - np.nanmean(x)) / np.nanstd(x)\\n\\n\\nstandardized_anomaly(df_Tavg).plot()\";\n",
       "                var nbb_cells = Jupyter.notebook.get_cells();\n",
       "                for (var i = 0; i < nbb_cells.length; ++i) {\n",
       "                    if (nbb_cells[i].input_prompt_number == nbb_cell_id) {\n",
       "                        if (nbb_cells[i].get_text() == nbb_unformatted_code) {\n",
       "                             nbb_cells[i].set_text(nbb_formatted_code);\n",
       "                        }\n",
       "                        break;\n",
       "                    }\n",
       "                }\n",
       "            }, 500);\n",
       "            "
      ],
      "text/plain": [
       "<IPython.core.display.Javascript object>"
      ]
     },
     "metadata": {},
     "output_type": "display_data"
    }
   ],
   "source": [
    "### Approach 1\n",
    "def standardized_anomaly(x):\n",
    "    return (x - np.nanmean(x)) / np.nanstd(x)\n",
    "\n",
    "\n",
    "standardized_anomaly(df_Tavg).plot()"
   ]
  },
  {
   "cell_type": "code",
   "execution_count": 34,
   "metadata": {
    "id": "dV-Ed0Fms4QT",
    "outputId": "596ad227-7c71-4a00-a299-de901ee91875"
   },
   "outputs": [
    {
     "data": {
      "text/plain": [
       "<matplotlib.lines.Line2D at 0x160ccae20>"
      ]
     },
     "execution_count": 34,
     "metadata": {},
     "output_type": "execute_result"
    },
    {
     "data": {
      "image/png": "[encoded data removed]",
      "text/plain": [
       "<Figure size 432x288 with 1 Axes>"
      ]
     },
     "metadata": {
      "needs_background": "light"
     },
     "output_type": "display_data"
    },
    {
     "data": {
      "application/javascript": [
       "\n",
       "            setTimeout(function() {\n",
       "                var nbb_cell_id = 34;\n",
       "                var nbb_unformatted_code = \"# Approach 2\\nstandardized_anomaly = lambda x: (x - np.nanmean(x)) / np.nanstd(x)\\ndf_Tavg.apply(standardized_anomaly).plot()\\nplt.axhline(y=0, color=\\\"k\\\")\";\n",
       "                var nbb_formatted_code = \"# Approach 2\\nstandardized_anomaly = lambda x: (x - np.nanmean(x)) / np.nanstd(x)\\ndf_Tavg.apply(standardized_anomaly).plot()\\nplt.axhline(y=0, color=\\\"k\\\")\";\n",
       "                var nbb_cells = Jupyter.notebook.get_cells();\n",
       "                for (var i = 0; i < nbb_cells.length; ++i) {\n",
       "                    if (nbb_cells[i].input_prompt_number == nbb_cell_id) {\n",
       "                        if (nbb_cells[i].get_text() == nbb_unformatted_code) {\n",
       "                             nbb_cells[i].set_text(nbb_formatted_code);\n",
       "                        }\n",
       "                        break;\n",
       "                    }\n",
       "                }\n",
       "            }, 500);\n",
       "            "
      ],
      "text/plain": [
       "<IPython.core.display.Javascript object>"
      ]
     },
     "metadata": {},
     "output_type": "display_data"
    }
   ],
   "source": [
    "# Approach 2\n",
    "standardized_anomaly = lambda x: (x - np.nanmean(x)) / np.nanstd(x)\n",
    "df_Tavg.apply(standardized_anomaly).plot()\n",
    "plt.axhline(y=0, color=\"k\")"
   ]
  },
  {
   "cell_type": "code",
   "execution_count": null,
   "metadata": {
    "id": "MZvwgH3Ms4QU"
   },
   "outputs": [],
   "source": []
  }
 ],
 "metadata": {
  "colab": {
   "collapsed_sections": [],
   "name": "Pandas_Lecture2.ipynb",
   "provenance": []
  },
  "kernelspec": {
   "display_name": "Python 3",
   "language": "python",
   "name": "python3"
  },
  "language_info": {
   "codemirror_mode": {
    "name": "ipython",
    "version": 3
   },
   "file_extension": ".py",
   "mimetype": "text/x-python",
   "name": "python",
   "nbconvert_exporter": "python",
   "pygments_lexer": "ipython3",
   "version": "3.9.4"
  }
 },
 "nbformat": 4,
 "nbformat_minor": 1
}
