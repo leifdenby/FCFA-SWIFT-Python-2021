{
 "cells": [
  {
   "cell_type": "markdown",
   "metadata": {
    "id": "9gyYqXxn3Fgj"
   },
   "source": [
    "# pandas with Excel files and seaborn\n",
    "\n",
    "*notebook by Jeffrey Aryee and Leif Denby*\n",
    "\n",
    "In this session, you will be working with data contained in a spreadsheet. The file, named `Test_RR_TnTx_data.xlsx` contains three (3) separate sheets of Rainfall, Minimum Temperature and Maximum Temperature from the Ghana Meteorological Agency (GMet). The data is an *in situ* observation with a short term temporal span intended for the Python education. Kindly note that the acquired data must serve only the educational purpose intended.\n",
    "\n",
    "We'll also be seeing how to use `seaborn` to produce useful plots for studying correlations and relationships in the observations. And we'll be using the `pymannkendall` package which implements the Mann-Kendall method for finding trends in the observations.\n",
    "\n",
    "**Objectives** \n",
    "\n",
    "The following objectives are outlined for this lesson. Participants, at the end of the lesson should have adequate knowledge in the following:\n",
    "\n",
    "1.\t[Loading data from an excel spreadsheet using Pandas](#1.-Loading-data-from-.xlsx-Excel-spreadsheet-file)\n",
    "2.  [Reshaping spreadsheet data](#2.-Reshaping-spreadsheet-data)\n",
    "3.  [Visualisation with seaborn](#3.-Visualisation-with-seaborn)\n",
    "4.  [Data slicing and groupby](#4.-Grouping-Data-with-Groupby()-function)\n",
    "4.\t[Working with timeseries data](#5.-Working-with-timeseries-data)\n",
    "5.\t[Extreme Indices (Rnnmm, percentile differences)](#6.-Extreme-Rainfall-Events)\n",
    "6.\t[Quantifying trends](#7.-Trend-Assessmet-using-PyMannKendall)\n",
    "\n",
    "***Let's start by importing relevant packages.***"
   ]
  },
  {
   "cell_type": "code",
   "execution_count": 1,
   "metadata": {
    "id": "j4l1G20As4P4"
   },
   "outputs": [],
   "source": [
    "import pandas as pd\n",
    "import numpy as np\n",
    "import matplotlib.pyplot as plt\n",
    "import seaborn as sb  # Useful for artistic and more scientific data visualization\n",
    "import pymannkendall as mk  # Useful Python package for identifying Mann-Kendall trends in a dataset.\n",
    "\n",
    "from pathlib import Path"
   ]
  },
  {
   "cell_type": "code",
   "execution_count": 2,
   "metadata": {},
   "outputs": [],
   "source": [
    "data_path = Path(\"../data\")"
   ]
  },
  {
   "cell_type": "markdown",
   "metadata": {
    "id": "f1OT4VGi83h2"
   },
   "source": [
    "## 1. Loading data from `.xlsx` Excel spreadsheet file\n",
    "\n",
    "We'll now read in the rainfall and temperature data from different sheets in a single `.xslx` Excel spreadsheet file. This is done with the `pd.read_excel` function."
   ]
  },
  {
   "cell_type": "markdown",
   "metadata": {},
   "source": [
    "Note: the `xlrd` package (which `pandas` used to use for reading `.xslx`-files) [recently removed support for `.xslx`-files](https://stackoverflow.com/a/65266270/271776)). Fortunately `pandas` can use `openpyxl` instead, but unless you pandas version `>=1.2.0` you will have to tell `pandas` to use `openpyxl` using the `engine='openpyxl'` argument when opening a file (as we do below)."
   ]
  },
  {
   "cell_type": "markdown",
   "metadata": {},
   "source": [
    "Sheet **RR** contains Daily Rainfall Totals, sheet **Tn** contains Daily Minimum Temperature and **Tx** contains the Daily Maximum Temperature data."
   ]
  },
  {
   "cell_type": "code",
   "execution_count": 3,
   "metadata": {
    "id": "iG_yA2u6s4P6"
   },
   "outputs": [],
   "source": [
    "filepath_spreadsheet = data_path / \"Test_RR_TnTx_data.xlsx\"\n",
    "# Rainfall\n",
    "df_RR = pd.read_excel(filepath_spreadsheet, sheet_name=\"RR\", engine=\"openpyxl\")\n",
    "# Minimum Temperature\n",
    "df_TN = pd.read_excel(filepath_spreadsheet, sheet_name=\"Tn\", engine=\"openpyxl\")\n",
    "# Maximum Temperature\n",
    "df_TX = pd.read_excel(filepath_spreadsheet, sheet_name=\"Tx\", engine=\"openpyxl\")"
   ]
  },
  {
   "cell_type": "markdown",
   "metadata": {},
   "source": [
    "In each sheet, the data is stored as:\n",
    "\n",
    "- **Column A :** the Station Name (for 3 stations, namely: Tamale, Kumasi and Tema).\n",
    "- **Column B :** abbreviation of parameter of interest (eg. RR for rainfall)\n",
    "- **Column C :** Year of observation\n",
    "- **Column D :** Month of observation\n",
    "- **Columns E to AI :** Daily Data (Day 1 to maximum days in the month. Eg. Columns E to AI on the second rows contains data for 1st to 31st January 2010)\n",
    "\n",
    "The first row contains the headers of each column and `pandas` uses this to set the column names"
   ]
  },
  {
   "cell_type": "markdown",
   "metadata": {},
   "source": [
    "Let's have a look at the first few rows of the loaded rainfall data"
   ]
  },
  {
   "cell_type": "code",
   "execution_count": 4,
   "metadata": {
    "id": "BCUjKYORs4P7"
   },
   "outputs": [
    {
     "data": {
      "text/html": [
       "<div>\n",
       "<style scoped>\n",
       "    .dataframe tbody tr th:only-of-type {\n",
       "        vertical-align: middle;\n",
       "    }\n",
       "\n",
       "    .dataframe tbody tr th {\n",
       "        vertical-align: top;\n",
       "    }\n",
       "\n",
       "    .dataframe thead th {\n",
       "        text-align: right;\n",
       "    }\n",
       "</style>\n",
       "<table border=\"1\" class=\"dataframe\">\n",
       "  <thead>\n",
       "    <tr style=\"text-align: right;\">\n",
       "      <th></th>\n",
       "      <th>Name</th>\n",
       "      <th>Eg El Abbreviation</th>\n",
       "      <th>Year</th>\n",
       "      <th>Month</th>\n",
       "      <th>Val01</th>\n",
       "      <th>Val02</th>\n",
       "      <th>Val03</th>\n",
       "      <th>Val04</th>\n",
       "      <th>Val05</th>\n",
       "      <th>Val06</th>\n",
       "      <th>...</th>\n",
       "      <th>Val22</th>\n",
       "      <th>Val23</th>\n",
       "      <th>Val24</th>\n",
       "      <th>Val25</th>\n",
       "      <th>Val26</th>\n",
       "      <th>Val27</th>\n",
       "      <th>Val28</th>\n",
       "      <th>Val29</th>\n",
       "      <th>Val30</th>\n",
       "      <th>Val31</th>\n",
       "    </tr>\n",
       "  </thead>\n",
       "  <tbody>\n",
       "    <tr>\n",
       "      <th>0</th>\n",
       "      <td>Tamale</td>\n",
       "      <td>RR</td>\n",
       "      <td>2010</td>\n",
       "      <td>1</td>\n",
       "      <td>0.0</td>\n",
       "      <td>0.0</td>\n",
       "      <td>0.0</td>\n",
       "      <td>0.0</td>\n",
       "      <td>0.0</td>\n",
       "      <td>0.0</td>\n",
       "      <td>...</td>\n",
       "      <td>0.0</td>\n",
       "      <td>0.0</td>\n",
       "      <td>0.0</td>\n",
       "      <td>0.0</td>\n",
       "      <td>0.0</td>\n",
       "      <td>0.0</td>\n",
       "      <td>0.0</td>\n",
       "      <td>0.0</td>\n",
       "      <td>0.0</td>\n",
       "      <td>0.0</td>\n",
       "    </tr>\n",
       "    <tr>\n",
       "      <th>1</th>\n",
       "      <td>Tamale</td>\n",
       "      <td>RR</td>\n",
       "      <td>2010</td>\n",
       "      <td>2</td>\n",
       "      <td>0.0</td>\n",
       "      <td>0.0</td>\n",
       "      <td>0.0</td>\n",
       "      <td>0.0</td>\n",
       "      <td>0.0</td>\n",
       "      <td>0.0</td>\n",
       "      <td>...</td>\n",
       "      <td>0.0</td>\n",
       "      <td>0.0</td>\n",
       "      <td>0.0</td>\n",
       "      <td>0.0</td>\n",
       "      <td>0.0</td>\n",
       "      <td>0.0</td>\n",
       "      <td>0.0</td>\n",
       "      <td>NaN</td>\n",
       "      <td>NaN</td>\n",
       "      <td>NaN</td>\n",
       "    </tr>\n",
       "    <tr>\n",
       "      <th>2</th>\n",
       "      <td>Tamale</td>\n",
       "      <td>RR</td>\n",
       "      <td>2010</td>\n",
       "      <td>3</td>\n",
       "      <td>0.0</td>\n",
       "      <td>0.0</td>\n",
       "      <td>0.0</td>\n",
       "      <td>0.0</td>\n",
       "      <td>0.0</td>\n",
       "      <td>0.0</td>\n",
       "      <td>...</td>\n",
       "      <td>0.0</td>\n",
       "      <td>0.0</td>\n",
       "      <td>0.0</td>\n",
       "      <td>0.0</td>\n",
       "      <td>0.0</td>\n",
       "      <td>0.0</td>\n",
       "      <td>0.0</td>\n",
       "      <td>0.0</td>\n",
       "      <td>0.0</td>\n",
       "      <td>0.0</td>\n",
       "    </tr>\n",
       "    <tr>\n",
       "      <th>3</th>\n",
       "      <td>Tamale</td>\n",
       "      <td>RR</td>\n",
       "      <td>2010</td>\n",
       "      <td>4</td>\n",
       "      <td>0.0</td>\n",
       "      <td>0.0</td>\n",
       "      <td>0.0</td>\n",
       "      <td>0.0</td>\n",
       "      <td>0.9</td>\n",
       "      <td>0.0</td>\n",
       "      <td>...</td>\n",
       "      <td>89.1</td>\n",
       "      <td>0.0</td>\n",
       "      <td>0.0</td>\n",
       "      <td>0.0</td>\n",
       "      <td>73.3</td>\n",
       "      <td>1.5</td>\n",
       "      <td>0.0</td>\n",
       "      <td>0.0</td>\n",
       "      <td>0.0</td>\n",
       "      <td>NaN</td>\n",
       "    </tr>\n",
       "    <tr>\n",
       "      <th>4</th>\n",
       "      <td>Tamale</td>\n",
       "      <td>RR</td>\n",
       "      <td>2010</td>\n",
       "      <td>5</td>\n",
       "      <td>0.0</td>\n",
       "      <td>0.0</td>\n",
       "      <td>0.0</td>\n",
       "      <td>0.0</td>\n",
       "      <td>1.0</td>\n",
       "      <td>0.0</td>\n",
       "      <td>...</td>\n",
       "      <td>0.0</td>\n",
       "      <td>0.5</td>\n",
       "      <td>0.0</td>\n",
       "      <td>0.0</td>\n",
       "      <td>0.0</td>\n",
       "      <td>0.0</td>\n",
       "      <td>0.0</td>\n",
       "      <td>4.5</td>\n",
       "      <td>0.0</td>\n",
       "      <td>0.6</td>\n",
       "    </tr>\n",
       "  </tbody>\n",
       "</table>\n",
       "<p>5 rows × 35 columns</p>\n",
       "</div>"
      ],
      "text/plain": [
       "     Name Eg El Abbreviation  Year  Month  Val01  Val02  Val03  Val04  Val05  \\\n",
       "0  Tamale                 RR  2010      1    0.0    0.0    0.0    0.0    0.0   \n",
       "1  Tamale                 RR  2010      2    0.0    0.0    0.0    0.0    0.0   \n",
       "2  Tamale                 RR  2010      3    0.0    0.0    0.0    0.0    0.0   \n",
       "3  Tamale                 RR  2010      4    0.0    0.0    0.0    0.0    0.9   \n",
       "4  Tamale                 RR  2010      5    0.0    0.0    0.0    0.0    1.0   \n",
       "\n",
       "   Val06  ...  Val22  Val23  Val24  Val25  Val26  Val27  Val28  Val29  Val30  \\\n",
       "0    0.0  ...    0.0    0.0    0.0    0.0    0.0    0.0    0.0    0.0    0.0   \n",
       "1    0.0  ...    0.0    0.0    0.0    0.0    0.0    0.0    0.0    NaN    NaN   \n",
       "2    0.0  ...    0.0    0.0    0.0    0.0    0.0    0.0    0.0    0.0    0.0   \n",
       "3    0.0  ...   89.1    0.0    0.0    0.0   73.3    1.5    0.0    0.0    0.0   \n",
       "4    0.0  ...    0.0    0.5    0.0    0.0    0.0    0.0    0.0    4.5    0.0   \n",
       "\n",
       "   Val31  \n",
       "0    0.0  \n",
       "1    NaN  \n",
       "2    0.0  \n",
       "3    NaN  \n",
       "4    0.6  \n",
       "\n",
       "[5 rows x 35 columns]"
      ]
     },
     "execution_count": 4,
     "metadata": {},
     "output_type": "execute_result"
    }
   ],
   "source": [
    "df_RR.head()"
   ]
  },
  {
   "cell_type": "markdown",
   "metadata": {},
   "source": [
    "## 2. Reshaping spreadsheet data\n",
    "\n",
    "We want to turn this tabular data from this \"wide\"-format, where each row contains more than one value to one where there is only one value per row. I.e. we want to reshape this table from one where each row contains each data for a each individual day in a given month and year, to one where one row only contains the rain for a single year, month and day.\n",
    "\n",
    "For this operation (which is the opposite to creating a \"pivot\" on the data) we can use pandas's [DataFrame.melt](https://pandas.pydata.org/pandas-docs/stable/reference/api/pandas.DataFrame.melt.html) method. In it we provide which columns contain the \"id\" of a data-value (i.e. which columns are label for the data) and the rest are then assumed to be columns containing data (which columns to use for data can explicitly be given with the `value_vars` variable):"
   ]
  },
  {
   "cell_type": "code",
   "execution_count": 5,
   "metadata": {},
   "outputs": [
    {
     "data": {
      "text/html": [
       "<div>\n",
       "<style scoped>\n",
       "    .dataframe tbody tr th:only-of-type {\n",
       "        vertical-align: middle;\n",
       "    }\n",
       "\n",
       "    .dataframe tbody tr th {\n",
       "        vertical-align: top;\n",
       "    }\n",
       "\n",
       "    .dataframe thead th {\n",
       "        text-align: right;\n",
       "    }\n",
       "</style>\n",
       "<table border=\"1\" class=\"dataframe\">\n",
       "  <thead>\n",
       "    <tr style=\"text-align: right;\">\n",
       "      <th></th>\n",
       "      <th>Name</th>\n",
       "      <th>Eg El Abbreviation</th>\n",
       "      <th>Year</th>\n",
       "      <th>Month</th>\n",
       "      <th>variable</th>\n",
       "      <th>value</th>\n",
       "    </tr>\n",
       "  </thead>\n",
       "  <tbody>\n",
       "    <tr>\n",
       "      <th>0</th>\n",
       "      <td>Tamale</td>\n",
       "      <td>RR</td>\n",
       "      <td>2010</td>\n",
       "      <td>1</td>\n",
       "      <td>Val01</td>\n",
       "      <td>0.0</td>\n",
       "    </tr>\n",
       "    <tr>\n",
       "      <th>1</th>\n",
       "      <td>Tamale</td>\n",
       "      <td>RR</td>\n",
       "      <td>2010</td>\n",
       "      <td>2</td>\n",
       "      <td>Val01</td>\n",
       "      <td>0.0</td>\n",
       "    </tr>\n",
       "    <tr>\n",
       "      <th>2</th>\n",
       "      <td>Tamale</td>\n",
       "      <td>RR</td>\n",
       "      <td>2010</td>\n",
       "      <td>3</td>\n",
       "      <td>Val01</td>\n",
       "      <td>0.0</td>\n",
       "    </tr>\n",
       "    <tr>\n",
       "      <th>3</th>\n",
       "      <td>Tamale</td>\n",
       "      <td>RR</td>\n",
       "      <td>2010</td>\n",
       "      <td>4</td>\n",
       "      <td>Val01</td>\n",
       "      <td>0.0</td>\n",
       "    </tr>\n",
       "    <tr>\n",
       "      <th>4</th>\n",
       "      <td>Tamale</td>\n",
       "      <td>RR</td>\n",
       "      <td>2010</td>\n",
       "      <td>5</td>\n",
       "      <td>Val01</td>\n",
       "      <td>0.0</td>\n",
       "    </tr>\n",
       "    <tr>\n",
       "      <th>...</th>\n",
       "      <td>...</td>\n",
       "      <td>...</td>\n",
       "      <td>...</td>\n",
       "      <td>...</td>\n",
       "      <td>...</td>\n",
       "      <td>...</td>\n",
       "    </tr>\n",
       "    <tr>\n",
       "      <th>4459</th>\n",
       "      <td>Tema</td>\n",
       "      <td>RR</td>\n",
       "      <td>2013</td>\n",
       "      <td>8</td>\n",
       "      <td>Val31</td>\n",
       "      <td>0.0</td>\n",
       "    </tr>\n",
       "    <tr>\n",
       "      <th>4460</th>\n",
       "      <td>Tema</td>\n",
       "      <td>RR</td>\n",
       "      <td>2013</td>\n",
       "      <td>9</td>\n",
       "      <td>Val31</td>\n",
       "      <td>NaN</td>\n",
       "    </tr>\n",
       "    <tr>\n",
       "      <th>4461</th>\n",
       "      <td>Tema</td>\n",
       "      <td>RR</td>\n",
       "      <td>2013</td>\n",
       "      <td>10</td>\n",
       "      <td>Val31</td>\n",
       "      <td>0.0</td>\n",
       "    </tr>\n",
       "    <tr>\n",
       "      <th>4462</th>\n",
       "      <td>Tema</td>\n",
       "      <td>RR</td>\n",
       "      <td>2013</td>\n",
       "      <td>11</td>\n",
       "      <td>Val31</td>\n",
       "      <td>NaN</td>\n",
       "    </tr>\n",
       "    <tr>\n",
       "      <th>4463</th>\n",
       "      <td>Tema</td>\n",
       "      <td>RR</td>\n",
       "      <td>2013</td>\n",
       "      <td>12</td>\n",
       "      <td>Val31</td>\n",
       "      <td>0.0</td>\n",
       "    </tr>\n",
       "  </tbody>\n",
       "</table>\n",
       "<p>4464 rows × 6 columns</p>\n",
       "</div>"
      ],
      "text/plain": [
       "        Name Eg El Abbreviation  Year  Month variable  value\n",
       "0     Tamale                 RR  2010      1    Val01    0.0\n",
       "1     Tamale                 RR  2010      2    Val01    0.0\n",
       "2     Tamale                 RR  2010      3    Val01    0.0\n",
       "3     Tamale                 RR  2010      4    Val01    0.0\n",
       "4     Tamale                 RR  2010      5    Val01    0.0\n",
       "...      ...                ...   ...    ...      ...    ...\n",
       "4459    Tema                 RR  2013      8    Val31    0.0\n",
       "4460    Tema                 RR  2013      9    Val31    NaN\n",
       "4461    Tema                 RR  2013     10    Val31    0.0\n",
       "4462    Tema                 RR  2013     11    Val31    NaN\n",
       "4463    Tema                 RR  2013     12    Val31    0.0\n",
       "\n",
       "[4464 rows x 6 columns]"
      ]
     },
     "execution_count": 5,
     "metadata": {},
     "output_type": "execute_result"
    }
   ],
   "source": [
    "df_RR.melt(\n",
    "    id_vars=[\n",
    "        \"Name\",\n",
    "        \"Eg El Abbreviation\",\n",
    "        \"Year\",\n",
    "        \"Month\",\n",
    "    ],\n",
    ")"
   ]
  },
  {
   "cell_type": "markdown",
   "metadata": {},
   "source": [
    "This is almost here, though we would prefer to have the actual day of the month rather than `Val01`, `Val02` etc. To achieve this we just need to rename the columns before we apply the `.melt` operation. We can also tell pandas what we want the column that contains these labels to be called, we'll make that `Day`"
   ]
  },
  {
   "cell_type": "code",
   "execution_count": 6,
   "metadata": {},
   "outputs": [
    {
     "data": {
      "text/plain": [
       "{'Val01': 1,\n",
       " 'Val02': 2,\n",
       " 'Val03': 3,\n",
       " 'Val04': 4,\n",
       " 'Val05': 5,\n",
       " 'Val06': 6,\n",
       " 'Val07': 7,\n",
       " 'Val08': 8,\n",
       " 'Val09': 9,\n",
       " 'Val10': 10,\n",
       " 'Val11': 11,\n",
       " 'Val12': 12,\n",
       " 'Val13': 13,\n",
       " 'Val14': 14,\n",
       " 'Val15': 15,\n",
       " 'Val16': 16,\n",
       " 'Val17': 17,\n",
       " 'Val18': 18,\n",
       " 'Val19': 19,\n",
       " 'Val20': 20,\n",
       " 'Val21': 21,\n",
       " 'Val22': 22,\n",
       " 'Val23': 23,\n",
       " 'Val24': 24,\n",
       " 'Val25': 25,\n",
       " 'Val26': 26,\n",
       " 'Val27': 27,\n",
       " 'Val28': 28,\n",
       " 'Val29': 29,\n",
       " 'Val30': 30,\n",
       " 'Val31': 31}"
      ]
     },
     "execution_count": 6,
     "metadata": {},
     "output_type": "execute_result"
    }
   ],
   "source": [
    "fields_to_rename = {f\"Val{n:02d}\": n for n in range(1, 32)}\n",
    "fields_to_rename"
   ]
  },
  {
   "cell_type": "code",
   "execution_count": 7,
   "metadata": {},
   "outputs": [
    {
     "data": {
      "text/html": [
       "<div>\n",
       "<style scoped>\n",
       "    .dataframe tbody tr th:only-of-type {\n",
       "        vertical-align: middle;\n",
       "    }\n",
       "\n",
       "    .dataframe tbody tr th {\n",
       "        vertical-align: top;\n",
       "    }\n",
       "\n",
       "    .dataframe thead th {\n",
       "        text-align: right;\n",
       "    }\n",
       "</style>\n",
       "<table border=\"1\" class=\"dataframe\">\n",
       "  <thead>\n",
       "    <tr style=\"text-align: right;\">\n",
       "      <th></th>\n",
       "      <th>Name</th>\n",
       "      <th>Eg El Abbreviation</th>\n",
       "      <th>Year</th>\n",
       "      <th>Month</th>\n",
       "      <th>1</th>\n",
       "      <th>2</th>\n",
       "      <th>3</th>\n",
       "      <th>4</th>\n",
       "      <th>5</th>\n",
       "      <th>6</th>\n",
       "      <th>...</th>\n",
       "      <th>22</th>\n",
       "      <th>23</th>\n",
       "      <th>24</th>\n",
       "      <th>25</th>\n",
       "      <th>26</th>\n",
       "      <th>27</th>\n",
       "      <th>28</th>\n",
       "      <th>29</th>\n",
       "      <th>30</th>\n",
       "      <th>31</th>\n",
       "    </tr>\n",
       "  </thead>\n",
       "  <tbody>\n",
       "    <tr>\n",
       "      <th>0</th>\n",
       "      <td>Tamale</td>\n",
       "      <td>RR</td>\n",
       "      <td>2010</td>\n",
       "      <td>1</td>\n",
       "      <td>0.0</td>\n",
       "      <td>0.0</td>\n",
       "      <td>0.0</td>\n",
       "      <td>0.0</td>\n",
       "      <td>0.0</td>\n",
       "      <td>0.0</td>\n",
       "      <td>...</td>\n",
       "      <td>0.0</td>\n",
       "      <td>0.0</td>\n",
       "      <td>0.0</td>\n",
       "      <td>0.0</td>\n",
       "      <td>0.0</td>\n",
       "      <td>0.0</td>\n",
       "      <td>0.0</td>\n",
       "      <td>0.0</td>\n",
       "      <td>0.0</td>\n",
       "      <td>0.0</td>\n",
       "    </tr>\n",
       "    <tr>\n",
       "      <th>1</th>\n",
       "      <td>Tamale</td>\n",
       "      <td>RR</td>\n",
       "      <td>2010</td>\n",
       "      <td>2</td>\n",
       "      <td>0.0</td>\n",
       "      <td>0.0</td>\n",
       "      <td>0.0</td>\n",
       "      <td>0.0</td>\n",
       "      <td>0.0</td>\n",
       "      <td>0.0</td>\n",
       "      <td>...</td>\n",
       "      <td>0.0</td>\n",
       "      <td>0.0</td>\n",
       "      <td>0.0</td>\n",
       "      <td>0.0</td>\n",
       "      <td>0.0</td>\n",
       "      <td>0.0</td>\n",
       "      <td>0.0</td>\n",
       "      <td>NaN</td>\n",
       "      <td>NaN</td>\n",
       "      <td>NaN</td>\n",
       "    </tr>\n",
       "    <tr>\n",
       "      <th>2</th>\n",
       "      <td>Tamale</td>\n",
       "      <td>RR</td>\n",
       "      <td>2010</td>\n",
       "      <td>3</td>\n",
       "      <td>0.0</td>\n",
       "      <td>0.0</td>\n",
       "      <td>0.0</td>\n",
       "      <td>0.0</td>\n",
       "      <td>0.0</td>\n",
       "      <td>0.0</td>\n",
       "      <td>...</td>\n",
       "      <td>0.0</td>\n",
       "      <td>0.0</td>\n",
       "      <td>0.0</td>\n",
       "      <td>0.0</td>\n",
       "      <td>0.0</td>\n",
       "      <td>0.0</td>\n",
       "      <td>0.0</td>\n",
       "      <td>0.0</td>\n",
       "      <td>0.0</td>\n",
       "      <td>0.0</td>\n",
       "    </tr>\n",
       "    <tr>\n",
       "      <th>3</th>\n",
       "      <td>Tamale</td>\n",
       "      <td>RR</td>\n",
       "      <td>2010</td>\n",
       "      <td>4</td>\n",
       "      <td>0.0</td>\n",
       "      <td>0.0</td>\n",
       "      <td>0.0</td>\n",
       "      <td>0.0</td>\n",
       "      <td>0.9</td>\n",
       "      <td>0.0</td>\n",
       "      <td>...</td>\n",
       "      <td>89.1</td>\n",
       "      <td>0.0</td>\n",
       "      <td>0.0</td>\n",
       "      <td>0.0</td>\n",
       "      <td>73.3</td>\n",
       "      <td>1.5</td>\n",
       "      <td>0.0</td>\n",
       "      <td>0.0</td>\n",
       "      <td>0.0</td>\n",
       "      <td>NaN</td>\n",
       "    </tr>\n",
       "    <tr>\n",
       "      <th>4</th>\n",
       "      <td>Tamale</td>\n",
       "      <td>RR</td>\n",
       "      <td>2010</td>\n",
       "      <td>5</td>\n",
       "      <td>0.0</td>\n",
       "      <td>0.0</td>\n",
       "      <td>0.0</td>\n",
       "      <td>0.0</td>\n",
       "      <td>1.0</td>\n",
       "      <td>0.0</td>\n",
       "      <td>...</td>\n",
       "      <td>0.0</td>\n",
       "      <td>0.5</td>\n",
       "      <td>0.0</td>\n",
       "      <td>0.0</td>\n",
       "      <td>0.0</td>\n",
       "      <td>0.0</td>\n",
       "      <td>0.0</td>\n",
       "      <td>4.5</td>\n",
       "      <td>0.0</td>\n",
       "      <td>0.6</td>\n",
       "    </tr>\n",
       "    <tr>\n",
       "      <th>...</th>\n",
       "      <td>...</td>\n",
       "      <td>...</td>\n",
       "      <td>...</td>\n",
       "      <td>...</td>\n",
       "      <td>...</td>\n",
       "      <td>...</td>\n",
       "      <td>...</td>\n",
       "      <td>...</td>\n",
       "      <td>...</td>\n",
       "      <td>...</td>\n",
       "      <td>...</td>\n",
       "      <td>...</td>\n",
       "      <td>...</td>\n",
       "      <td>...</td>\n",
       "      <td>...</td>\n",
       "      <td>...</td>\n",
       "      <td>...</td>\n",
       "      <td>...</td>\n",
       "      <td>...</td>\n",
       "      <td>...</td>\n",
       "      <td>...</td>\n",
       "    </tr>\n",
       "    <tr>\n",
       "      <th>139</th>\n",
       "      <td>Tema</td>\n",
       "      <td>RR</td>\n",
       "      <td>2013</td>\n",
       "      <td>8</td>\n",
       "      <td>0.0</td>\n",
       "      <td>0.0</td>\n",
       "      <td>0.0</td>\n",
       "      <td>0.0</td>\n",
       "      <td>0.0</td>\n",
       "      <td>0.3</td>\n",
       "      <td>...</td>\n",
       "      <td>0.0</td>\n",
       "      <td>0.0</td>\n",
       "      <td>0.0</td>\n",
       "      <td>0.0</td>\n",
       "      <td>0.0</td>\n",
       "      <td>0.0</td>\n",
       "      <td>0.0</td>\n",
       "      <td>0.0</td>\n",
       "      <td>0.0</td>\n",
       "      <td>0.0</td>\n",
       "    </tr>\n",
       "    <tr>\n",
       "      <th>140</th>\n",
       "      <td>Tema</td>\n",
       "      <td>RR</td>\n",
       "      <td>2013</td>\n",
       "      <td>9</td>\n",
       "      <td>0.1</td>\n",
       "      <td>0.0</td>\n",
       "      <td>0.0</td>\n",
       "      <td>0.0</td>\n",
       "      <td>6.5</td>\n",
       "      <td>0.0</td>\n",
       "      <td>...</td>\n",
       "      <td>0.0</td>\n",
       "      <td>7.3</td>\n",
       "      <td>3.0</td>\n",
       "      <td>0.0</td>\n",
       "      <td>0.0</td>\n",
       "      <td>0.0</td>\n",
       "      <td>0.0</td>\n",
       "      <td>0.0</td>\n",
       "      <td>0.0</td>\n",
       "      <td>NaN</td>\n",
       "    </tr>\n",
       "    <tr>\n",
       "      <th>141</th>\n",
       "      <td>Tema</td>\n",
       "      <td>RR</td>\n",
       "      <td>2013</td>\n",
       "      <td>10</td>\n",
       "      <td>0.0</td>\n",
       "      <td>0.0</td>\n",
       "      <td>0.5</td>\n",
       "      <td>0.0</td>\n",
       "      <td>0.0</td>\n",
       "      <td>0.0</td>\n",
       "      <td>...</td>\n",
       "      <td>0.0</td>\n",
       "      <td>0.0</td>\n",
       "      <td>0.0</td>\n",
       "      <td>0.0</td>\n",
       "      <td>0.0</td>\n",
       "      <td>0.0</td>\n",
       "      <td>0.0</td>\n",
       "      <td>0.0</td>\n",
       "      <td>0.0</td>\n",
       "      <td>0.0</td>\n",
       "    </tr>\n",
       "    <tr>\n",
       "      <th>142</th>\n",
       "      <td>Tema</td>\n",
       "      <td>RR</td>\n",
       "      <td>2013</td>\n",
       "      <td>11</td>\n",
       "      <td>0.0</td>\n",
       "      <td>0.0</td>\n",
       "      <td>0.0</td>\n",
       "      <td>0.0</td>\n",
       "      <td>0.0</td>\n",
       "      <td>0.0</td>\n",
       "      <td>...</td>\n",
       "      <td>0.0</td>\n",
       "      <td>5.8</td>\n",
       "      <td>0.0</td>\n",
       "      <td>4.9</td>\n",
       "      <td>0.0</td>\n",
       "      <td>0.0</td>\n",
       "      <td>0.0</td>\n",
       "      <td>0.0</td>\n",
       "      <td>9.9</td>\n",
       "      <td>NaN</td>\n",
       "    </tr>\n",
       "    <tr>\n",
       "      <th>143</th>\n",
       "      <td>Tema</td>\n",
       "      <td>RR</td>\n",
       "      <td>2013</td>\n",
       "      <td>12</td>\n",
       "      <td>0.0</td>\n",
       "      <td>0.0</td>\n",
       "      <td>0.4</td>\n",
       "      <td>10.2</td>\n",
       "      <td>0.0</td>\n",
       "      <td>0.0</td>\n",
       "      <td>...</td>\n",
       "      <td>0.0</td>\n",
       "      <td>0.0</td>\n",
       "      <td>0.0</td>\n",
       "      <td>0.0</td>\n",
       "      <td>0.0</td>\n",
       "      <td>0.0</td>\n",
       "      <td>0.0</td>\n",
       "      <td>0.0</td>\n",
       "      <td>24.8</td>\n",
       "      <td>0.0</td>\n",
       "    </tr>\n",
       "  </tbody>\n",
       "</table>\n",
       "<p>144 rows × 35 columns</p>\n",
       "</div>"
      ],
      "text/plain": [
       "       Name Eg El Abbreviation  Year  Month    1    2    3     4    5    6  \\\n",
       "0    Tamale                 RR  2010      1  0.0  0.0  0.0   0.0  0.0  0.0   \n",
       "1    Tamale                 RR  2010      2  0.0  0.0  0.0   0.0  0.0  0.0   \n",
       "2    Tamale                 RR  2010      3  0.0  0.0  0.0   0.0  0.0  0.0   \n",
       "3    Tamale                 RR  2010      4  0.0  0.0  0.0   0.0  0.9  0.0   \n",
       "4    Tamale                 RR  2010      5  0.0  0.0  0.0   0.0  1.0  0.0   \n",
       "..      ...                ...   ...    ...  ...  ...  ...   ...  ...  ...   \n",
       "139    Tema                 RR  2013      8  0.0  0.0  0.0   0.0  0.0  0.3   \n",
       "140    Tema                 RR  2013      9  0.1  0.0  0.0   0.0  6.5  0.0   \n",
       "141    Tema                 RR  2013     10  0.0  0.0  0.5   0.0  0.0  0.0   \n",
       "142    Tema                 RR  2013     11  0.0  0.0  0.0   0.0  0.0  0.0   \n",
       "143    Tema                 RR  2013     12  0.0  0.0  0.4  10.2  0.0  0.0   \n",
       "\n",
       "     ...    22   23   24   25    26   27   28   29    30   31  \n",
       "0    ...   0.0  0.0  0.0  0.0   0.0  0.0  0.0  0.0   0.0  0.0  \n",
       "1    ...   0.0  0.0  0.0  0.0   0.0  0.0  0.0  NaN   NaN  NaN  \n",
       "2    ...   0.0  0.0  0.0  0.0   0.0  0.0  0.0  0.0   0.0  0.0  \n",
       "3    ...  89.1  0.0  0.0  0.0  73.3  1.5  0.0  0.0   0.0  NaN  \n",
       "4    ...   0.0  0.5  0.0  0.0   0.0  0.0  0.0  4.5   0.0  0.6  \n",
       "..   ...   ...  ...  ...  ...   ...  ...  ...  ...   ...  ...  \n",
       "139  ...   0.0  0.0  0.0  0.0   0.0  0.0  0.0  0.0   0.0  0.0  \n",
       "140  ...   0.0  7.3  3.0  0.0   0.0  0.0  0.0  0.0   0.0  NaN  \n",
       "141  ...   0.0  0.0  0.0  0.0   0.0  0.0  0.0  0.0   0.0  0.0  \n",
       "142  ...   0.0  5.8  0.0  4.9   0.0  0.0  0.0  0.0   9.9  NaN  \n",
       "143  ...   0.0  0.0  0.0  0.0   0.0  0.0  0.0  0.0  24.8  0.0  \n",
       "\n",
       "[144 rows x 35 columns]"
      ]
     },
     "execution_count": 7,
     "metadata": {},
     "output_type": "execute_result"
    }
   ],
   "source": [
    "df_RR.rename(columns=fields_to_rename, inplace=True)\n",
    "df_RR"
   ]
  },
  {
   "cell_type": "markdown",
   "metadata": {},
   "source": [
    "We now call `.melt` again, and specify what we want the column which contains the day-numbers to be called.\n",
    "\n",
    "We'll also use the `.dropna()` function to get rid of any rows where the value is NaN (which for example will be on days where the month doens't have 31 days)"
   ]
  },
  {
   "cell_type": "code",
   "execution_count": 8,
   "metadata": {},
   "outputs": [
    {
     "data": {
      "text/html": [
       "<div>\n",
       "<style scoped>\n",
       "    .dataframe tbody tr th:only-of-type {\n",
       "        vertical-align: middle;\n",
       "    }\n",
       "\n",
       "    .dataframe tbody tr th {\n",
       "        vertical-align: top;\n",
       "    }\n",
       "\n",
       "    .dataframe thead th {\n",
       "        text-align: right;\n",
       "    }\n",
       "</style>\n",
       "<table border=\"1\" class=\"dataframe\">\n",
       "  <thead>\n",
       "    <tr style=\"text-align: right;\">\n",
       "      <th></th>\n",
       "      <th>Name</th>\n",
       "      <th>Eg El Abbreviation</th>\n",
       "      <th>Year</th>\n",
       "      <th>Month</th>\n",
       "      <th>Day</th>\n",
       "      <th>value</th>\n",
       "    </tr>\n",
       "  </thead>\n",
       "  <tbody>\n",
       "    <tr>\n",
       "      <th>0</th>\n",
       "      <td>Tamale</td>\n",
       "      <td>RR</td>\n",
       "      <td>2010</td>\n",
       "      <td>1</td>\n",
       "      <td>1</td>\n",
       "      <td>0.0</td>\n",
       "    </tr>\n",
       "    <tr>\n",
       "      <th>1</th>\n",
       "      <td>Tamale</td>\n",
       "      <td>RR</td>\n",
       "      <td>2010</td>\n",
       "      <td>2</td>\n",
       "      <td>1</td>\n",
       "      <td>0.0</td>\n",
       "    </tr>\n",
       "    <tr>\n",
       "      <th>2</th>\n",
       "      <td>Tamale</td>\n",
       "      <td>RR</td>\n",
       "      <td>2010</td>\n",
       "      <td>3</td>\n",
       "      <td>1</td>\n",
       "      <td>0.0</td>\n",
       "    </tr>\n",
       "    <tr>\n",
       "      <th>3</th>\n",
       "      <td>Tamale</td>\n",
       "      <td>RR</td>\n",
       "      <td>2010</td>\n",
       "      <td>4</td>\n",
       "      <td>1</td>\n",
       "      <td>0.0</td>\n",
       "    </tr>\n",
       "    <tr>\n",
       "      <th>4</th>\n",
       "      <td>Tamale</td>\n",
       "      <td>RR</td>\n",
       "      <td>2010</td>\n",
       "      <td>5</td>\n",
       "      <td>1</td>\n",
       "      <td>0.0</td>\n",
       "    </tr>\n",
       "    <tr>\n",
       "      <th>...</th>\n",
       "      <td>...</td>\n",
       "      <td>...</td>\n",
       "      <td>...</td>\n",
       "      <td>...</td>\n",
       "      <td>...</td>\n",
       "      <td>...</td>\n",
       "    </tr>\n",
       "    <tr>\n",
       "      <th>4456</th>\n",
       "      <td>Tema</td>\n",
       "      <td>RR</td>\n",
       "      <td>2013</td>\n",
       "      <td>5</td>\n",
       "      <td>31</td>\n",
       "      <td>0.0</td>\n",
       "    </tr>\n",
       "    <tr>\n",
       "      <th>4458</th>\n",
       "      <td>Tema</td>\n",
       "      <td>RR</td>\n",
       "      <td>2013</td>\n",
       "      <td>7</td>\n",
       "      <td>31</td>\n",
       "      <td>0.0</td>\n",
       "    </tr>\n",
       "    <tr>\n",
       "      <th>4459</th>\n",
       "      <td>Tema</td>\n",
       "      <td>RR</td>\n",
       "      <td>2013</td>\n",
       "      <td>8</td>\n",
       "      <td>31</td>\n",
       "      <td>0.0</td>\n",
       "    </tr>\n",
       "    <tr>\n",
       "      <th>4461</th>\n",
       "      <td>Tema</td>\n",
       "      <td>RR</td>\n",
       "      <td>2013</td>\n",
       "      <td>10</td>\n",
       "      <td>31</td>\n",
       "      <td>0.0</td>\n",
       "    </tr>\n",
       "    <tr>\n",
       "      <th>4463</th>\n",
       "      <td>Tema</td>\n",
       "      <td>RR</td>\n",
       "      <td>2013</td>\n",
       "      <td>12</td>\n",
       "      <td>31</td>\n",
       "      <td>0.0</td>\n",
       "    </tr>\n",
       "  </tbody>\n",
       "</table>\n",
       "<p>4383 rows × 6 columns</p>\n",
       "</div>"
      ],
      "text/plain": [
       "        Name Eg El Abbreviation  Year  Month Day  value\n",
       "0     Tamale                 RR  2010      1   1    0.0\n",
       "1     Tamale                 RR  2010      2   1    0.0\n",
       "2     Tamale                 RR  2010      3   1    0.0\n",
       "3     Tamale                 RR  2010      4   1    0.0\n",
       "4     Tamale                 RR  2010      5   1    0.0\n",
       "...      ...                ...   ...    ...  ..    ...\n",
       "4456    Tema                 RR  2013      5  31    0.0\n",
       "4458    Tema                 RR  2013      7  31    0.0\n",
       "4459    Tema                 RR  2013      8  31    0.0\n",
       "4461    Tema                 RR  2013     10  31    0.0\n",
       "4463    Tema                 RR  2013     12  31    0.0\n",
       "\n",
       "[4383 rows x 6 columns]"
      ]
     },
     "execution_count": 8,
     "metadata": {},
     "output_type": "execute_result"
    }
   ],
   "source": [
    "df_RR_flat = df_RR.melt(\n",
    "    id_vars=[\n",
    "        \"Name\",\n",
    "        \"Eg El Abbreviation\",\n",
    "        \"Year\",\n",
    "        \"Month\",\n",
    "    ],\n",
    "    var_name=\"Day\",\n",
    ").dropna()\n",
    "df_RR_flat"
   ]
  },
  {
   "cell_type": "markdown",
   "metadata": {},
   "source": [
    "Additionally, we'd like to have the full date defined in a single column instead of having the components of the date split into three different columns. To achieve this we can use the [pd.to_datetime](https://pandas.pydata.org/pandas-docs/stable/reference/api/pandas.to_datetime.html) function (you should click and have a look at its documentation). This function is so clever that if you pass it a DataFrame which contains columns with names `year`, `month`, `day`, `hour` etc it will automatically work out how to combine these and produce a single `pd.DataSeries` with datetimes that we can add as a new column to our exising dataframe."
   ]
  },
  {
   "cell_type": "code",
   "execution_count": 9,
   "metadata": {},
   "outputs": [
    {
     "data": {
      "text/plain": [
       "0      2010-01-01\n",
       "1      2010-02-01\n",
       "2      2010-03-01\n",
       "3      2010-04-01\n",
       "4      2010-05-01\n",
       "          ...    \n",
       "4456   2013-05-31\n",
       "4458   2013-07-31\n",
       "4459   2013-08-31\n",
       "4461   2013-10-31\n",
       "4463   2013-12-31\n",
       "Length: 4383, dtype: datetime64[ns]"
      ]
     },
     "execution_count": 9,
     "metadata": {},
     "output_type": "execute_result"
    }
   ],
   "source": [
    "pd.to_datetime(df_RR_flat[[\"Year\", \"Month\", \"Day\"]])"
   ]
  },
  {
   "cell_type": "code",
   "execution_count": 10,
   "metadata": {},
   "outputs": [
    {
     "data": {
      "text/html": [
       "<div>\n",
       "<style scoped>\n",
       "    .dataframe tbody tr th:only-of-type {\n",
       "        vertical-align: middle;\n",
       "    }\n",
       "\n",
       "    .dataframe tbody tr th {\n",
       "        vertical-align: top;\n",
       "    }\n",
       "\n",
       "    .dataframe thead th {\n",
       "        text-align: right;\n",
       "    }\n",
       "</style>\n",
       "<table border=\"1\" class=\"dataframe\">\n",
       "  <thead>\n",
       "    <tr style=\"text-align: right;\">\n",
       "      <th></th>\n",
       "      <th>Name</th>\n",
       "      <th>Eg El Abbreviation</th>\n",
       "      <th>Year</th>\n",
       "      <th>Month</th>\n",
       "      <th>Day</th>\n",
       "      <th>value</th>\n",
       "      <th>date</th>\n",
       "    </tr>\n",
       "  </thead>\n",
       "  <tbody>\n",
       "    <tr>\n",
       "      <th>0</th>\n",
       "      <td>Tamale</td>\n",
       "      <td>RR</td>\n",
       "      <td>2010</td>\n",
       "      <td>1</td>\n",
       "      <td>1</td>\n",
       "      <td>0.0</td>\n",
       "      <td>2010-01-01</td>\n",
       "    </tr>\n",
       "    <tr>\n",
       "      <th>1</th>\n",
       "      <td>Tamale</td>\n",
       "      <td>RR</td>\n",
       "      <td>2010</td>\n",
       "      <td>2</td>\n",
       "      <td>1</td>\n",
       "      <td>0.0</td>\n",
       "      <td>2010-02-01</td>\n",
       "    </tr>\n",
       "    <tr>\n",
       "      <th>2</th>\n",
       "      <td>Tamale</td>\n",
       "      <td>RR</td>\n",
       "      <td>2010</td>\n",
       "      <td>3</td>\n",
       "      <td>1</td>\n",
       "      <td>0.0</td>\n",
       "      <td>2010-03-01</td>\n",
       "    </tr>\n",
       "    <tr>\n",
       "      <th>3</th>\n",
       "      <td>Tamale</td>\n",
       "      <td>RR</td>\n",
       "      <td>2010</td>\n",
       "      <td>4</td>\n",
       "      <td>1</td>\n",
       "      <td>0.0</td>\n",
       "      <td>2010-04-01</td>\n",
       "    </tr>\n",
       "    <tr>\n",
       "      <th>4</th>\n",
       "      <td>Tamale</td>\n",
       "      <td>RR</td>\n",
       "      <td>2010</td>\n",
       "      <td>5</td>\n",
       "      <td>1</td>\n",
       "      <td>0.0</td>\n",
       "      <td>2010-05-01</td>\n",
       "    </tr>\n",
       "    <tr>\n",
       "      <th>...</th>\n",
       "      <td>...</td>\n",
       "      <td>...</td>\n",
       "      <td>...</td>\n",
       "      <td>...</td>\n",
       "      <td>...</td>\n",
       "      <td>...</td>\n",
       "      <td>...</td>\n",
       "    </tr>\n",
       "    <tr>\n",
       "      <th>4456</th>\n",
       "      <td>Tema</td>\n",
       "      <td>RR</td>\n",
       "      <td>2013</td>\n",
       "      <td>5</td>\n",
       "      <td>31</td>\n",
       "      <td>0.0</td>\n",
       "      <td>2013-05-31</td>\n",
       "    </tr>\n",
       "    <tr>\n",
       "      <th>4458</th>\n",
       "      <td>Tema</td>\n",
       "      <td>RR</td>\n",
       "      <td>2013</td>\n",
       "      <td>7</td>\n",
       "      <td>31</td>\n",
       "      <td>0.0</td>\n",
       "      <td>2013-07-31</td>\n",
       "    </tr>\n",
       "    <tr>\n",
       "      <th>4459</th>\n",
       "      <td>Tema</td>\n",
       "      <td>RR</td>\n",
       "      <td>2013</td>\n",
       "      <td>8</td>\n",
       "      <td>31</td>\n",
       "      <td>0.0</td>\n",
       "      <td>2013-08-31</td>\n",
       "    </tr>\n",
       "    <tr>\n",
       "      <th>4461</th>\n",
       "      <td>Tema</td>\n",
       "      <td>RR</td>\n",
       "      <td>2013</td>\n",
       "      <td>10</td>\n",
       "      <td>31</td>\n",
       "      <td>0.0</td>\n",
       "      <td>2013-10-31</td>\n",
       "    </tr>\n",
       "    <tr>\n",
       "      <th>4463</th>\n",
       "      <td>Tema</td>\n",
       "      <td>RR</td>\n",
       "      <td>2013</td>\n",
       "      <td>12</td>\n",
       "      <td>31</td>\n",
       "      <td>0.0</td>\n",
       "      <td>2013-12-31</td>\n",
       "    </tr>\n",
       "  </tbody>\n",
       "</table>\n",
       "<p>4383 rows × 7 columns</p>\n",
       "</div>"
      ],
      "text/plain": [
       "        Name Eg El Abbreviation  Year  Month Day  value       date\n",
       "0     Tamale                 RR  2010      1   1    0.0 2010-01-01\n",
       "1     Tamale                 RR  2010      2   1    0.0 2010-02-01\n",
       "2     Tamale                 RR  2010      3   1    0.0 2010-03-01\n",
       "3     Tamale                 RR  2010      4   1    0.0 2010-04-01\n",
       "4     Tamale                 RR  2010      5   1    0.0 2010-05-01\n",
       "...      ...                ...   ...    ...  ..    ...        ...\n",
       "4456    Tema                 RR  2013      5  31    0.0 2013-05-31\n",
       "4458    Tema                 RR  2013      7  31    0.0 2013-07-31\n",
       "4459    Tema                 RR  2013      8  31    0.0 2013-08-31\n",
       "4461    Tema                 RR  2013     10  31    0.0 2013-10-31\n",
       "4463    Tema                 RR  2013     12  31    0.0 2013-12-31\n",
       "\n",
       "[4383 rows x 7 columns]"
      ]
     },
     "execution_count": 10,
     "metadata": {},
     "output_type": "execute_result"
    }
   ],
   "source": [
    "df_RR_flat[\"date\"] = pd.to_datetime(df_RR_flat[[\"Year\", \"Month\", \"Day\"]])\n",
    "df_RR_flat"
   ]
  },
  {
   "cell_type": "markdown",
   "metadata": {},
   "source": [
    "The last thing we want to do is get rid of the columns we don't need anymore (`Eg El Abbrevation`, `Year`, `Month` and `Day`), make the new `date` column the index and finally split the stations into separate columns so that we can get the data just for the Tamale station by selecting its column."
   ]
  },
  {
   "cell_type": "code",
   "execution_count": 11,
   "metadata": {},
   "outputs": [
    {
     "data": {
      "text/html": [
       "<div>\n",
       "<style scoped>\n",
       "    .dataframe tbody tr th:only-of-type {\n",
       "        vertical-align: middle;\n",
       "    }\n",
       "\n",
       "    .dataframe tbody tr th {\n",
       "        vertical-align: top;\n",
       "    }\n",
       "\n",
       "    .dataframe thead th {\n",
       "        text-align: right;\n",
       "    }\n",
       "</style>\n",
       "<table border=\"1\" class=\"dataframe\">\n",
       "  <thead>\n",
       "    <tr style=\"text-align: right;\">\n",
       "      <th></th>\n",
       "      <th>Name</th>\n",
       "      <th>value</th>\n",
       "    </tr>\n",
       "    <tr>\n",
       "      <th>date</th>\n",
       "      <th></th>\n",
       "      <th></th>\n",
       "    </tr>\n",
       "  </thead>\n",
       "  <tbody>\n",
       "    <tr>\n",
       "      <th>2010-01-01</th>\n",
       "      <td>Tamale</td>\n",
       "      <td>0.0</td>\n",
       "    </tr>\n",
       "    <tr>\n",
       "      <th>2010-02-01</th>\n",
       "      <td>Tamale</td>\n",
       "      <td>0.0</td>\n",
       "    </tr>\n",
       "    <tr>\n",
       "      <th>2010-03-01</th>\n",
       "      <td>Tamale</td>\n",
       "      <td>0.0</td>\n",
       "    </tr>\n",
       "    <tr>\n",
       "      <th>2010-04-01</th>\n",
       "      <td>Tamale</td>\n",
       "      <td>0.0</td>\n",
       "    </tr>\n",
       "    <tr>\n",
       "      <th>2010-05-01</th>\n",
       "      <td>Tamale</td>\n",
       "      <td>0.0</td>\n",
       "    </tr>\n",
       "    <tr>\n",
       "      <th>...</th>\n",
       "      <td>...</td>\n",
       "      <td>...</td>\n",
       "    </tr>\n",
       "    <tr>\n",
       "      <th>2013-05-31</th>\n",
       "      <td>Tema</td>\n",
       "      <td>0.0</td>\n",
       "    </tr>\n",
       "    <tr>\n",
       "      <th>2013-07-31</th>\n",
       "      <td>Tema</td>\n",
       "      <td>0.0</td>\n",
       "    </tr>\n",
       "    <tr>\n",
       "      <th>2013-08-31</th>\n",
       "      <td>Tema</td>\n",
       "      <td>0.0</td>\n",
       "    </tr>\n",
       "    <tr>\n",
       "      <th>2013-10-31</th>\n",
       "      <td>Tema</td>\n",
       "      <td>0.0</td>\n",
       "    </tr>\n",
       "    <tr>\n",
       "      <th>2013-12-31</th>\n",
       "      <td>Tema</td>\n",
       "      <td>0.0</td>\n",
       "    </tr>\n",
       "  </tbody>\n",
       "</table>\n",
       "<p>4383 rows × 2 columns</p>\n",
       "</div>"
      ],
      "text/plain": [
       "              Name  value\n",
       "date                     \n",
       "2010-01-01  Tamale    0.0\n",
       "2010-02-01  Tamale    0.0\n",
       "2010-03-01  Tamale    0.0\n",
       "2010-04-01  Tamale    0.0\n",
       "2010-05-01  Tamale    0.0\n",
       "...            ...    ...\n",
       "2013-05-31    Tema    0.0\n",
       "2013-07-31    Tema    0.0\n",
       "2013-08-31    Tema    0.0\n",
       "2013-10-31    Tema    0.0\n",
       "2013-12-31    Tema    0.0\n",
       "\n",
       "[4383 rows x 2 columns]"
      ]
     },
     "execution_count": 11,
     "metadata": {},
     "output_type": "execute_result"
    }
   ],
   "source": [
    "# pick out the columns we want to keep and set the \"date\" column as the index\n",
    "df_RR_flat[[\"Name\", \"value\", \"date\"]].set_index(\"date\")"
   ]
  },
  {
   "cell_type": "markdown",
   "metadata": {},
   "source": [
    "Turning the dataframe back from this \"long\"-format with one entry-per-row to one with a column for each station, is the opposite of the `.melt` operation we did earlier. To do this kind of operation in pandas we can use the [DataFrame.pivot](https://pandas.pydata.org/pandas-docs/stable/reference/api/pandas.DataFrame.pivot.html#pandas.DataFrame.pivot) function; we simply say we want to pivot on the `Name` column:"
   ]
  },
  {
   "cell_type": "code",
   "execution_count": 12,
   "metadata": {},
   "outputs": [
    {
     "data": {
      "text/html": [
       "<div>\n",
       "<style scoped>\n",
       "    .dataframe tbody tr th:only-of-type {\n",
       "        vertical-align: middle;\n",
       "    }\n",
       "\n",
       "    .dataframe tbody tr th {\n",
       "        vertical-align: top;\n",
       "    }\n",
       "\n",
       "    .dataframe thead tr th {\n",
       "        text-align: left;\n",
       "    }\n",
       "\n",
       "    .dataframe thead tr:last-of-type th {\n",
       "        text-align: right;\n",
       "    }\n",
       "</style>\n",
       "<table border=\"1\" class=\"dataframe\">\n",
       "  <thead>\n",
       "    <tr>\n",
       "      <th></th>\n",
       "      <th colspan=\"3\" halign=\"left\">value</th>\n",
       "    </tr>\n",
       "    <tr>\n",
       "      <th>Name</th>\n",
       "      <th>Kumasi</th>\n",
       "      <th>Tamale</th>\n",
       "      <th>Tema</th>\n",
       "    </tr>\n",
       "    <tr>\n",
       "      <th>date</th>\n",
       "      <th></th>\n",
       "      <th></th>\n",
       "      <th></th>\n",
       "    </tr>\n",
       "  </thead>\n",
       "  <tbody>\n",
       "    <tr>\n",
       "      <th>2010-01-01</th>\n",
       "      <td>0.0</td>\n",
       "      <td>0.0</td>\n",
       "      <td>0.0</td>\n",
       "    </tr>\n",
       "    <tr>\n",
       "      <th>2010-01-02</th>\n",
       "      <td>0.0</td>\n",
       "      <td>0.0</td>\n",
       "      <td>0.0</td>\n",
       "    </tr>\n",
       "    <tr>\n",
       "      <th>2010-01-03</th>\n",
       "      <td>0.0</td>\n",
       "      <td>0.0</td>\n",
       "      <td>0.0</td>\n",
       "    </tr>\n",
       "    <tr>\n",
       "      <th>2010-01-04</th>\n",
       "      <td>0.0</td>\n",
       "      <td>0.0</td>\n",
       "      <td>0.0</td>\n",
       "    </tr>\n",
       "    <tr>\n",
       "      <th>2010-01-05</th>\n",
       "      <td>0.0</td>\n",
       "      <td>0.0</td>\n",
       "      <td>0.0</td>\n",
       "    </tr>\n",
       "    <tr>\n",
       "      <th>...</th>\n",
       "      <td>...</td>\n",
       "      <td>...</td>\n",
       "      <td>...</td>\n",
       "    </tr>\n",
       "    <tr>\n",
       "      <th>2013-12-27</th>\n",
       "      <td>0.0</td>\n",
       "      <td>0.0</td>\n",
       "      <td>0.0</td>\n",
       "    </tr>\n",
       "    <tr>\n",
       "      <th>2013-12-28</th>\n",
       "      <td>0.0</td>\n",
       "      <td>0.0</td>\n",
       "      <td>0.0</td>\n",
       "    </tr>\n",
       "    <tr>\n",
       "      <th>2013-12-29</th>\n",
       "      <td>0.0</td>\n",
       "      <td>0.0</td>\n",
       "      <td>0.0</td>\n",
       "    </tr>\n",
       "    <tr>\n",
       "      <th>2013-12-30</th>\n",
       "      <td>0.0</td>\n",
       "      <td>0.0</td>\n",
       "      <td>24.8</td>\n",
       "    </tr>\n",
       "    <tr>\n",
       "      <th>2013-12-31</th>\n",
       "      <td>15.1</td>\n",
       "      <td>0.0</td>\n",
       "      <td>0.0</td>\n",
       "    </tr>\n",
       "  </tbody>\n",
       "</table>\n",
       "<p>1461 rows × 3 columns</p>\n",
       "</div>"
      ],
      "text/plain": [
       "            value             \n",
       "Name       Kumasi Tamale  Tema\n",
       "date                          \n",
       "2010-01-01    0.0    0.0   0.0\n",
       "2010-01-02    0.0    0.0   0.0\n",
       "2010-01-03    0.0    0.0   0.0\n",
       "2010-01-04    0.0    0.0   0.0\n",
       "2010-01-05    0.0    0.0   0.0\n",
       "...           ...    ...   ...\n",
       "2013-12-27    0.0    0.0   0.0\n",
       "2013-12-28    0.0    0.0   0.0\n",
       "2013-12-29    0.0    0.0   0.0\n",
       "2013-12-30    0.0    0.0  24.8\n",
       "2013-12-31   15.1    0.0   0.0\n",
       "\n",
       "[1461 rows x 3 columns]"
      ]
     },
     "execution_count": 12,
     "metadata": {},
     "output_type": "execute_result"
    }
   ],
   "source": [
    "df_RR_flat[[\"Name\", \"value\", \"date\"]].set_index(\"date\").pivot(columns=\"Name\")"
   ]
  },
  {
   "cell_type": "markdown",
   "metadata": {},
   "source": [
    "You will see that the `value`-label is hovering above the name of the stations. That is because the numbers in the `value` column now have formed an axes in our data. We can simply pick out that axes just like we pick out columns, and we have the final result we wanted:"
   ]
  },
  {
   "cell_type": "code",
   "execution_count": 13,
   "metadata": {},
   "outputs": [
    {
     "data": {
      "text/html": [
       "<div>\n",
       "<style scoped>\n",
       "    .dataframe tbody tr th:only-of-type {\n",
       "        vertical-align: middle;\n",
       "    }\n",
       "\n",
       "    .dataframe tbody tr th {\n",
       "        vertical-align: top;\n",
       "    }\n",
       "\n",
       "    .dataframe thead th {\n",
       "        text-align: right;\n",
       "    }\n",
       "</style>\n",
       "<table border=\"1\" class=\"dataframe\">\n",
       "  <thead>\n",
       "    <tr style=\"text-align: right;\">\n",
       "      <th>Name</th>\n",
       "      <th>Kumasi</th>\n",
       "      <th>Tamale</th>\n",
       "      <th>Tema</th>\n",
       "    </tr>\n",
       "    <tr>\n",
       "      <th>date</th>\n",
       "      <th></th>\n",
       "      <th></th>\n",
       "      <th></th>\n",
       "    </tr>\n",
       "  </thead>\n",
       "  <tbody>\n",
       "    <tr>\n",
       "      <th>2010-01-01</th>\n",
       "      <td>0.0</td>\n",
       "      <td>0.0</td>\n",
       "      <td>0.0</td>\n",
       "    </tr>\n",
       "    <tr>\n",
       "      <th>2010-01-02</th>\n",
       "      <td>0.0</td>\n",
       "      <td>0.0</td>\n",
       "      <td>0.0</td>\n",
       "    </tr>\n",
       "    <tr>\n",
       "      <th>2010-01-03</th>\n",
       "      <td>0.0</td>\n",
       "      <td>0.0</td>\n",
       "      <td>0.0</td>\n",
       "    </tr>\n",
       "    <tr>\n",
       "      <th>2010-01-04</th>\n",
       "      <td>0.0</td>\n",
       "      <td>0.0</td>\n",
       "      <td>0.0</td>\n",
       "    </tr>\n",
       "    <tr>\n",
       "      <th>2010-01-05</th>\n",
       "      <td>0.0</td>\n",
       "      <td>0.0</td>\n",
       "      <td>0.0</td>\n",
       "    </tr>\n",
       "    <tr>\n",
       "      <th>...</th>\n",
       "      <td>...</td>\n",
       "      <td>...</td>\n",
       "      <td>...</td>\n",
       "    </tr>\n",
       "    <tr>\n",
       "      <th>2013-12-27</th>\n",
       "      <td>0.0</td>\n",
       "      <td>0.0</td>\n",
       "      <td>0.0</td>\n",
       "    </tr>\n",
       "    <tr>\n",
       "      <th>2013-12-28</th>\n",
       "      <td>0.0</td>\n",
       "      <td>0.0</td>\n",
       "      <td>0.0</td>\n",
       "    </tr>\n",
       "    <tr>\n",
       "      <th>2013-12-29</th>\n",
       "      <td>0.0</td>\n",
       "      <td>0.0</td>\n",
       "      <td>0.0</td>\n",
       "    </tr>\n",
       "    <tr>\n",
       "      <th>2013-12-30</th>\n",
       "      <td>0.0</td>\n",
       "      <td>0.0</td>\n",
       "      <td>24.8</td>\n",
       "    </tr>\n",
       "    <tr>\n",
       "      <th>2013-12-31</th>\n",
       "      <td>15.1</td>\n",
       "      <td>0.0</td>\n",
       "      <td>0.0</td>\n",
       "    </tr>\n",
       "  </tbody>\n",
       "</table>\n",
       "<p>1461 rows × 3 columns</p>\n",
       "</div>"
      ],
      "text/plain": [
       "Name        Kumasi  Tamale  Tema\n",
       "date                            \n",
       "2010-01-01     0.0     0.0   0.0\n",
       "2010-01-02     0.0     0.0   0.0\n",
       "2010-01-03     0.0     0.0   0.0\n",
       "2010-01-04     0.0     0.0   0.0\n",
       "2010-01-05     0.0     0.0   0.0\n",
       "...            ...     ...   ...\n",
       "2013-12-27     0.0     0.0   0.0\n",
       "2013-12-28     0.0     0.0   0.0\n",
       "2013-12-29     0.0     0.0   0.0\n",
       "2013-12-30     0.0     0.0  24.8\n",
       "2013-12-31    15.1     0.0   0.0\n",
       "\n",
       "[1461 rows x 3 columns]"
      ]
     },
     "execution_count": 13,
     "metadata": {},
     "output_type": "execute_result"
    }
   ],
   "source": [
    "df_RR_flat[[\"Name\", \"value\", \"date\"]].set_index(\"date\").pivot(columns=\"Name\")[\"value\"]"
   ]
  },
  {
   "cell_type": "markdown",
   "metadata": {},
   "source": [
    "Let's wrap all this functionality we just wrote into a single function that we can apply on the data-frame we originally loaded. This will make it really clear (when we come back another day say) what steps we went through, and makes it easy to apply the operations to each sheet (rain amount, minimum temperature and maximum temperature). Because every pandas operation on a `DataFrame` returns a new `DataFrame` we can use what is often called [method-chaining](https://towardsdatascience.com/using-pandas-method-chaining-to-improve-code-readability-d8517c5626ac) to make the code a lot easier to read:"
   ]
  },
  {
   "cell_type": "code",
   "execution_count": 14,
   "metadata": {},
   "outputs": [
    {
     "data": {
      "text/html": [
       "<div>\n",
       "<style scoped>\n",
       "    .dataframe tbody tr th:only-of-type {\n",
       "        vertical-align: middle;\n",
       "    }\n",
       "\n",
       "    .dataframe tbody tr th {\n",
       "        vertical-align: top;\n",
       "    }\n",
       "\n",
       "    .dataframe thead th {\n",
       "        text-align: right;\n",
       "    }\n",
       "</style>\n",
       "<table border=\"1\" class=\"dataframe\">\n",
       "  <thead>\n",
       "    <tr style=\"text-align: right;\">\n",
       "      <th>Name</th>\n",
       "      <th>Kumasi</th>\n",
       "      <th>Tamale</th>\n",
       "      <th>Tema</th>\n",
       "    </tr>\n",
       "    <tr>\n",
       "      <th>date</th>\n",
       "      <th></th>\n",
       "      <th></th>\n",
       "      <th></th>\n",
       "    </tr>\n",
       "  </thead>\n",
       "  <tbody>\n",
       "    <tr>\n",
       "      <th>2010-01-01</th>\n",
       "      <td>0.0</td>\n",
       "      <td>0.0</td>\n",
       "      <td>0.0</td>\n",
       "    </tr>\n",
       "    <tr>\n",
       "      <th>2010-01-02</th>\n",
       "      <td>0.0</td>\n",
       "      <td>0.0</td>\n",
       "      <td>0.0</td>\n",
       "    </tr>\n",
       "    <tr>\n",
       "      <th>2010-01-03</th>\n",
       "      <td>0.0</td>\n",
       "      <td>0.0</td>\n",
       "      <td>0.0</td>\n",
       "    </tr>\n",
       "    <tr>\n",
       "      <th>2010-01-04</th>\n",
       "      <td>0.0</td>\n",
       "      <td>0.0</td>\n",
       "      <td>0.0</td>\n",
       "    </tr>\n",
       "    <tr>\n",
       "      <th>2010-01-05</th>\n",
       "      <td>0.0</td>\n",
       "      <td>0.0</td>\n",
       "      <td>0.0</td>\n",
       "    </tr>\n",
       "    <tr>\n",
       "      <th>...</th>\n",
       "      <td>...</td>\n",
       "      <td>...</td>\n",
       "      <td>...</td>\n",
       "    </tr>\n",
       "    <tr>\n",
       "      <th>2013-12-27</th>\n",
       "      <td>0.0</td>\n",
       "      <td>0.0</td>\n",
       "      <td>0.0</td>\n",
       "    </tr>\n",
       "    <tr>\n",
       "      <th>2013-12-28</th>\n",
       "      <td>0.0</td>\n",
       "      <td>0.0</td>\n",
       "      <td>0.0</td>\n",
       "    </tr>\n",
       "    <tr>\n",
       "      <th>2013-12-29</th>\n",
       "      <td>0.0</td>\n",
       "      <td>0.0</td>\n",
       "      <td>0.0</td>\n",
       "    </tr>\n",
       "    <tr>\n",
       "      <th>2013-12-30</th>\n",
       "      <td>0.0</td>\n",
       "      <td>0.0</td>\n",
       "      <td>24.8</td>\n",
       "    </tr>\n",
       "    <tr>\n",
       "      <th>2013-12-31</th>\n",
       "      <td>15.1</td>\n",
       "      <td>0.0</td>\n",
       "      <td>0.0</td>\n",
       "    </tr>\n",
       "  </tbody>\n",
       "</table>\n",
       "<p>1461 rows × 3 columns</p>\n",
       "</div>"
      ],
      "text/plain": [
       "Name        Kumasi  Tamale  Tema\n",
       "date                            \n",
       "2010-01-01     0.0     0.0   0.0\n",
       "2010-01-02     0.0     0.0   0.0\n",
       "2010-01-03     0.0     0.0   0.0\n",
       "2010-01-04     0.0     0.0   0.0\n",
       "2010-01-05     0.0     0.0   0.0\n",
       "...            ...     ...   ...\n",
       "2013-12-27     0.0     0.0   0.0\n",
       "2013-12-28     0.0     0.0   0.0\n",
       "2013-12-29     0.0     0.0   0.0\n",
       "2013-12-30     0.0     0.0  24.8\n",
       "2013-12-31    15.1     0.0   0.0\n",
       "\n",
       "[1461 rows x 3 columns]"
      ]
     },
     "execution_count": 14,
     "metadata": {},
     "output_type": "execute_result"
    }
   ],
   "source": [
    "def reshape_from_monthrows_to_daily(df):\n",
    "    \"\"\"\n",
    "    Take a station-data DataFrame (loaded from a Excel spredsheet)\n",
    "    with values per day in a given months a columns and month, year and station by row\n",
    "    and reshape into data per date with stations given as columns\n",
    "    \"\"\"\n",
    "    fields_to_rename = {f\"Val{n:02d}\": n for n in range(1, 32)}\n",
    "\n",
    "    df_flat = (\n",
    "        df.rename(columns=fields_to_rename, inplace=False)\n",
    "        .melt(\n",
    "            id_vars=[\n",
    "                \"Name\",\n",
    "                \"Eg El Abbreviation\",\n",
    "                \"Year\",\n",
    "                \"Month\",\n",
    "            ],\n",
    "            var_name=\"Day\",\n",
    "        )\n",
    "        .dropna()\n",
    "    )\n",
    "\n",
    "    # add the date column, we've added `errors=\"coerse\"` here because the max temperature data appears\n",
    "    # to include an invalid dates, for these rows the \"date\" will be set as NaT (nan-time)\n",
    "    df_flat[\"date\"] = pd.to_datetime(df_flat[[\"Year\", \"Month\", \"Day\"]], errors=\"coerce\")\n",
    "\n",
    "    # drop all NaT rows, the `~` means not, i.e. keep only values where the date is not NaT\n",
    "    df_flat = df_flat[~pd.isnull(df_flat[\"date\"])]\n",
    "\n",
    "    return (\n",
    "        df_flat[[\"Name\", \"value\", \"date\"]]\n",
    "        .set_index(\"date\")\n",
    "        .pivot(columns=\"Name\")[\"value\"]\n",
    "    )\n",
    "\n",
    "\n",
    "reshape_from_monthrows_to_daily(df_RR)"
   ]
  },
  {
   "cell_type": "code",
   "execution_count": 15,
   "metadata": {},
   "outputs": [
    {
     "data": {
      "text/html": [
       "<div>\n",
       "<style scoped>\n",
       "    .dataframe tbody tr th:only-of-type {\n",
       "        vertical-align: middle;\n",
       "    }\n",
       "\n",
       "    .dataframe tbody tr th {\n",
       "        vertical-align: top;\n",
       "    }\n",
       "\n",
       "    .dataframe thead th {\n",
       "        text-align: right;\n",
       "    }\n",
       "</style>\n",
       "<table border=\"1\" class=\"dataframe\">\n",
       "  <thead>\n",
       "    <tr style=\"text-align: right;\">\n",
       "      <th>Name</th>\n",
       "      <th>Kumasi</th>\n",
       "      <th>Tamale</th>\n",
       "      <th>Tema</th>\n",
       "    </tr>\n",
       "    <tr>\n",
       "      <th>date</th>\n",
       "      <th></th>\n",
       "      <th></th>\n",
       "      <th></th>\n",
       "    </tr>\n",
       "  </thead>\n",
       "  <tbody>\n",
       "    <tr>\n",
       "      <th>2010-01-01</th>\n",
       "      <td>22.7</td>\n",
       "      <td>20.500000</td>\n",
       "      <td>26.1</td>\n",
       "    </tr>\n",
       "    <tr>\n",
       "      <th>2010-01-02</th>\n",
       "      <td>22.5</td>\n",
       "      <td>18.300000</td>\n",
       "      <td>26.0</td>\n",
       "    </tr>\n",
       "    <tr>\n",
       "      <th>2010-01-03</th>\n",
       "      <td>23.2</td>\n",
       "      <td>16.700000</td>\n",
       "      <td>25.9</td>\n",
       "    </tr>\n",
       "    <tr>\n",
       "      <th>2010-01-04</th>\n",
       "      <td>23.4</td>\n",
       "      <td>16.000000</td>\n",
       "      <td>27.0</td>\n",
       "    </tr>\n",
       "    <tr>\n",
       "      <th>2010-01-05</th>\n",
       "      <td>22.5</td>\n",
       "      <td>14.200000</td>\n",
       "      <td>26.5</td>\n",
       "    </tr>\n",
       "    <tr>\n",
       "      <th>...</th>\n",
       "      <td>...</td>\n",
       "      <td>...</td>\n",
       "      <td>...</td>\n",
       "    </tr>\n",
       "    <tr>\n",
       "      <th>2013-12-27</th>\n",
       "      <td>22.2</td>\n",
       "      <td>17.400000</td>\n",
       "      <td>25.2</td>\n",
       "    </tr>\n",
       "    <tr>\n",
       "      <th>2013-12-28</th>\n",
       "      <td>22.5</td>\n",
       "      <td>16.733333</td>\n",
       "      <td>26.2</td>\n",
       "    </tr>\n",
       "    <tr>\n",
       "      <th>2013-12-29</th>\n",
       "      <td>24.0</td>\n",
       "      <td>16.466667</td>\n",
       "      <td>26.5</td>\n",
       "    </tr>\n",
       "    <tr>\n",
       "      <th>2013-12-30</th>\n",
       "      <td>23.3</td>\n",
       "      <td>16.766667</td>\n",
       "      <td>25.4</td>\n",
       "    </tr>\n",
       "    <tr>\n",
       "      <th>2013-12-31</th>\n",
       "      <td>22.4</td>\n",
       "      <td>16.333333</td>\n",
       "      <td>23.0</td>\n",
       "    </tr>\n",
       "  </tbody>\n",
       "</table>\n",
       "<p>1461 rows × 3 columns</p>\n",
       "</div>"
      ],
      "text/plain": [
       "Name        Kumasi     Tamale  Tema\n",
       "date                               \n",
       "2010-01-01    22.7  20.500000  26.1\n",
       "2010-01-02    22.5  18.300000  26.0\n",
       "2010-01-03    23.2  16.700000  25.9\n",
       "2010-01-04    23.4  16.000000  27.0\n",
       "2010-01-05    22.5  14.200000  26.5\n",
       "...            ...        ...   ...\n",
       "2013-12-27    22.2  17.400000  25.2\n",
       "2013-12-28    22.5  16.733333  26.2\n",
       "2013-12-29    24.0  16.466667  26.5\n",
       "2013-12-30    23.3  16.766667  25.4\n",
       "2013-12-31    22.4  16.333333  23.0\n",
       "\n",
       "[1461 rows x 3 columns]"
      ]
     },
     "execution_count": 15,
     "metadata": {},
     "output_type": "execute_result"
    }
   ],
   "source": [
    "# this can also be applied to the temperature data\n",
    "reshape_from_monthrows_to_daily(df_TN)"
   ]
  },
  {
   "cell_type": "code",
   "execution_count": 16,
   "metadata": {},
   "outputs": [
    {
     "data": {
      "text/html": [
       "<div>\n",
       "<style scoped>\n",
       "    .dataframe tbody tr th:only-of-type {\n",
       "        vertical-align: middle;\n",
       "    }\n",
       "\n",
       "    .dataframe tbody tr th {\n",
       "        vertical-align: top;\n",
       "    }\n",
       "\n",
       "    .dataframe thead th {\n",
       "        text-align: right;\n",
       "    }\n",
       "</style>\n",
       "<table border=\"1\" class=\"dataframe\">\n",
       "  <thead>\n",
       "    <tr style=\"text-align: right;\">\n",
       "      <th></th>\n",
       "      <th>Name</th>\n",
       "      <th>Eg El Abbreviation</th>\n",
       "      <th>Year</th>\n",
       "      <th>Month</th>\n",
       "      <th>Val01</th>\n",
       "      <th>Val02</th>\n",
       "      <th>Val03</th>\n",
       "      <th>Val04</th>\n",
       "      <th>Val05</th>\n",
       "      <th>Val06</th>\n",
       "      <th>...</th>\n",
       "      <th>Val22</th>\n",
       "      <th>Val23</th>\n",
       "      <th>Val24</th>\n",
       "      <th>Val25</th>\n",
       "      <th>Val26</th>\n",
       "      <th>Val27</th>\n",
       "      <th>Val28</th>\n",
       "      <th>Val29</th>\n",
       "      <th>Val30</th>\n",
       "      <th>Val31</th>\n",
       "    </tr>\n",
       "  </thead>\n",
       "  <tbody>\n",
       "    <tr>\n",
       "      <th>0</th>\n",
       "      <td>Tamale</td>\n",
       "      <td>Tx</td>\n",
       "      <td>2010</td>\n",
       "      <td>1</td>\n",
       "      <td>36.0</td>\n",
       "      <td>35.8</td>\n",
       "      <td>36.9</td>\n",
       "      <td>36.6</td>\n",
       "      <td>37.1</td>\n",
       "      <td>37.5</td>\n",
       "      <td>...</td>\n",
       "      <td>37.4</td>\n",
       "      <td>37.6</td>\n",
       "      <td>37.7</td>\n",
       "      <td>38.8</td>\n",
       "      <td>38.7</td>\n",
       "      <td>39.2</td>\n",
       "      <td>38.5</td>\n",
       "      <td>39.5</td>\n",
       "      <td>40.5</td>\n",
       "      <td>40.5</td>\n",
       "    </tr>\n",
       "    <tr>\n",
       "      <th>1</th>\n",
       "      <td>Tamale</td>\n",
       "      <td>Tx</td>\n",
       "      <td>2010</td>\n",
       "      <td>2</td>\n",
       "      <td>38.4</td>\n",
       "      <td>39.8</td>\n",
       "      <td>39.6</td>\n",
       "      <td>39.0</td>\n",
       "      <td>38.4</td>\n",
       "      <td>38.0</td>\n",
       "      <td>...</td>\n",
       "      <td>38.7</td>\n",
       "      <td>40.1</td>\n",
       "      <td>40.6</td>\n",
       "      <td>40.2</td>\n",
       "      <td>39.0</td>\n",
       "      <td>39.7</td>\n",
       "      <td>40.5</td>\n",
       "      <td>NaN</td>\n",
       "      <td>NaN</td>\n",
       "      <td>NaN</td>\n",
       "    </tr>\n",
       "    <tr>\n",
       "      <th>2</th>\n",
       "      <td>Tamale</td>\n",
       "      <td>Tx</td>\n",
       "      <td>2010</td>\n",
       "      <td>3</td>\n",
       "      <td>39.2</td>\n",
       "      <td>39.5</td>\n",
       "      <td>40.6</td>\n",
       "      <td>40.2</td>\n",
       "      <td>39.6</td>\n",
       "      <td>39.2</td>\n",
       "      <td>...</td>\n",
       "      <td>36.4</td>\n",
       "      <td>37.5</td>\n",
       "      <td>37.7</td>\n",
       "      <td>38.0</td>\n",
       "      <td>40.0</td>\n",
       "      <td>40.5</td>\n",
       "      <td>39.5</td>\n",
       "      <td>40.0</td>\n",
       "      <td>39.6</td>\n",
       "      <td>39.5</td>\n",
       "    </tr>\n",
       "    <tr>\n",
       "      <th>3</th>\n",
       "      <td>Tamale</td>\n",
       "      <td>Tx</td>\n",
       "      <td>2010</td>\n",
       "      <td>4</td>\n",
       "      <td>40.6</td>\n",
       "      <td>40.0</td>\n",
       "      <td>39.5</td>\n",
       "      <td>39.5</td>\n",
       "      <td>39.6</td>\n",
       "      <td>34.5</td>\n",
       "      <td>...</td>\n",
       "      <td>39.4</td>\n",
       "      <td>33.5</td>\n",
       "      <td>34.5</td>\n",
       "      <td>34.5</td>\n",
       "      <td>34.4</td>\n",
       "      <td>28.8</td>\n",
       "      <td>33.7</td>\n",
       "      <td>35.5</td>\n",
       "      <td>34.0</td>\n",
       "      <td>NaN</td>\n",
       "    </tr>\n",
       "    <tr>\n",
       "      <th>4</th>\n",
       "      <td>Tamale</td>\n",
       "      <td>Tx</td>\n",
       "      <td>2010</td>\n",
       "      <td>5</td>\n",
       "      <td>35.4</td>\n",
       "      <td>34.1</td>\n",
       "      <td>35.0</td>\n",
       "      <td>35.1</td>\n",
       "      <td>34.8</td>\n",
       "      <td>33.8</td>\n",
       "      <td>...</td>\n",
       "      <td>35.6</td>\n",
       "      <td>36.6</td>\n",
       "      <td>34.2</td>\n",
       "      <td>37.0</td>\n",
       "      <td>34.5</td>\n",
       "      <td>36.6</td>\n",
       "      <td>37.0</td>\n",
       "      <td>35.5</td>\n",
       "      <td>33.8</td>\n",
       "      <td>36.0</td>\n",
       "    </tr>\n",
       "    <tr>\n",
       "      <th>...</th>\n",
       "      <td>...</td>\n",
       "      <td>...</td>\n",
       "      <td>...</td>\n",
       "      <td>...</td>\n",
       "      <td>...</td>\n",
       "      <td>...</td>\n",
       "      <td>...</td>\n",
       "      <td>...</td>\n",
       "      <td>...</td>\n",
       "      <td>...</td>\n",
       "      <td>...</td>\n",
       "      <td>...</td>\n",
       "      <td>...</td>\n",
       "      <td>...</td>\n",
       "      <td>...</td>\n",
       "      <td>...</td>\n",
       "      <td>...</td>\n",
       "      <td>...</td>\n",
       "      <td>...</td>\n",
       "      <td>...</td>\n",
       "      <td>...</td>\n",
       "    </tr>\n",
       "    <tr>\n",
       "      <th>139</th>\n",
       "      <td>Tema</td>\n",
       "      <td>Tx</td>\n",
       "      <td>2013</td>\n",
       "      <td>8</td>\n",
       "      <td>27.0</td>\n",
       "      <td>26.6</td>\n",
       "      <td>26.5</td>\n",
       "      <td>27.8</td>\n",
       "      <td>28.5</td>\n",
       "      <td>27.0</td>\n",
       "      <td>...</td>\n",
       "      <td>27.6</td>\n",
       "      <td>28.4</td>\n",
       "      <td>27.8</td>\n",
       "      <td>28.0</td>\n",
       "      <td>28.1</td>\n",
       "      <td>28.4</td>\n",
       "      <td>28.7</td>\n",
       "      <td>28.8</td>\n",
       "      <td>28.1</td>\n",
       "      <td>27.7</td>\n",
       "    </tr>\n",
       "    <tr>\n",
       "      <th>140</th>\n",
       "      <td>Tema</td>\n",
       "      <td>Tx</td>\n",
       "      <td>2013</td>\n",
       "      <td>9</td>\n",
       "      <td>28.4</td>\n",
       "      <td>27.8</td>\n",
       "      <td>28.1</td>\n",
       "      <td>29.0</td>\n",
       "      <td>29.0</td>\n",
       "      <td>27.5</td>\n",
       "      <td>...</td>\n",
       "      <td>29.5</td>\n",
       "      <td>28.1</td>\n",
       "      <td>26.6</td>\n",
       "      <td>28.0</td>\n",
       "      <td>28.2</td>\n",
       "      <td>28.2</td>\n",
       "      <td>28.2</td>\n",
       "      <td>28.6</td>\n",
       "      <td>29.2</td>\n",
       "      <td>NaN</td>\n",
       "    </tr>\n",
       "    <tr>\n",
       "      <th>141</th>\n",
       "      <td>Tema</td>\n",
       "      <td>Tx</td>\n",
       "      <td>2013</td>\n",
       "      <td>10</td>\n",
       "      <td>30.0</td>\n",
       "      <td>29.0</td>\n",
       "      <td>29.9</td>\n",
       "      <td>32.0</td>\n",
       "      <td>30.0</td>\n",
       "      <td>29.6</td>\n",
       "      <td>...</td>\n",
       "      <td>30.2</td>\n",
       "      <td>30.8</td>\n",
       "      <td>31.2</td>\n",
       "      <td>31.0</td>\n",
       "      <td>31.0</td>\n",
       "      <td>30.6</td>\n",
       "      <td>31.5</td>\n",
       "      <td>31.0</td>\n",
       "      <td>30.8</td>\n",
       "      <td>31.5</td>\n",
       "    </tr>\n",
       "    <tr>\n",
       "      <th>142</th>\n",
       "      <td>Tema</td>\n",
       "      <td>Tx</td>\n",
       "      <td>2013</td>\n",
       "      <td>11</td>\n",
       "      <td>31.7</td>\n",
       "      <td>31.2</td>\n",
       "      <td>31.0</td>\n",
       "      <td>31.3</td>\n",
       "      <td>31.0</td>\n",
       "      <td>31.0</td>\n",
       "      <td>...</td>\n",
       "      <td>31.1</td>\n",
       "      <td>31.5</td>\n",
       "      <td>29.1</td>\n",
       "      <td>30.5</td>\n",
       "      <td>31.1</td>\n",
       "      <td>31.2</td>\n",
       "      <td>31.5</td>\n",
       "      <td>32.0</td>\n",
       "      <td>32.0</td>\n",
       "      <td>NaN</td>\n",
       "    </tr>\n",
       "    <tr>\n",
       "      <th>143</th>\n",
       "      <td>Tema</td>\n",
       "      <td>Tx</td>\n",
       "      <td>2013</td>\n",
       "      <td>12</td>\n",
       "      <td>30.6</td>\n",
       "      <td>31.0</td>\n",
       "      <td>31.5</td>\n",
       "      <td>31.2</td>\n",
       "      <td>30.5</td>\n",
       "      <td>31.5</td>\n",
       "      <td>...</td>\n",
       "      <td>31.0</td>\n",
       "      <td>31.5</td>\n",
       "      <td>32.3</td>\n",
       "      <td>30.6</td>\n",
       "      <td>31.0</td>\n",
       "      <td>32.0</td>\n",
       "      <td>31.7</td>\n",
       "      <td>31.8</td>\n",
       "      <td>32.5</td>\n",
       "      <td>31.0</td>\n",
       "    </tr>\n",
       "  </tbody>\n",
       "</table>\n",
       "<p>144 rows × 35 columns</p>\n",
       "</div>"
      ],
      "text/plain": [
       "       Name Eg El Abbreviation  Year  Month  Val01  Val02  Val03  Val04  \\\n",
       "0    Tamale                 Tx  2010      1   36.0   35.8   36.9   36.6   \n",
       "1    Tamale                 Tx  2010      2   38.4   39.8   39.6   39.0   \n",
       "2    Tamale                 Tx  2010      3   39.2   39.5   40.6   40.2   \n",
       "3    Tamale                 Tx  2010      4   40.6   40.0   39.5   39.5   \n",
       "4    Tamale                 Tx  2010      5   35.4   34.1   35.0   35.1   \n",
       "..      ...                ...   ...    ...    ...    ...    ...    ...   \n",
       "139    Tema                 Tx  2013      8   27.0   26.6   26.5   27.8   \n",
       "140    Tema                 Tx  2013      9   28.4   27.8   28.1   29.0   \n",
       "141    Tema                 Tx  2013     10   30.0   29.0   29.9   32.0   \n",
       "142    Tema                 Tx  2013     11   31.7   31.2   31.0   31.3   \n",
       "143    Tema                 Tx  2013     12   30.6   31.0   31.5   31.2   \n",
       "\n",
       "     Val05  Val06  ...  Val22  Val23  Val24  Val25  Val26  Val27  Val28  \\\n",
       "0     37.1   37.5  ...   37.4   37.6   37.7   38.8   38.7   39.2   38.5   \n",
       "1     38.4   38.0  ...   38.7   40.1   40.6   40.2   39.0   39.7   40.5   \n",
       "2     39.6   39.2  ...   36.4   37.5   37.7   38.0   40.0   40.5   39.5   \n",
       "3     39.6   34.5  ...   39.4   33.5   34.5   34.5   34.4   28.8   33.7   \n",
       "4     34.8   33.8  ...   35.6   36.6   34.2   37.0   34.5   36.6   37.0   \n",
       "..     ...    ...  ...    ...    ...    ...    ...    ...    ...    ...   \n",
       "139   28.5   27.0  ...   27.6   28.4   27.8   28.0   28.1   28.4   28.7   \n",
       "140   29.0   27.5  ...   29.5   28.1   26.6   28.0   28.2   28.2   28.2   \n",
       "141   30.0   29.6  ...   30.2   30.8   31.2   31.0   31.0   30.6   31.5   \n",
       "142   31.0   31.0  ...   31.1   31.5   29.1   30.5   31.1   31.2   31.5   \n",
       "143   30.5   31.5  ...   31.0   31.5   32.3   30.6   31.0   32.0   31.7   \n",
       "\n",
       "     Val29  Val30  Val31  \n",
       "0     39.5   40.5   40.5  \n",
       "1      NaN    NaN    NaN  \n",
       "2     40.0   39.6   39.5  \n",
       "3     35.5   34.0    NaN  \n",
       "4     35.5   33.8   36.0  \n",
       "..     ...    ...    ...  \n",
       "139   28.8   28.1   27.7  \n",
       "140   28.6   29.2    NaN  \n",
       "141   31.0   30.8   31.5  \n",
       "142   32.0   32.0    NaN  \n",
       "143   31.8   32.5   31.0  \n",
       "\n",
       "[144 rows x 35 columns]"
      ]
     },
     "execution_count": 16,
     "metadata": {},
     "output_type": "execute_result"
    }
   ],
   "source": [
    "df_TX"
   ]
  },
  {
   "cell_type": "code",
   "execution_count": 17,
   "metadata": {},
   "outputs": [],
   "source": [
    "df_RR_by_station = reshape_from_monthrows_to_daily(df_RR)\n",
    "df_TN_by_station = reshape_from_monthrows_to_daily(df_TN)\n",
    "df_TX_by_station = reshape_from_monthrows_to_daily(df_TX)"
   ]
  },
  {
   "cell_type": "markdown",
   "metadata": {
    "id": "LlfB0Hm1s4QA"
   },
   "source": [
    "The process we've just gone through is often called \"data wrangling\":\n",
    "\n",
    "**What is Data Wrangling?**\n",
    "\n",
    "Data wrangling is the process of cleaning, structuring and enriching raw data into a desired format for better decision making in less time. Data wrangling is increasingly ubiquitous. In simpler terms, data wrangling (sometimes referred to as data munging) entails transforming and mapping data from one \"raw\" data form into another format with the intent of making it more appropriate and valuable for a variety of downstream purposes such as analytics. \n",
    "Data has become more diverse and unstructured, demanding increased time spent culling, cleaning, and organizing data ahead of broader analysis. <br>\n",
    "\n",
    "**Reference:** <br>\n",
    "> https://www.trifacta.com/data-wrangling/ <br>\n",
    "> https://en.wikipedia.org/wiki/Data_wrangling <br><br><br>\n",
    "\n",
    "\n",
    "\n",
    "With this premise established, we will wrangle the rainfall/temperature data, and this will be addressed as such.\n",
    "\n",
    "> Vertically stacking the data using a DateTime index <br>\n",
    "> Basic manipulation and dealing with missing values <br>\n",
    "> Resampling to a different frequency\n",
    "---------------------------------------------------------------------------------------------------------------------------------"
   ]
  },
  {
   "cell_type": "markdown",
   "metadata": {
    "id": "jk1dB70NDENm"
   },
   "source": [
    "## 3. Visualisation with `seaborn`\n",
    "\n",
    "Seaborn is a Python data visualization library based on matplotlib **(https://seaborn.pydata.org/)**. It provides a high-level interface for drawing attractive and informative statistical graphics. `seaborn` can be installed with `pip` and `conda` as other python packages."
   ]
  },
  {
   "cell_type": "markdown",
   "metadata": {
    "id": "kjCAFrZCEFyr"
   },
   "source": [
    "### KDE Plot\n",
    "\n",
    "Let's start off with data distribution plots using Seaborn's Kernel Density Estimates (KDE), which is a method for estimating the underlying distribution that data is sampled from by smoothing the sampled using a Gaussian kernel. KDE represents the data using a continuous probability density curve in one or more dimensions. There are other ways of estimating the distribution. <br>\n",
    "\n",
    "Seaborn allows us to visualize the distribution of these observations, analagous to a histogram. "
   ]
  },
  {
   "cell_type": "code",
   "execution_count": 18,
   "metadata": {
    "id": "J_N2Zuqhs4QK",
    "outputId": "97043760-4c6b-490b-d9ac-c2756716e2ab"
   },
   "outputs": [
    {
     "data": {
      "text/plain": [
       "Text(0.5, 0, 'Rainfall (mm)')"
      ]
     },
     "execution_count": 18,
     "metadata": {},
     "output_type": "execute_result"
    },
    {
     "data": {
      "image/png": "[encoded data removed]",
      "text/plain": [
       "<Figure size 432x288 with 1 Axes>"
      ]
     },
     "metadata": {
      "needs_background": "light"
     },
     "output_type": "display_data"
    }
   ],
   "source": [
    "#### Sample Seaborn Visualizations\n",
    "sb.kdeplot(\n",
    "    df_RR_by_station[\"Kumasi\"].astype(float), legend=True, shade=True\n",
    ")  # Distribution plot\n",
    "sb.kdeplot(\n",
    "    df_RR_by_station[\"Tema\"].astype(float), legend=True, shade=True\n",
    ")  # Distribution plot\n",
    "\n",
    "plt.legend(title=\"Stations\", loc=\"upper right\", labels=[\"Kumasi\", \"Tema\"])\n",
    "plt.xlabel(\"Rainfall (mm)\")"
   ]
  },
  {
   "cell_type": "markdown",
   "metadata": {
    "id": "fZSGTktIEmSv"
   },
   "source": [
    "### Scatter Plot\n",
    "\n",
    "Scatter plots represent values for two different numeric variables. Scatter plots are used to observe relationships between the two variables.\n",
    "\n",
    "> Let's attempt to see if there's a synergy in the rainfall events in any two locations (eg. Kumasi and Tema)"
   ]
  },
  {
   "cell_type": "code",
   "execution_count": 19,
   "metadata": {
    "id": "zGjmOAu1s4QK",
    "outputId": "4b7676cf-a272-4fdd-80d3-b4ed86bf7cb6"
   },
   "outputs": [
    {
     "data": {
      "text/plain": [
       "Text(0.5, 1.0, 'Rainfall in Kumasi against Tema')"
      ]
     },
     "execution_count": 19,
     "metadata": {},
     "output_type": "execute_result"
    },
    {
     "data": {
      "image/png": "[encoded data removed]",
      "text/plain": [
       "<Figure size 432x288 with 1 Axes>"
      ]
     },
     "metadata": {
      "needs_background": "light"
     },
     "output_type": "display_data"
    }
   ],
   "source": [
    "sb.scatterplot(y=\"Kumasi\", x=\"Tema\", data=df_RR_by_station)\n",
    "plt.title(\"Rainfall in Kumasi against Tema\")"
   ]
  },
  {
   "cell_type": "markdown",
   "metadata": {
    "id": "_mBgyWk4Evh4"
   },
   "source": [
    "### Joint Plot\n",
    "\n",
    "Seaborn's jointplot draws a plot of two variables with bivariate and univariate graphs. The bivariate plot (bottom left) produces a clustered diagram, which is useful in cluster analysis.\n",
    "\n",
    "> Histograms rather produced an error when this command was originally issued. This may not be same in your case. However, as control, the dataset was formatted to floats by using the astype() method and passing the function float as an argument. "
   ]
  },
  {
   "cell_type": "code",
   "execution_count": 20,
   "metadata": {
    "id": "XVvB4Di645BU"
   },
   "outputs": [
    {
     "data": {
      "text/plain": [
       "(0.0, 40.0)"
      ]
     },
     "execution_count": 20,
     "metadata": {},
     "output_type": "execute_result"
    },
    {
     "data": {
      "image/png": "[encoded data removed]",
      "text/plain": [
       "<Figure size 432x432 with 3 Axes>"
      ]
     },
     "metadata": {
      "needs_background": "light"
     },
     "output_type": "display_data"
    }
   ],
   "source": [
    "sb.jointplot(x=\"Tema\", y=\"Kumasi\", data=df_RR_by_station, kind=\"hex\")\n",
    "plt.suptitle(\"Rainfall in Kumasi vs Tema \\n\\n\\n\")\n",
    "plt.xlim(0, 40)\n",
    "plt.ylim(0, 40)"
   ]
  },
  {
   "cell_type": "markdown",
   "metadata": {
    "id": "RYRB_0fH4-Jh"
   },
   "source": [
    "## 4. Grouping Data with Groupby() function\n",
    "\n",
    "Let's replicate the jointplot using monthly rainfall totals. Here, we will utilise the pandas groupby() function, in tandem with the Pandas Grouper class.\n",
    "\n",
    "The Pandas groupby() method allows for creating categories or groupings, for groupwise approximations, function applications, etc.\n",
    "\n",
    "```python\n",
    "df.groupby(pd.Grouper(freq='Y')).aggregate(np.sum).plot()  # Annual Total\n",
    "df.groupby(pd.Grouper(freq='M')).aggregate(np.sum).plot()  # Monthly Total\n",
    "```\n",
    "\n",
    "Alternatively, we can use the resample method (shown below): <br>\n",
    "\n",
    "```python\n",
    "df.resample('M').sum()   # Monthly Total\n",
    "df.resample('Y').sum()   # Annual Total\n",
    "```\n",
    "\n",
    "You notice that we utilise the `pd.Grouper` class. A `Grouper` allows you to specify a groupby instruction for an object. This specification will select a column via the key parameter, or if the level and/or axis parameters are given, a level of the index of the target object. If axis and/or level are passed as keywords to both Grouper and groupby, the values passed to Grouper take precedence. In the example above, we pass the frequency as a datetime format (eg. \"Y\" for year, \"M\" for month, \"MS\" for start of month, etc.). This allows for grouping the dataframe into either yearly (first example) or monthly (second example) categories.\n",
    "\n",
    "Thereafter, we employ the aggregate function, while passing as argument, the numpy summation function (`np.sum`). This produces the summation of each monthly or yearly grouping.\n",
    "\n",
    "Now, let's replicate the jointplot using monthly rainfall totals."
   ]
  },
  {
   "cell_type": "code",
   "execution_count": 21,
   "metadata": {
    "id": "sHUs_Usgs4QL",
    "outputId": "f0ef389c-a1de-49f2-ac40-df1b4c0d3e1b"
   },
   "outputs": [
    {
     "data": {
      "text/plain": [
       "Text(0.5, 0.98, 'Rainfall in Kumasi against Tema \\n\\n\\n')"
      ]
     },
     "execution_count": 21,
     "metadata": {},
     "output_type": "execute_result"
    },
    {
     "data": {
      "image/png": "[encoded data removed]",
      "text/plain": [
       "<Figure size 432x432 with 3 Axes>"
      ]
     },
     "metadata": {
      "needs_background": "light"
     },
     "output_type": "display_data"
    }
   ],
   "source": [
    "sb.jointplot(\n",
    "    x=\"Tema\",\n",
    "    y=\"Kumasi\",\n",
    "    data=df_RR_by_station.groupby(pd.Grouper(freq=\"M\")).sum(),\n",
    "    kind=\"hex\",\n",
    ")\n",
    "plt.suptitle(\"Rainfall in Kumasi against Tema \\n\\n\\n\")"
   ]
  },
  {
   "cell_type": "markdown",
   "metadata": {
    "id": "8u0r2VriE5FL"
   },
   "source": [
    "Pair Plot\n",
    "----------------------------\n",
    "A simple way of identifying relations between each numerical series of a dataframe."
   ]
  },
  {
   "cell_type": "code",
   "execution_count": 22,
   "metadata": {
    "id": "N2_2KZ_-s4QL",
    "outputId": "e9a566f4-c79f-479e-b7b1-95d85282fbb0"
   },
   "outputs": [
    {
     "data": {
      "text/plain": [
       "<seaborn.axisgrid.PairGrid at 0x15d802280>"
      ]
     },
     "execution_count": 22,
     "metadata": {},
     "output_type": "execute_result"
    },
    {
     "data": {
      "image/png": "[encoded data removed]",
      "text/plain": [
       "<Figure size 540x540 with 12 Axes>"
      ]
     },
     "metadata": {
      "needs_background": "light"
     },
     "output_type": "display_data"
    }
   ],
   "source": [
    "sb.pairplot(df_RR_by_station.groupby(pd.Grouper(freq=\"M\")).sum(), diag_kind=\"hist\")"
   ]
  },
  {
   "cell_type": "markdown",
   "metadata": {
    "id": "OuYgsh4wFGON"
   },
   "source": [
    "## 5. Working with timeseries data\n",
    "\n",
    "By providing `subplots=True` to `DataFrame.plot(...)` each column will be put into its own subplot. The call will return the axes that the data was plotted into and we can then iterate over these to set the attributes of the plot that we would like:"
   ]
  },
  {
   "cell_type": "code",
   "execution_count": 23,
   "metadata": {
    "id": "YFJCayX1s4QM",
    "outputId": "88ed3a29-84b1-4de0-9779-fd2100f6b123"
   },
   "outputs": [
    {
     "data": {
      "image/png": "[encoded data removed]",
      "text/plain": [
       "<Figure size 864x576 with 3 Axes>"
      ]
     },
     "metadata": {
      "needs_background": "light"
     },
     "output_type": "display_data"
    }
   ],
   "source": [
    "axes = df_RR_by_station.plot(linestyle=\"-\", figsize=(12, 8), subplots=True)\n",
    "for ax in axes:\n",
    "    ax.set_ylabel(\"Rainfall (mm)\")\n",
    "    ax.set_ylim(0, 150)"
   ]
  },
  {
   "cell_type": "code",
   "execution_count": 24,
   "metadata": {
    "id": "gC5aU2nes4QO",
    "outputId": "fa14d017-5ddf-41b4-efe8-17f9d8f35610"
   },
   "outputs": [
    {
     "data": {
      "image/png": "[encoded data removed]",
      "text/plain": [
       "<Figure size 864x576 with 3 Axes>"
      ]
     },
     "metadata": {
      "needs_background": "light"
     },
     "output_type": "display_data"
    }
   ],
   "source": [
    "# We can repeat this for the daily minimum temperature data.\n",
    "axes = df_TN_by_station.plot(linestyle=\"-\", figsize=(12, 8), subplots=True)\n",
    "for ax in axes:\n",
    "    ax.set_ylabel(r\"Temp. ($^o$ C)\")"
   ]
  },
  {
   "cell_type": "markdown",
   "metadata": {
    "id": "WKNDmwEkFShq"
   },
   "source": [
    "### grouped time-seires\n",
    "\n",
    "We can also use the group-by operations to get resampled timeseries. \n",
    "\n",
    "```python\n",
    "df.groupby(pd.Grouper(freq='Y')).aggregate(np.sum).plot()  # Annual Total\n",
    "df.groupby(pd.Grouper(freq='M')).aggregate(np.sum).plot()  # Monthly Total\n",
    "```"
   ]
  },
  {
   "cell_type": "code",
   "execution_count": 25,
   "metadata": {
    "id": "o7qIorZns4QM",
    "outputId": "5bdff13b-ad87-4929-91f1-11cd4ff3cd70"
   },
   "outputs": [
    {
     "data": {
      "text/plain": [
       "<AxesSubplot:xlabel='date'>"
      ]
     },
     "execution_count": 25,
     "metadata": {},
     "output_type": "execute_result"
    },
    {
     "data": {
      "image/png": "[encoded data removed]",
      "text/plain": [
       "<Figure size 432x288 with 1 Axes>"
      ]
     },
     "metadata": {
      "needs_background": "light"
     },
     "output_type": "display_data"
    },
    {
     "data": {
      "image/png": "[encoded data removed]",
      "text/plain": [
       "<Figure size 432x288 with 1 Axes>"
      ]
     },
     "metadata": {
      "needs_background": "light"
     },
     "output_type": "display_data"
    }
   ],
   "source": [
    "#### Moving Averages\n",
    "df_Month_Data = df_RR_by_station.groupby(pd.Grouper(freq=\"M\")).aggregate(np.sum)\n",
    "df_Month_Data.plot()\n",
    "df_Month_Data.rolling(2).mean().plot()"
   ]
  },
  {
   "cell_type": "markdown",
   "metadata": {
    "id": "qRN9UVkEs4QN"
   },
   "source": [
    "## 6. Extreme Rainfall Events\n",
    "\n",
    "- **Rainy Days :** rainfall amount above 1 mm<br />\n",
    "- **Rnnmm (eg. R10mm, R20mm, R50mm) :** events with rainfall amount above 10 mm, 20mm, and 50 mm respectively. <br>\n",
    "- **Percentile** "
   ]
  },
  {
   "cell_type": "markdown",
   "metadata": {
    "id": "1Y9VleYL86q_"
   },
   "source": [
    "An alternative for identifying elements of a dataframe that meet a specific criteria is to pass the criteria within a square brackets attached to the dataframe. <br>\n",
    "\n",
    "**For example:** <br>\n",
    "> **a[a>1]** implies extracting all **a** elements where the value of **a** exceeds 1.<br><br>\n",
    "\n",
    "We will employ this simplistic indexing method to map out rainy days and rainfall extremes."
   ]
  },
  {
   "cell_type": "code",
   "execution_count": 26,
   "metadata": {
    "id": "sTFIVJxks4QN"
   },
   "outputs": [],
   "source": [
    "df_Rainy_days = (\n",
    "    df_RR_by_station[df_RR_by_station >= 1].groupby(pd.Grouper(freq=\"M\")).count()\n",
    ")  # Count of Rainy Days per month\n",
    "df_R10mm = (\n",
    "    df_RR_by_station[df_RR_by_station >= 10].groupby(pd.Grouper(freq=\"M\")).count()\n",
    ")  # Count of R10mm events per month\n",
    "df_R20mm = (\n",
    "    df_RR_by_station[df_RR_by_station >= 20].groupby(pd.Grouper(freq=\"M\")).count()\n",
    ")  # Count of R20mm events per month\n",
    "df_R50mm = (\n",
    "    df_RR_by_station[df_RR_by_station >= 50].groupby(pd.Grouper(freq=\"M\")).count()\n",
    ")  # Count of R50mm events per month"
   ]
  },
  {
   "cell_type": "code",
   "execution_count": 27,
   "metadata": {},
   "outputs": [
    {
     "data": {
      "text/plain": [
       "<AxesSubplot:xlabel='date'>"
      ]
     },
     "execution_count": 27,
     "metadata": {},
     "output_type": "execute_result"
    },
    {
     "data": {
      "image/png": "[encoded data removed]",
      "text/plain": [
       "<Figure size 432x288 with 1 Axes>"
      ]
     },
     "metadata": {
      "needs_background": "light"
     },
     "output_type": "display_data"
    },
    {
     "data": {
      "image/png": "[encoded data removed]",
      "text/plain": [
       "<Figure size 432x288 with 1 Axes>"
      ]
     },
     "metadata": {
      "needs_background": "light"
     },
     "output_type": "display_data"
    }
   ],
   "source": [
    "df_Rainy_days.plot()\n",
    "df_R20mm.plot()"
   ]
  },
  {
   "cell_type": "markdown",
   "metadata": {
    "id": "y96Pw5aJAFkH"
   },
   "source": [
    "**Let's quantify the rainfall extremes using the percentile approach**<br>\n",
    "\n",
    "> 1. First, we compute the 95th percentile of the rainfall data using **.quantile(.95)** method. This serves as the threshold for extreme events. \n",
    "> 2. Next, we subtract the 95th percentile rainfall amount from the entire data series.\n",
    "\n",
    "> 3. Afterwards, we employ the .where() method to map out where there is a positive difference (indicating an extreme event), and then ... \n",
    "> 4. we use .count() to quantify the number of these extreme events."
   ]
  },
  {
   "cell_type": "code",
   "execution_count": 28,
   "metadata": {
    "id": "wgm_NkZfs4QN"
   },
   "outputs": [
    {
     "data": {
      "text/plain": [
       "Text(0.5, 1.0, 'Events above the Percentile')"
      ]
     },
     "execution_count": 28,
     "metadata": {},
     "output_type": "execute_result"
    },
    {
     "data": {
      "image/png": "[encoded data removed]",
      "text/plain": [
       "<Figure size 432x288 with 1 Axes>"
      ]
     },
     "metadata": {
      "needs_background": "light"
     },
     "output_type": "display_data"
    }
   ],
   "source": [
    "perc=df_RR_by_station['Kumasi'].quantile(.95)   #This produces the 95th percentile value.\n",
    "diff=(df_RR_by_station['Kumasi']-perc)\n",
    "Events_95 = diff.where(diff>0).count()\n",
    "percentage=round((Events_95/diff.count())*100, 3) #Compute the percentage of extreme events in a defined station\n",
    "diff.plot(label='n = '+str(Events_95)+'\\nPercent = '+str(percentage)+'%')\n",
    "plt.axhline(y=0, color='r')\n",
    "plt.legend()\n",
    "plt.title('Events above the Percentile')\n",
    "\n"
   ]
  },
  {
   "cell_type": "markdown",
   "metadata": {
    "id": "dqZ6Yq7kG0Oj"
   },
   "source": [
    "## 7. Trend Assessmet using PyMannKendall\n",
    "\n",
    "Pymannkendall (**https://pypi.org/project/pymannkendall/**) allows for trend assessment in a dataset/observation. The package details out numerous sub-packages that are useful for various forms of trend assessment. For simplicity, we will focus on the Mann-Kendall original test. Nonetheless, feel free to try out its numerous trend assessment types after the class. [publication](https://www.researchgate.net/publication/334688255_pyMannKendall_a_python_package_for_non_parametric_Mann_Kendall_family_of_trend_tests)"
   ]
  },
  {
   "cell_type": "code",
   "execution_count": 29,
   "metadata": {
    "id": "V1EyFvOps4QO",
    "outputId": "9ba8734e-eba4-4c31-e141-0028fdc639fd"
   },
   "outputs": [],
   "source": [
    "import pymannkendall as mk\n",
    "\n",
    "mk.original_test?"
   ]
  },
  {
   "cell_type": "code",
   "execution_count": 30,
   "metadata": {
    "id": "Wskpnh-cs4QP"
   },
   "outputs": [
    {
     "data": {
      "text/plain": [
       "Mann_Kendall_Test(trend='no trend', h=False, p=0.8654923860158847, z=-0.16938682484329096, Tau=-0.0024978200331917527, s=-2664.0, var_s=247162784.0, slope=0.0, intercept=0.0)"
      ]
     },
     "execution_count": 30,
     "metadata": {},
     "output_type": "execute_result"
    }
   ],
   "source": [
    "# Trends In Data With PyMannKendall\n",
    "mk.original_test(df_RR_by_station[\"Kumasi\"].astype(float))"
   ]
  },
  {
   "cell_type": "markdown",
   "metadata": {
    "id": "Nu1Xdh-7E7Ei"
   },
   "source": [
    "The output from the above cell provides <br>\n",
    "\n",
    "**Output:**\n",
    ">    trend: tells the trend (increasing, decreasing or no trend)<br>\n",
    ">    h: True (if trend is present) or False (if trend is absence)<br>\n",
    ">    p: p-value of the significance test (eg. P<0.05 implies data is significant at 95% confidence level)  <br>\n",
    ">    z: normalized test statistics <br>\n",
    ">    Tau: Kendall Tau <br>\n",
    ">    s: Mann-Kendal's score <br>\n",
    ">    var_s: Variance S <br>\n",
    ">    slope: sen's slope <br>"
   ]
  },
  {
   "cell_type": "markdown",
   "metadata": {
    "id": "it52QbB6D0D4"
   },
   "source": [
    "Next, we attempt to produce the slopes for each given station's monthly rainfall totals"
   ]
  },
  {
   "cell_type": "code",
   "execution_count": 31,
   "metadata": {
    "id": "4xc_89JJs4QP"
   },
   "outputs": [
    {
     "name": "stdout",
     "output_type": "stream",
     "text": [
      "Kumasi 0.3897727272727275\n",
      "Tamale 0.0\n",
      "Tema -0.7999999999999992\n"
     ]
    }
   ],
   "source": [
    "stations = df_RR_by_station.columns\n",
    "\n",
    "for station in stations:\n",
    "    print(\n",
    "        station,\n",
    "        mk.original_test(\n",
    "            df_RR_by_station[station]\n",
    "            .groupby(pd.Grouper(freq=\"M\"))\n",
    "            .sum()\n",
    "            .dropna()\n",
    "            .astype(float)\n",
    "        ).slope,\n",
    "    )"
   ]
  },
  {
   "cell_type": "code",
   "execution_count": 32,
   "metadata": {},
   "outputs": [
    {
     "data": {
      "text/html": [
       "<div>\n",
       "<style scoped>\n",
       "    .dataframe tbody tr th:only-of-type {\n",
       "        vertical-align: middle;\n",
       "    }\n",
       "\n",
       "    .dataframe tbody tr th {\n",
       "        vertical-align: top;\n",
       "    }\n",
       "\n",
       "    .dataframe thead th {\n",
       "        text-align: right;\n",
       "    }\n",
       "</style>\n",
       "<table border=\"1\" class=\"dataframe\">\n",
       "  <thead>\n",
       "    <tr style=\"text-align: right;\">\n",
       "      <th>Name</th>\n",
       "      <th>Kumasi</th>\n",
       "      <th>Tamale</th>\n",
       "      <th>Tema</th>\n",
       "    </tr>\n",
       "    <tr>\n",
       "      <th>date</th>\n",
       "      <th></th>\n",
       "      <th></th>\n",
       "      <th></th>\n",
       "    </tr>\n",
       "  </thead>\n",
       "  <tbody>\n",
       "    <tr>\n",
       "      <th>2010-01-01</th>\n",
       "      <td>31.8</td>\n",
       "      <td>36.000000</td>\n",
       "      <td>30.7</td>\n",
       "    </tr>\n",
       "    <tr>\n",
       "      <th>2010-01-02</th>\n",
       "      <td>33.5</td>\n",
       "      <td>35.800000</td>\n",
       "      <td>30.8</td>\n",
       "    </tr>\n",
       "    <tr>\n",
       "      <th>2010-01-03</th>\n",
       "      <td>33.1</td>\n",
       "      <td>36.900000</td>\n",
       "      <td>31.0</td>\n",
       "    </tr>\n",
       "    <tr>\n",
       "      <th>2010-01-04</th>\n",
       "      <td>33.0</td>\n",
       "      <td>36.600000</td>\n",
       "      <td>31.0</td>\n",
       "    </tr>\n",
       "    <tr>\n",
       "      <th>2010-01-05</th>\n",
       "      <td>31.0</td>\n",
       "      <td>37.100000</td>\n",
       "      <td>32.0</td>\n",
       "    </tr>\n",
       "    <tr>\n",
       "      <th>...</th>\n",
       "      <td>...</td>\n",
       "      <td>...</td>\n",
       "      <td>...</td>\n",
       "    </tr>\n",
       "    <tr>\n",
       "      <th>2013-12-27</th>\n",
       "      <td>31.2</td>\n",
       "      <td>36.819444</td>\n",
       "      <td>32.0</td>\n",
       "    </tr>\n",
       "    <tr>\n",
       "      <th>2013-12-28</th>\n",
       "      <td>33.1</td>\n",
       "      <td>36.700000</td>\n",
       "      <td>31.7</td>\n",
       "    </tr>\n",
       "    <tr>\n",
       "      <th>2013-12-29</th>\n",
       "      <td>30.0</td>\n",
       "      <td>37.080556</td>\n",
       "      <td>31.8</td>\n",
       "    </tr>\n",
       "    <tr>\n",
       "      <th>2013-12-30</th>\n",
       "      <td>32.4</td>\n",
       "      <td>35.872222</td>\n",
       "      <td>32.5</td>\n",
       "    </tr>\n",
       "    <tr>\n",
       "      <th>2013-12-31</th>\n",
       "      <td>32.0</td>\n",
       "      <td>35.766667</td>\n",
       "      <td>31.0</td>\n",
       "    </tr>\n",
       "  </tbody>\n",
       "</table>\n",
       "<p>1461 rows × 3 columns</p>\n",
       "</div>"
      ],
      "text/plain": [
       "Name        Kumasi     Tamale  Tema\n",
       "date                               \n",
       "2010-01-01    31.8  36.000000  30.7\n",
       "2010-01-02    33.5  35.800000  30.8\n",
       "2010-01-03    33.1  36.900000  31.0\n",
       "2010-01-04    33.0  36.600000  31.0\n",
       "2010-01-05    31.0  37.100000  32.0\n",
       "...            ...        ...   ...\n",
       "2013-12-27    31.2  36.819444  32.0\n",
       "2013-12-28    33.1  36.700000  31.7\n",
       "2013-12-29    30.0  37.080556  31.8\n",
       "2013-12-30    32.4  35.872222  32.5\n",
       "2013-12-31    32.0  35.766667  31.0\n",
       "\n",
       "[1461 rows x 3 columns]"
      ]
     },
     "execution_count": 32,
     "metadata": {},
     "output_type": "execute_result"
    }
   ],
   "source": [
    "df_TX_by_station"
   ]
  },
  {
   "cell_type": "markdown",
   "metadata": {
    "id": "r5PAnlRTs4QS"
   },
   "source": [
    "## Exercise 1\n",
    "\n",
    "\n",
    "Produce standardized anomaly plots (formula below) of Daily Mean Temperature for the different stations and visualize it. The Standardized Anomaly $z$ is defined as $z_i = \\frac{T_i - <T>}{\\sigma_T}$, where $<T>$ is the mean of temperature and $\\sigma_T$ is the standard deviation of temperature.\n",
    "- Hint: First, build a function of standardized anomaly (You can use the default function build in python or better still, make use of lambda functions.) Second, pass Tavg through the function, and plot out."
   ]
  },
  {
   "cell_type": "code",
   "execution_count": null,
   "metadata": {},
   "outputs": [],
   "source": []
  },
  {
   "cell_type": "markdown",
   "metadata": {
    "id": "YaysB5rGs4QQ"
   },
   "source": [
    "## Exercise 2\n",
    "\n",
    "For the stacked data: <br><br>\n",
    "    1. Compute Monthly and Annual Mean Temperature <br>\n",
    "    2. Identify the trends and magnitude of slope in the computed means in (1).<br>\n",
    "    3. Using seaborn jointplot, let's produce a cluster plot of temperature and rainfall in any of the other locations. <br>"
   ]
  },
  {
   "cell_type": "code",
   "execution_count": null,
   "metadata": {
    "id": "MZvwgH3Ms4QU"
   },
   "outputs": [],
   "source": []
  },
  {
   "cell_type": "markdown",
   "metadata": {},
   "source": [
    "# Reshaping the data without `.melt` and `.pivot`\n",
    "\n",
    "It is possible to reshape the data without using the `DataFrame.melt` and `DataFrame.pivot` functions as we did above, but this involves a lot more work. Because we also have to loop through each row manually it will also be a lot slower as compared to the built-in functions (as these can parallelise the operations).\n",
    "\n",
    "For completeness we will go through how one would do it manually here:"
   ]
  },
  {
   "cell_type": "code",
   "execution_count": 38,
   "metadata": {},
   "outputs": [],
   "source": [
    "import calendar  # We need the calendar package to generate certain calendar properties\n",
    "from datetime import datetime\n",
    "from dateutil import parser"
   ]
  },
  {
   "cell_type": "code",
   "execution_count": 39,
   "metadata": {},
   "outputs": [],
   "source": [
    "# let's load the data again\n",
    "\n",
    "filepath_spreadsheet = data_path / \"Test_RR_TnTx_data.xlsx\"\n",
    "# Rainfall\n",
    "df_RR = pd.read_excel(filepath_spreadsheet, sheet_name=\"RR\", engine=\"openpyxl\")\n",
    "# Minimum Temperature\n",
    "df_TN = pd.read_excel(filepath_spreadsheet, sheet_name=\"Tn\", engine=\"openpyxl\")\n",
    "# Maximum Temperature\n",
    "df_TX = pd.read_excel(filepath_spreadsheet, sheet_name=\"Tx\", engine=\"openpyxl\")"
   ]
  },
  {
   "cell_type": "markdown",
   "metadata": {
    "id": "GaS-HYLo9TjN"
   },
   "source": [
    "We set the day number as column headers."
   ]
  },
  {
   "cell_type": "code",
   "execution_count": 40,
   "metadata": {
    "id": "Rnvali7Ls4P-"
   },
   "outputs": [],
   "source": [
    "df_RR.columns.values[4:] = np.arange(1, 32).astype(\"str\")\n",
    "df_TN.columns.values[4:] = np.arange(1, 32).astype(\"str\")\n",
    "df_TX.columns.values[4:] = np.arange(1, 32).astype(\"str\")"
   ]
  },
  {
   "cell_type": "code",
   "execution_count": 41,
   "metadata": {},
   "outputs": [
    {
     "data": {
      "text/plain": [
       "Index(['Name', 'Eg El Abbreviation', 'Year', 'Month', '1', '2', '3', '4', '5',\n",
       "       '6', '7', '8', '9', '10', '11', '12', '13', '14', '15', '16', '17',\n",
       "       '18', '19', '20', '21', '22', '23', '24', '25', '26', '27', '28', '29',\n",
       "       '30', '31'],\n",
       "      dtype='object')"
      ]
     },
     "execution_count": 41,
     "metadata": {},
     "output_type": "execute_result"
    }
   ],
   "source": [
    "df_RR.columns"
   ]
  },
  {
   "cell_type": "markdown",
   "metadata": {
    "id": "lUN9XT_q9jOc"
   },
   "source": [
    "In the next part, we select only the columns containing the year, month and daily data. We will be vertically stacking these using a defined function. In the end, the datasets should look somewhat like this:\n",
    "\n",
    "19800101  RR1 <br>\n",
    "19800102  RR2 <br>\n",
    "... <br>\n",
    "... <br>\n",
    "... <br>\n",
    "20201231 RRN"
   ]
  },
  {
   "cell_type": "code",
   "execution_count": 42,
   "metadata": {
    "id": "KmqTKW10s4P_",
    "outputId": "be6b646d-4077-46b3-8111-1b73a6ff776d"
   },
   "outputs": [
    {
     "data": {
      "text/html": [
       "<div>\n",
       "<style scoped>\n",
       "    .dataframe tbody tr th:only-of-type {\n",
       "        vertical-align: middle;\n",
       "    }\n",
       "\n",
       "    .dataframe tbody tr th {\n",
       "        vertical-align: top;\n",
       "    }\n",
       "\n",
       "    .dataframe thead th {\n",
       "        text-align: right;\n",
       "    }\n",
       "</style>\n",
       "<table border=\"1\" class=\"dataframe\">\n",
       "  <thead>\n",
       "    <tr style=\"text-align: right;\">\n",
       "      <th></th>\n",
       "      <th>Year</th>\n",
       "      <th>Month</th>\n",
       "      <th>1</th>\n",
       "      <th>2</th>\n",
       "      <th>3</th>\n",
       "      <th>4</th>\n",
       "      <th>5</th>\n",
       "      <th>6</th>\n",
       "      <th>7</th>\n",
       "      <th>8</th>\n",
       "      <th>...</th>\n",
       "      <th>22</th>\n",
       "      <th>23</th>\n",
       "      <th>24</th>\n",
       "      <th>25</th>\n",
       "      <th>26</th>\n",
       "      <th>27</th>\n",
       "      <th>28</th>\n",
       "      <th>29</th>\n",
       "      <th>30</th>\n",
       "      <th>31</th>\n",
       "    </tr>\n",
       "  </thead>\n",
       "  <tbody>\n",
       "    <tr>\n",
       "      <th>0</th>\n",
       "      <td>2010</td>\n",
       "      <td>1</td>\n",
       "      <td>0.0</td>\n",
       "      <td>0.0</td>\n",
       "      <td>0.0</td>\n",
       "      <td>0.0</td>\n",
       "      <td>0.0</td>\n",
       "      <td>0.0</td>\n",
       "      <td>0.0</td>\n",
       "      <td>0.0</td>\n",
       "      <td>...</td>\n",
       "      <td>0.0</td>\n",
       "      <td>0.0</td>\n",
       "      <td>0.0</td>\n",
       "      <td>0.0</td>\n",
       "      <td>0.0</td>\n",
       "      <td>0.0</td>\n",
       "      <td>0.0</td>\n",
       "      <td>0.0</td>\n",
       "      <td>0.0</td>\n",
       "      <td>0.0</td>\n",
       "    </tr>\n",
       "    <tr>\n",
       "      <th>1</th>\n",
       "      <td>2010</td>\n",
       "      <td>2</td>\n",
       "      <td>0.0</td>\n",
       "      <td>0.0</td>\n",
       "      <td>0.0</td>\n",
       "      <td>0.0</td>\n",
       "      <td>0.0</td>\n",
       "      <td>0.0</td>\n",
       "      <td>0.0</td>\n",
       "      <td>0.0</td>\n",
       "      <td>...</td>\n",
       "      <td>0.0</td>\n",
       "      <td>0.0</td>\n",
       "      <td>0.0</td>\n",
       "      <td>0.0</td>\n",
       "      <td>0.0</td>\n",
       "      <td>0.0</td>\n",
       "      <td>0.0</td>\n",
       "      <td>NaN</td>\n",
       "      <td>NaN</td>\n",
       "      <td>NaN</td>\n",
       "    </tr>\n",
       "  </tbody>\n",
       "</table>\n",
       "<p>2 rows × 33 columns</p>\n",
       "</div>"
      ],
      "text/plain": [
       "   Year  Month    1    2    3    4    5    6    7    8  ...   22   23   24  \\\n",
       "0  2010      1  0.0  0.0  0.0  0.0  0.0  0.0  0.0  0.0  ...  0.0  0.0  0.0   \n",
       "1  2010      2  0.0  0.0  0.0  0.0  0.0  0.0  0.0  0.0  ...  0.0  0.0  0.0   \n",
       "\n",
       "    25   26   27   28   29   30   31  \n",
       "0  0.0  0.0  0.0  0.0  0.0  0.0  0.0  \n",
       "1  0.0  0.0  0.0  0.0  NaN  NaN  NaN  \n",
       "\n",
       "[2 rows x 33 columns]"
      ]
     },
     "execution_count": 42,
     "metadata": {},
     "output_type": "execute_result"
    }
   ],
   "source": [
    "df_RR2s = df_RR.iloc[:, 2:]\n",
    "df_TN2s = df_TN.iloc[:, 2:]\n",
    "df_TX2s = df_TX.iloc[:, 2:]\n",
    "df_RR2s.head(2)"
   ]
  },
  {
   "cell_type": "code",
   "execution_count": 43,
   "metadata": {
    "id": "gmTbL_pQs4QB"
   },
   "outputs": [],
   "source": [
    "# Let generate a new dataframe with index for each day within the observation period.\n",
    "# We begin with the date creation using pandas date_range function\n",
    "\n",
    "# Default frequency is daily\n",
    "date = pd.date_range(start=\"1/1/2010\", end=\"31/12/2013\", freq=\"D\")\n",
    "type(date)  ### returns pandas.core.indexes.datetimes.DatetimeIndex\n",
    "\n",
    "# Next, we populate a new dataframe with the actual data\n",
    "df_NewRRData = pd.DataFrame(date, columns=[\"date\"])\n",
    "df_NewTNData = pd.DataFrame(date, columns=[\"date\"])\n",
    "df_NewTXData = pd.DataFrame(date, columns=[\"date\"])\n",
    "\n",
    "# Set the date as index of the new DataFrame.\n",
    "df_NewRRData.set_index(\"date\", inplace=True)\n",
    "df_NewTNData.set_index(\"date\", inplace=True)\n",
    "df_NewTXData.set_index(\"date\", inplace=True)"
   ]
  },
  {
   "cell_type": "code",
   "execution_count": 44,
   "metadata": {
    "id": "cECTd2pvs4QC"
   },
   "outputs": [
    {
     "data": {
      "text/html": [
       "<div>\n",
       "<style scoped>\n",
       "    .dataframe tbody tr th:only-of-type {\n",
       "        vertical-align: middle;\n",
       "    }\n",
       "\n",
       "    .dataframe tbody tr th {\n",
       "        vertical-align: top;\n",
       "    }\n",
       "\n",
       "    .dataframe thead th {\n",
       "        text-align: right;\n",
       "    }\n",
       "</style>\n",
       "<table border=\"1\" class=\"dataframe\">\n",
       "  <thead>\n",
       "    <tr style=\"text-align: right;\">\n",
       "      <th></th>\n",
       "    </tr>\n",
       "    <tr>\n",
       "      <th>date</th>\n",
       "    </tr>\n",
       "  </thead>\n",
       "  <tbody>\n",
       "    <tr>\n",
       "      <th>2010-01-01</th>\n",
       "    </tr>\n",
       "    <tr>\n",
       "      <th>2010-01-02</th>\n",
       "    </tr>\n",
       "    <tr>\n",
       "      <th>2010-01-03</th>\n",
       "    </tr>\n",
       "    <tr>\n",
       "      <th>2010-01-04</th>\n",
       "    </tr>\n",
       "    <tr>\n",
       "      <th>2010-01-05</th>\n",
       "    </tr>\n",
       "  </tbody>\n",
       "</table>\n",
       "</div>"
      ],
      "text/plain": [
       "Empty DataFrame\n",
       "Columns: []\n",
       "Index: [2010-01-01 00:00:00, 2010-01-02 00:00:00, 2010-01-03 00:00:00, 2010-01-04 00:00:00, 2010-01-05 00:00:00]"
      ]
     },
     "execution_count": 44,
     "metadata": {},
     "output_type": "execute_result"
    }
   ],
   "source": [
    "df_NewRRData.head()"
   ]
  },
  {
   "cell_type": "markdown",
   "metadata": {
    "id": "tDIWIF9R_SMk"
   },
   "source": [
    "Here, we will code a function that will help to transform the data in a column data timeseries. "
   ]
  },
  {
   "cell_type": "code",
   "execution_count": 45,
   "metadata": {
    "id": "UZDm3Ymus4QD"
   },
   "outputs": [],
   "source": [
    "# Self-defined function to stack row-oriented data as columnar\n",
    "def data_stacking(d, df, s):\n",
    "    year = np.int_(d[\"Year\"])  # Format years as integers\n",
    "    month = np.int_(d[\"Month\"])  # Format months as integers\n",
    "\n",
    "    # Let's create a blank column for the given station (s) which allows for appending data.\n",
    "    df[s] = None\n",
    "\n",
    "    for i in d.index:\n",
    "        # Looping through the years and month and producing the total number of days in each month of the year.\n",
    "        # We employ calendar.monthrange() to acquire the total number of days in a given month.\n",
    "        # Within the datasets, there are 31 column for each month data. By specifying the total number of actual days in a month, we omit the excess NaNs\n",
    "        # in the end when matching data from the existing data set to the new vertically stacked data, using the dates as reference index.\n",
    "        total_days = calendar.monthrange(\n",
    "            datetime.strptime(str(year[i]), \"%Y\").year,\n",
    "            datetime.strptime(str(month[i]), \"%m\").month,\n",
    "        )[1]\n",
    "\n",
    "        for day in range(\n",
    "            1, total_days + 1\n",
    "        ):  # for months with n days, we create a range of 1 to n+1 days to produce the exact n days. (eg. range(1,32) produces days 1 to 31)\n",
    "            date_index = datetime.date(\n",
    "                datetime.strptime(f\"{year[i]} {month[i]} {day}\", \"%Y %m %d\")\n",
    "            )\n",
    "\n",
    "            # Populating the new data with exact data from the old set for the same day.\n",
    "            df[s].loc[pd.to_datetime(date_index)] = d.iloc[i, day + 1]\n",
    "\n",
    "    return df  # return the stacked Data"
   ]
  },
  {
   "cell_type": "markdown",
   "metadata": {
    "id": "6Oun_GNds4QE"
   },
   "source": [
    "Start with one station and then move to multiples"
   ]
  },
  {
   "cell_type": "code",
   "execution_count": 46,
   "metadata": {
    "id": "-JboWanls4QG"
   },
   "outputs": [],
   "source": [
    "# Selecting Data for only one station\n",
    "d = df_RR2s.where(df_RR.Name == \"Tema\")\n",
    "\n",
    "# Remove all the other rows where the year column contains NaNs. This will omit all other stations except Tema.\n",
    "d = d[d[\"Year\"].notna()]\n",
    "\n",
    "d.index = range(len(d.index))  # Re-indexing the sliced data to start from 0."
   ]
  },
  {
   "cell_type": "code",
   "execution_count": 47,
   "metadata": {},
   "outputs": [
    {
     "data": {
      "text/plain": [
       "((48, 33), (1461, 0))"
      ]
     },
     "execution_count": 47,
     "metadata": {},
     "output_type": "execute_result"
    }
   ],
   "source": [
    "d.shape, df_NewRRData.shape"
   ]
  },
  {
   "cell_type": "code",
   "execution_count": 48,
   "metadata": {
    "id": "Q6p0ECM3s4QG",
    "outputId": "b2fefb3e-4ca2-4853-8816-bb7031671fdd"
   },
   "outputs": [
    {
     "data": {
      "text/html": [
       "<div>\n",
       "<style scoped>\n",
       "    .dataframe tbody tr th:only-of-type {\n",
       "        vertical-align: middle;\n",
       "    }\n",
       "\n",
       "    .dataframe tbody tr th {\n",
       "        vertical-align: top;\n",
       "    }\n",
       "\n",
       "    .dataframe thead th {\n",
       "        text-align: right;\n",
       "    }\n",
       "</style>\n",
       "<table border=\"1\" class=\"dataframe\">\n",
       "  <thead>\n",
       "    <tr style=\"text-align: right;\">\n",
       "      <th></th>\n",
       "      <th>Tema</th>\n",
       "    </tr>\n",
       "    <tr>\n",
       "      <th>date</th>\n",
       "      <th></th>\n",
       "    </tr>\n",
       "  </thead>\n",
       "  <tbody>\n",
       "    <tr>\n",
       "      <th>2010-01-01</th>\n",
       "      <td>0.0</td>\n",
       "    </tr>\n",
       "    <tr>\n",
       "      <th>2010-01-02</th>\n",
       "      <td>0.0</td>\n",
       "    </tr>\n",
       "  </tbody>\n",
       "</table>\n",
       "</div>"
      ],
      "text/plain": [
       "           Tema\n",
       "date           \n",
       "2010-01-01  0.0\n",
       "2010-01-02  0.0"
      ]
     },
     "execution_count": 48,
     "metadata": {},
     "output_type": "execute_result"
    }
   ],
   "source": [
    "# Single Station (Data Stacking via self-defined function)\n",
    "df_NewRRData = data_stacking(d, df_NewRRData, \"Tema\")\n",
    "df_NewRRData.head(2)"
   ]
  },
  {
   "cell_type": "markdown",
   "metadata": {
    "id": "myoZuEbEBgDC"
   },
   "source": [
    "We attempt to loop through all the given stations and stack them to the new dataframe. To generate the list of stations without duplicates, we simply use the set() function which produce a set of any identified list without duplicates. We then pass it as a list to allow us loop through them easily, while stacking to the defined dataframe."
   ]
  },
  {
   "cell_type": "code",
   "execution_count": 49,
   "metadata": {
    "id": "ZB1svlxBs4QH",
    "outputId": "ed50a0be-7d68-466d-db03-df7706d2c534"
   },
   "outputs": [
    {
     "data": {
      "text/html": [
       "<div>\n",
       "<style scoped>\n",
       "    .dataframe tbody tr th:only-of-type {\n",
       "        vertical-align: middle;\n",
       "    }\n",
       "\n",
       "    .dataframe tbody tr th {\n",
       "        vertical-align: top;\n",
       "    }\n",
       "\n",
       "    .dataframe thead th {\n",
       "        text-align: right;\n",
       "    }\n",
       "</style>\n",
       "<table border=\"1\" class=\"dataframe\">\n",
       "  <thead>\n",
       "    <tr style=\"text-align: right;\">\n",
       "      <th></th>\n",
       "      <th>Tema</th>\n",
       "      <th>Kumasi</th>\n",
       "      <th>Tamale</th>\n",
       "    </tr>\n",
       "    <tr>\n",
       "      <th>date</th>\n",
       "      <th></th>\n",
       "      <th></th>\n",
       "      <th></th>\n",
       "    </tr>\n",
       "  </thead>\n",
       "  <tbody>\n",
       "    <tr>\n",
       "      <th>2010-01-01</th>\n",
       "      <td>0.0</td>\n",
       "      <td>0.0</td>\n",
       "      <td>0.0</td>\n",
       "    </tr>\n",
       "    <tr>\n",
       "      <th>2010-01-02</th>\n",
       "      <td>0.0</td>\n",
       "      <td>0.0</td>\n",
       "      <td>0.0</td>\n",
       "    </tr>\n",
       "    <tr>\n",
       "      <th>2010-01-03</th>\n",
       "      <td>0.0</td>\n",
       "      <td>0.0</td>\n",
       "      <td>0.0</td>\n",
       "    </tr>\n",
       "  </tbody>\n",
       "</table>\n",
       "</div>"
      ],
      "text/plain": [
       "           Tema Kumasi Tamale\n",
       "date                         \n",
       "2010-01-01  0.0    0.0    0.0\n",
       "2010-01-02  0.0    0.0    0.0\n",
       "2010-01-03  0.0    0.0    0.0"
      ]
     },
     "execution_count": 49,
     "metadata": {},
     "output_type": "execute_result"
    }
   ],
   "source": [
    "# Creating Multiple columns for different stations\n",
    "stations = sorted(list(set(df_RR.Name)))\n",
    "for s in stations:\n",
    "    d = df_RR2s.where(df_RR.Name == s)\n",
    "    d = d[d[\"Year\"].notna()]\n",
    "    # for multi station data, we reset the index to start from 0 to the total rows per station data.\n",
    "    d.index = range(len(d.index))\n",
    "    df_NewRRData = data_stacking(d, df_NewRRData, s)\n",
    "\n",
    "df_NewRRData.head(3)"
   ]
  },
  {
   "cell_type": "markdown",
   "metadata": {
    "id": "YGDqo8rns4QI"
   },
   "source": [
    "Can we recreate the stacked data for the minimum and maximum temperature data too?\n",
    "----------------------------------------------------------------------------------------------------------------------------"
   ]
  },
  {
   "cell_type": "code",
   "execution_count": 50,
   "metadata": {
    "id": "tj1iL_IUs4QI"
   },
   "outputs": [],
   "source": [
    "stations=sorted(list(set(df_RR.Name)))\n",
    "for s in stations:\n",
    "    d = df_TN2s.where(df_TN.Name==s)\n",
    "    d = d[d['Year'].notna()]\n",
    "    # for multi station data, we reset the index to start from 0 to the total rows per station data.\n",
    "    d.index=range(len(d.index)) \n",
    "    df_NewTNData=data_stacking(d, df_NewTNData, s)\n",
    "    \n",
    "    d = df_TX2s.where(df_TX.Name==s)\n",
    "    d = d[d['Year'].notna()]\n",
    "    # for multi station data, we reset the index to start from 0 to the total rows per station data.\n",
    "    d.index=range(len(d.index)) \n",
    "    df_NewTXData=data_stacking(d, df_NewTXData, s)\n"
   ]
  }
 ],
 "metadata": {
  "colab": {
   "collapsed_sections": [],
   "name": "Pandas_Lecture2.ipynb",
   "provenance": []
  },
  "kernelspec": {
   "display_name": "Python 3",
   "language": "python",
   "name": "python3"
  },
  "language_info": {
   "codemirror_mode": {
    "name": "ipython",
    "version": 3
   },
   "file_extension": ".py",
   "mimetype": "text/x-python",
   "name": "python",
   "nbconvert_exporter": "python",
   "pygments_lexer": "ipython3",
   "version": "3.9.4"
  }
 },
 "nbformat": 4,
 "nbformat_minor": 1
}
